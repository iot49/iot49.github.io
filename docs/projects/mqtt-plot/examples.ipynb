{
 "cells": [
  {
   "cell_type": "markdown",
   "id": "53f8f6cc-8824-4301-b4fd-4f7cee64de9e",
   "metadata": {},
   "source": [
    "# Examples\n",
    "\n",
    "Start the server if it's not running:\n",
    "\n",
    "```bash\n",
    "cd $IOT_PROJECTS/mqtt-plot/code\n",
    "python -m mqtt_plot\n",
    "```\n",
    "\n",
    "Open a browser window at http://iot49.local:5006."
   ]
  },
  {
   "cell_type": "markdown",
   "id": "40d4b22c-5531-4cfc-9c2a-ef85bca1d739",
   "metadata": {},
   "source": [
    "## Line Plot"
   ]
  },
  {
   "cell_type": "code",
   "execution_count": 43,
   "id": "29a6d464-d8ea-41a9-8880-7e9cdbe9ab41",
   "metadata": {},
   "outputs": [],
   "source": [
    "import paho.mqtt.client as mqtt\n",
    "from time import sleep\n",
    "import json, math, os\n",
    "\n",
    "\n",
    "MQTT_BROKER = os.getenv(\"HOST_IP\")\n",
    "TOPIC_ROOT = \"public/vis\"\n",
    "\n",
    "# start MQTT client for sending data\n",
    "client = mqtt.Client(clean_session=True, protocol=mqtt.MQTTv311)\n",
    "client.connect(MQTT_BROKER, port=1883, keepalive=60)\n",
    "\n",
    "# initialize the plot\n",
    "client.publish(f\"{TOPIC_ROOT}/new\", json.dumps({\n",
    "    \"columns\": [ \"time [s]\", \"sin^2\", \"cos\" ],\n",
    "    \"rollover\": 200,\n",
    "    \"args\": { \"title\": \"MQTT Plot Demo\" },\n",
    "}))\n",
    "\n",
    "# send data\n",
    "for i in range(500):\n",
    "    client.publish(f\"{TOPIC_ROOT}/add\", json.dumps({ \n",
    "        \"time [s]\": i, \n",
    "        \"sin^2\": math.sin(i/10)**2,\n",
    "        \"cos\": math.cos(i/7)\n",
    "    }))\n",
    "    sleep(0.01)"
   ]
  },
  {
   "cell_type": "markdown",
   "id": "14ebf738-5382-4d6a-81ff-ec99bb01531b",
   "metadata": {},
   "source": [
    "**Hint:** In plots with many traces, click in the legend to show/hide outputs!\n",
    "\n",
    "```{figure} figures/sin_cos.png\n",
    ":width: 500px\n",
    "\n",
    "MQTT Plot Demo\n",
    "```"
   ]
  },
  {
   "cell_type": "markdown",
   "id": "71aabe2c-3067-4e4d-99aa-d84ce130fbfc",
   "metadata": {
    "tags": []
   },
   "source": [
    "## Scatter Plot"
   ]
  },
  {
   "cell_type": "code",
   "execution_count": 44,
   "id": "8b6688af-3444-4550-a45a-13f582635797",
   "metadata": {},
   "outputs": [],
   "source": [
    "import paho.mqtt.client as mqtt\n",
    "import json, os\n",
    "from random import random\n",
    "\n",
    "\n",
    "MQTT_BROKER = os.getenv(\"HOST_IP\")\n",
    "TOPIC_ROOT = \"public/vis\"\n",
    "\n",
    "# start MQTT client for sending data\n",
    "client = mqtt.Client(clean_session=True, protocol=mqtt.MQTTv311)\n",
    "client.connect(MQTT_BROKER, port=1883, keepalive=60)\n",
    "\n",
    "# initialize the plot\n",
    "client.publish(f\"{TOPIC_ROOT}/new\", json.dumps({\n",
    "    \"columns\": [ \"x\", \"y1\", \"y2\", \"y3\", \"y4\", \"y5\" ],\n",
    "    \"args\": { \"title\": \"Scatter Plot\" },\n",
    "    \"layout\": \"scatter_plot\"\n",
    "}))\n",
    "\n",
    "# send data\n",
    "for i in range(40):\n",
    "    client.publish(f\"{TOPIC_ROOT}/add\", json.dumps({ \n",
    "        \"x\":  random(),\n",
    "        \"y1\": random(),\n",
    "        \"y2\": random(),\n",
    "        \"y3\": random(),\n",
    "        \"y4\": random(),\n",
    "        \"y5\": random(),\n",
    "   }))"
   ]
  },
  {
   "cell_type": "markdown",
   "id": "ae7668a6-b4a7-457c-9425-778c6638785a",
   "metadata": {},
   "source": [
    "## Binary Data\n",
    "\n",
    "Send data as an array of binary floats, rather than a json dict."
   ]
  },
  {
   "cell_type": "code",
   "execution_count": 41,
   "id": "e21602b6-3b36-44b1-aac3-fa99cb400263",
   "metadata": {},
   "outputs": [],
   "source": [
    "import paho.mqtt.client as mqtt\n",
    "import json, math, os\n",
    "from time import sleep\n",
    "from struct import pack\n",
    "\n",
    "\n",
    "MQTT_BROKER = os.getenv(\"HOST_IP\")\n",
    "TOPIC_ROOT = \"public/vis\"\n",
    "\n",
    "# start MQTT client for sending data\n",
    "client = mqtt.Client(clean_session=True, protocol=mqtt.MQTTv311)\n",
    "client.connect(MQTT_BROKER, port=1883, keepalive=60)\n",
    "\n",
    "# initialize the plot\n",
    "client.publish(f\"{TOPIC_ROOT}/new\", json.dumps({\n",
    "    \"columns\": [ \"sin\", \"cos\" ],\n",
    "    \"rollover\": 300,\n",
    "    \"args\": { \"title\": \"Lissajous Figure\" },\n",
    "}))\n",
    "\n",
    "# send data\n",
    "for t in range(1000):\n",
    "    tt = t/12\n",
    "    client.publish(f\"{TOPIC_ROOT}/bin\", pack(f\"!2f\", math.sin(tt), math.cos(1.7*tt))) \n",
    "    sleep(0.01)"
   ]
  },
  {
   "cell_type": "markdown",
   "id": "a8868957-f838-4da0-87b1-8e0e4f7a137e",
   "metadata": {},
   "source": [
    "## NaN Values"
   ]
  },
  {
   "cell_type": "code",
   "execution_count": 42,
   "id": "f476a0d6-3302-4ed2-9d36-173a4368de04",
   "metadata": {},
   "outputs": [],
   "source": [
    "import paho.mqtt.client as mqtt\n",
    "import json, math, os\n",
    "from time import sleep\n",
    "from struct import pack\n",
    "\n",
    "\n",
    "MQTT_BROKER = os.getenv(\"HOST_IP\")\n",
    "TOPIC_ROOT = \"public/vis\"\n",
    "\n",
    "# start MQTT client for sending data\n",
    "client = mqtt.Client(clean_session=True, protocol=mqtt.MQTTv311)\n",
    "client.connect(MQTT_BROKER, port=1883, keepalive=60)\n",
    "\n",
    "client.publish(f\"{TOPIC_ROOT}/new\", json.dumps({\n",
    "    \"columns\": [ \"time [s]\", \"sin\", \"cos > 0\" ],\n",
    "    \"rollover\": 200,\n",
    "    \"args\": { \"title\": \"NaN values\" },\n",
    "}))\n",
    "\n",
    "# send data\n",
    "nan = float('nan')\n",
    "for t in range(500):\n",
    "    tt = t / 12\n",
    "    s = math.sin(tt)\n",
    "    c = math.cos(tt)\n",
    "    clip = c if c > 0 else nan\n",
    "    client.publish(f\"{TOPIC_ROOT}/bin\", pack(f\"!3f\", tt, s, clip))\n",
    "    sleep(0.01)"
   ]
  },
  {
   "cell_type": "code",
   "execution_count": null,
   "id": "c34af556-b7a1-4e6f-a97b-fc17af32af38",
   "metadata": {},
   "outputs": [],
   "source": []
  }
 ],
 "metadata": {
  "kernelspec": {
   "display_name": "Python 3 (ipykernel)",
   "language": "python",
   "name": "python3"
  },
  "language_info": {
   "codemirror_mode": {
    "name": "ipython",
    "version": 3
   },
   "file_extension": ".py",
   "mimetype": "text/x-python",
   "name": "python",
   "nbconvert_exporter": "python",
   "pygments_lexer": "ipython3",
   "version": "3.9.7"
  }
 },
 "nbformat": 4,
 "nbformat_minor": 5
}
