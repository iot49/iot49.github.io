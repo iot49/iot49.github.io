{
 "cells": [
  {
   "cell_type": "markdown",
   "id": "020ae860-f44a-4ffe-8159-98f3e176296d",
   "metadata": {},
   "source": [
    "# Wireshark\n",
    "\n",
    "Internet communication is great - until it fails. Frequently error messages are insufficient to diagnose the problem.\n",
    "\n",
    "*ide49* comes with [Wireshark](https://www.wireshark.org/), an IP and Bluetooth package capture and analysis tool, that can help.\n",
    "\n",
    "Let's look at a simple example of capturing an MQTT conversation. Start Wireshark by clicking on the link in the *iot49* home window. You will be greeted with a page similar to this one:\n",
    "\n",
    "```{figure} figures/wireshark_interfaces.png\n",
    ":width: 500px\n",
    "```\n",
    "\n",
    "The center shows all interfaces. We are interested in wireless (WiFi) traffic which is sent on `wlp3s0`. Click it to highlight it. Then press the blue shark fin to start a capture. Now run the code below to send some MQTT data. After the program finishes, click the red square next to the shark fin to stop the capture. The window now will look similar to this:\n",
    "\n",
    "```{figure} figures/wireshark_capture.png\n",
    ":width: 500px\n",
    "```\n",
    "\n",
    "Wireshark will have captured a large amount of traffic, most of which has nothing to do with MQTT. In \"Apply a display filter\", type `mqtt` and hit return to get just the messages related to MQTT.\n",
    "\n",
    "```{figure} figures/wireshark_mqtt.png\n",
    ":width: 500px\n",
    "```\n",
    "\n",
    "Clicking on any of them shows details below. For example, details of the `Publish` message reval the topic and message sent. Note also that the ping request has been combind with publish to safe communication bandwidth. Ideal for small IoT devices like the ESP32."
   ]
  },
  {
   "cell_type": "code",
   "execution_count": 1,
   "id": "859d2963-427a-4f89-bef0-d48096fac0eb",
   "metadata": {},
   "outputs": [
    {
     "name": "stdout",
     "output_type": "stream",
     "text": [
      "\u001b[0m\u001b[0m"
     ]
    }
   ],
   "source": [
    "%connect esp32 -q \n",
    "\n",
    "from mqtt_client import MQTTClient\n",
    "\n",
    "client = MQTTClient('umqtt_client', '10.39.40.200', keepalive=5)\n",
    "client.connect()\n",
    "client.publish(b\"testtopic\", b\"Hello from micropython!\")\n",
    "\n",
    "client.ping()\n",
    "\n",
    "time.sleep(2)\n",
    "\n",
    "client.disconnect()"
   ]
  },
  {
   "cell_type": "markdown",
   "id": "c2cfd542-3f82-4d32-9cea-e5a38aa6670f",
   "metadata": {},
   "source": [
    "Wireshark has many more features. If you are not familiar with the program you may want to look into one of the many online tutorials."
   ]
  },
  {
   "cell_type": "code",
   "execution_count": null,
   "id": "9dfb7e4e-2711-4a9c-9a8b-2c54fbfd049b",
   "metadata": {},
   "outputs": [],
   "source": []
  }
 ],
 "metadata": {
  "kernelspec": {
   "display_name": "IoT",
   "language": "python",
   "name": "iot_kernel"
  },
  "language_info": {
   "codemirror_mode": {
    "name": "python",
    "version": 3
   },
   "file_extension": ".py",
   "mimetype": "text/x-python",
   "name": "python",
   "pygments_lexer": "python3",
   "version": "3"
  }
 },
 "nbformat": 4,
 "nbformat_minor": 5
}
