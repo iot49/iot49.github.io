{
 "cells": [
  {
   "cell_type": "markdown",
   "id": "ef6d84e0-7531-4c27-9cf9-6153b5cd191c",
   "metadata": {},
   "source": [
    "# Encryption\n",
    "\n",
    "Data sent over the internet can potentially be read by \"anyone\". This overview examines steps that can be taken to prevent information from getting into the wrong hands.\n",
    "\n",
    "**Warning:** *These are my \"steps\" to explore encryption. Don't use the code in your projects - use standard libraries instead. Some of this may be outright wrong - check other sources to learn the fundamentals of encryption.*"
   ]
  },
  {
   "cell_type": "code",
   "execution_count": 1,
   "id": "1743a45a-7dea-47f3-9b8f-e89d57789781",
   "metadata": {},
   "outputs": [
    {
     "name": "stdout",
     "output_type": "stream",
     "text": [
      "\u001b[46m\u001b[30mConnected to pico @ serial:///dev/ttyUSB1\u001b[0m\n"
     ]
    }
   ],
   "source": [
    "%connect pico"
   ]
  },
  {
   "cell_type": "markdown",
   "id": "70b82bf8-8d7d-416a-8352-da9672f6b520",
   "metadata": {},
   "source": [
    "# Symmetric Key Encryption\n",
    "\n",
    "MicroPython has built-in support for the [Advanced Encryption Standard (AES)](https://en.wikipedia.org/wiki/Advanced_Encryption_Standard)."
   ]
  },
  {
   "cell_type": "code",
   "execution_count": 1,
   "id": "530d3add-2e7b-4ed2-baa1-af1bc9094a47",
   "metadata": {},
   "outputs": [
    {
     "name": "stdout",
     "output_type": "stream",
     "text": [
      "key = b'\\x18\\xee\\x1f\\xb3\\xe7O\\x9c\\xc2\\x03\\xfc\\xce[s\\x97\\x13c' ...\n",
      "encrypted = b'\\xf0D4zUO\\xc9\\x85\\xe9yM\\x19\\xff_\\xe2\\xdd\\x00\\xb9\\xbe\\x01' ...\n",
      "decrypted = b'iot49 is awesome!\\x00\\x00\\x00' ...\n"
     ]
    }
   ],
   "source": [
    "import ucryptolib, os\n",
    "\n",
    "key = os.urandom(16)\n",
    "print(\"key =\", key[:20], \"...\")\n",
    "msg = b'iot49 is awesome!'\n",
    "\n",
    "# encrypt\n",
    "\n",
    "enc = ucryptolib.aes(key, 1)\n",
    "# pad msg to multiple of 16 bytes\n",
    "padded = msg + b'\\x00' * ((16 - (len(msg) % 16)) % 16)\n",
    "encrypted = enc.encrypt(padded)\n",
    "print(\"encrypted =\", encrypted[:20], \"...\")\n",
    "\n",
    "# decrypt\n",
    "\n",
    "dec = ucryptolib.aes(key, 1)\n",
    "decrypted = dec.decrypt(encrypted)\n",
    "# decrypted message included padding, if any was added\n",
    "print(\"decrypted =\", decrypted[:20], \"...\")\n",
    "\n",
    "# verify\n",
    "assert decrypted[:len(msg)] == msg, \"decrypted message differs!\""
   ]
  },
  {
   "cell_type": "markdown",
   "id": "42507a1e-57b5-489f-95ed-083994393ebd",
   "metadata": {},
   "source": [
    "This \"works\" - it would be difficult to \"guess\" the message from the encrypted data without knowing the key.\n",
    "\n",
    "But how do we share the key between devices? We need encryption! What looks like a recursive problem has an elegant solution.\n",
    "\n",
    "## Public Key Cryptography\n",
    "\n",
    "[Public Key Cryptography (PKC)](https://en.wikipedia.org/wiki/Public-key_cryptography) uses two keys: a public key for encryption, and a private key for decryption. \n",
    "\n",
    "To send me a secret message, you ask me for my public key. It's public and hence can be transmitted without encryption. You use this public key to encrypt the message and send me the result. I recover the original, unencrypted message using my private key (that is never shared).\n",
    "\n",
    "The public and private keys are generated from prime numbers. Here is a simple (and inefficient) function to generate (not so) large random prime numbers."
   ]
  },
  {
   "cell_type": "code",
   "execution_count": 1,
   "id": "69f5e41d-2bc6-4f7d-8f4e-975414589a76",
   "metadata": {},
   "outputs": [
    {
     "name": "stdout",
     "output_type": "stream",
     "text": [
      " 0:                      439392509   28 bits\n",
      " 1:                     3161980531   31 bits\n",
      " 2:                     3662739161   31 bits\n",
      " 3:                     2941471303   31 bits\n",
      " 4:                     4239141733   31 bits\n"
     ]
    }
   ],
   "source": [
    "import random\n",
    "\n",
    "from math import sqrt, log2\n",
    "\n",
    "def is_prime(n):\n",
    "    return n > 1 and all(n % i for i in range(2, int(sqrt(n)+1)))\n",
    "    \n",
    "def gen_prime(bits=32):\n",
    "    p = 1\n",
    "    while not is_prime(p):\n",
    "        p = random.getrandbits(bits)\n",
    "    return p\n",
    "\n",
    "for i in range(5):\n",
    "    p = gen_prime(bits=32)\n",
    "    print(\"{:2}: {:30}  {:3} bits\".format(i, p, int(log2(p))))"
   ]
  },
  {
   "cell_type": "markdown",
   "id": "4c5e4bd9-828d-4cab-a43c-47c0cab4c6ab",
   "metadata": {},
   "source": [
    "Now generate the keys:"
   ]
  },
  {
   "cell_type": "code",
   "execution_count": 1,
   "id": "6a2ae30a-4455-40b4-a2f5-a4bbc97a2194",
   "metadata": {},
   "outputs": [
    {
     "name": "stdout",
     "output_type": "stream",
     "text": [
      "keys: public=4567550543301076511, private=3040759113385555553\n"
     ]
    }
   ],
   "source": [
    "def multinv(modulus, value):\n",
    "    '''Multiplicative inverse in a given modulus\n",
    "\n",
    "multinv(191, 138)\n",
    "        18\n",
    "18 * 138 % 191\n",
    "        1\n",
    "    '''\n",
    "    # http://en.wikipedia.org/wiki/Extended_Euclidean_algorithm\n",
    "    x, lastx = 0, 1\n",
    "    a, b = modulus, value\n",
    "    while b:\n",
    "        a, q, b = b, a // b, a % b\n",
    "        x, lastx = lastx - q * x, x\n",
    "    result = (1 - lastx * modulus) // value\n",
    "    return result + modulus if result < 0 else result\n",
    "\n",
    "def keygen(N):\n",
    "    '''Generate public and private keys from primes up to N.\n",
    "\n",
    "pubkey, privkey = keygen(34)\n",
    "msg = 123456789012345\n",
    "coded = pow(msg, 65537, pubkey)\n",
    "plain = pow(coded, privkey, pubkey)\n",
    "assert msg == plain\n",
    "\n",
    "    '''\n",
    "    # http://en.wikipedia.org/wiki/RSA\n",
    "    prime1 = gen_prime(N)\n",
    "    prime2 = gen_prime(N)\n",
    "    totient = (prime1 - 1) * (prime2 - 1)\n",
    "    return prime1 * prime2, multinv(totient, 65537)\n",
    "\n",
    "pubkey, privkey = keygen(32)\n",
    "print(\"keys: public={}, private={}\".format(pubkey, privkey))"
   ]
  },
  {
   "cell_type": "markdown",
   "id": "38d626b1-599b-4d3c-8b1f-73aae1cd0e4e",
   "metadata": {},
   "source": [
    "Use these keys to encrypt and decrypt a secret message. Note that `pow` expects an int."
   ]
  },
  {
   "cell_type": "code",
   "execution_count": 1,
   "id": "1a84938e-edf0-4ae6-b992-a3269603bfa0",
   "metadata": {},
   "outputs": [
    {
     "name": "stdout",
     "output_type": "stream",
     "text": [
      "msg:                   359234562701343655\n",
      "encrypted:            2415327350779094472\n",
      "decrypted:             359234562701343655\n"
     ]
    }
   ],
   "source": [
    "msg = 359234562701343655\n",
    "print(\"msg:       {:30}\".format(msg))\n",
    "\n",
    "encrypted = pow(msg, 65537, pubkey)\n",
    "print(\"encrypted: {:30}\".format(encrypted))\n",
    "\n",
    "decrypted = pow(encrypted, privkey, pubkey)\n",
    "print(\"decrypted: {:30}\".format(decrypted))\n",
    "\n",
    "assert msg == decrypted, \"MISMATCH!\""
   ]
  },
  {
   "cell_type": "markdown",
   "id": "80563335-e1ef-44d8-a08f-50fcfec2dcec",
   "metadata": {},
   "source": [
    "It would indeed be difficult to \"guess\" the dycrypted message from the encrypted value.\n",
    "\n",
    "To send strings, we need to convert them to ints first."
   ]
  },
  {
   "cell_type": "code",
   "execution_count": 1,
   "id": "ab5609b7-c846-4e50-a892-f77dfbc7a288",
   "metadata": {},
   "outputs": [
    {
     "name": "stdout",
     "output_type": "stream",
     "text": [
      "message:   b'iot49'\n",
      "encrypted: 146271442467418660\n",
      "decrypted: b'iot49'\n"
     ]
    }
   ],
   "source": [
    "def encrypt(msg, pubkey):\n",
    "    encoded = int.from_bytes(msg, 'big')\n",
    "    return pow(encoded, 65537, pubkey)\n",
    "\n",
    "def decrypt(encrypted, pubkey, privkey):\n",
    "    decrypted = pow(encrypted, privkey, pubkey)\n",
    "    return decrypted.to_bytes(len(hex(decrypted)[2:])//2, 'big')\n",
    "\n",
    "msg = b\"iot49\"\n",
    "\n",
    "encrypted = encrypt(msg, pubkey)\n",
    "decrypted = decrypt(encrypted, pubkey, privkey)\n",
    "\n",
    "print(\"message:  \", msg)\n",
    "print(\"encrypted:\", encrypted)\n",
    "print(\"decrypted:\", decrypted)\n",
    "assert msg == decrypted"
   ]
  },
  {
   "cell_type": "markdown",
   "id": "d2861148-8fd0-4461-9c60-ee1ce5b31bc8",
   "metadata": {},
   "source": [
    "The code works as expected, but only for short messages (CPython fails with overflow, MicroPython silently):"
   ]
  },
  {
   "cell_type": "code",
   "execution_count": 1,
   "id": "33d1e72b-b3bc-4969-be5e-b1eb8974e2bf",
   "metadata": {},
   "outputs": [
    {
     "name": "stdout",
     "output_type": "stream",
     "text": [
      "message:   b'iot49 is awesome'\n",
      "encrypted: 3736966150267381513\n",
      "decrypted: b'!\\xa7]pw\\x88*.'\n",
      "Mismatch:  b'iot49 is awesome' != b'!\\xa7]pw\\x88*.'\n"
     ]
    }
   ],
   "source": [
    "msg = b\"iot49 is awesome\"\n",
    "\n",
    "encrypted = encrypt(msg, pubkey)\n",
    "decrypted = decrypt(encrypted, pubkey, privkey)\n",
    "\n",
    "print(\"message:  \", msg)\n",
    "print(\"encrypted:\", encrypted)\n",
    "print(\"decrypted:\", decrypted)\n",
    "if msg == decrypted:\n",
    "    print(\"Success!\")\n",
    "else:\n",
    "    print(\"Mismatch:  {} != {}\".format(msg, decrypted))"
   ]
  },
  {
   "cell_type": "markdown",
   "id": "69494d3f-fdfa-43f3-8afd-e5be130f40ca",
   "metadata": {},
   "source": [
    "Now we can use PKC to transmit the AES key using the following steps:\n",
    "\n",
    "1. Recipient creates key pair & sends public key to the sender.\n",
    "2. Sender encodes message with public key and transmits the encrypted message.\n",
    "3. Recipient uses its private key to decrypt the AES key.\n",
    "4. Both parties communicate using AES encryption. \n",
    "\n",
    "Although all information transmitted on the internet can potentially be read by an adversary, the encrypted message can only be recovered with the private key. Since that key is never (and, importantly, does not need to be) sent over the internet, the requirement for a \"secure channel\" is alleviated.\n",
    "\n",
    "PKC takes lots of CPU cycles. Because of this it is usually used to transmit only small amounts of data and then switch to symmetric key encryption."
   ]
  },
  {
   "cell_type": "markdown",
   "id": "41a79d7e-2955-454e-8d52-906eb33de430",
   "metadata": {},
   "source": [
    "## Man in the middle\n",
    "\n",
    "If you access a website (e.g. your bank) over the internet, how can you be sure it's really your bank's website and not a criminal that modified the information send? For example, if you are redirected to a website that looks like your bank's you might enter your password, giving it to the crook.\n",
    "\n",
    "PKC can help with this as well. The basic strategy is to\n",
    "\n",
    "1. The bank creates a key pair. When your browser connects, the bank sends the public key, called \"certificate\" in this use case. \n",
    "\n",
    "2. Your browser verifies the certificate:\n",
    "    1. It check that the website encoded in the certificate (an extension of just a public key) matches your bank's URL.\n",
    "    2. It sends a \"challenge\" to the bank, basically a question that can only be answered if the private key is known. Only the bank has it, provided it is good at safeguarding it.\n",
    "    3. It checks that the certificate is genuine and belongs to your bank.\n",
    "    \n",
    "The last step is tricky, since it requires some form of \"secure channel\". In the simplest case the bank could give you the certificate at a safe place (e.g. visiting a branch). Then your browser can verify that the certificate received matches what the bank gave you.\n",
    "\n",
    "Of course this approach is impractical. Because of this, browsers (and computer operating systems) come with a \"built-in\" collection of verified certificates. They also use chaining to limit the number of certificates that need be stored and avoid the need to get a new certificate each time a new website goes onling. The certificate received from the bank's webserver is checked against these built-in certificates. If no match is found, the browser issues a warning (e.g. \"Your connection is not private\") and refuses to connect.\n",
    "\n",
    "This seems to work, but begs the question how you received your webbrowser and computer OS and if that procedure was safe ...\n",
    "\n",
    "Security is difficult, as we well know from almost daily breaches. "
   ]
  },
  {
   "cell_type": "code",
   "execution_count": null,
   "id": "e652ec15-e221-48a0-8fae-f7328794d817",
   "metadata": {},
   "outputs": [],
   "source": []
  }
 ],
 "metadata": {
  "kernelspec": {
   "display_name": "IoT",
   "language": "python",
   "name": "iot_kernel"
  },
  "language_info": {
   "codemirror_mode": {
    "name": "python",
    "version": 3
   },
   "file_extension": ".py",
   "mimetype": "text/x-python",
   "name": "python",
   "pygments_lexer": "python3",
   "version": "3"
  }
 },
 "nbformat": 4,
 "nbformat_minor": 5
}
