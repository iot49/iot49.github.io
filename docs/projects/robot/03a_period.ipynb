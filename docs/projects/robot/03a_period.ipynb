{
 "cells": [
  {
   "cell_type": "markdown",
   "id": "7936134d-8d1a-4078-8a7e-5eefaecbd1e3",
   "metadata": {},
   "source": [
    "# Encoder Readout\n",
    "\n",
    "Rotational speed can be measured with quadrature encoders by either counting pulses or measuring the width or period of the pulses at the output from the quadrature encoder. Counting pulses is simple and works well for high rotation speed, but gives inaccurate results at low speed when only few pulses are detected. \n",
    "\n",
    "By contrast, measuring pulse width works well at low speeds (as long as at least one pulse is detected in the measurement interval), but requires a very fast clock to measure rotational speed at high rpm.\n",
    "\n",
    "Below we compare the two approaches."
   ]
  },
  {
   "cell_type": "code",
   "execution_count": 1,
   "id": "652c0da1-d275-42e3-a4aa-202207ff1a3a",
   "metadata": {},
   "outputs": [
    {
     "name": "stdout",
     "output_type": "stream",
     "text": [
      "\u001b[46m\u001b[30mConnected to robot-stm32 @ serial:///dev/ttyAMA1\u001b[0m\n"
     ]
    }
   ],
   "source": [
    "%connect serial:///dev/ttyAMA1"
   ]
  },
  {
   "cell_type": "markdown",
   "id": "652589b6-04de-473d-beec-7a8ed626de61",
   "metadata": {},
   "source": [
    "Setup motors:"
   ]
  },
  {
   "cell_type": "code",
   "execution_count": 1,
   "id": "83363da3-4cfd-453e-9efe-c51db3e3bedb",
   "metadata": {},
   "outputs": [],
   "source": [
    "from tb6612 import TB6612\n",
    "from pyb import Pin, Timer\n",
    "\n",
    "# motor power control\n",
    "nstby = Pin('NSTBY', mode=Pin.OUT_PP)\n",
    "nstby.value(0)\n",
    "\n",
    "# motors\n",
    "pwm_timer = Timer(8, freq=10_000)\n",
    "scale = (pwm_timer.period()+1)/100\n",
    "\n",
    "motor1 = TB6612(\n",
    "    pwm_timer.channel(3, Timer.PWM_INVERTED, pin=Pin('PWM_A')),\n",
    "    scale,\n",
    "    Pin('AIN1', mode=Pin.OUT_PP),\n",
    "    Pin('AIN2', mode=Pin.OUT_PP)\n",
    ")\n",
    "\n",
    "motor2 = TB6612(\n",
    "    pwm_timer.channel(1, Timer.PWM_INVERTED, pin=Pin('PWM_B')),\n",
    "    scale,\n",
    "    Pin('BIN1', mode=Pin.OUT_PP),\n",
    "    Pin('BIN2', mode=Pin.OUT_PP)\n",
    ")"
   ]
  },
  {
   "cell_type": "markdown",
   "id": "ab6a20d8-cee8-4109-ac6f-8807299870b8",
   "metadata": {},
   "source": [
    "Pulse width measurement based on https://github.com/dhylands/upy-examples/blob/master/ic_test.py."
   ]
  },
  {
   "cell_type": "code",
   "execution_count": 1,
   "id": "c0750117-54d2-42fd-ad48-e35f0fa1754b",
   "metadata": {},
   "outputs": [
    {
     "name": "stdout",
     "output_type": "stream",
     "text": [
      "duty: -100   encoder:  -100.00   interval:  -102.77   period:  -104.66   pw:   -973\n",
      "duty: -100   encoder:   -92.00   interval:  -102.77   period:  -106.61   pw:   -973\n",
      "duty:  -50   encoder:   -46.00   interval:   -50.53   period:   -49.32   pw:  -1979\n",
      "duty:  -50   encoder:   -42.00   interval:   -50.45   period:   -49.16   pw:  -1982\n",
      "duty:  -19   encoder:   -14.00   interval:   -13.31   period:   -13.81   pw:  -7512\n",
      "duty:  -19   encoder:   -14.00   interval:   -13.33   period:   -13.83   pw:  -7501\n",
      "duty:  -18   encoder:   -12.00   interval:   -12.46   period:   -12.51   pw:  -8027\n",
      "duty:  -18   encoder:   -12.00   interval:   -12.42   period:   -12.69   pw:  -8054\n",
      "duty:  -17   encoder:   -12.00   interval:   -11.20   period:   -11.27   pw:  -8929\n",
      "duty:  -17   encoder:   -10.00   interval:   -11.16   period:   -11.41   pw:  -8963\n",
      "duty:  -16   encoder:   -10.00   interval:    -9.76   period:    -9.99   pw: -10246\n",
      "duty:  -16   encoder:   -10.00   interval:    -9.75   period:   -10.07   pw: -10255\n",
      "duty:  -15   encoder:    -8.00   interval:    -8.55   period:    -8.85   pw: -11695\n",
      "duty:  -15   encoder:    -8.00   interval:    -8.66   period:    -8.76   pw: -11543\n",
      "duty:  -14   encoder:    -8.00   interval:    -7.56   period:    -7.66   pw: -13229\n",
      "duty:  -14   encoder:    -8.00   interval:    -7.94   period:    -7.71   pw: -12593\n",
      "duty:  -13   encoder:    -8.00   interval:    -6.39   period:    -6.49   pw: -15643\n",
      "duty:  -13   encoder:    -8.00\n",
      "duty:  -12   encoder:    -6.00   interval:    -5.25   period:    -5.41   pw: -19043\n",
      "duty:  -12   encoder:    -6.00   interval:    -5.71   period:    -5.49   pw: -17500\n",
      "duty:  -11   encoder:    -6.00\n",
      "duty:  -11   encoder:    -6.00\n",
      "duty:  -10   encoder:    -4.00\n",
      "duty:  -10   encoder:    -4.00   interval:    -2.87   period:    -3.08   pw: -34892\n",
      "duty:   -9   encoder:    -4.00   interval:   -20.92   period:   -18.73   pw:  -4781\n",
      "duty:   -9   encoder:    -4.00\n",
      "duty:   -8   encoder:     0.00\n",
      "duty:   -8   encoder:     0.00\n",
      "duty:    8   encoder:     0.00\n",
      "duty:    8   encoder:     0.00\n",
      "duty:    9   encoder:     0.00\n",
      "duty:    9   encoder:     0.00\n",
      "duty:   10   encoder:     0.00\n",
      "duty:   10   encoder:     0.00\n",
      "duty:   11   encoder:     0.00   interval:     4.05   period:     3.73   pw:  24698\n",
      "duty:   11   encoder:     0.00   interval:     3.46   period:     3.76   pw:  28923\n",
      "duty:   12   encoder:     0.00   interval:     5.47   period:     5.09   pw:  18289\n",
      "duty:   12   encoder:     0.00   interval:     4.78   period:     5.24   pw:  20931\n",
      "duty:   13   encoder:     6.00   interval:     6.66   period:     6.31   pw:  15012\n",
      "duty:   13   encoder:     6.00\n",
      "duty:   14   encoder:     8.00   interval:     7.57   period:     7.38   pw:  13212\n",
      "duty:   14   encoder:     8.00\n",
      "duty:   15   encoder:     8.00   interval:     9.19   period:     8.65   pw:  10878\n",
      "duty:   15   encoder:     8.00   interval:     8.72   period:     8.53   pw:  11473\n",
      "duty:   16   encoder:    10.00   interval:    10.39   period:    10.23   pw:   9626\n",
      "duty:   16   encoder:    10.00   interval:     9.85   period:     9.77   pw:  10155\n",
      "duty:   17   encoder:    12.00   interval:    10.99   period:    10.77   pw:   9101\n",
      "duty:   17   encoder:    12.00   interval:    10.60   period:    10.75   pw:   9432\n",
      "duty:   18   encoder:    12.00   interval:    12.71   period:    12.15   pw:   7866\n",
      "duty:   18   encoder:    10.00   interval:    12.08   period:    12.04   pw:   8275\n",
      "duty:   19   encoder:    14.00   interval:    13.98   period:    13.20   pw:   7152\n",
      "duty:   19   encoder:    12.00   interval:    13.32   period:    13.24   pw:   7508\n",
      "duty:   50   encoder:    44.00   interval:    48.38   period:    51.59   pw:   2067\n",
      "duty:   50   encoder:    40.00   interval:    49.16   period:    48.94   pw:   2034\n",
      "duty:  100   encoder:    98.00   interval:   114.16   period:   114.03   pw:    876\n",
      "duty:  100   encoder:    88.00   interval:   107.07   period:   107.87   pw:    934\n"
     ]
    }
   ],
   "source": [
    "import pyb, micropython\n",
    "from encoder import init_encoder, c2\n",
    "\n",
    "# quadrature counter (motor2)\n",
    "enc = init_encoder(3, 'ENC_A1', 'ENC_A2', Pin.AF2_TIM4)\n",
    "\n",
    "# interval counter (motor1)\n",
    "# increase prescaler value if width overflows at low speeds\n",
    "ic_tim = pyb.Timer(4, prescaler=32, period=0x0ffff)\n",
    "ic_pin = pyb.Pin('ENC_B1')\n",
    "ic_dir = pyb.Pin('ENC_B2')\n",
    "ic_cha = ic_tim.channel(1, pyb.Timer.IC, pin=ic_pin, polarity=pyb.Timer.BOTH)\n",
    "\n",
    "ic_start = 0\n",
    "ic_width = 0\n",
    "ic_period= 0\n",
    "\n",
    "def ic_cb(tim):\n",
    "    global ic_start\n",
    "    global ic_width\n",
    "    global ic_period\n",
    "    # Read the GPIO pin to figure out if this was a rising or falling edge\n",
    "    if ic_pin.value():\n",
    "        ic_period = ic_cha.capture() - ic_start\n",
    "        ic_start = ic_cha.capture()\n",
    "        # counter rolled over\n",
    "        if ic_period < 0:\n",
    "            ic_period += 0x10000\n",
    "        # use quadrature pin to determine direction\n",
    "        if not ic_dir.value():\n",
    "            ic_period = -ic_period\n",
    "    else:\n",
    "        # Falling edge - end of the pulse\n",
    "        ic_width = ic_cha.capture() - ic_start\n",
    "        # counter rolled over\n",
    "        if ic_width < 0:\n",
    "            ic_width += 0x10000\n",
    "        # use quadrature pin to determine direction\n",
    "        if ic_dir.value():\n",
    "            ic_width = -ic_width\n",
    "\n",
    "micropython.alloc_emergency_exception_buf(100)\n",
    "ic_cha.callback(ic_cb)\n",
    "\n",
    "from time import sleep\n",
    "\n",
    "# enable TB6612\n",
    "nstby.value(1)\n",
    "\n",
    "# speed vector\n",
    "a = list(range(8, 20))\n",
    "a.extend([50, 100])\n",
    "b = [ -i for i in a ]\n",
    "b.reverse()\n",
    "b.extend(a)\n",
    "\n",
    "for speed in b:\n",
    "    motor1.speed(speed)\n",
    "    motor2.speed(speed)\n",
    "    # let motor speed stabilize\n",
    "    sleep(0.5)\n",
    "    # measure speed in only 10ms\n",
    "    for i in range(2):\n",
    "        enc.counter(0)\n",
    "        ic_width = 0\n",
    "        sleep(0.01)\n",
    "        cnt = 2*c2(enc.counter())\n",
    "        enc.counter(0)\n",
    "        if ic_width != 0:\n",
    "            print(f\"duty: {speed:4d}   encoder: {cnt:8.2f}   interval: {100_000/ic_width:8.2f}   period: {200_000/ic_period:8.2f}   pw: {ic_width:6d}\")\n",
    "        else:\n",
    "            print(f\"duty: {speed:4d}   encoder: {cnt:8.2f}\")\n",
    "    \n",
    "nstby.value(0)"
   ]
  },
  {
   "cell_type": "markdown",
   "id": "67b63d86-6b30-4add-b142-0e942378080d",
   "metadata": {},
   "source": [
    "As expected, pulse width measurement gives more consistent results."
   ]
  },
  {
   "cell_type": "code",
   "execution_count": null,
   "id": "6ec6e7a8-a892-411e-bfb6-6a772afdf3e4",
   "metadata": {},
   "outputs": [],
   "source": []
  }
 ],
 "metadata": {
  "kernelspec": {
   "display_name": "IoT",
   "language": "python",
   "name": "iot_kernel"
  },
  "language_info": {
   "codemirror_mode": {
    "name": "python",
    "version": 3
   },
   "file_extension": ".py",
   "mimetype": "text/x-python",
   "name": "python",
   "pygments_lexer": "python3",
   "version": "3"
  }
 },
 "nbformat": 4,
 "nbformat_minor": 5
}
