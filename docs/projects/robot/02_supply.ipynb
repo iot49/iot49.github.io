{
 "cells": [
  {
   "cell_type": "markdown",
   "id": "1dd5ec9e-4de9-4cd4-b35c-09b1e31daf61",
   "metadata": {},
   "source": [
    "# Power Supply\n",
    "\n",
    "The unregulated supply voltage of the motor hat, nominally 12V, supplies the motors. A 5V switching regulator powers the Raspberry PI and the STM32. It also adds \"bush-button on/off control\": pressing `SW1` pulls the enable pin of the regulator high, starting Raspberry PI and the STM32. \n",
    "\n",
    "If pressed again, `SHUT_SN` goes low. This bin is monitored by the Raspberry PI which initiates a shutdown under software control and instructs the STM32 to pull `PWR_EN` low, turning off the supply.\n",
    "\n",
    "```{figure} figures/supply_sch.png\n",
    ":width: 500px\n",
    ":name: robot-supply\n",
    "\n",
    "Robot power supply. *Note:* although the maximum input voltage of the 5V regulator is 24V, the TB6612 motor controller (which shares the same input rail) is limited to 15V.\n",
    "```"
   ]
  },
  {
   "cell_type": "markdown",
   "id": "d5c64688-a6aa-40e3-a0aa-6624fad2655c",
   "metadata": {},
   "source": [
    "{numref}`Figure %s <robot-supply>` shows the schematic diagram of the 5V power supply for the Raspberry PI and the STM32.\n",
    "\n",
    "## Power Up\n",
    "\n",
    "The 12V supply is always available when the Lithium battery is connected. Initially, the 5V output is off (0V). Pressing button `SW1` pulls the enable input (pin 4) of the regulator high through `R1`. Its output raises to 5V. After releasing the button, the enable input is kept high through resistor `R3`.\n",
    "\n",
    "## Power Down\n",
    "\n",
    "Powering down the robot requires support from both the Raspberry PI and the STM32. The code is in file"
   ]
  },
  {
   "cell_type": "code",
   "execution_count": 1,
   "id": "c9b2418a-1b36-42ba-a127-b71482a9317e",
   "metadata": {
    "collapsed": true,
    "jupyter": {
     "outputs_hidden": true
    },
    "tags": [
     "hide-output"
    ]
   },
   "outputs": [
    {
     "name": "stdout",
     "output_type": "stream",
     "text": [
      "#!/usr/bin/env python\n",
      "\n",
      "# monitor shutdown button (GPIO13)\n",
      "# sudo halt & turn off power when pressed\n",
      "\n",
      "from iot_device.pydevice import Pydevice\n",
      "from gpiozero import Button\n",
      "from serial import Serial\n",
      "import os, requests, time\n",
      "\n",
      "\n",
      "# sudo shutdown (supervisor call)\n",
      "def shutdown():\n",
      "    supervisor_ip = os.getenv(\"BALENA_SUPERVISOR_ADDRESS\")\n",
      "    api_key = os.getenv(\"BALENA_SUPERVISOR_API_KEY\")\n",
      "    url = f\"{supervisor_ip}/v1/shutdown?apikey={api_key}\"\n",
      "    headers = { 'Content-Type': 'application/json' }\n",
      "    requests.post(url=url, headers=headers)\n",
      "\n",
      "\n",
      "# run code on stm32\n",
      "def exec_no_follow(cmd, dev='/dev/ttyAMA1'):\n",
      "    with Serial(dev, 115200, timeout=0.5, write_timeout=2, exclusive= True) as serial:\n",
      "        pyd = Pydevice(serial)\n",
      "        pyd.enter_raw_repl()\n",
      "        pyd.exec_raw_no_follow(cmd)\n",
      "        time.sleep(0.2)\n",
      "        while serial.in_waiting:\n",
      "            data = serial.read(serial.in_waiting)\n",
      "            try:\n",
      "                data = data.decode()\n",
      "            except:\n",
      "                pass\n",
      "            print(f\"*** MCU: {data}\")\n",
      "            time.sleep(0.1)\n",
      "\n",
      "\n",
      "# monitor pi poweroff pin (AUX=GPIO16) and cut 5V supply when low\n",
      "def stm32_shutdown_monitor():\n",
      "    exec_no_follow(\n",
      "f\"\"\"\n",
      "from pyb import Pin\n",
      "from time import sleep\n",
      "\n",
      "# wait for pi to signal it's down\n",
      "power_off = Pin('AUX', mode=Pin.IN, pull=Pin.PULL_NONE)\n",
      "while power_off.value() == 1:\n",
      "    pass\n",
      "\n",
      "# just for good measure\n",
      "sleep(1)\n",
      "\n",
      "# declaring as input first sets the initial value after configuring as output\n",
      "shut_dn = Pin('PWR_EN', mode=Pin.IN, pull=Pin.PULL_UP)\n",
      "shut_dn.value(1)\n",
      "shut_dn = Pin('PWR_EN', mode=Pin.OUT_OD)\n",
      "shut_dn.value(0)\n",
      "\n",
      "# power is cut - we are dead!\n",
      "\"\"\")\n",
      "\n",
      "\n",
      "# callback when shutdown button pressed\n",
      "def shut_down_pi():\n",
      "    stm32_shutdown_monitor()\n",
      "    shutdown()\n",
      "\n",
      "\n",
      "# wait for MOTOR_HAT power button press (GPIO13) to initiate shutdown\n",
      "with Button(13, pull_up=True, bounce_time=0.1) as shut_dn:\n",
      "    shut_dn.when_pressed = shut_down_pi\n",
      "    # do this forever\n",
      "    while True:\n",
      "        # print(\"napping ...\")\n",
      "        time.sleep(60)\n",
      "\n"
     ]
    }
   ],
   "source": [
    "!cat $IOT_PROJECTS/robot/code/rpi/shutdown_monitor.py"
   ]
  },
  {
   "cell_type": "markdown",
   "id": "c3bae602-111e-426a-aa6e-fd1ca766c3e0",
   "metadata": {},
   "source": [
    "It works as follows: The Raspberry PI monitors `SHUT_DN` (GPIO13). Once a button press is detected, first starts a program on the STM32 and then shuts down Linux.\n",
    "\n",
    "The STM32 is responsible for turning off power. Since shutting down Linux takes some time, it needs and indication from the Raspberry PI that it is off. The `AUX` pin (GPIO16) is configured (dtoverlay) to go when the Raspberry PI is off and monitored by the STM32. After the pin goes low, the STM32 waits for a brief period and then pulls `PWR_EN` low, disabling the 5V supply and consequently cutting power to the Raspberry PI and the STM32.\n",
    "\n",
    "The TB6612 motor controller still has 12V power but is configured such that it won't turn on the motors without inputs from the STM32. Hence power drain from the Lithium battery is minimal after disabling the 5V regulator."
   ]
  },
  {
   "cell_type": "code",
   "execution_count": null,
   "id": "30871715-fb6a-45b6-9c5b-a4b5dc503dc2",
   "metadata": {},
   "outputs": [],
   "source": []
  }
 ],
 "metadata": {
  "kernelspec": {
   "display_name": "IoT",
   "language": "python",
   "name": "iot_kernel"
  },
  "language_info": {
   "codemirror_mode": {
    "name": "python",
    "version": 3
   },
   "file_extension": ".py",
   "mimetype": "text/x-python",
   "name": "python",
   "pygments_lexer": "python3",
   "version": "3"
  }
 },
 "nbformat": 4,
 "nbformat_minor": 5
}
