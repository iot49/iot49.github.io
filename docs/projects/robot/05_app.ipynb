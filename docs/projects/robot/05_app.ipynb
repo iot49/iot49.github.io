{
 "cells": [
  {
   "cell_type": "markdown",
   "id": "7cfdcc44-2186-4d94-aa7e-56962b4d09dd",
   "metadata": {},
   "source": [
    "# Robot App\n",
    "\n",
    "The robot app on the STM32 comprises two tasks:\n",
    "\n",
    "1. Control robot velocity, balance, etc. This task is run at precise intervals (e.g. every 10ms) set by a timer interrupt. The controller also sends the status (e.g. velocity, pitch angle) to the host.\n",
    "\n",
    "2. Communication with the host, accepting commands such as speed and direction of the robot and control parameters. This is the \"default\" task and runs always except when interrupted by the controller.\n",
    "\n",
    "Both tasks share a single serial connection (UART) for communication with the host. The communication task also updates control parameters (e.g. speed) used by the controller. \n",
    "\n",
    "Access between the tasks is arbitrated as follows:\n",
    "\n",
    "1. UART: when sending data to the host, the communication task (briefly) disables interrupts. This ensures message integrity. \n",
    "\n",
    "2. Parameters (array of floats): the communication tasks writes, the controller reads parameters. Since single float writes are \"atomic\", no special precautions are required for single parameter updates. Multiple parameter updates (e.g. speed of both motors) require suspending interrupts.\n",
    "\n",
    "The format of all serial communication is binary. Commands from the host start with a single byte defining the command, optionally followed by parameters. Likewise the first byte of all messages to the host indicates its type.\n",
    "\n",
    "Setup the environment:"
   ]
  },
  {
   "cell_type": "code",
   "execution_count": 1,
   "id": "335d6423-e3bc-4707-b0af-bcf880ee5dfb",
   "metadata": {},
   "outputs": [],
   "source": [
    "import nest_asyncio, sys, os\n",
    "nest_asyncio.apply()\n",
    "sys.path.append(os.path.join(os.getenv('IOT_PROJECTS'), 'robot/code/rpi'))\n",
    "\n",
    "# fix wiring issue\n",
    "from gpiozero import Button as Pin\n",
    "try:\n",
    "    Pin(14, pull_up=False)\n",
    "except:\n",
    "    pass"
   ]
  },
  {
   "cell_type": "code",
   "execution_count": 2,
   "id": "763ef0b1-8569-4dbf-888e-5ad6e800cef8",
   "metadata": {},
   "outputs": [
    {
     "name": "stdout",
     "output_type": "stream",
     "text": [
      "read 0\n",
      "read 1\n",
      "read 2\n"
     ]
    }
   ],
   "source": [
    "import stm32\n",
    "from serial import Serial\n",
    "\n",
    "stm32.exec_no_follow(\"\"\"\n",
    "from pyb import UART\n",
    "uart = UART(3, 9600, timeout=500)\n",
    "\n",
    "while True:\n",
    "    t = uart.readchar()\n",
    "    if t < 0: continue\n",
    "    print(f\"cmd_handler t = {t}\")\n",
    "    uart.writechar(t)\n",
    "\"\"\")\n",
    "\n",
    "uart = Serial(port='/dev/ttyAMA2', baudrate=9600, \n",
    "              timeout=2, write_timeout=1, exclusive=False)\n",
    "\n",
    "for i in range(3):\n",
    "    uart.write(bytes([i]))\n",
    "    print(\"read\", uart.read(1)[0])"
   ]
  },
  {
   "cell_type": "markdown",
   "id": "4ea6e7cd-f269-43f2-8df6-71276b3cdeb0",
   "metadata": {},
   "source": [
    "Works as expected, except that the output from the print statement is ignored.\n",
    "\n",
    "To fix this, we need to simultaneously monitor the stm32 repl output and run the app, presently sending and reading bytes on `/dev/ttyAMA2`. Let's use `asyncio` to achieve light-weight concurrency."
   ]
  },
  {
   "cell_type": "code",
   "execution_count": 3,
   "id": "71c962eb-21cb-4570-8d0b-511054d0cf8f",
   "metadata": {},
   "outputs": [
    {
     "name": "stdout",
     "output_type": "stream",
     "text": [
      "read 0\n",
      "read 1\n",
      "read 2\n",
      "MCU: cmd_handler t = 0\n",
      "     cmd_handler t = 1\n",
      "     cmd_handler t = 2\n",
      "     \n"
     ]
    }
   ],
   "source": [
    "from serial import Serial\n",
    "import asyncio\n",
    "import stm32\n",
    "\n",
    "stm32_code = \"\"\"\n",
    "from pyb import UART\n",
    "uart = UART(3, 1_000_000, timeout=500)\n",
    "\n",
    "while True:\n",
    "    t = uart.readchar()\n",
    "    if t < 0: continue\n",
    "    print(f\"cmd_handler t = {t}\")\n",
    "    uart.writechar(t)\n",
    "\"\"\"\n",
    "\n",
    "async def repl(cmd, dev='/dev/ttyAMA1'):\n",
    "    \"\"\"Send cmd to MCU, then listen & print output.\"\"\"\n",
    "    stm32.exec_no_follow(cmd)\n",
    "    with Serial(dev, 115200, timeout=0.5, write_timeout=2, exclusive=False) as serial:\n",
    "        while True:\n",
    "            if serial.in_waiting:\n",
    "                data = serial.read(serial.in_waiting)\n",
    "                try:\n",
    "                    data = data.decode()\n",
    "                    data = data.replace('\\n', '\\n     ')\n",
    "                except:\n",
    "                    pass\n",
    "                print(f\"MCU: {data}\")\n",
    "                await asyncio.sleep(0)\n",
    "            else:\n",
    "                await asyncio.sleep(0.5)\n",
    "\n",
    "async def main():\n",
    "    uart = Serial(port='/dev/ttyAMA2', baudrate=1_000_000, \n",
    "              timeout=2, write_timeout=1, exclusive=False)\n",
    "    asyncio.create_task(repl(stm32_code))\n",
    "    await asyncio.sleep(1)\n",
    "    for i in range(3):\n",
    "        uart.write(bytes([i]))\n",
    "        print(\"read\", uart.read(1)[0])\n",
    "        # cooperative multitasking: give rt a chance to run\n",
    "        await asyncio.sleep(0.1)\n",
    "\n",
    "asyncio.run(main())"
   ]
  },
  {
   "cell_type": "markdown",
   "id": "a5dd7a86-6719-4fc2-bc57-221f322f33c1",
   "metadata": {},
   "source": [
    "Let's setup the code for sharing state and configuration parameters between the Raspberry PI and the STM32:"
   ]
  },
  {
   "cell_type": "code",
   "execution_count": 4,
   "id": "6e61b52e-d212-4763-8461-587ea2c1a02a",
   "metadata": {},
   "outputs": [
    {
     "name": "stdout",
     "output_type": "stream",
     "text": [
      "ping -> 0\n",
      "set[2] = 3.1415\n",
      "get[2] -> 3.1414995193481445\n"
     ]
    }
   ],
   "source": [
    "from serial import Serial\n",
    "from struct import pack, unpack\n",
    "import asyncio\n",
    "import stm32\n",
    "\n",
    "stm32_code = \"\"\"\n",
    "from array import array\n",
    "from pyb import UART\n",
    "from struct import pack\n",
    "\n",
    "PARAM = array('f', [0, 1, 2])\n",
    "\n",
    "CMD_PING = 0\n",
    "CMD_GET  = 1\n",
    "CMD_SET  = 2\n",
    "\n",
    "uart = UART(3, 1_000_000, timeout=500)\n",
    "\n",
    "smv = memoryview(PARAM)\n",
    "while True:\n",
    "    t = uart.readchar()\n",
    "    if t < 0: continue\n",
    "    if t == CMD_PING:\n",
    "        uart.writechar(CMD_PING)\n",
    "    elif t == CMD_GET:\n",
    "        index = uart.readchar()\n",
    "        uart.writechar(CMD_GET)\n",
    "        uart.write(pack('f', PARAM[index]))\n",
    "    elif t == CMD_SET:\n",
    "        index = uart.readchar()\n",
    "        uart.readinto(smv[index:index+1])\n",
    "    else:\n",
    "        print(f\"unknown command {t}\")\n",
    "\"\"\"\n",
    "\n",
    "CMD_PING = 0\n",
    "CMD_GET  = 1\n",
    "CMD_SET  = 2\n",
    "\n",
    "async def repl(cmd, dev='/dev/ttyAMA1'):\n",
    "    \"\"\"Send cmd to MCU, then listen & print output.\"\"\"\n",
    "    stm32.exec_no_follow(cmd)\n",
    "    with Serial(dev, 115200, timeout=0.5, write_timeout=2, exclusive=False) as serial:\n",
    "        while True:\n",
    "            if serial.in_waiting:\n",
    "                data = serial.read(serial.in_waiting)\n",
    "                try:\n",
    "                    data = data.decode()\n",
    "                    data.replace('\\n', '\\n___: ')\n",
    "                except:\n",
    "                    pass\n",
    "                print(f\"MCU: {data}\")\n",
    "                await asyncio.sleep(0)\n",
    "            else:\n",
    "                await asyncio.sleep(0.5)\n",
    "\n",
    "\n",
    "async def main():\n",
    "    asyncio.create_task(repl(stm32_code))\n",
    "    await asyncio.sleep(1)\n",
    "    uart = Serial(port='/dev/ttyAMA2', baudrate=1_000_000, \n",
    "              timeout=2, write_timeout=1, exclusive=False)\n",
    "    # ping\n",
    "    uart.write(bytes([CMD_PING]))\n",
    "    print(\"ping ->\", uart.read(1)[0])\n",
    "    await asyncio.sleep(0.1)\n",
    "    print(\"set[2] = 3.1415\")\n",
    "    uart.write(bytes([CMD_SET, 2]))\n",
    "    uart.write(pack('f', 3.1415))\n",
    "    uart.write(bytes([CMD_GET, 2]))\n",
    "    assert uart.read(1)[0] == CMD_GET\n",
    "    print(\"get[2] ->\", unpack('f', uart.read(4))[0])\n",
    "    \n",
    "stm32.hard_reset()\n",
    "asyncio.run(main())"
   ]
  },
  {
   "cell_type": "markdown",
   "id": "d4821005-b0c2-4538-bdb5-2e1605434a87",
   "metadata": {},
   "source": [
    "The complete app combines communication with the stm32 and the remote controller and plotting of the state."
   ]
  },
  {
   "cell_type": "code",
   "execution_count": 1,
   "id": "d749d97e-cfb0-472e-9276-08acfce09917",
   "metadata": {},
   "outputs": [
    {
     "name": "stdout",
     "output_type": "stream",
     "text": [
      "*** PI: unknown type: 255\n",
      "MCU: start Comm @ 1000000 baud\n",
      "     \n"
     ]
    }
   ],
   "source": [
    "import nest_asyncio, sys, os\n",
    "nest_asyncio.apply()\n",
    "sys.path.append(os.path.join(os.getenv('IOT_PROJECTS'), 'robot/code/rpi'))\n",
    "\n",
    "from example_robot import ExampleRobot\n",
    "import numpy as np\n",
    "import asyncio\n",
    "\n",
    "# spin motors\n",
    "\n",
    "async def motors():\n",
    "    async with ExampleRobot() as robot:\n",
    "        # verify communication with stm32\n",
    "        await robot.ping_test()\n",
    "        await robot.echo_test()\n",
    "        # set parameter values\n",
    "        await robot.set('FS', 100)\n",
    "        await robot.set('PWM_FREQ', 10_000)\n",
    "        # verify that state on stm32 and rpi is idential\n",
    "        await robot.check_state()   \n",
    "        # start\n",
    "        await robot.start()\n",
    "        for duty in np.linspace(0, 100, 5):\n",
    "            await robot.set('DUTY_CM', duty)\n",
    "            await asyncio.sleep(1)\n",
    "\n",
    "asyncio.run(motors())"
   ]
  },
  {
   "cell_type": "markdown",
   "id": "463f53bd-3fbf-499f-9a48-870ecc1a5e3d",
   "metadata": {},
   "source": [
    "![](figures/example_robot.png)"
   ]
  },
  {
   "cell_type": "markdown",
   "id": "30938077-0e3e-4fb1-ad9a-a5a6dc04f6a6",
   "metadata": {},
   "source": [
    "An example with the remote controller:"
   ]
  },
  {
   "cell_type": "code",
   "execution_count": null,
   "id": "156dd1f8-d6af-49b1-a17d-97470d8d674f",
   "metadata": {},
   "outputs": [],
   "source": [
    "import nest_asyncio, sys, os\n",
    "nest_asyncio.apply()\n",
    "sys.path.append(os.path.join(os.getenv('IOT_PROJECTS'), 'robot/code/rpi'))\n",
    "\n",
    "from example_robot import ExampleRobot\n",
    "import numpy as np\n",
    "import asyncio\n",
    "\n",
    "\n",
    "async def remote():\n",
    "\n",
    "    # remote control: joystick mapped to motor duty cycle\n",
    "    async with ExampleRobot(enable_remote=True) as robot:\n",
    "        await robot.start()\n",
    "\n",
    "asyncio.run(remote())"
   ]
  },
  {
   "cell_type": "markdown",
   "id": "f103d5c8-f2a8-495a-ae80-dc7f5142ddaa",
   "metadata": {},
   "source": [
    "![](figures/robot_drive.png)"
   ]
  }
 ],
 "metadata": {
  "kernelspec": {
   "display_name": "Python 3 (ipykernel)",
   "language": "python",
   "name": "python3"
  },
  "language_info": {
   "codemirror_mode": {
    "name": "ipython",
    "version": 3
   },
   "file_extension": ".py",
   "mimetype": "text/x-python",
   "name": "python",
   "nbconvert_exporter": "python",
   "pygments_lexer": "ipython3",
   "version": "3.9.7"
  }
 },
 "nbformat": 4,
 "nbformat_minor": 5
}
