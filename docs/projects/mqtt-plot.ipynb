{
 "cells": [
  {
   "cell_type": "markdown",
   "id": "e873313c-9458-4837-aaa6-1c8be130bf57",
   "metadata": {},
   "source": [
    "# MQTT Plot\n",
    "\n",
    "I find myself often needing to plot e.g. sensor measurements and other data, both from the host and directly from a microcontroller.\n",
    "\n",
    "`MQTT Plot` is a simple Python app that serves this purpose. All data and configuration for plots is sent over MQTT and hence accommodates many sources. \n",
    "\n",
    "Use the following code to download the app:"
   ]
  },
  {
   "cell_type": "code",
   "execution_count": null,
   "id": "76a3aefb-8af8-4ba5-ac4a-96b380ad2a3b",
   "metadata": {},
   "outputs": [],
   "source": [
    "%%bash\n",
    "\n",
    "cd $IOT_PROJECTS\n",
    "svn checkout https://github.com/iot49/iot49.org/trunk/docs/projects/mqtt-plot"
   ]
  },
  {
   "cell_type": "markdown",
   "id": "748239e4-b148-469f-9413-adf4ad981b47",
   "metadata": {},
   "source": [
    "Start the plot server by running \n",
    "\n",
    "```bash\n",
    "cd $IOT_PROJECTS/mqtt-plot/code\n",
    "python -m mqtt_plot\n",
    "```\n",
    "\n",
    "from a terminal. To automatically start the server whenever *ide49* boots, add `python -m mqtt_plot &` to `~/.micropython_rc.sh`.\n",
    "\n",
    "View plots at http://iot49.local:5006."
   ]
  },
  {
   "cell_type": "markdown",
   "id": "3fb69326-fec1-474d-9b47-5de3510f1c04",
   "metadata": {},
   "source": [
    "## Limitations\n",
    "\n",
    "* Only a single http connection at any one time:\n",
    "  * Only the most recent plot is updated!\n",
    "* Absolutely no security: \n",
    "  * no encryption, no access control\n",
    "  * neither for MQTT data nor the plot"
   ]
  },
  {
   "cell_type": "code",
   "execution_count": null,
   "id": "5b1d3882-6036-4e07-9c21-81d831c58c11",
   "metadata": {},
   "outputs": [],
   "source": []
  }
 ],
 "metadata": {
  "kernelspec": {
   "display_name": "Python 3 (ipykernel)",
   "language": "python",
   "name": "python3"
  },
  "language_info": {
   "codemirror_mode": {
    "name": "ipython",
    "version": 3
   },
   "file_extension": ".py",
   "mimetype": "text/x-python",
   "name": "python",
   "nbconvert_exporter": "python",
   "pygments_lexer": "ipython3",
   "version": "3.9.7"
  }
 },
 "nbformat": 4,
 "nbformat_minor": 5
}
