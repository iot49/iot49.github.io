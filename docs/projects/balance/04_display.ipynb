{
 "cells": [
  {
   "cell_type": "markdown",
   "id": "65fb4a2a-8e8a-4a1e-846a-599eb97308b0",
   "metadata": {},
   "source": [
    "# Display\n",
    "\n",
    "Let's add a diplay to our scale. The SSD1306 can be configured over I2C or SPI. We will use the I2C interface. \n",
    "\n",
    "The first step is getting a driver. Fortunately someone has already written it ([Driver & Tutorial](https://randomnerdtutorials.com/micropython-oled-display-esp32-esp8266)). For convenience it's also included here:"
   ]
  },
  {
   "cell_type": "code",
   "execution_count": 1,
   "id": "0deb5d91-94ab-46de-b7e4-b6186e330ed6",
   "metadata": {},
   "outputs": [
    {
     "name": "stdout",
     "output_type": "stream",
     "text": [
      "\u001b[46m\u001b[30mConnected to balance @ serial:///dev/ttyUSB1\u001b[0m\n"
     ]
    }
   ],
   "source": [
    "%connect balance"
   ]
  },
  {
   "cell_type": "code",
   "execution_count": 2,
   "id": "6e4f9ac6-3b34-4c35-87fd-e69541cec42a",
   "metadata": {},
   "outputs": [
    {
     "name": "stdout",
     "output_type": "stream",
     "text": [
      "\u001b[0m# MicroPython SSD1306 OLED driver, I2C and SPI interfaces\n",
      "\n",
      "from micropython import const\n",
      "import time\n",
      "import framebuf\n",
      "\n",
      "# register definitions\n",
      "SET_CONTRAST        = const(0x81)\n",
      "SET_ENTIRE_ON       = const(0xa4)\n",
      "SET_NORM_INV        = const(0xa6)\n"
     ]
    }
   ],
   "source": [
    "!head code/lib/ssd1306.py"
   ]
  },
  {
   "cell_type": "markdown",
   "id": "2e950c6d-f751-4749-b4d3-6ef3ccfc1721",
   "metadata": {},
   "source": [
    "To try out the display, we need to copy it to the microcontroller. Modify the device configuration as shown below (change the `UID` to match your device):"
   ]
  },
  {
   "cell_type": "code",
   "execution_count": 3,
   "id": "1d62945b-ada1-4c2e-8066-5560810f5444",
   "metadata": {},
   "outputs": [
    {
     "name": "stdout",
     "output_type": "stream",
     "text": [
      "\u001b[0mbalance:\n",
      "    uid: 24:0a:c4:12:87:7c\n",
      "    path: balance\n",
      "    resources:\n",
      "        - code\n"
     ]
    }
   ],
   "source": [
    "!cat ../devices/balance.yaml"
   ]
  },
  {
   "cell_type": "markdown",
   "id": "fa905911-d097-4ed9-8c2e-3820a4cf04d4",
   "metadata": {},
   "source": [
    "`%rsync` uploads the files in the `code` directory to the microcontroller:"
   ]
  },
  {
   "cell_type": "code",
   "execution_count": null,
   "id": "a1662905-c967-4e1c-aa0b-b45509fc6ce4",
   "metadata": {},
   "outputs": [],
   "source": [
    "%rsync"
   ]
  },
  {
   "cell_type": "markdown",
   "id": "76b37cec-0db4-4a40-822f-ed20211622e4",
   "metadata": {},
   "source": [
    "Verify:"
   ]
  },
  {
   "cell_type": "code",
   "execution_count": 3,
   "id": "e0d7cf1e-f957-49f7-aab9-064e300ae617",
   "metadata": {},
   "outputs": [
    {
     "name": "stdout",
     "output_type": "stream",
     "text": [
      "\u001b[0m\u001b[0m                            \u001b[32mlib/\u001b[0m\n",
      "\u001b[0m   2713  Jul 09 18:28 2021      \u001b[34mble_advertising.py\u001b[0m\n",
      "\u001b[0m   3475  Jul 09 18:28 2021      \u001b[34mble_uart_peripheral.py\u001b[0m\n",
      "\u001b[0m    551  Jul 10 17:37 2021      \u001b[34mbutton.py\u001b[0m\n",
      "\u001b[0m    738  Jul 10 17:37 2021      \u001b[34mscale.py\u001b[0m\n",
      "\u001b[0m   4899  Jul 09 17:33 2021      \u001b[34mssd1306.py\u001b[0m\n",
      "\u001b[0m    776  Jul 09 20:47 2021  \u001b[34mmain.py\u001b[0m\n",
      "\u001b[0m"
     ]
    }
   ],
   "source": [
    "%rlist"
   ]
  },
  {
   "cell_type": "markdown",
   "id": "439d5624-f360-42c0-b572-a87a02bab841",
   "metadata": {},
   "source": [
    "Let's check out the display: "
   ]
  },
  {
   "cell_type": "code",
   "execution_count": 1,
   "id": "06148d88-560e-4811-960b-14f4ad506c88",
   "metadata": {},
   "outputs": [],
   "source": [
    "from ssd1306 import SSD1306_I2C\n",
    "from machine import Pin, I2C\n",
    "import time\n",
    "\n",
    "i2c = machine.I2C(0, scl=Pin(22), sda=Pin(23))\n",
    "\n",
    "oled_width = 128\n",
    "oled_height = 32\n",
    "oled = SSD1306_I2C(oled_width, oled_height, i2c)\n",
    "\n",
    "for i in range(10):\n",
    "    oled.fill(0)   # clear display\n",
    "    oled.text(str(i**3), 0, 0)\n",
    "    oled.text(str(i**5), 0, 12)\n",
    "    oled.text(str(i**7), 0, 24)\n",
    "    oled.show()\n",
    "    time.sleep(0.5)"
   ]
  },
  {
   "cell_type": "markdown",
   "id": "4187beb2-d18e-4a78-91c2-0a0ac0e1c500",
   "metadata": {},
   "source": [
    "Connect it to the scale: "
   ]
  },
  {
   "cell_type": "code",
   "execution_count": 6,
   "id": "3ebec3fe-a270-4801-b652-271fa4656ef3",
   "metadata": {
    "tags": []
   },
   "outputs": [
    {
     "name": "stdout",
     "output_type": "stream",
     "text": [
      "\u001b[0m"
     ]
    }
   ],
   "source": [
    "from machine import Pin, I2C\n",
    "from ssd1306 import SSD1306_I2C\n",
    "from scale import Scale\n",
    "\n",
    "i2c = I2C(0, scl=Pin(22), sda=Pin(23))\n",
    "\n",
    "oled_width = 128\n",
    "oled_height = 32\n",
    "oled = SSD1306_I2C(oled_width, oled_height, i2c)\n",
    "\n",
    "scale = Scale()\n",
    "start = time.ticks_ms()\n",
    "\n",
    "last_weight = 500\n",
    "while time.ticks_diff(time.ticks_ms(), start) < 20000:\n",
    "    weight = scale.measure()\n",
    "    if abs(weight-last_weight) > 3:\n",
    "        oled.fill(0)\n",
    "        oled.text(\"{:8.0f} gram\".format(weight), 0, 12)\n",
    "        oled.show()\n",
    "        last_weight = weight"
   ]
  },
  {
   "cell_type": "markdown",
   "id": "ab92d8b4-0066-4cf9-aaa0-a7bdd908eccb",
   "metadata": {},
   "source": [
    "Great! We have a scale with a display.\n",
    "\n",
    "Let's add some features."
   ]
  }
 ],
 "metadata": {
  "kernelspec": {
   "display_name": "IoT",
   "language": "python",
   "name": "iot_kernel"
  },
  "language_info": {
   "codemirror_mode": {
    "name": "python",
    "version": 3
   },
   "file_extension": ".py",
   "mimetype": "text/x-python",
   "name": "python",
   "pygments_lexer": "python3",
   "version": "3"
  }
 },
 "nbformat": 4,
 "nbformat_minor": 5
}
