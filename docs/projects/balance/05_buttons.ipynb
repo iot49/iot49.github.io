{
 "cells": [
  {
   "cell_type": "markdown",
   "id": "9f90efb5-92d8-4d7d-bcef-6b3c2e389946",
   "metadata": {},
   "source": [
    "# Buttons\n",
    "\n",
    "Let's implement a \"tare\" function: a button that, when pressed, zeroes the output. Very useful when you bake a cake to \"null\" the weight of the container you put the contents in.\n",
    "\n",
    "Reading buttons is quite easy, just connect one terminal of the button to ground and the other to an input of the microcontroller.\n",
    "\n",
    "Whenever you press the button, the microcontroller input is zero. But what happens when you let the button go? The input is disconnected and it's value is undefined!\n",
    "\n",
    "That's easily fixed by adding a resistor between the microcontroller input and the supply, 3.3V. Now the input is at 3.3V, pulled up by the resistor. Pressing the button will pull it down to 0V. Since the current flowing into the input is very small, you can use a large resistor (e.g. 100kOhm) to minimize power dissipation. \n",
    "\n",
    "The need for such \"pull-up resistors\" arises frequently. Because of this, many microcontrollers have resistors built-in that can be enabled with software.\n",
    "\n",
    "The code below assumes a button connected to `IO15` (button `A` of the OLED wing). The code for configuring the button with the pull-up enabled is below:"
   ]
  },
  {
   "cell_type": "code",
   "execution_count": 1,
   "id": "a50e931b-fc02-4066-9122-536c2564a5ea",
   "metadata": {},
   "outputs": [
    {
     "name": "stdout",
     "output_type": "stream",
     "text": [
      "\u001b[0m\u001b[0m\u001b[46m\u001b[30mConnected to balance @ serial:///dev/ttyUSB0\u001b[0m\n"
     ]
    },
    {
     "name": "stderr",
     "output_type": "stream",
     "text": [
      "Interrupted\u001b[0m\n"
     ]
    }
   ],
   "source": [
    "%connect balance\n",
    "\n",
    "from machine import Pin\n",
    "import time\n",
    "\n",
    "button = Pin(15, mode=Pin.IN, pull=Pin.PULL_UP)\n",
    "\n",
    "start = time.ticks_ms()\n",
    "last_state = button.value()\n",
    "\n",
    "while True:\n",
    "    state = button.value()\n",
    "    if state != last_state:\n",
    "        if state == 0:\n",
    "            print(\"pressed\")\n",
    "        else:\n",
    "            print(\"released\")\n",
    "        last_state = state"
   ]
  },
  {
   "cell_type": "markdown",
   "id": "c250ebc1-0077-42ac-aef7-4a3bcdc29b5f",
   "metadata": {},
   "source": [
    "Click the little square at the top of the notebook display to stop the program.\n",
    "\n",
    "The \"mechanics\" of buttons frequently results in a phenomenon called *bouncing*: rather than simply making electrical contact when pressed, the button contacts bounce off each other a few times before making solid contact. \n",
    "\n",
    "This happens within milliseconds, not discernible to humans but well within the speed of microcontrollers. Because of this, tasks such as counting the number of button presses may report incorrect results.\n",
    "\n",
    "The simplest remedy is to use a timer and ignore button \"presses\" for, say 100ms, after one has occurred. The button class, below, does just that. It uses [MicroPython function `ticks_diff`](ticks.ipynb) to calculate time differences. Click on the link for an explanation.\n",
    "\n",
    "In addition it uses interrupts to detect changes, rather than polling in a loop like the code above."
   ]
  },
  {
   "cell_type": "code",
   "execution_count": 1,
   "id": "35c44540-be72-4a89-aa6d-f403f1c4681e",
   "metadata": {},
   "outputs": [
    {
     "name": "stdout",
     "output_type": "stream",
     "text": [
      "\u001b[0mPin(15) pressed 1 times\n",
      "\u001b[0mPin(15) pressed 2 times\n",
      "\u001b[0m"
     ]
    }
   ],
   "source": [
    "from machine import Pin\n",
    "import time\n",
    "\n",
    "class Button:\n",
    "    \n",
    "    def __init__(self, pin, debounce_ms=100):\n",
    "        self._debounce_ms = debounce_ms\n",
    "        self._last_press = 0\n",
    "        self._count = 0\n",
    "        button = Pin(pin, mode=Pin.IN, pull=Pin.PULL_UP)\n",
    "        button.irq(handler=self._irq, trigger=Pin.IRQ_FALLING)\n",
    "        \n",
    "    def _irq(self, button):\n",
    "        now = time.ticks_ms()\n",
    "        if time.ticks_diff(now, self._last_press) < self._debounce_ms:\n",
    "            # ignore \"button presses\" within debounce interval\n",
    "            print(\"debounce\")\n",
    "            return\n",
    "        self._last_press = now\n",
    "        self._count += 1\n",
    "        print(\"{} pressed {} times\".format(button, self._count))\n",
    "        \n",
    "button = Button(15)\n",
    "\n",
    "# report (print) button presses for a few seconds\n",
    "# this is just for testing\n",
    "time.sleep(5)"
   ]
  },
  {
   "cell_type": "markdown",
   "id": "a5ed1e95-af03-4f5f-a178-a73e610c95bd",
   "metadata": {},
   "source": [
    "Depending on your switch, you may or may not see \"debounce\" in action.\n",
    "\n",
    "Now let's use this function to implement *tare*. For that we modify the `Button` class, taking a handler function that is called each time the button is pressed."
   ]
  },
  {
   "cell_type": "code",
   "execution_count": 1,
   "id": "bacd4054-88cd-4c1e-a385-7c822ad19ad9",
   "metadata": {},
   "outputs": [
    {
     "name": "stdout",
     "output_type": "stream",
     "text": [
      "\u001b[0mtare\n",
      "\u001b[0mtare\n",
      "\u001b[0m"
     ]
    },
    {
     "name": "stderr",
     "output_type": "stream",
     "text": [
      "Interrupted\u001b[0m\n"
     ]
    }
   ],
   "source": [
    "from scale import Scale\n",
    "from ssd1306 import SSD1306_I2C\n",
    "from machine import Pin, ADC, I2C\n",
    "import time\n",
    "\n",
    "class Button:\n",
    "    \n",
    "    def __init__(self, pin, handler, debounce_ms=100):\n",
    "        self._handler = handler\n",
    "        self._debounce_ms = debounce_ms\n",
    "        self._last_press = 0\n",
    "        button = Pin(pin, mode=Pin.IN, pull=Pin.PULL_UP)\n",
    "        button.irq(handler=self._irq, trigger=Pin.IRQ_FALLING)\n",
    "        \n",
    "    def _irq(self, button):\n",
    "        now = time.ticks_ms()\n",
    "        if time.ticks_diff(now, self._last_press) < self._debounce_ms:\n",
    "            return\n",
    "        self._last_press = now\n",
    "        self._handler(button)\n",
    "                \n",
    "\n",
    "# configure the display\n",
    "i2c = I2C(0, scl=Pin(22), sda=Pin(23))\n",
    "oled = SSD1306_I2C(128, 32, i2c)\n",
    "\n",
    "\n",
    "# initialize the scale and button\n",
    "# the button, when pressed, calls the tare function of Scale\n",
    "scale = Scale()\n",
    "tare_button = Button(15, scale.tare)\n",
    "\n",
    "last_weight = 100\n",
    "while True:\n",
    "    weight = scale.measure()\n",
    "    # print only significant changes\n",
    "    if abs(weight-last_weight) > 3:\n",
    "        oled.fill(0)\n",
    "        oled.text(\"{:8.0f} gram\".format(weight), 0, 12)\n",
    "        oled.show()\n",
    "        last_weight = weight\n",
    "        time.sleep(0.1)"
   ]
  },
  {
   "cell_type": "markdown",
   "id": "c681ef2d-1242-48a0-88e0-fa213760eb38",
   "metadata": {},
   "source": [
    "Play with the \"tare\" button. Is it working correctly?\n",
    "\n",
    "Use one of the other buttons to switch between weight in grams and ounces."
   ]
  },
  {
   "cell_type": "code",
   "execution_count": 2,
   "id": "9870428a-9ada-4d07-a4cc-2fff5782d8bd",
   "metadata": {},
   "outputs": [
    {
     "name": "stdout",
     "output_type": "stream",
     "text": [
      "\u001b[0mOverwriting code/lib/button.py\n"
     ]
    }
   ],
   "source": [
    "%%writefile code/lib/button.py\n",
    "\n",
    "from machine import Pin\n",
    "import time\n",
    "\n",
    "class Button:\n",
    "    \n",
    "    def __init__(self, pin, handler, debounce_ms=100):\n",
    "        self._handler = handler\n",
    "        self._debounce_ms = debounce_ms\n",
    "        self._last_press = 0\n",
    "        button = Pin(pin, mode=Pin.IN, pull=Pin.PULL_UP)\n",
    "        button.irq(handler=self._irq, trigger=Pin.IRQ_FALLING)\n",
    "        \n",
    "    def _irq(self, button):\n",
    "        now = time.ticks_ms()\n",
    "        if time.ticks_diff(now, self._last_press) < self._debounce_ms:\n",
    "            return\n",
    "        self._last_press = now\n",
    "        self._handler(button)\n"
   ]
  },
  {
   "cell_type": "code",
   "execution_count": 2,
   "id": "9c3cbaf6-886e-40d9-8330-b5d90e8b15b4",
   "metadata": {},
   "outputs": [
    {
     "name": "stdout",
     "output_type": "stream",
     "text": [
      "\u001b[0m\u001b[0m\u001b[34mUPDATE  /lib/button.py\n",
      "\u001b[0m\u001b[0m"
     ]
    }
   ],
   "source": [
    "%rsync"
   ]
  }
 ],
 "metadata": {
  "kernelspec": {
   "display_name": "IoT",
   "language": "python",
   "name": "iot_kernel"
  },
  "language_info": {
   "codemirror_mode": {
    "name": "python",
    "version": 3
   },
   "file_extension": ".py",
   "mimetype": "text/x-python",
   "name": "python",
   "pygments_lexer": "python3",
   "version": "3"
  }
 },
 "nbformat": 4,
 "nbformat_minor": 5
}
