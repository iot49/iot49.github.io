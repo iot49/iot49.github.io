{
 "cells": [
  {
   "cell_type": "markdown",
   "id": "eb51b125-33b7-4a59-9af5-1a16c2928ddf",
   "metadata": {},
   "source": [
    "# Parts\n",
    "\n",
    "Below is the list of parts used in the project. You will also need a solderless protoboard and wires.\n",
    "\n",
    "## Microcontroller\n",
    "\n",
    "Code samples are written for an ESP32. The particular model I'm using is a [Huzzah32](https://www.adafruit.com/product/3405), but other versions will work, too.\n",
    "\n",
    "For reference, here is the pinout:\n",
    "\n",
    "![](figures/huzzah32-pinout.png)\n",
    "\n",
    "## Load Cell\n",
    "\n",
    "I'm using a load cell [similar to this one](https://www.sparkfun.com/products/14728). Choose lower or higher weight rating, depending on your application.\n",
    "\n",
    "## Buttons & Display\n",
    "\n",
    "For convenience I'm using a [FeatherWing OLED](https://www.adafruit.com/product/2900) that stacks directly on top of the Huzzah32, with no wiring required.\n",
    "\n",
    "The board also has three buttons, connected to pins as follows: A=15, B=32, C=14.\n",
    "\n",
    "## HX711\n",
    "\n",
    "The [HX711](https://www.sparkfun.com/products/13879) is an ADC specialized to reading load cells. It gives better accuracy than the ADC built into the ESP32\n",
    "\n",
    "## Assembly\n",
    "\n",
    "The picture below shows the assembled scale with the display mounted on top of the Huzzah32. \n",
    "\n",
    "![](figures/scale.jpg)\n",
    "\n",
    "I used laser cut acrylic for the load cell. \n",
    "\n",
    "![](figures/acrylic.svg)\n",
    "\n",
    "The load cell is \"sandwiched\" between the base and the tray, with a spacer on either side to permit it to allow it to move. \n",
    "\n",
    "![](figures/scale_side.jpg)\n",
    "\n",
    "\n"
   ]
  },
  {
   "cell_type": "markdown",
   "id": "5dbbdb99-d20b-43a7-889b-cf9a77c1591e",
   "metadata": {},
   "source": [
    "Now we are ready to wire up the circuits. Open `$IOT_PROJECTS/balance/02_circuit.ipynb`."
   ]
  },
  {
   "cell_type": "code",
   "execution_count": null,
   "id": "23adcf56-1ebe-4c06-bcec-b9c601ad1991",
   "metadata": {},
   "outputs": [],
   "source": []
  }
 ],
 "metadata": {
  "kernelspec": {
   "display_name": "IoT",
   "language": "python",
   "name": "iot_kernel"
  },
  "language_info": {
   "codemirror_mode": {
    "name": "python",
    "version": 3
   },
   "file_extension": ".py",
   "mimetype": "text/x-python",
   "name": "python",
   "pygments_lexer": "python3",
   "version": "3"
  }
 },
 "nbformat": 4,
 "nbformat_minor": 5
}
