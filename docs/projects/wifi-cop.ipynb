{
 "cells": [
  {
   "cell_type": "markdown",
   "id": "e873313c-9458-4837-aaa6-1c8be130bf57",
   "metadata": {},
   "source": [
    "# WiFi Coprocessor\n",
    "\n",
    "Some CPUs or breakout boards come with built-in WiFi. But what if the chosen target processor, e.g. an STM32 or nrf52, does not and it's needed for your IoT project?\n",
    "\n",
    "The solution is to add a WiFi radio. This project uses an economical ESP32 to add WiFi to the target processor. To minimize software development and hardware complexity, we'll run MicroPython on the ESP32 and communicate with the target over a serial port with just two wires.\n",
    "\n",
    "\n",
    "To download this project, run:"
   ]
  },
  {
   "cell_type": "code",
   "execution_count": null,
   "id": "76a3aefb-8af8-4ba5-ac4a-96b380ad2a3b",
   "metadata": {},
   "outputs": [],
   "source": [
    "%%bash\n",
    "\n",
    "cd $IOT_PROJECTS\n",
    "svn checkout https://github.com/iot49/iot49.org/trunk/docs/projects/wifi-cop"
   ]
  }
 ],
 "metadata": {
  "kernelspec": {
   "display_name": "IoT",
   "language": "python",
   "name": "iot_kernel"
  },
  "language_info": {
   "codemirror_mode": {
    "name": "python",
    "version": 3
   },
   "file_extension": ".py",
   "mimetype": "text/x-python",
   "name": "python",
   "pygments_lexer": "python3",
   "version": "3"
  }
 },
 "nbformat": 4,
 "nbformat_minor": 5
}
