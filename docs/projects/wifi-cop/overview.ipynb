{
 "cells": [
  {
   "cell_type": "markdown",
   "id": "00cdce96-4d4f-474b-94cd-931a21462416",
   "metadata": {
    "tags": []
   },
   "source": [
    "# Overview\n",
    "\n",
    "These are the key components of the WiFi co-processor:\n",
    "\n",
    "* **Software on ESP32:** MicroPython. No need to reinvent the wheel. And it's guaranteed MicroPython compatible.\n",
    "* **Communication:** We'll use remote procedure calls (RPC) to invoke functions on the ESP32 (server) from the client.\n",
    "* **Data Encoding:** [MessagePack](https://msgpack.org/) is used to encode Python objects sent between the ESP32 and the target.\n",
    "* **Bus:** We use a [UART](https://en.wikipedia.org/wiki/Universal_asynchronous_receiver-transmitter) to send data between the processors. It's widely available on virtually all microcontrollers, requires only two wires, and is symmetrical: both endpoints can communicate at any time without complex handshaking. Most microcontrollers support baud rates up to and in excess of 1Mbps, sufficient for communication not to be the bottleneck in this application.\n",
    "\n",
    "The examples use an STM32 with an ESP32, specifically an [Adafruit STM32F40F Feather](https://www.adafruit.com/product/4382) and an [Adafruit HUZZAH32 – ESP32 Feather Board](https://www.adafruit.com/product/3405) stacked on top. I keep all connections except the 3V and LED outputs. Other board combinations work also, of course.\n",
    "\n",
    "Device configuration:"
   ]
  },
  {
   "cell_type": "code",
   "execution_count": null,
   "id": "bb5dd282-067e-49df-91a5-f89357838d9d",
   "metadata": {},
   "outputs": [],
   "source": [
    "%%writefile $IOT_PROJECTS/devices/wifi-cop.yaml\n",
    "\n",
    "wifi-server:  # esp32\n",
    "    uid: 30:ae:a4:30:80:14\n",
    "    path: wifi-cop/code\n",
    "    resources:\n",
    "        - secrets.py:\n",
    "            path: libs\n",
    "        - server\n",
    "\n",
    "wifi-client:  # stm32, ...\n",
    "    uid: 2d:00:49:00:09:50:52:42:4e:30:39:20\n",
    "    install-dir: /flash\n",
    "    path: wifi-cop/code\n",
    "    resources:\n",
    "        - secrets.py:\n",
    "            path: libs\n",
    "        - client"
   ]
  }
 ],
 "metadata": {
  "kernelspec": {
   "display_name": "IoT",
   "language": "python",
   "name": "iot_kernel"
  },
  "language_info": {
   "codemirror_mode": {
    "name": "python",
    "version": 3
   },
   "file_extension": ".py",
   "mimetype": "text/x-python",
   "name": "python",
   "pygments_lexer": "python3",
   "version": "3"
  }
 },
 "nbformat": 4,
 "nbformat_minor": 5
}
