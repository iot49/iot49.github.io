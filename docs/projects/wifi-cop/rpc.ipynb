{
 "cells": [
  {
   "cell_type": "markdown",
   "id": "3ea41e70-e452-4ad3-b58f-d74fd1628cfa",
   "metadata": {},
   "source": [
    "# RPC\n",
    "\n",
    "Identify appropriate UART interfaces on the server and client and wire up RX and TX. Do not forget to wire \"cross\", i.e. RX on one processor to TX on the other.\n",
    "\n",
    "Optionally also wire flow control (RTS and CTS). Doing so protects from data loss (and erratic behavior) with large packages that to not fit in the UART receive buffers."
   ]
  },
  {
   "cell_type": "markdown",
   "id": "c532f87c-7be2-47f9-aae0-be9b85f27cb3",
   "metadata": {},
   "source": [
    "## Configure Server"
   ]
  },
  {
   "cell_type": "code",
   "execution_count": 1,
   "id": "eaf5ee56-4af3-40f8-b47f-43aeece18c4e",
   "metadata": {},
   "outputs": [
    {
     "name": "stdout",
     "output_type": "stream",
     "text": [
      "\u001b[46m\u001b[30mConnected to wifi-server @ serial:///dev/ttyUSB0\u001b[0m\n",
      "\u001b[32mDirectories match\n",
      "\u001b[0m"
     ]
    }
   ],
   "source": [
    "%connect wifi-server\n",
    "%rsync"
   ]
  },
  {
   "cell_type": "code",
   "execution_count": 1,
   "id": "25d5191a-7bf7-4369-bfbc-1df708f3cfd9",
   "metadata": {},
   "outputs": [
    {
     "name": "stdout",
     "output_type": "stream",
     "text": [
      "\n",
      "\u001b[46m\u001b[31m!!!!!!!!!!!!!!!!!!!!!!!!!!!!!!!\u001b[0m\n",
      "\u001b[46m\u001b[31m!!!!!   hardreset ...     !!!!!\u001b[0m\n",
      "\u001b[46m\u001b[31m!!!!!!!!!!!!!!!!!!!!!!!!!!!!!!!\u001b[0m\n",
      "\n"
     ]
    }
   ],
   "source": [
    "# run boot.py & main.py\n",
    "%hardreset"
   ]
  },
  {
   "cell_type": "markdown",
   "id": "b6019045-3684-4f73-b1c5-d044ab1b9cf6",
   "metadata": {},
   "source": [
    "## Configure Client"
   ]
  },
  {
   "cell_type": "code",
   "execution_count": 1,
   "id": "54115cd5-0348-4254-8aae-ea8e955a0868",
   "metadata": {},
   "outputs": [
    {
     "name": "stdout",
     "output_type": "stream",
     "text": [
      "\u001b[46m\u001b[30mConnected to wifi-client @ serial:///dev/ttyACM0\u001b[0m\n",
      "\u001b[32mDirectories match\n",
      "\u001b[0m\n",
      "\u001b[46m\u001b[31m!!!!!!!!!!!!!!!!!!!!!!!!!!!!!!!\u001b[0m\n",
      "\u001b[46m\u001b[31m!!!!!   softreset ...     !!!!!\u001b[0m\n",
      "\u001b[46m\u001b[31m!!!!!!!!!!!!!!!!!!!!!!!!!!!!!!!\u001b[0m\n",
      "\n"
     ]
    }
   ],
   "source": [
    "%connect wifi-client\n",
    "%rsync\n",
    "%softreset"
   ]
  },
  {
   "cell_type": "markdown",
   "id": "789d2e44-bc89-46d0-8c6f-58efb3a87c9e",
   "metadata": {},
   "source": [
    "## RPC"
   ]
  },
  {
   "cell_type": "code",
   "execution_count": 1,
   "id": "fdfc57e6-7509-43c6-ac71-ba4bd5553c08",
   "metadata": {},
   "outputs": [
    {
     "name": "stdout",
     "output_type": "stream",
     "text": [
      "\u001b[46m\u001b[30mConnected to wifi-client @ serial:///dev/ttyACM0\u001b[0m\n",
      "Platforms:\n",
      "   host:    pyboard\n",
      "   server:  esp32\n"
     ]
    }
   ],
   "source": [
    "%connect wifi-client\n",
    "\n",
    "from urpc import *\n",
    "import sys\n",
    "sys_ = import_('sys')\n",
    "\n",
    "print(\"Platforms:\")\n",
    "print(\"   host:    {}\".format(sys.platform))\n",
    "print(\"   server:  {}\".format(sys_.get_('platform')))"
   ]
  },
  {
   "cell_type": "code",
   "execution_count": 1,
   "id": "d8a050ee-756a-44a5-922a-062f9565076a",
   "metadata": {},
   "outputs": [
    {
     "name": "stdout",
     "output_type": "stream",
     "text": [
      "class RPC_Test:\n",
      "\n",
      "    def __init__(self, name):\n",
      "        self._name = name\n",
      "\n",
      "    def add(self, a, b):\n",
      "        return \"{}: {} + {} = {}\".format(self._name, a, b, a+b)\n",
      "\n",
      "    @property\n",
      "    def name(self):\n",
      "        return self._name\n",
      "\n",
      "    def __str__(self):\n",
      "        return \"Demo {}\".format(self._name)\n",
      "\n"
     ]
    }
   ],
   "source": [
    "!cat code/server/rpc_test.py"
   ]
  },
  {
   "cell_type": "code",
   "execution_count": 1,
   "id": "ceac0314-d5e2-454d-a1e6-6dcf2ef3a967",
   "metadata": {},
   "outputs": [
    {
     "name": "stdout",
     "output_type": "stream",
     "text": [
      "ADD  rpc test: 5 + 7 = 12\n",
      "NAME rpc test\n",
      "STR  Demo rpc test\n",
      "\n",
      "change name ...\n",
      "ADD  new name: 3 + -9 = -6\n",
      "NAME new name\n",
      "STR  Demo new name\n"
     ]
    }
   ],
   "source": [
    "rpc_test = import_('rpc_test')\n",
    "\n",
    "t = rpc_test.RPC_Test(\"rpc test\")\n",
    "print(\"ADD \", t.add(5, 7))\n",
    "print(\"NAME\", t.get_('name'))\n",
    "print(\"STR \", t)\n",
    "\n",
    "print(\"\\nchange name ...\")\n",
    "t.set_('_name', 'new name')\n",
    "print(\"ADD \", t.add(3, -9))\n",
    "print(\"NAME\", t.get_('name'))\n",
    "print(\"STR \", t)"
   ]
  },
  {
   "cell_type": "code",
   "execution_count": 1,
   "id": "3bf5385b-e49c-4407-b3fa-c155cf831310",
   "metadata": {},
   "outputs": [
    {
     "name": "stdout",
     "output_type": "stream",
     "text": [
      "__main__          framebuf          uasyncio/lock     ure\n",
      "_boot             gc                uasyncio/stream   uselect\n",
      "_onewire          inisetup          ubinascii         usocket\n",
      "_thread           machine           ubluetooth        ussl\n",
      "_uasyncio         math              ucollections      ustruct\n",
      "_webrepl          micropython       ucryptolib        usys\n",
      "apa106            msgpack           uctypes           utime\n",
      "btree             neopixel          uerrno            utimeq\n",
      "builtins          network           uhashlib          uwebsocket\n",
      "cmath             ntptime           uheapq            uzlib\n",
      "dht               onewire           uio               webrepl\n",
      "ds18x20           uarray            ujson             webrepl_setup\n",
      "esp               uasyncio/__init__ uos               websocket_helper\n",
      "esp32             uasyncio/core     upip\n",
      "finaliserproxy    uasyncio/event    upip_utarfile\n",
      "flashbdev         uasyncio/funcs    urandom\n",
      "Plus any modules on the filesystem\n"
     ]
    }
   ],
   "source": [
    "from urpc import *\n",
    "\n",
    "builtins_ = import_('builtins')\n",
    "builtins_.exec(\n",
    "\"\"\"\n",
    "help('modules')\n",
    "\"\"\")"
   ]
  },
  {
   "cell_type": "code",
   "execution_count": 1,
   "id": "54a4bb34-16ea-4a99-8099-677d2d78059a",
   "metadata": {},
   "outputs": [
    {
     "name": "stdout",
     "output_type": "stream",
     "text": [
      "1) cop mem_free:  77824\n",
      "2) cop mem_free:  98688\n",
      "1) host mem_free: 22400\n",
      "2) host mem_free: 88256\n"
     ]
    }
   ],
   "source": [
    "gc_ = import_('gc')\n",
    "print(\"1) cop mem_free: \", gc_.mem_free())\n",
    "gc_.collect()\n",
    "print(\"2) cop mem_free: \", gc_.mem_free())\n",
    "\n",
    "import gc\n",
    "print(\"1) host mem_free:\", gc.mem_free())\n",
    "gc.collect()\n",
    "print(\"2) host mem_free:\", gc.mem_free())"
   ]
  }
 ],
 "metadata": {
  "kernelspec": {
   "display_name": "IoT",
   "language": "python",
   "name": "iot_kernel"
  },
  "language_info": {
   "codemirror_mode": {
    "name": "python",
    "version": 3
   },
   "file_extension": ".py",
   "mimetype": "text/x-python",
   "name": "python",
   "pygments_lexer": "python3",
   "version": "3"
  }
 },
 "nbformat": 4,
 "nbformat_minor": 5
}
