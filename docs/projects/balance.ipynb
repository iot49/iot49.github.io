{
 "cells": [
  {
   "cell_type": "markdown",
   "id": "4f8e1e5d-deda-4cb0-8ad0-b7f487f02c31",
   "metadata": {},
   "source": [
    "# GPIO\n",
    "\n",
    "This project explores microcontroller analog and digital input and output by building a \"kitchen scale\" - with Bluetooth LE. Check also the [MicroPython documentation](http://docs.micropython.org/en/latest/index.html) for all available I/O functions.\n",
    "\n",
    "\n",
    "```{figure} balance/figures/scale_weights.jpg\n",
    ":width: 350px\n",
    "\n",
    "The completed \"kitchen scale\"\n",
    "```\n",
    "\n",
    "Run the code in the next cell to download the code and instructions."
   ]
  },
  {
   "cell_type": "code",
   "execution_count": 1,
   "id": "af78af48-1b94-4ba3-90de-1f4ae8fe0309",
   "metadata": {
    "collapsed": true,
    "jupyter": {
     "outputs_hidden": true
    },
    "tags": [
     "hide-output"
    ]
   },
   "outputs": [
    {
     "name": "stdout",
     "output_type": "stream",
     "text": [
      "   C balance/app.ipynb\n",
      "   C balance/ble.ipynb\n",
      "   C balance/buttons.ipynb\n",
      "   C balance/circuit.ipynb\n",
      "   C balance/code.ipynb\n",
      "   C balance/code\n",
      "   A balance/code/lib\n",
      "   A balance/code/lib/ble_advertising.py\n",
      "   A balance/code/lib/ble_uart_peripheral.py\n",
      "   A balance/code/lib/button.py\n",
      "   A balance/code/lib/hx711.py\n",
      "   A balance/code/lib/scale.py\n",
      "   A balance/code/lib/scale_hx711.py\n",
      "   A balance/code/lib/ssd1306.py\n",
      "   A balance/code/main.py\n",
      "   C balance/display.ipynb\n",
      "   C balance/figures\n",
      "   A balance/figures/acrylic.svg\n",
      "   A balance/figures/bluefruit1.jpeg\n",
      "   A balance/figures/bluefruit2.jpeg\n",
      "   A balance/figures/bluefruit3.jpeg\n",
      "   A balance/figures/circuit_diagram.svg\n",
      "   A balance/figures/esp32_adc_vin.png\n",
      "   A balance/figures/full_diagram.svg\n",
      "   A balance/figures/huzzah32-pinout.png\n",
      "   A balance/figures/ina126.png\n",
      "   A balance/figures/load_cell.jpg\n",
      "   A balance/figures/scale.jpg\n",
      "   A balance/figures/scale_fat_strokes.svg\n",
      "   A balance/figures/scale_side.jpg\n",
      "   A balance/figures/scale_weights.jpg\n",
      "   A balance/figures/sparkfun_loadcell.png\n",
      "   C balance/hx711.ipynb\n",
      "   C balance/parts.ipynb\n",
      "   C balance/ticks.ipynb\n",
      "Checked out revision 110.\n"
     ]
    }
   ],
   "source": [
    "%%bash\n",
    "\n",
    "cd $IOT_PROJECTS\n",
    "svn checkout https://github.com/iot49/iot49.org/trunk/docs/projects/balance"
   ]
  },
  {
   "cell_type": "markdown",
   "id": "66d8bd34-d986-4919-9aa0-0fc391d0447e",
   "metadata": {},
   "source": [
    "Now the `projects/balance` folder contains the instructions. Open `01_parts.ipynb`. Unlike the online instructions, this file is \"live\", i.e. you can run the cells and make modifications."
   ]
  },
  {
   "cell_type": "code",
   "execution_count": null,
   "id": "229ff0c3-05cc-49c8-a81c-e89d44ac3f39",
   "metadata": {},
   "outputs": [],
   "source": []
  }
 ],
 "metadata": {
  "kernelspec": {
   "display_name": "IoT",
   "language": "python",
   "name": "iot_kernel"
  },
  "language_info": {
   "codemirror_mode": {
    "name": "python",
    "version": 3
   },
   "file_extension": ".py",
   "mimetype": "text/x-python",
   "name": "python",
   "pygments_lexer": "python3",
   "version": "3"
  }
 },
 "nbformat": 4,
 "nbformat_minor": 5
}
