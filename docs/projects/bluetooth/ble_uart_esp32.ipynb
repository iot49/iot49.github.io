{
 "cells": [
  {
   "cell_type": "markdown",
   "id": "cc9ee8df-f069-4f31-8776-88c18df9acce",
   "metadata": {},
   "source": [
    "# BLE UART - esp32\n",
    "\n",
    "The UART service simulates a serial connection (for short packets) over Bluetooth LE. Below is an example that advertises its name (`mpy-uart`). Once connected it sends out hello messages to the peer. Received messages are printed. After a disconnect, the program resumes advertising."
   ]
  },
  {
   "cell_type": "code",
   "execution_count": 1,
   "id": "5bf2db16-fc42-4ee3-9aaf-01eabd73ad5a",
   "metadata": {},
   "outputs": [
    {
     "name": "stdout",
     "output_type": "stream",
     "text": [
      "\u001b[46m\u001b[30mConnected to ble @ serial:///dev/ttyUSB0\u001b[0m\n",
      "\u001b[32mDirectories match\n",
      "\u001b[0m"
     ]
    }
   ],
   "source": [
    "%connect ble\n",
    "%rsync"
   ]
  },
  {
   "cell_type": "code",
   "execution_count": 1,
   "id": "5c74c0ca-6bc7-4ccb-ae63-b73b8a9247de",
   "metadata": {},
   "outputs": [],
   "source": [
    "import bluetooth\n",
    "import random\n",
    "import struct\n",
    "import time\n",
    "from ble_advertising import advertising_payload\n",
    "\n",
    "from micropython import const\n",
    "\n",
    "_IRQ_CENTRAL_CONNECT = const(1)\n",
    "_IRQ_CENTRAL_DISCONNECT = const(2)\n",
    "_IRQ_GATTS_WRITE = const(3)\n",
    "\n",
    "_FLAG_READ = const(0x0002)\n",
    "_FLAG_WRITE_NO_RESPONSE = const(0x0004)\n",
    "_FLAG_WRITE = const(0x0008)\n",
    "_FLAG_NOTIFY = const(0x0010)\n",
    "\n",
    "_UART_UUID = bluetooth.UUID(\"6E400001-B5A3-F393-E0A9-E50E24DCCA9E\")\n",
    "_UART_TX = (\n",
    "    bluetooth.UUID(\"6E400003-B5A3-F393-E0A9-E50E24DCCA9E\"),\n",
    "    _FLAG_READ | _FLAG_NOTIFY,\n",
    ")\n",
    "_UART_RX = (\n",
    "    bluetooth.UUID(\"6E400002-B5A3-F393-E0A9-E50E24DCCA9E\"),\n",
    "    _FLAG_WRITE | _FLAG_WRITE_NO_RESPONSE,\n",
    ")\n",
    "_UART_SERVICE = (\n",
    "    _UART_UUID,\n",
    "    (_UART_TX, _UART_RX),\n",
    ")\n",
    "\n",
    "# org.bluetooth.characteristic.gap.appearance.xml\n",
    "_ADV_APPEARANCE_GENERIC_COMPUTER = const(128)\n",
    "\n",
    "\n",
    "class BLE_UART:\n",
    "    \n",
    "    def __init__(self, rx_cb, central_name=\"mpy-uart\"):\n",
    "        self._ble = bluetooth.BLE()\n",
    "        self._ble.active(True)\n",
    "        self._ble.irq(self._irq)\n",
    "        ((self._handle_tx, self._handle_rx),) = self._ble.gatts_register_services((_UART_SERVICE,))\n",
    "        self._connections = set()\n",
    "        self._rx_cb = rx_cb\n",
    "        self._payload = advertising_payload(name=central_name, services=[_ADV_APPEARANCE_GENERIC_COMPUTER])\n",
    "        # Optionally add services=[_UART_UUID], but this is likely to make the payload too large.\n",
    "        # self._payload = advertising_payload(name=central_name, services=[_UART_UUID])\n",
    "        self._advertise()\n",
    "\n",
    "    def _irq(self, event, data):\n",
    "        # Track connections so we can send notifications.\n",
    "        if event == _IRQ_CENTRAL_CONNECT:\n",
    "            conn_handle, _, _ = data\n",
    "            self._connections.add(conn_handle)\n",
    "            print(\"Connected\")\n",
    "        elif event == _IRQ_CENTRAL_DISCONNECT:\n",
    "            conn_handle, _, _ = data\n",
    "            self._connections.remove(conn_handle)\n",
    "            # Start advertising again to allow a new connection.\n",
    "            print(\"Disconnected, restart advertising\")\n",
    "            self._advertise()\n",
    "        elif event == _IRQ_GATTS_WRITE:\n",
    "            conn_handle, value_handle = data\n",
    "            value = self._ble.gatts_read(value_handle)\n",
    "            if value_handle == self._handle_rx and self._rx_cb:\n",
    "                self._rx_cb(value)\n",
    "\n",
    "    def send(self, data):\n",
    "        for conn_handle in self._connections:\n",
    "            self._ble.gatts_notify(conn_handle, self._handle_tx, data)\n",
    "\n",
    "    def is_connected(self):\n",
    "        return len(self._connections) > 0\n",
    "\n",
    "    def _advertise(self, interval_us=500000):\n",
    "        print(\"Start advertising\")\n",
    "        try:\n",
    "            self._ble.gap_advertise(interval_us, adv_data=self._payload)\n",
    "        except OSError as e:\n",
    "            pass"
   ]
  },
  {
   "cell_type": "code",
   "execution_count": 1,
   "id": "0489c1da-4a74-4181-8ea7-878cbdbe7a41",
   "metadata": {},
   "outputs": [
    {
     "name": "stdout",
     "output_type": "stream",
     "text": [
      "Start advertising\n",
      "Connected\n",
      "esp32 received: echo hello # 1 from \n",
      "esp32 received: echo hello # 2 from \n",
      "esp32 received: echo hello # 3 from \n",
      "Disconnected, restart advertising\n",
      "Start advertising\n"
     ]
    },
    {
     "name": "stderr",
     "output_type": "stream",
     "text": [
      "Interrupted\u001b[0m\n"
     ]
    }
   ],
   "source": [
    "from time import sleep\n",
    "\n",
    "def rx_cb(data):\n",
    "    print(\"esp32 received:\", data.decode())\n",
    "\n",
    "uart = BLE_UART(rx_cb=rx_cb)\n",
    "\n",
    "n = 1\n",
    "while True:\n",
    "    if uart.is_connected():\n",
    "        uart.send(f\"hello # {n} from esp32\")\n",
    "        n += 1\n",
    "    sleep(1)\n",
    "    \n",
    "print(\"so long ...\")"
   ]
  },
  {
   "cell_type": "markdown",
   "id": "428eb5cd-7642-4a1e-9966-e41c5547866a",
   "metadata": {},
   "source": [
    "As a first check, verify operation with the [Bluefruit LE Connect app](https://learn.adafruit.com/bluefruit-le-connect).\n",
    "\n",
    "Evaluate the preceding cell to start advertising, open the app, and look for the ESP32. Click on this device to verify that the name matches (`mpy-uart`). \n",
    "\n",
    "Connect and choose the UART service. You will see the messages sent out by the ESP32. Send one back and verify that it appears (above).\n",
    "\n",
    "```{image} figures/bluefruit1.jpeg\n",
    ":width: 200px\n",
    "```\n",
    "```{image} figures/bluefruit2.jpeg\n",
    ":width: 200px\n",
    "```\n",
    "\n",
    "If your host is a Raspberry PI (or other device with a Bluetooth radio), you can also receive these messages on the host. Open the notebook for the UART host service and evaluate all the cells. Drag the notebook toolbar tab to the right, so that you can see both the host and ESP32 notebooks side-by-side.\n",
    "\n",
    "Make sure the ESP32 UART bluetooth service is running (above), then run the BLE_UART on host (cells below \"Receive messages from `mpy-uart`\"). \n",
    "\n",
    "Note that the BLE UART truncates messages longer than about 35 bytes - a BLE package length limitation. Break long messages up into short chunks."
   ]
  }
 ],
 "metadata": {
  "kernelspec": {
   "display_name": "IoT",
   "language": "python",
   "name": "iot_kernel"
  },
  "language_info": {
   "codemirror_mode": {
    "name": "python",
    "version": 3
   },
   "file_extension": ".py",
   "mimetype": "text/x-python",
   "name": "python",
   "pygments_lexer": "python3",
   "version": "3"
  }
 },
 "nbformat": 4,
 "nbformat_minor": 5
}
