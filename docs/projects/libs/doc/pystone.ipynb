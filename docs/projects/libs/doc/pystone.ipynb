{
 "cells": [
  {
   "cell_type": "markdown",
   "id": "ordinary-hawaiian",
   "metadata": {},
   "source": [
    "# Pystone"
   ]
  },
  {
   "cell_type": "code",
   "execution_count": 1,
   "id": "adapted-cycle",
   "metadata": {},
   "outputs": [
    {
     "name": "stdout",
     "output_type": "stream",
     "text": [
      "\u001b[0m\u001b[0mConnected to robot-stm @ serial:///dev/serial0\u001b[0m\n",
      "\u001b[0m\u001b[32mADD     /spi/lib/pystone.py\n",
      "\u001b[0m\u001b[0m"
     ]
    }
   ],
   "source": [
    "%register 'serial:///dev/serial0'\n",
    "%connect robot-stm\n",
    "\n",
    "%rsync"
   ]
  },
  {
   "cell_type": "code",
   "execution_count": 1,
   "id": "worst-cliff",
   "metadata": {},
   "outputs": [
    {
     "name": "stdout",
     "output_type": "stream",
     "text": [
      "Pystone(1.2) time for 100 passes = 0.056\n",
      "This machine benchmarks at 1785.71 pystones/second\n",
      "\u001b[0m"
     ]
    }
   ],
   "source": [
    "import pystone\n",
    "\n",
    "pystone.main(100)"
   ]
  },
  {
   "cell_type": "code",
   "execution_count": null,
   "id": "absolute-closer",
   "metadata": {},
   "outputs": [],
   "source": []
  }
 ],
 "metadata": {
  "kernelspec": {
   "display_name": "IoT",
   "language": "python",
   "name": "iot_kernel"
  },
  "language_info": {
   "codemirror_mode": {
    "name": "python",
    "version": 3
   },
   "file_extension": ".py",
   "mimetype": "text/x-python",
   "name": "python",
   "pygments_lexer": "python3",
   "version": "3"
  }
 },
 "nbformat": 4,
 "nbformat_minor": 5
}
