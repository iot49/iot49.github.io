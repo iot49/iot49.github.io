{
 "cells": [
  {
   "cell_type": "markdown",
   "id": "suffering-rochester",
   "metadata": {},
   "source": [
    "# Adafruit Blinka\n",
    "\n",
    "https://github.com/adafruit/Adafruit_Blinka"
   ]
  },
  {
   "cell_type": "code",
   "execution_count": 1,
   "id": "rising-pulse",
   "metadata": {},
   "outputs": [
    {
     "name": "stdout",
     "output_type": "stream",
     "text": [
      "\u001b[0m\u001b[0mConnected to robot-stm @ serial:///dev/serial0\u001b[0m\n",
      "\u001b[0m\u001b[32mDirectories match\n",
      "\u001b[0m\u001b[0m\u001b[0m\u001b[0m\n",
      "\u001b[46m\u001b[31m!!!!!!!!!!!!!!!!!!!!!!!!!!!!!!!\u001b[0m\n",
      "\u001b[46m\u001b[31m!!!!!   softreset ...     !!!!!\u001b[0m\n",
      "\u001b[46m\u001b[31m!!!!!!!!!!!!!!!!!!!!!!!!!!!!!!!\u001b[0m\n",
      "\u001b[0m\n"
     ]
    }
   ],
   "source": [
    "%register 'serial:///dev/serial0'\n",
    "%connect robot-stm\n",
    "%rsync\n",
    "%softreset"
   ]
  },
  {
   "cell_type": "code",
   "execution_count": 1,
   "id": "unique-adolescent",
   "metadata": {},
   "outputs": [
    {
     "name": "stdout",
     "output_type": "stream",
     "text": [
      "Temp    28\n",
      "Euler   (0.0, 0.0, 0.0)\n",
      "Gravity (0.0, 0.0, 0.0)\n",
      "\u001b[0mTemp    28\n",
      "Euler   (359.9375, -4.3125, -9.1875)\n",
      "Gravity (-0.74, 1.57, 9.65)\n",
      "\u001b[0mTemp    28\n",
      "Euler   (359.9375, -4.3125, -9.1875)\n",
      "Gravity (-0.74, 1.57, 9.65)\n",
      "\u001b[0mTemp    28\n",
      "Euler   (359.9375, -4.3125, -9.1875)\n",
      "Gravity (-0.74, 1.57, 9.65)\n",
      "\u001b[0m"
     ]
    }
   ],
   "source": [
    "from busio import I2C\n",
    "from adafruit_bno055 import BNO055_I2C\n",
    "import time\n",
    "\n",
    "i2c = I2C(None, None)\n",
    "bno = BNO055_I2C(i2c)\n",
    "\n",
    "for i in range(4):\n",
    "    print(\"Temp   \", bno.temperature)\n",
    "    print(\"Euler  \", bno.euler)\n",
    "    print(\"Gravity\", bno.gravity)\n",
    "    time.sleep(1)"
   ]
  },
  {
   "cell_type": "code",
   "execution_count": 1,
   "id": "unavailable-gentleman",
   "metadata": {},
   "outputs": [
    {
     "name": "stdout",
     "output_type": "stream",
     "text": [
      "Range:   1184 mm\n",
      "\u001b[0mRange:   1172 mm\n",
      "\u001b[0mRange:   1187 mm\n",
      "\u001b[0mRange:     94 mm\n",
      "\u001b[0mRange:     95 mm\n",
      "\u001b[0m"
     ]
    }
   ],
   "source": [
    "from busio import I2C\n",
    "from adafruit_vl53l0x import VL53L0X\n",
    "import time\n",
    "\n",
    "i2c = I2C(None, None)\n",
    "vl53 = VL53L0X(i2c)\n",
    "\n",
    "for i in range(5):\n",
    "    print(\"Range: {:6} mm\".format(vl53.range))\n",
    "    time.sleep(1)\n"
   ]
  },
  {
   "cell_type": "code",
   "execution_count": 1,
   "id": "latest-impossible",
   "metadata": {},
   "outputs": [
    {
     "name": "stdout",
     "output_type": "stream",
     "text": [
      "\n",
      "Temperature = 26.8 C\n",
      "Gas      = 110963 ohm\n",
      "Humidity = 23.4 %\n",
      "Pressure = 780.535 hPa\n",
      "Altitude = 2147.52 meters\n",
      "\u001b[0m\n",
      "Temperature = 26.8 C\n",
      "Gas      = 54873 ohm\n",
      "Humidity = 23.4 %\n",
      "Pressure = 780.536 hPa\n",
      "Altitude = 2147.51 meters\n",
      "\u001b[0m\n",
      "Temperature = 26.8 C\n",
      "Gas      = 59010 ohm\n",
      "Humidity = 23.4 %\n",
      "Pressure = 780.533 hPa\n",
      "Altitude = 2147.54 meters\n",
      "\u001b[0m\n",
      "Temperature = 26.8 C\n",
      "Gas      = 60921 ohm\n",
      "Humidity = 23.4 %\n",
      "Pressure = 780.526 hPa\n",
      "Altitude = 2147.61 meters\n",
      "\u001b[0m"
     ]
    }
   ],
   "source": [
    "import adafruit_bme680, time\n",
    "from busio import I2C\n",
    "i2c = I2C(None, None)\n",
    "\n",
    "bme680 = adafruit_bme680.Adafruit_BME680_I2C(i2c, address=0x76)\n",
    "\n",
    "# change this to match the location's pressure (hPa) at sea level\n",
    "bme680.sea_level_pressure = 1013.25\n",
    "\n",
    "for i in range(4):\n",
    "    print(\"\\nTemperature = %0.1f C\" % bme680.temperature)\n",
    "    print(\"Gas      = %d ohm\" % bme680.gas)\n",
    "    print(\"Humidity = %0.1f %%\" % bme680.relative_humidity)\n",
    "    print(\"Pressure = %0.3f hPa\" % bme680.pressure)\n",
    "    print(\"Altitude = %0.2f meters\" % bme680.altitude)\n",
    "    time.sleep(1)"
   ]
  },
  {
   "cell_type": "code",
   "execution_count": null,
   "id": "metropolitan-feature",
   "metadata": {},
   "outputs": [],
   "source": []
  }
 ],
 "metadata": {
  "kernelspec": {
   "display_name": "IoT",
   "language": "python",
   "name": "iot_kernel"
  },
  "language_info": {
   "codemirror_mode": {
    "name": "python",
    "version": 3
   },
   "file_extension": ".py",
   "mimetype": "text/x-python",
   "name": "python",
   "pygments_lexer": "python3",
   "version": "3"
  }
 },
 "nbformat": 4,
 "nbformat_minor": 5
}
