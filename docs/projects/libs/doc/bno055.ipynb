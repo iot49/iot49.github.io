{
 "cells": [
  {
   "cell_type": "markdown",
   "id": "moved-given",
   "metadata": {},
   "source": [
    "# BNO055"
   ]
  },
  {
   "cell_type": "code",
   "execution_count": 1,
   "id": "junior-apparatus",
   "metadata": {},
   "outputs": [
    {
     "name": "stdout",
     "output_type": "stream",
     "text": [
      "\u001b[0m\u001b[0mConnected to robot-stm @ serial:///dev/serial0\u001b[0m\n",
      "\u001b[0m\u001b[32mDirectories match\n",
      "\u001b[0m\u001b[0m"
     ]
    }
   ],
   "source": [
    "%register 'serial:///dev/serial0'\n",
    "%connect robot-stm\n",
    "\n",
    "%rsync"
   ]
  },
  {
   "cell_type": "code",
   "execution_count": 1,
   "id": "short-marine",
   "metadata": {},
   "outputs": [
    {
     "name": "stdout",
     "output_type": "stream",
     "text": [
      "\u001b[0m\u001b[0m\n",
      "\u001b[46m\u001b[31m!!!!!!!!!!!!!!!!!!!!!!!!!!!!!!!\u001b[0m\n",
      "\u001b[46m\u001b[31m!!!!!   softreset ...     !!!!!\u001b[0m\n",
      "\u001b[46m\u001b[31m!!!!!!!!!!!!!!!!!!!!!!!!!!!!!!!\u001b[0m\n",
      "\u001b[0m\n",
      "acceleration (-0.74, 1.57, 9.679999)\n",
      "rate         (0.0625, -0.0625, -0.125)\n",
      "euler        (0.0, 0.0, 0.0)\n",
      "quaternion   (1.0, 0.0, 0.0, 0.0)\n",
      "\u001b[0m\n",
      "acceleration (-0.73, 1.56, 9.79)\n",
      "rate         (-0.0625, -0.1875, 0.0625)\n",
      "euler        (0.0, -4.3125, -9.1875)\n",
      "quaternion   (0.9960938, 0.07995605, 0.0378418, 0.0)\n",
      "\u001b[0m\n",
      "acceleration (-0.74, 1.55, 9.559999)\n",
      "rate         (0.0, 0.0, 0.0)\n",
      "euler        (0.0, -4.3125, -9.1875)\n",
      "quaternion   (0.9960938, 0.07995605, 0.0378418, 0.0)\n",
      "\u001b[0m\n",
      "acceleration (-0.72, 1.57, 9.61)\n",
      "rate         (-0.0625, 0.0, 0.0625)\n",
      "euler        (0.0, -4.3125, -9.1875)\n",
      "quaternion   (0.9960938, 0.07995605, 0.0378418, 0.0)\n",
      "\u001b[0m\n",
      "\u001b[0macceleration (-0.75, 1.55, 9.7)\n",
      "rate         (0.0, 0.0, 0.0625)\n",
      "euler        (0.0, -4.3125, -9.1875)\n",
      "quaternion   (0.9960938, 0.07995605, 0.0378418, 0.0)\n",
      "\u001b[0m\n",
      "\u001b[0m"
     ]
    }
   ],
   "source": [
    "%softreset\n",
    "\n",
    "import time\n",
    "from machine import I2C as I2C\n",
    "from bno055 import BNO055\n",
    "\n",
    "i2c = I2C(1, freq=400_000)\n",
    "\n",
    "imu = BNO055(i2c)\n",
    "\n",
    "# otherwise first result is all zeros ...\n",
    "time.sleep(0.1)\n",
    "\n",
    "for i in range(5):\n",
    "    print(\"acceleration\", imu.accel())\n",
    "    print(\"rate        \", imu.gyro())\n",
    "    print(\"euler       \", imu.euler())\n",
    "    print(\"quaternion  \", imu.quaternion())\n",
    "    time.sleep(1)\n",
    "    print()"
   ]
  },
  {
   "cell_type": "code",
   "execution_count": null,
   "id": "unexpected-claim",
   "metadata": {},
   "outputs": [],
   "source": []
  }
 ],
 "metadata": {
  "kernelspec": {
   "display_name": "IoT",
   "language": "python",
   "name": "iot_kernel"
  },
  "language_info": {
   "codemirror_mode": {
    "name": "python",
    "version": 3
   },
   "file_extension": ".py",
   "mimetype": "text/x-python",
   "name": "python",
   "pygments_lexer": "python3",
   "version": "3"
  }
 },
 "nbformat": 4,
 "nbformat_minor": 5
}
