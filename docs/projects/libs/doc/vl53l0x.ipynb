{
 "cells": [
  {
   "cell_type": "markdown",
   "id": "thick-youth",
   "metadata": {},
   "source": [
    "# VLX53L0X\n",
    "\n",
    "https://github.com/uceeatz/VL53L0X\n",
    "\n",
    "![VLX53X](figures/vl53x.png)"
   ]
  },
  {
   "cell_type": "code",
   "execution_count": 1,
   "id": "sapphire-bailey",
   "metadata": {},
   "outputs": [
    {
     "name": "stdout",
     "output_type": "stream",
     "text": [
      "\u001b[0m\u001b[0mConnected to robot-stm @ serial:///dev/serial0\u001b[0m\n",
      "\u001b[0m\u001b[31mDELETE  /spi/lib/busio.py\n",
      "\u001b[0m\u001b[0m\u001b[31mDELETE  /spi/lib/adafruit_vl53l0x.py\n",
      "\u001b[0m\u001b[0m\u001b[31mDELETE  /spi/lib/adafruit_register/i2c_struct_array.py\n",
      "\u001b[0m\u001b[0m\u001b[31mDELETE  /spi/lib/adafruit_register/i2c_struct.py\n",
      "\u001b[0m\u001b[0m\u001b[31mDELETE  /spi/lib/adafruit_register/i2c_bits.py\n",
      "\u001b[0m\u001b[0m\u001b[31mDELETE  /spi/lib/adafruit_register/i2c_bit.py\n",
      "\u001b[0m\u001b[0m\u001b[31mDELETE  /spi/lib/adafruit_register/i2c_bcd_datetime.py\n",
      "\u001b[0m\u001b[0m\u001b[31mDELETE  /spi/lib/adafruit_register/i2c_bcd_alarm.py\n",
      "\u001b[0m\u001b[0m\u001b[31mDELETE  /spi/lib/adafruit_register/__init__.py\n",
      "\u001b[0m\u001b[0m\u001b[31mDELETE  /spi/lib/adafruit_register\n",
      "\u001b[0m\u001b[0m\u001b[31mDELETE  /spi/lib/adafruit_bus_device/spi_device.py\n",
      "\u001b[0m\u001b[0m\u001b[31mDELETE  /spi/lib/adafruit_bus_device/i2c_device.py\n",
      "\u001b[0m\u001b[0m\u001b[31mDELETE  /spi/lib/adafruit_bus_device/__init__.py\n",
      "\u001b[0m\u001b[0m\u001b[31mDELETE  /spi/lib/adafruit_bus_device\n",
      "\u001b[0m\u001b[0m\u001b[31mDELETE  /spi/lib/adafruit_bno055.py\n",
      "\u001b[0m\u001b[0m\u001b[31mDELETE  /spi/lib/adafruit_bme680.py\n",
      "\u001b[0m\u001b[0m\u001b[31mDELETE  /spi/lib/adafruit_blinka/__init__.py\n",
      "\u001b[0m\u001b[0m\u001b[31mDELETE  /spi/lib/adafruit_blinka\n",
      "\u001b[0m\u001b[0m\u001b[32mADD     /spi/lib/vl53l0x.py\n",
      "\u001b[0m\u001b[0m\u001b[0m                            \u001b[32mflash/\u001b[0m\n",
      "\u001b[0m    372  Mar 18 19:27 2021      \u001b[34mboot.py\u001b[0m\n",
      "\u001b[0m                                \u001b[32mlib/\u001b[0m\n",
      "\u001b[0m   6644  Mar 19 13:29 2021          \u001b[34mbdevice.py\u001b[0m\n",
      "\u001b[0m   6731  Mar 19 13:29 2021          \u001b[34mflash_spi.py\u001b[0m\n",
      "\u001b[0m                            \u001b[32mspi/\u001b[0m\n",
      "\u001b[0m                                \u001b[32mlib/\u001b[0m\n",
      "\u001b[0m   6491  Mar 19 13:48 2021          \u001b[34mbno055.py\u001b[0m\n",
      "\u001b[0m   5598  Mar 19 13:48 2021          \u001b[34mbno055_base.py\u001b[0m\n",
      "\u001b[0m   1078  Mar 19 13:48 2021          \u001b[34mbno055_test.py\u001b[0m\n",
      "\u001b[0m   2073  Mar 19 13:48 2021          \u001b[34mencoder.py\u001b[0m\n",
      "\u001b[0m    244  Mar 19 13:48 2021          \u001b[34minit_urpc_client.py\u001b[0m\n",
      "\u001b[0m   2094  Mar 19 13:48 2021          \u001b[34mlogging.py\u001b[0m\n",
      "\u001b[0m   1174  Mar 19 13:48 2021          \u001b[34mneopixel.py\u001b[0m\n",
      "\u001b[0m   1091  Mar 19 13:48 2021          \u001b[34mtb6612.py\u001b[0m\n",
      "\u001b[0m  22299  Mar 19 17:04 2021          \u001b[34mvl53l0x.py\u001b[0m\n",
      "\u001b[0m    317  Mar 19 13:48 2021      \u001b[34msecrets.py\u001b[0m\n",
      "\u001b[0m"
     ]
    }
   ],
   "source": [
    "%register 'serial:///dev/serial0'\n",
    "%connect robot-stm\n",
    "\n",
    "%rsync\n",
    "%rlist"
   ]
  },
  {
   "cell_type": "code",
   "execution_count": 1,
   "id": "awful-endorsement",
   "metadata": {},
   "outputs": [
    {
     "name": "stdout",
     "output_type": "stream",
     "text": [
      "\u001b[0m\u001b[0m\n",
      "\u001b[46m\u001b[31m!!!!!!!!!!!!!!!!!!!!!!!!!!!!!!!\u001b[0m\n",
      "\u001b[46m\u001b[31m!!!!!   softreset ...     !!!!!\u001b[0m\n",
      "\u001b[46m\u001b[31m!!!!!!!!!!!!!!!!!!!!!!!!!!!!!!!\u001b[0m\n",
      "\u001b[0m\n",
      "distance:   1212 mm\n",
      "\u001b[0mdistance:   1180 mm\n",
      "\u001b[0mdistance:   1184 mm\n",
      "\u001b[0mdistance:   1197 mm\n",
      "\u001b[0mdistance:   1179 mm\n",
      "\u001b[0mdistance:     78 mm\n",
      "\u001b[0mdistance:     76 mm\n",
      "\u001b[0mdistance:     79 mm\n",
      "\u001b[0mdistance:     80 mm\n",
      "\u001b[0mdistance:     84 mm\n",
      "\u001b[0mdistance:     86 mm\n",
      "\u001b[0mdistance:     95 mm\n",
      "\u001b[0mdistance:   1165 mm\n",
      "\u001b[0mdistance:   1171 mm\n",
      "\u001b[0mdistance:   1165 mm\n",
      "\u001b[0mdistance:   1170 mm\n",
      "\u001b[0mdistance:   1158 mm\n",
      "\u001b[0mdistance:   1178 mm\n",
      "\u001b[0mdistance:   1192 mm\n",
      "\u001b[0mdistance:   1162 mm\n",
      "\u001b[0m"
     ]
    }
   ],
   "source": [
    "%softreset\n",
    "\n",
    "from machine import I2C\n",
    "from vl53l0x import VL53L0X\n",
    "import time\n",
    "\n",
    "i2c = I2C(1)\n",
    "\n",
    "# Create a VL53L0X object\n",
    "\n",
    "tof = VL53L0X(i2c)\n",
    "tof.set_Vcsel_pulse_period(tof.vcsel_period_type[0], 18)\n",
    "tof.set_Vcsel_pulse_period(tof.vcsel_period_type[1], 14)\n",
    "\n",
    "for i in range(20):\n",
    "    # Start ranging\n",
    "    tof.start()\n",
    "    tof.read()\n",
    "    print(\"distance: {:6} mm\".format(tof.read()))\n",
    "    tof.stop()\n",
    "    time.sleep(0.5)"
   ]
  },
  {
   "cell_type": "code",
   "execution_count": null,
   "id": "adopted-protocol",
   "metadata": {},
   "outputs": [],
   "source": []
  }
 ],
 "metadata": {
  "kernelspec": {
   "display_name": "IoT",
   "language": "python",
   "name": "iot_kernel"
  },
  "language_info": {
   "codemirror_mode": {
    "name": "python",
    "version": 3
   },
   "file_extension": ".py",
   "mimetype": "text/x-python",
   "name": "python",
   "pygments_lexer": "python3",
   "version": "3"
  }
 },
 "nbformat": 4,
 "nbformat_minor": 5
}
