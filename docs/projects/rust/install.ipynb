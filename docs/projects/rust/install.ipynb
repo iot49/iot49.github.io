{
 "cells": [
  {
   "cell_type": "markdown",
   "id": "a8281343-df17-4fc5-9f06-742f5fb45af0",
   "metadata": {},
   "source": [
    "# Install Rust\n",
    "\n",
    "## Compiler"
   ]
  },
  {
   "cell_type": "code",
   "execution_count": null,
   "id": "5c3e631c-1d8d-414f-a4e7-d6f008238740",
   "metadata": {},
   "outputs": [],
   "source": [
    "%%bash\n",
    "\n",
    "curl --proto '=https' --tlsv1.2 -sSf https://sh.rustup.rs | sh"
   ]
  },
  {
   "cell_type": "markdown",
   "id": "19531a6e-bd31-42ef-a698-2d5d08fc5df9",
   "metadata": {},
   "source": [
    "Verify"
   ]
  },
  {
   "cell_type": "code",
   "execution_count": 1,
   "id": "39683236-d5d2-4bfc-856a-ecfc73350247",
   "metadata": {},
   "outputs": [
    {
     "name": "stdout",
     "output_type": "stream",
     "text": [
      "rustc 1.57.0 (f1edd0429 2021-11-29)\n",
      "cargo 1.57.0 (b2e52d7ca 2021-10-21)\n",
      "rustup 1.24.3 (ce5817a94 2021-05-31)\n",
      "info: This is the version for the rustup toolchain manager, not the rustc compiler.\n",
      "info: The currently active `rustc` version is `rustc 1.57.0 (f1edd0429 2021-11-29)`\n"
     ]
    }
   ],
   "source": [
    "%%bash \n",
    "\n",
    "rustc --version\n",
    "cargo --version\n",
    "rustup --version"
   ]
  },
  {
   "cell_type": "markdown",
   "id": "76b47930-a47b-44e8-8e03-644574756b39",
   "metadata": {},
   "source": [
    "## Rust Jupyter Kernel"
   ]
  },
  {
   "cell_type": "code",
   "execution_count": null,
   "id": "8fab02ea-6bc1-4a29-9e86-0e7d5cd8314c",
   "metadata": {},
   "outputs": [],
   "source": [
    "%%bash\n",
    "\n",
    "# https://github.com/google/evcxr/blob/main/evcxr_jupyter/README.md\n",
    "cargo install evcxr_jupyter\n",
    "evcxr_jupyter --install\n",
    "\n",
    "# make sure the kernel finds the rust tools ... (since the path is not setup when Jupyter starts)\n",
    "sudo ln -s ~/.cargo/bin/cargo /usr/local/bin/cargo"
   ]
  },
  {
   "cell_type": "markdown",
   "id": "86937468-e46d-4d7b-a6a0-51182aa586dd",
   "metadata": {},
   "source": [
    "Now the kernel is available from the Launcher. A restart of the micropython service may be needed."
   ]
  },
  {
   "cell_type": "code",
   "execution_count": null,
   "id": "b8e068d9-cea0-4884-9ec9-2eed792ca466",
   "metadata": {},
   "outputs": [],
   "source": []
  }
 ],
 "metadata": {
  "kernelspec": {
   "display_name": "IoT",
   "language": "python",
   "name": "iot_kernel"
  },
  "language_info": {
   "codemirror_mode": {
    "name": "python",
    "version": 3
   },
   "file_extension": ".py",
   "mimetype": "text/x-python",
   "name": "python",
   "pygments_lexer": "python3",
   "version": "3"
  }
 },
 "nbformat": 4,
 "nbformat_minor": 5
}
