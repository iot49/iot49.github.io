{
 "cells": [
  {
   "cell_type": "markdown",
   "id": "def06b87-d432-4370-aa44-2aca8b8c447b",
   "metadata": {},
   "source": [
    "# Customize *ide49*\n",
    "\n",
    "*ide49* is a [docker](https://www.docker.com) application served by the [balena cloud](https://www.balena.io/cloud/), a version of docker customized for devices with low resources (compared to [datacenters](https://hub.docker.com/bundles/docker-datacenter), a primary target of docker).\n",
    "\n",
    "*ide49* is completely customizable: you can alter, add, and remove services-right from within *ide49*.\n",
    "\n",
    "Clone [*ide49*](https://github.com/iot49/ide49):"
   ]
  },
  {
   "cell_type": "code",
   "execution_count": null,
   "id": "6d4fced3-1003-4804-83d1-26356d5f137c",
   "metadata": {},
   "outputs": [],
   "source": [
    "%%bash\n",
    "\n",
    "git clone https://github.com/iot49/ide49.git"
   ]
  },
  {
   "cell_type": "markdown",
   "id": "3a1c295f-702e-4685-9e51-c43e2b144299",
   "metadata": {},
   "source": [
    "Go to the cloned folder and make desired changes. \n",
    "\n",
    "Now connect to the Balena CLI at https://iot49.local/balena-cli and open a terminal to run the statements below. Replace `APP_NAME` with the name of the app (fleet) on balena-cloud you want to update. \n",
    "\n",
    "```bash\n",
    "balena login\n",
    "balena push APP_NAME\n",
    "```\n",
    "\n",
    "Enter your credentials when asked. \n",
    "\n",
    "You may want to create a separate application for experimenting to avoid getting locked out of *ide49* in case of errors.\n",
    "\n",
    "Check the online documentation for [docker](https://docs.docker.com/) and [balena](https://www.balena.io/docs) for further information."
   ]
  },
  {
   "cell_type": "code",
   "execution_count": null,
   "id": "7275a412-4e26-4075-8fa2-7de256d6047f",
   "metadata": {},
   "outputs": [],
   "source": []
  }
 ],
 "metadata": {
  "kernelspec": {
   "display_name": "Python 3 (ipykernel)",
   "language": "python",
   "name": "python3"
  },
  "language_info": {
   "codemirror_mode": {
    "name": "ipython",
    "version": 3
   },
   "file_extension": ".py",
   "mimetype": "text/x-python",
   "name": "python",
   "nbconvert_exporter": "python",
   "pygments_lexer": "ipython3",
   "version": "3.9.7"
  }
 },
 "nbformat": 4,
 "nbformat_minor": 5
}
