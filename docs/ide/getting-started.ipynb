{
 "cells": [
  {
   "cell_type": "markdown",
   "id": "0e33c8ca-f5c6-49fb-a30a-92097f449e92",
   "metadata": {},
   "source": [
    "# Getting Started\n",
    "\n",
    "Point your browser to http://iot49.org to load a list of available tools and a short description. Click on the icon to activate a particular tool.\n",
    "\n",
    "```{figure} figures/ide49_landing.png\n",
    ":width: 300px\n",
    "\n",
    "*iot49* homepage\n",
    "```\n",
    "\n",
    "We'll start with a demonstration of MicroPython programming with *ide49*. Click the MicroPython icon (the black \"M\"). You will get a warning similar to:\n",
    "\n",
    "```{figure} figures/browser_warning.png\n",
    ":width: 350px\n",
    "\n",
    "Browser warning about self-signed certificate\n",
    "```\n",
    "\n",
    "The warning is a bit misleading. It simply means that while all traffic is encrypted the certificate used for authentication is not signed by an official authority and hence the browser cannot vouch for its validity. The page [https & certificates](config/https) has more information and explains how to tell the browser about the certificate and eliminate the warning.\n",
    "\n",
    "Click \"Advanced\" and then \"proceed anyway\". \n",
    "\n",
    "At the login window, enter the default username and password (both *iot49*; [instructions for changing](config/password.ipynb)). \n",
    "\n",
    "```{figure} figures/jupyter.png\n",
    ":width: 450px\n",
    "\n",
    "Jupyterlab with IoT Kernel for MicroPython programming\n",
    "```\n",
    "\n",
    "What you see is a \"standard\" [*Jupyter Lab*](https://jupyter.org/) environment. *Jupyter* is a versatile environment for programming with Python (and other languages). The left pane is a file browser. The main window shows available tool. Under the `Notebook` heading, `Python 3 (ipykernel)` is for programming on the host while `IoT` is used for MicroPython. Under `Other`, `Terminal` is a bash console, and can be used for example to access the MicroPython REPL. The other icons are for creating new files of various types. Peruse online documentation and tutorials for more information about *Jupyter Lab*.\n",
    "\n",
    "## MicroPython Kernel\n",
    "\n",
    "Click on the `IoT` icon (the one under `Notebook`, not `Console`) to create a new notebook. Connect a microcontroller running MicroPython to an USB port on your computer. \n",
    "\n",
    "Before we can evaluate code on the microcontroller, we need to connect it to the notebook. Use the `%discover` magic (Jupyter kernels use special directives beginning with `%`) to find the port to which it is connected. Then press `shift-enter` to evaluate."
   ]
  },
  {
   "cell_type": "code",
   "execution_count": 2,
   "id": "00d85b8c-85b1-4aa1-8c9e-bb90b4650d4a",
   "metadata": {
    "tags": [
     "remove-cell"
    ]
   },
   "outputs": [],
   "source": [
    "!rm $IOT_PROJECTS/devices/pico.yaml"
   ]
  },
  {
   "cell_type": "code",
   "execution_count": 2,
   "id": "bd924020-9243-42d9-8c73-2de97b8335b3",
   "metadata": {},
   "outputs": [
    {
     "name": "stdout",
     "output_type": "stream",
     "text": [
      "50:02:91:a1:a7:2c  serial:///dev/ttyUSB0  \n"
     ]
    }
   ],
   "source": [
    "%discover"
   ]
  },
  {
   "cell_type": "markdown",
   "id": "0b1cf45e-8655-477c-a0b2-6f2cf61061d8",
   "metadata": {},
   "source": [
    "Apparently the microcontroller is connected to `/dev/ttyUSB0`. The hex string `50:02:91:a1:a7:2c` is a identifier (UID) of the device. It's unique, that is it will differ for your microcontroller (MicroPython instruction `machine.unique_id()`). The `IoT Kernel` uses these id's to unambiguously distinguish between devices. This avoid confusion if you have several.\n",
    "\n",
    "Now connect to this microcontroller using another magic (update the id in the statement below to match your device):"
   ]
  },
  {
   "cell_type": "code",
   "execution_count": 2,
   "id": "8a5e192c-12b5-421a-bea1-109bd742808b",
   "metadata": {},
   "outputs": [
    {
     "name": "stdout",
     "output_type": "stream",
     "text": [
      "\u001b[46m\u001b[30mConnected to 50:02:91:a1:a7:2c @ serial:///dev/ttyUSB0\u001b[0m\n"
     ]
    }
   ],
   "source": [
    "%connect 50:02:91:a1:a7:2c"
   ]
  },
  {
   "cell_type": "markdown",
   "id": "141b2e15-ebdb-4497-9be3-63eaca9517ff",
   "metadata": {},
   "source": [
    "Now we can run Python code:"
   ]
  },
  {
   "cell_type": "code",
   "execution_count": 2,
   "id": "b9845fb9-b3d4-436a-9308-9eb7b7491423",
   "metadata": {},
   "outputs": [
    {
     "name": "stdout",
     "output_type": "stream",
     "text": [
      "Hi from MicroPython, 2**16 = 65536\n",
      "platform = esp32\n"
     ]
    }
   ],
   "source": [
    "print(\"Hi from MicroPython, 2**16 =\", 2**16)\n",
    "\n",
    "import sys\n",
    "print(\"platform =\", sys.platform)"
   ]
  },
  {
   "cell_type": "markdown",
   "id": "d5e97c5d-86d9-4404-94b4-7371f07a0e4a",
   "metadata": {},
   "source": [
    "Platform `esp32` is a pretty strong indicator that we are indeed executing on the microcontroller and not on the host.\n",
    "\n",
    "Actually, let's try to evaluate this code on the host. For this we use another magic, `%%host`."
   ]
  },
  {
   "cell_type": "code",
   "execution_count": 2,
   "id": "3791f88a-2b15-423a-bb48-24a6ebdb53f1",
   "metadata": {},
   "outputs": [
    {
     "name": "stdout",
     "output_type": "stream",
     "text": [
      "platform = linux\n"
     ]
    }
   ],
   "source": [
    "%%host\n",
    "\n",
    "import sys\n",
    "print(\"platform =\", sys.platform)"
   ]
  },
  {
   "cell_type": "markdown",
   "id": "75033831-f59e-4df2-99af-2634cf3e695e",
   "metadata": {},
   "source": [
    "## Naming devices\n",
    "\n",
    "The string `50:02:91:a1:a7:2c` is great for computers. But just as we prefer to call friends by their names rather than social security number, it sure would be nice if we could refer to our devices by meaningful names.\n",
    "\n",
    "Fortunately it is easy to associate the device with a \"name\", by saving this information to a file in folder `$IOT_PROJECTS/devices`. The `%%writefile` magic does this for us:"
   ]
  },
  {
   "cell_type": "code",
   "execution_count": 3,
   "id": "07f042bf-6c0b-48e4-95fc-3970b1ec98b2",
   "metadata": {
    "tags": [
     "remove-output"
    ]
   },
   "outputs": [
    {
     "name": "stdout",
     "output_type": "stream",
     "text": [
      "Writing /home/iot/iot49.org/docs/projects/devices/pico.yaml\n"
     ]
    }
   ],
   "source": [
    "%%writefile $IOT_PROJECTS/devices/pico.yaml\n",
    "pico:\n",
    "    uid: 50:02:91:a1:a7:2c"
   ]
  },
  {
   "cell_type": "markdown",
   "id": "602f4f28-e744-4ed9-92b8-ab03d6c87b11",
   "metadata": {},
   "source": [
    "Again, you'll need to change the hex string to match your device. `pico` is the name of my microcontroller, chose a different one if you like. The file name, `pico.yaml` is of no importance, except that it must have extension `yaml` and be located in `$IOT_PROJECTS/devices/` to be found.\n",
    "\n",
    "Avoid creating multiple declarations for the same UID, or giving the same name to different microcontrollers.\n",
    "\n",
    "We also could have used an editor to write the file. Find the file in the file browser and click on it. This will open it in the editor.\n",
    "\n",
    "Now we can refer to our microcontroller by it's name:"
   ]
  },
  {
   "cell_type": "code",
   "execution_count": 3,
   "id": "614d87b0-1ead-46a1-8dfd-d68a1aab3c8b",
   "metadata": {},
   "outputs": [
    {
     "name": "stdout",
     "output_type": "stream",
     "text": [
      "\u001b[46m\u001b[30mConnected to pico @ serial:///dev/ttyUSB0\u001b[0m\n",
      "   0^20 =                    0\n",
      "   1^20 =                    1\n",
      "   2^20 =              1048576\n",
      "   3^20 =           3486784401\n",
      "   4^20 =        1099511627776\n"
     ]
    }
   ],
   "source": [
    "%connect pico\n",
    "\n",
    "for i in range(5):\n",
    "    print(\"{:4d}^20 = {:20d}\".format(i, i**20))"
   ]
  },
  {
   "cell_type": "markdown",
   "id": "13282eac-5151-4487-93fd-60f960951b7e",
   "metadata": {},
   "source": [
    "## Interrupting Long Computations\n",
    "\n",
    "To stop a running program, choose Kernel->Interrupt Kernel from the menu bar or click the little square in the toolbar."
   ]
  },
  {
   "cell_type": "code",
   "execution_count": 3,
   "id": "fb4ea319-dbcc-4fd6-8560-f72d7594fce7",
   "metadata": {},
   "outputs": [
    {
     "name": "stdout",
     "output_type": "stream",
     "text": [
      "This is going to take a loooong time. Better to stop execution now!\n",
      "........................."
     ]
    },
    {
     "name": "stderr",
     "output_type": "stream",
     "text": [
      "Interrupted\u001b[0m\n"
     ]
    }
   ],
   "source": [
    "import time\n",
    "\n",
    "print(\"This is going to take a loooong time. Better to stop execution now!\")\n",
    "for i in range(1e9):\n",
    "    time.sleep(0.1)\n",
    "    print('.', end='')"
   ]
  },
  {
   "cell_type": "markdown",
   "id": "f2f6bb99-dc32-4aae-ab9c-5a62c22d3238",
   "metadata": {},
   "source": [
    "## Shutdown and Restart\n",
    "\n",
    "If you want to power off your device, don't just pull the power cord. Although BalenaOS takes many precautions to avoid corruption of the flash memory (e.g. SD Card), bad things can happen. Also do not use cheap no-brand or ultra-high capacity SD Cards, those are prone to failure.\n",
    "\n",
    "To safely shut down, execute this code:"
   ]
  },
  {
   "cell_type": "code",
   "execution_count": null,
   "id": "90167cac-980b-49eb-b9c2-a2260e94baf5",
   "metadata": {},
   "outputs": [],
   "source": [
    "!curl -X POST --header \"Content-Type:application/json\" \\\n",
    "    \"$BALENA_SUPERVISOR_ADDRESS/v1/shutdown?apikey=$BALENA_SUPERVISOR_API_KEY\""
   ]
  },
  {
   "cell_type": "markdown",
   "id": "09ef29e8-be60-46fe-b1ca-26ac4558df94",
   "metadata": {},
   "source": [
    "Now you can remove power. Depending on the device, reapplying power may be sufficient to boot back up, but you may also need to press a button.\n",
    "\n",
    "This instruction restarts the device:"
   ]
  },
  {
   "cell_type": "code",
   "execution_count": null,
   "id": "e650e9e9-a4a9-4b18-af09-3f54c86f564d",
   "metadata": {},
   "outputs": [],
   "source": [
    "!curl -X POST --header \"Content-Type:application/json\" \\\n",
    "    \"$BALENA_SUPERVISOR_ADDRESS/v1/reboot?apikey=$BALENA_SUPERVISOR_API_KEY\""
   ]
  },
  {
   "cell_type": "markdown",
   "id": "626966e6-b0fc-40c9-b637-a86abbf237e1",
   "metadata": {},
   "source": [
    "You do this for example after making changes to the device configuration."
   ]
  },
  {
   "cell_type": "markdown",
   "id": "1fe9875e-467d-4c19-a9de-dd1e681e0d25",
   "metadata": {},
   "source": [
    "## Next Steps\n",
    "\n",
    "The documentation has many examples of programming with `ide49`, as well as instructions for configuring the IDE (e.g. changing the password). You will also find examples for flashing new MicroPython binaries to your microcontrollers and compiling (custom) versions if MicroPython - all right from within *ide49*. For the adventurous there is even a section on the *ide49* docker app, and how to modify it.\n",
    "\n",
    "If you run into problems or find a bug (never), head over to the section `Issues` in the documentation.\n",
    "\n",
    "Happy coding!"
   ]
  },
  {
   "cell_type": "code",
   "execution_count": null,
   "id": "84fe17e3-5267-4b56-9edf-951f2ba8d0c0",
   "metadata": {},
   "outputs": [],
   "source": []
  }
 ],
 "metadata": {
  "kernelspec": {
   "display_name": "IoT",
   "language": "python",
   "name": "iot_kernel"
  },
  "language_info": {
   "codemirror_mode": {
    "name": "python",
    "version": 3
   },
   "file_extension": ".py",
   "mimetype": "text/x-python",
   "name": "python",
   "pygments_lexer": "python3",
   "version": "3"
  }
 },
 "nbformat": 4,
 "nbformat_minor": 5
}
