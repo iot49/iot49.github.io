{
 "cells": [
  {
   "cell_type": "markdown",
   "id": "b4d4403f-6acf-4e3e-ae9b-4f66b468a4ae",
   "metadata": {},
   "source": [
    "# Magics\n",
    "\n",
    "The IoT Kernel is derived from the \"standard\" IPython kernel in Jupyter. Normally, code entered into a cell is sent to the currently connected microcontroller for execution. The IoT kernel also processes magics. These differ from those in the IPython kernel.\n",
    "\n",
    "If a cell stars with `%%host`, all content is instead sent to the IPython kernel: code is evaluated by the Python interpreter on the host (the device on which the Jupyter server is running). Likewise, magics that follow `%%host` are handled by IPython rather than the IoT Kernel.\n",
    "\n",
    "## IPython Kernel\n",
    "\n",
    "The Jupyter Python kernel is provided by [IPython](https://ipython.org/). It [extends the Python syntax](https://ipython.readthedocs.io/en/stable/interactive/python-ipython-diff.html) with additional features e.g. to interact with the Linux shell, to profile and debug Python code, and run code written in different languages such as Javascript. These extensions are accessed through [magics](https://ipython.readthedocs.io/en/stable/interactive/magics.html), commands preceeded by one or two percent signs.\n",
    "\n",
    "With the IoT Kernel these features are available in cells marked with the `%%host` magic.\n",
    "\n",
    "For example:"
   ]
  },
  {
   "cell_type": "code",
   "execution_count": 1,
   "id": "2c0d60d2-b6c8-462c-82d6-06e23d2e0769",
   "metadata": {
    "tags": [
     "hide-output"
    ]
   },
   "outputs": [
    {
     "data": {
      "application/json": {
       "cell": {
        "!": "OSMagics",
        "HTML": "Other",
        "SVG": "Other",
        "bash": "Other",
        "capture": "ExecutionMagics",
        "debug": "ExecutionMagics",
        "file": "Other",
        "html": "DisplayMagics",
        "javascript": "DisplayMagics",
        "js": "DisplayMagics",
        "latex": "DisplayMagics",
        "markdown": "DisplayMagics",
        "perl": "Other",
        "prun": "ExecutionMagics",
        "pypy": "Other",
        "python": "Other",
        "python2": "Other",
        "python3": "Other",
        "ruby": "Other",
        "script": "ScriptMagics",
        "sh": "Other",
        "svg": "DisplayMagics",
        "sx": "OSMagics",
        "system": "OSMagics",
        "time": "ExecutionMagics",
        "timeit": "ExecutionMagics",
        "writefile": "OSMagics"
       },
       "line": {
        "alias": "OSMagics",
        "alias_magic": "BasicMagics",
        "autoawait": "AsyncMagics",
        "autocall": "AutoMagics",
        "automagic": "AutoMagics",
        "autosave": "KernelMagics",
        "bookmark": "OSMagics",
        "cat": "Other",
        "cd": "OSMagics",
        "clear": "KernelMagics",
        "colors": "BasicMagics",
        "conda": "PackagingMagics",
        "config": "ConfigMagics",
        "connect_info": "KernelMagics",
        "cp": "Other",
        "debug": "ExecutionMagics",
        "dhist": "OSMagics",
        "dirs": "OSMagics",
        "doctest_mode": "BasicMagics",
        "ed": "Other",
        "edit": "KernelMagics",
        "env": "OSMagics",
        "gui": "BasicMagics",
        "hist": "Other",
        "history": "HistoryMagics",
        "killbgscripts": "ScriptMagics",
        "ldir": "Other",
        "less": "KernelMagics",
        "lf": "Other",
        "lk": "Other",
        "ll": "Other",
        "load": "CodeMagics",
        "load_ext": "ExtensionMagics",
        "loadpy": "CodeMagics",
        "logoff": "LoggingMagics",
        "logon": "LoggingMagics",
        "logstart": "LoggingMagics",
        "logstate": "LoggingMagics",
        "logstop": "LoggingMagics",
        "ls": "Other",
        "lsmagic": "BasicMagics",
        "lx": "Other",
        "macro": "ExecutionMagics",
        "magic": "BasicMagics",
        "man": "KernelMagics",
        "matplotlib": "PylabMagics",
        "mkdir": "Other",
        "more": "KernelMagics",
        "mv": "Other",
        "notebook": "BasicMagics",
        "page": "BasicMagics",
        "pastebin": "CodeMagics",
        "pdb": "ExecutionMagics",
        "pdef": "NamespaceMagics",
        "pdoc": "NamespaceMagics",
        "pfile": "NamespaceMagics",
        "pinfo": "NamespaceMagics",
        "pinfo2": "NamespaceMagics",
        "pip": "PackagingMagics",
        "popd": "OSMagics",
        "pprint": "BasicMagics",
        "precision": "BasicMagics",
        "prun": "ExecutionMagics",
        "psearch": "NamespaceMagics",
        "psource": "NamespaceMagics",
        "pushd": "OSMagics",
        "pwd": "OSMagics",
        "pycat": "OSMagics",
        "pylab": "PylabMagics",
        "qtconsole": "KernelMagics",
        "quickref": "BasicMagics",
        "recall": "HistoryMagics",
        "rehashx": "OSMagics",
        "reload_ext": "ExtensionMagics",
        "rep": "Other",
        "rerun": "HistoryMagics",
        "reset": "NamespaceMagics",
        "reset_selective": "NamespaceMagics",
        "rm": "Other",
        "rmdir": "Other",
        "run": "ExecutionMagics",
        "save": "CodeMagics",
        "sc": "OSMagics",
        "set_env": "OSMagics",
        "store": "StoreMagics",
        "sx": "OSMagics",
        "system": "OSMagics",
        "tb": "ExecutionMagics",
        "time": "ExecutionMagics",
        "timeit": "ExecutionMagics",
        "unalias": "OSMagics",
        "unload_ext": "ExtensionMagics",
        "who": "NamespaceMagics",
        "who_ls": "NamespaceMagics",
        "whos": "NamespaceMagics",
        "xdel": "NamespaceMagics",
        "xmode": "BasicMagics"
       }
      },
      "text/plain": [
       "Available line magics:\n",
       "%alias  %alias_magic  %autoawait  %autocall  %automagic  %autosave  %bookmark  %cat  %cd  %clear  %colors  %conda  %config  %connect_info  %cp  %debug  %dhist  %dirs  %doctest_mode  %ed  %edit  %env  %gui  %hist  %history  %killbgscripts  %ldir  %less  %lf  %lk  %ll  %load  %load_ext  %loadpy  %logoff  %logon  %logstart  %logstate  %logstop  %ls  %lsmagic  %lx  %macro  %magic  %man  %matplotlib  %mkdir  %more  %mv  %notebook  %page  %pastebin  %pdb  %pdef  %pdoc  %pfile  %pinfo  %pinfo2  %pip  %popd  %pprint  %precision  %prun  %psearch  %psource  %pushd  %pwd  %pycat  %pylab  %qtconsole  %quickref  %recall  %rehashx  %reload_ext  %rep  %rerun  %reset  %reset_selective  %rm  %rmdir  %run  %save  %sc  %set_env  %store  %sx  %system  %tb  %time  %timeit  %unalias  %unload_ext  %who  %who_ls  %whos  %xdel  %xmode\n",
       "\n",
       "Available cell magics:\n",
       "%%!  %%HTML  %%SVG  %%bash  %%capture  %%debug  %%file  %%html  %%javascript  %%js  %%latex  %%markdown  %%perl  %%prun  %%pypy  %%python  %%python2  %%python3  %%ruby  %%script  %%sh  %%svg  %%sx  %%system  %%time  %%timeit  %%writefile\n",
       "\n",
       "Automagic is ON, % prefix IS NOT needed for line magics."
      ]
     },
     "execution_count": 1,
     "metadata": {},
     "output_type": "execute_result"
    }
   ],
   "source": [
    "%%host\n",
    "\n",
    "%lsmagic"
   ]
  },
  {
   "cell_type": "code",
   "execution_count": 1,
   "id": "002e8c11-ec2d-4ce3-a379-319d8346861f",
   "metadata": {},
   "outputs": [
    {
     "name": "stdout",
     "output_type": "stream",
     "text": [
      "10.5 µs ± 11.9 ns per loop (mean ± std. dev. of 7 runs, 100000 loops each)\n"
     ]
    }
   ],
   "source": [
    "%%host\n",
    "\n",
    "%%timeit\n",
    "\n",
    "a = 0\n",
    "for i in range(10):\n",
    "    a += i**i"
   ]
  },
  {
   "cell_type": "markdown",
   "id": "179bad60-22ee-4cad-bc6f-4d38ddc094b3",
   "metadata": {},
   "source": [
    "IPython magics have a number of features for exchanging data with Python. These are available only in `%%host` cell magic sections.\n",
    "\n",
    "### Shell to Python\n",
    "\n",
    "To pass shell outputs to Python use"
   ]
  },
  {
   "cell_type": "code",
   "execution_count": 2,
   "id": "4b238341-00ef-4b08-b38f-d4c3743803e1",
   "metadata": {},
   "outputs": [
    {
     "name": "stdout",
     "output_type": "stream",
     "text": [
      "['bin', 'ide49', 'iot-device', 'iot-kernel', 'iot49-dev', 'iot49.org', 'micropython', 'scratch']\n"
     ]
    }
   ],
   "source": [
    "%%host\n",
    "\n",
    "folder = !ls\n",
    "print(folder)"
   ]
  },
  {
   "cell_type": "markdown",
   "id": "77d4c893-3465-4c9d-91b5-a0ca83580f0e",
   "metadata": {},
   "source": [
    "With `%%bash` use the following syntax:"
   ]
  },
  {
   "cell_type": "code",
   "execution_count": 6,
   "id": "5019e456-2ce1-4a34-8f24-56fe23129d9f",
   "metadata": {},
   "outputs": [],
   "source": [
    "%%host\n",
    "%%bash --out output --err error\n",
    "echo -n \"hi, stdout\"\n",
    "echo -n \"hello, stderr\" >&2"
   ]
  },
  {
   "cell_type": "code",
   "execution_count": 7,
   "id": "e4a3c226-aeb9-4b71-9fd4-aaa1ddc81bdb",
   "metadata": {},
   "outputs": [
    {
     "name": "stdout",
     "output_type": "stream",
     "text": [
      "out = hi, stdout & err = hello, stderr\n"
     ]
    }
   ],
   "source": [
    "%%host\n",
    "print(f\"out = {output} & err = {error}\")"
   ]
  },
  {
   "cell_type": "markdown",
   "id": "02147b15-eb19-4f46-9460-f0c31aebe474",
   "metadata": {},
   "source": [
    "### Python to shell\n",
    "\n",
    "It is also possible to pass the values of python variables to the shell:"
   ]
  },
  {
   "cell_type": "code",
   "execution_count": 5,
   "id": "9ebbc025-be19-4fb4-8dc4-caf9f0039795",
   "metadata": {},
   "outputs": [
    {
     "name": "stdout",
     "output_type": "stream",
     "text": [
      "I got this from Python: Automatically created module for IPython interactive environment\n"
     ]
    }
   ],
   "source": [
    "%%host\n",
    "%%bash -s \"{__doc__}\"\n",
    "echo I got this from Python: $1"
   ]
  },
  {
   "cell_type": "code",
   "execution_count": 41,
   "id": "c365599a-8a8a-470c-8778-5fdebe23cb79",
   "metadata": {
    "collapsed": true,
    "jupyter": {
     "outputs_hidden": true
    },
    "tags": [
     "hide-output"
    ]
   },
   "outputs": [
    {
     "data": {
      "text/plain": [
       "\u001b[0;31mDocstring:\u001b[0m\n",
       "Time execution of a Python statement or expression\n",
       "\n",
       "Usage, in line mode:\n",
       "  %timeit [-n<N> -r<R> [-t|-c] -q -p<P> -o] statement\n",
       "or in cell mode:\n",
       "  %%timeit [-n<N> -r<R> [-t|-c] -q -p<P> -o] setup_code\n",
       "  code\n",
       "  code...\n",
       "\n",
       "Time execution of a Python statement or expression using the timeit\n",
       "module.  This function can be used both as a line and cell magic:\n",
       "\n",
       "- In line mode you can time a single-line statement (though multiple\n",
       "  ones can be chained with using semicolons).\n",
       "\n",
       "- In cell mode, the statement in the first line is used as setup code\n",
       "  (executed but not timed) and the body of the cell is timed.  The cell\n",
       "  body has access to any variables created in the setup code.\n",
       "\n",
       "Options:\n",
       "-n<N>: execute the given statement <N> times in a loop. If <N> is not\n",
       "provided, <N> is determined so as to get sufficient accuracy.\n",
       "\n",
       "-r<R>: number of repeats <R>, each consisting of <N> loops, and take the\n",
       "best result.\n",
       "Default: 7\n",
       "\n",
       "-t: use time.time to measure the time, which is the default on Unix.\n",
       "This function measures wall time.\n",
       "\n",
       "-c: use time.clock to measure the time, which is the default on\n",
       "Windows and measures wall time. On Unix, resource.getrusage is used\n",
       "instead and returns the CPU user time.\n",
       "\n",
       "-p<P>: use a precision of <P> digits to display the timing result.\n",
       "Default: 3\n",
       "\n",
       "-q: Quiet, do not print result.\n",
       "\n",
       "-o: return a TimeitResult that can be stored in a variable to inspect\n",
       "    the result in more details.\n",
       "\n",
       ".. versionchanged:: 7.3\n",
       "    User variables are no longer expanded,\n",
       "    the magic line is always left unmodified.\n",
       "\n",
       "Examples\n",
       "--------\n",
       "::\n",
       "\n",
       "  In [1]: %timeit pass\n",
       "  8.26 ns ± 0.12 ns per loop (mean ± std. dev. of 7 runs, 100000000 loops each)\n",
       "\n",
       "  In [2]: u = None\n",
       "\n",
       "  In [3]: %timeit u is None\n",
       "  29.9 ns ± 0.643 ns per loop (mean ± std. dev. of 7 runs, 10000000 loops each)\n",
       "\n",
       "  In [4]: %timeit -r 4 u == None\n",
       "\n",
       "  In [5]: import time\n",
       "\n",
       "  In [6]: %timeit -n1 time.sleep(2)\n",
       "\n",
       "\n",
       "The times reported by %timeit will be slightly higher than those\n",
       "reported by the timeit.py script when variables are accessed. This is\n",
       "due to the fact that %timeit executes the statement in the namespace\n",
       "of the shell, compared with timeit.py, which uses a single setup\n",
       "statement to import function or create variables. Generally, the bias\n",
       "does not matter as long as results from timeit.py are not mixed with\n",
       "those from %timeit.\n",
       "\u001b[0;31mFile:\u001b[0m      /usr/local/lib/python3.8/site-packages/IPython/core/magics/execution.py\n"
      ]
     },
     "metadata": {},
     "output_type": "display_data"
    }
   ],
   "source": [
    "%%host\n",
    "%%timeit?"
   ]
  },
  {
   "cell_type": "markdown",
   "id": "b9336e63-c124-42b2-aa1d-ee8f2638eb80",
   "metadata": {},
   "source": [
    "### Help"
   ]
  },
  {
   "cell_type": "code",
   "execution_count": 8,
   "id": "19741015-4329-4135-9326-e5cee89edd86",
   "metadata": {
    "collapsed": true,
    "jupyter": {
     "outputs_hidden": true
    },
    "tags": [
     "hide-output"
    ]
   },
   "outputs": [
    {
     "data": {
      "text/plain": [
       "\u001b[0;31mDocstring:\u001b[0m\n",
       "Define an alias for a system command.\n",
       "\n",
       "'%alias alias_name cmd' defines 'alias_name' as an alias for 'cmd'\n",
       "\n",
       "Then, typing 'alias_name params' will execute the system command 'cmd\n",
       "params' (from your underlying operating system).\n",
       "\n",
       "Aliases have lower precedence than magic functions and Python normal\n",
       "variables, so if 'foo' is both a Python variable and an alias, the\n",
       "alias can not be executed until 'del foo' removes the Python variable.\n",
       "\n",
       "You can use the %l specifier in an alias definition to represent the\n",
       "whole line when the alias is called.  For example::\n",
       "\n",
       "  In [2]: alias bracket echo \"Input in brackets: <%l>\"\n",
       "  In [3]: bracket hello world\n",
       "  Input in brackets: <hello world>\n",
       "\n",
       "You can also define aliases with parameters using %s specifiers (one\n",
       "per parameter)::\n",
       "\n",
       "  In [1]: alias parts echo first %s second %s\n",
       "  In [2]: %parts A B\n",
       "  first A second B\n",
       "  In [3]: %parts A\n",
       "  Incorrect number of arguments: 2 expected.\n",
       "  parts is an alias to: 'echo first %s second %s'\n",
       "\n",
       "Note that %l and %s are mutually exclusive.  You can only use one or\n",
       "the other in your aliases.\n",
       "\n",
       "Aliases expand Python variables just like system calls using ! or !!\n",
       "do: all expressions prefixed with '$' get expanded.  For details of\n",
       "the semantic rules, see PEP-215:\n",
       "http://www.python.org/peps/pep-0215.html.  This is the library used by\n",
       "IPython for variable expansion.  If you want to access a true shell\n",
       "variable, an extra $ is necessary to prevent its expansion by\n",
       "IPython::\n",
       "\n",
       "  In [6]: alias show echo\n",
       "  In [7]: PATH='A Python string'\n",
       "  In [8]: show $PATH\n",
       "  A Python string\n",
       "  In [9]: show $$PATH\n",
       "  /usr/local/lf9560/bin:/usr/local/intel/compiler70/ia32/bin:...\n",
       "\n",
       "You can use the alias facility to access all of $PATH.  See the %rehashx\n",
       "function, which automatically creates aliases for the contents of your\n",
       "$PATH.\n",
       "\n",
       "If called with no parameters, %alias prints the current alias table\n",
       "for your system.  For posix systems, the default aliases are 'cat',\n",
       "'cp', 'mv', 'rm', 'rmdir', and 'mkdir', and other platform-specific\n",
       "aliases are added.  For windows-based systems, the default aliases are\n",
       "'copy', 'ddir', 'echo', 'ls', 'ldir', 'mkdir', 'ren', and 'rmdir'.\n",
       "\n",
       "You can see the definition of alias by adding a question mark in the\n",
       "end::\n",
       "\n",
       "  In [1]: cat?\n",
       "  Repr: <alias cat for 'cat'>\n",
       "\u001b[0;31mFile:\u001b[0m      /usr/local/lib/python3.8/site-packages/IPython/core/magics/osm.py\n"
      ]
     },
     "metadata": {},
     "output_type": "display_data"
    }
   ],
   "source": [
    "%%host\n",
    "\n",
    "%alias?"
   ]
  },
  {
   "cell_type": "code",
   "execution_count": 12,
   "id": "7323a03d-9b54-47f6-9afa-c28c0c1c9efa",
   "metadata": {
    "tags": [
     "hide-output"
    ]
   },
   "outputs": [
    {
     "data": {
      "text/plain": [
       "\u001b[0;31mType:\u001b[0m        module\n",
       "\u001b[0;31mString form:\u001b[0m <module 'sys' (built-in)>\n",
       "\u001b[0;31mDocstring:\u001b[0m  \n",
       "This module provides access to some objects used or maintained by the\n",
       "interpreter and to functions that interact strongly with the interpreter.\n",
       "\n",
       "Dynamic objects:\n",
       "\n",
       "argv -- command line arguments; argv[0] is the script pathname if known\n",
       "path -- module search path; path[0] is the script directory, else ''\n",
       "modules -- dictionary of loaded modules\n",
       "\n",
       "displayhook -- called to show results in an interactive session\n",
       "excepthook -- called to handle any uncaught exception other than SystemExit\n",
       "  To customize printing in an interactive session or to install a custom\n",
       "  top-level exception handler, assign other functions to replace these.\n",
       "\n",
       "stdin -- standard input file object; used by input()\n",
       "stdout -- standard output file object; used by print()\n",
       "stderr -- standard error object; used for error messages\n",
       "  By assigning other file objects (or objects that behave like files)\n",
       "  to these, it is possible to redirect all of the interpreter's I/O.\n",
       "\n",
       "last_type -- type of last uncaught exception\n",
       "last_value -- value of last uncaught exception\n",
       "last_traceback -- traceback of last uncaught exception\n",
       "  These three are only available in an interactive session after a\n",
       "  traceback has been printed.\n",
       "\n",
       "Static objects:\n",
       "\n",
       "builtin_module_names -- tuple of module names built into this interpreter\n",
       "copyright -- copyright notice pertaining to this interpreter\n",
       "exec_prefix -- prefix used to find the machine-specific Python library\n",
       "executable -- absolute path of the executable binary of the Python interpreter\n",
       "float_info -- a named tuple with information about the float implementation.\n",
       "float_repr_style -- string indicating the style of repr() output for floats\n",
       "hash_info -- a named tuple with information about the hash algorithm.\n",
       "hexversion -- version information encoded as a single integer\n",
       "implementation -- Python implementation information.\n",
       "int_info -- a named tuple with information about the int implementation.\n",
       "maxsize -- the largest supported length of containers.\n",
       "maxunicode -- the value of the largest Unicode code point\n",
       "platform -- platform identifier\n",
       "prefix -- prefix used to find the Python library\n",
       "thread_info -- a named tuple with information about the thread implementation.\n",
       "version -- the version of this interpreter as a string\n",
       "version_info -- version information as a named tuple\n",
       "__stdin__ -- the original stdin; don't touch!\n",
       "__stdout__ -- the original stdout; don't touch!\n",
       "__stderr__ -- the original stderr; don't touch!\n",
       "__displayhook__ -- the original displayhook; don't touch!\n",
       "__excepthook__ -- the original excepthook; don't touch!\n",
       "\n",
       "Functions:\n",
       "\n",
       "displayhook() -- print an object to the screen, and save it in builtins._\n",
       "excepthook() -- print an exception and its traceback to sys.stderr\n",
       "exc_info() -- return thread-safe information about the current exception\n",
       "exit() -- exit the interpreter by raising SystemExit\n",
       "getdlopenflags() -- returns flags to be used for dlopen() calls\n",
       "getprofile() -- get the global profiling function\n",
       "getrefcount() -- return the reference count for an object (plus one :-)\n",
       "getrecursionlimit() -- return the max recursion depth for the interpreter\n",
       "getsizeof() -- return the size of an object in bytes\n",
       "gettrace() -- get the global debug tracing function\n",
       "setcheckinterval() -- control how often the interpreter checks for events\n",
       "setdlopenflags() -- set the flags to be used for dlopen() calls\n",
       "setprofile() -- set the global profiling function\n",
       "setrecursionlimit() -- set the max recursion depth for the interpreter\n",
       "settrace() -- set the global debug tracing function\n"
      ]
     },
     "metadata": {},
     "output_type": "display_data"
    }
   ],
   "source": [
    "%%host\n",
    "\n",
    "import sys\n",
    "\n",
    "sys?"
   ]
  },
  {
   "cell_type": "code",
   "execution_count": 21,
   "id": "7781e2dc-b92c-4456-82c9-f1d3d7270f41",
   "metadata": {
    "tags": []
   },
   "outputs": [
    {
     "data": {
      "text/plain": [
       "get_ipython\n",
       "getattr"
      ]
     },
     "metadata": {},
     "output_type": "display_data"
    }
   ],
   "source": [
    "%%host\n",
    "\n",
    "*get*?"
   ]
  },
  {
   "cell_type": "code",
   "execution_count": 15,
   "id": "8eb70c4b-e778-4d23-9f08-9780675259e9",
   "metadata": {
    "tags": [
     "hide-output"
    ]
   },
   "outputs": [
    {
     "data": {
      "text/plain": [
       "\u001b[0;31mDocstring:\u001b[0m\n",
       "getattr(object, name[, default]) -> value\n",
       "\n",
       "Get a named attribute from an object; getattr(x, 'y') is equivalent to x.y.\n",
       "When a default argument is given, it is returned when the attribute doesn't\n",
       "exist; without it, an exception is raised in that case.\n",
       "\u001b[0;31mType:\u001b[0m      builtin_function_or_method\n"
      ]
     },
     "metadata": {},
     "output_type": "display_data"
    }
   ],
   "source": [
    "%%host\n",
    "\n",
    "getattr?"
   ]
  },
  {
   "cell_type": "markdown",
   "id": "975298fb-a291-4b6f-b7a2-14286f21eadb",
   "metadata": {},
   "source": [
    "Consult the [IPython documentation](https://ipython.readthedocs.io/en/stable/) for additional information."
   ]
  },
  {
   "cell_type": "markdown",
   "id": "646f4816-1b42-4bdb-bbec-9d91dd322b8b",
   "metadata": {},
   "source": [
    "## IoT Kernel\n",
    "\n",
    "Cells that do not begin with `%%host` are handled by the IoT kernel. Code is sent to the currently connected microcontroller for evaluation, or, if no controller is connected, the kernel tries to connect to the last device the notebook was connected to.\n",
    "\n",
    "The IoT Kernel implements its own set of magics and rules for using them. Although there is overlap, the `%%bash` cell magic for example is available both in the IoT and the IPython kernel, in general they are different. \n",
    "\n",
    "`%lsmagic` is also available in both kernels and return a different set of magics. Running magics from the \"wrong\" kernel results in errors: "
   ]
  },
  {
   "cell_type": "code",
   "execution_count": 43,
   "id": "d584fed1-912e-4727-8d3b-6af61866d11e",
   "metadata": {},
   "outputs": [
    {
     "name": "stdout",
     "output_type": "stream",
     "text": [
      "40.5 ns ± 0.145 ns per loop (mean ± std. dev. of 7 runs, 10000000 loops each)\n"
     ]
    },
    {
     "name": "stderr",
     "output_type": "stream",
     "text": [
      "UsageError: Line magic function `%discover` not found.\n"
     ]
    }
   ],
   "source": [
    "%%host\n",
    "%timeit 2**32\n",
    "%discover"
   ]
  },
  {
   "cell_type": "code",
   "execution_count": 4,
   "id": "b6383257-c6db-4785-ae53-886228d91729",
   "metadata": {},
   "outputs": [
    {
     "name": "stdout",
     "output_type": "stream",
     "text": [
      "pico  serial:///dev/ttyUSB0  \n"
     ]
    },
    {
     "name": "stderr",
     "output_type": "stream",
     "text": [
      "Line magic timeit not defined\u001b[0m\n"
     ]
    }
   ],
   "source": [
    "%discover\n",
    "%timeit 2**32"
   ]
  },
  {
   "cell_type": "markdown",
   "id": "777d9642-d233-43e3-93e3-a25b9ebbfd90",
   "metadata": {},
   "source": [
    "The descriptions below apply to magics in the *IoT Kernel*."
   ]
  },
  {
   "cell_type": "markdown",
   "id": "985f020d-8d95-4c32-812d-2293215ba418",
   "metadata": {},
   "source": [
    "### `%lsmagic`\n",
    "\n",
    "Shows a brief synopsis of all magics available in the IoT Kernel:"
   ]
  },
  {
   "cell_type": "code",
   "execution_count": 20,
   "id": "7846c386-33cf-402f-ae4e-cd0500209c25",
   "metadata": {},
   "outputs": [
    {
     "name": "stdout",
     "output_type": "stream",
     "text": [
      "Line Magic:    -h shows help (e.g. %discover -h)\n",
      "  %cat         Output contents of file stored on microcontroller\n",
      "  %cd          Change current working directory on host\n",
      "  %connect     Connect to device by name, uid, or url\n",
      "  %cp          Copy files between host and microcontroller\n",
      "  %discover    Discover available devices\n",
      "  %gettime     Query microcontroller time\n",
      "  %info        Summary about connected device\n",
      "  %loglevel    Set logging level.\n",
      "  %lsmagic     List all magic functions\n",
      "  %mkdirs      Create all directories on the microcontroller, as needed (similar to Linux mkdir -p)\n",
      "  %name        Name of currently connected microcontroller\n",
      "  %pip         Install packages from PyPi\n",
      "  %platform    sys.platform of currently connected device\n",
      "  %rdiff       Show differences between microcontroller and host directories\n",
      "  %register    Register device\n",
      "  %rlist       List files on microcontroller\n",
      "  %rm          Remove files on microcontroller\n",
      "  %rsync       Synchronize microcontroller to host directories\n",
      "  %softreset   Reset microcontroller. Similar to pressing the reset button.\n",
      "  %store       Copy variables between microcontroller and storage\n",
      "  %synctime    Synchronize microcontroller time to host\n",
      "  %uid         UID of currently connected microcontroller\n",
      "  %unregister  Unregister device\n",
      "  %upip        Install MicroPython packages\n",
      "  %url         URL of currently connected microcontroller\n",
      "  !            Pass line to bash shell for evaluation\n",
      "\n",
      "Cell Magic:    -h shows help (e.g. %%connect -h)\n",
      "  %%bash       Pass cell to bash shell for evaluation\n",
      "  %%connect    Generalization of %connect to run code on several devices sequentially\n",
      "  %%service    Send code to bash in named container for execution\n",
      "  %%ssh        Pass cell body to ssh.\n",
      "  %%writefile  Write cell contents to file\n"
     ]
    }
   ],
   "source": [
    "%lsmagic"
   ]
  },
  {
   "cell_type": "markdown",
   "id": "834b2e4f-f18d-48fb-b05d-ae27b8b9b689",
   "metadata": {},
   "source": [
    "### Help\n",
    "\n",
    "Use built-in help for usage information:"
   ]
  },
  {
   "cell_type": "code",
   "execution_count": 2,
   "id": "aff5db08-fed5-41d4-8fa8-b48881f0e667",
   "metadata": {},
   "outputs": [
    {
     "name": "stdout",
     "output_type": "stream",
     "text": [
      "usage: %%service [-h] [--err ERR] [--out OUT] [-s SHELL] [-u USER] container\n",
      "\n",
      "Send code to bash in named container for execution\n",
      "\n",
      "positional arguments:\n",
      "  container           name of container to ssh into\n",
      "\n",
      "optional arguments:\n",
      "  -h, --help          show this help message and exit\n",
      "  --err ERR           store stderr in shell environment variable\n",
      "  --out OUT           store stdout in shell environment variable\n",
      "  -s SHELL, --shell SHELL\n",
      "                      Shell to use in target container. Default: /bin/bash\n",
      "  -u USER, --user USER\n",
      "                      Username or UID (format: <name|uid>[:<group|gid>])\n",
      "\n",
      "This specifically supports docker/balena apps.\n",
      "\n",
      "Before running the instructions, the file .init_${container}.sh\n",
      "is sourced, if it exists. ${container} is the name of the service given.\n",
      "\n",
      "Example:\n",
      "    %%service esp-idf\n",
      "    printenv | grep BALENA_SERVICE_NAME\n",
      "    which idf.py\n",
      "\n",
      "    # lookup mdns address and assign to $OUT\n",
      "    %%service host --out OUT\n",
      "    ping -c 2 pi4server.local | awk -F\"[()]\" '{print $2}'\n"
     ]
    }
   ],
   "source": [
    "%%service -h"
   ]
  },
  {
   "cell_type": "markdown",
   "id": "56f8c79f-1c74-4303-bfcc-015a9a1f88cc",
   "metadata": {},
   "source": [
    "## Differences\n",
    "\n",
    "Mostly IoT and IPython magics differ, but there is some overlap.\n",
    "\n",
    "### `%%bash`\n",
    "\n",
    "The IoT Kernel implementation of `%%bash` incrementally prints output, whereas the IPython version waits for shell execution to end before printing output. The former behavior is useful for long running commands such as compilation.\n",
    "\n",
    "On the other hand, the IPython implementation permits passing in Python variable. The IoT Kernel does not support this feature."
   ]
  },
  {
   "cell_type": "code",
   "execution_count": 8,
   "id": "ecdef63c-1073-4a43-b21e-4be88ff14b69",
   "metadata": {},
   "outputs": [],
   "source": [
    "%%host\n",
    "some_variable = \"some value\""
   ]
  },
  {
   "cell_type": "code",
   "execution_count": 9,
   "id": "31479d6e-3201-4480-89b3-bbc9fa322e99",
   "metadata": {},
   "outputs": [
    {
     "name": "stdout",
     "output_type": "stream",
     "text": [
      "some variable = some value\n"
     ]
    }
   ],
   "source": [
    "%%host\n",
    "%%bash -s \"{some_variable}\"\n",
    "echo some variable = $1"
   ]
  },
  {
   "cell_type": "markdown",
   "id": "38b6b3af-42d1-4732-b4c0-7dcd40337494",
   "metadata": {},
   "source": [
    "### `!` (shell)\n",
    "\n",
    "The IPython kernel support assigning shell output to a Python variable. The IoT Kernel does not support this feature."
   ]
  },
  {
   "cell_type": "code",
   "execution_count": 6,
   "id": "80b681fa-0d65-4cf6-ba07-b0d8e666c483",
   "metadata": {},
   "outputs": [],
   "source": [
    "%%host\n",
    "folder = !ls /"
   ]
  },
  {
   "cell_type": "code",
   "execution_count": 7,
   "id": "565f5d05-babe-4b3e-9cdb-9fda99138007",
   "metadata": {},
   "outputs": [
    {
     "name": "stdout",
     "output_type": "stream",
     "text": [
      "['bin', 'boot', 'dev', 'etc', 'home', 'host', 'lib', 'lib64', 'media', 'mnt', 'opt', 'proc', 'root', 'run', 'sbin', 'service-config', 'srv', 'sys', 'tmp', 'usr', 'var']\n"
     ]
    }
   ],
   "source": [
    "%%host\n",
    "print(folder)"
   ]
  },
  {
   "cell_type": "code",
   "execution_count": null,
   "id": "4adeb2f9-5924-4a60-903d-a8dc9cfe80de",
   "metadata": {},
   "outputs": [],
   "source": []
  }
 ],
 "metadata": {
  "kernelspec": {
   "display_name": "IoT",
   "language": "python",
   "name": "iot_kernel"
  },
  "language_info": {
   "codemirror_mode": {
    "name": "python",
    "version": 3
   },
   "file_extension": ".py",
   "mimetype": "text/x-python",
   "name": "python",
   "pygments_lexer": "python3",
   "version": "3"
  }
 },
 "nbformat": 4,
 "nbformat_minor": 5
}
