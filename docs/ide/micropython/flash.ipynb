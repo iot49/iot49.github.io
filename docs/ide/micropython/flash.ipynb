{
 "cells": [
  {
   "cell_type": "markdown",
   "id": "434850e5-703d-4fc5-ba43-1b63bce24b98",
   "metadata": {},
   "source": [
    "# Flashing\n",
    "\n",
    "Flashing is the process of installing MicroPython on a microcontroller. The exact instructions vary. Below are the steps for installing MicroPython on an ESP32.\n",
    "\n",
    "The first step in flashing MicroPython to a microcontroller is to find its port. The `%discover --all` magic reports this information: "
   ]
  },
  {
   "cell_type": "code",
   "execution_count": 1,
   "id": "32f613b2-7640-4b3f-aa84-4f2ac891c933",
   "metadata": {},
   "outputs": [
    {
     "name": "stdout",
     "output_type": "stream",
     "text": [
      "/dev/ttyUSB0\n",
      "  hwid         USB VID:PID=10C4:EA60 SER=0163A3DA LOCATION=1-1.3\n",
      "  manufacturer Silicon Labs\n",
      "  product      CP2104 USB to UART Bridge Controller\n",
      "  interface    CP2104 USB to UART Bridge Controller\n",
      "\n",
      "/dev/ttyAMA2\n",
      "  hwid         fe201800.serial\n",
      "\n",
      "/dev/ttyAMA1\n",
      "  hwid         fe201600.serial\n",
      "\n",
      "/dev/ttyAMA0\n",
      "  hwid         fe201000.serial\n",
      "\n"
     ]
    }
   ],
   "source": [
    "%discover --all"
   ]
  },
  {
   "cell_type": "markdown",
   "id": "82605877-262f-4882-b926-423e5b597229",
   "metadata": {},
   "source": [
    "A controller is installed at port `/dev/ttyUSB0`. The exact port name varies, and may even change if you unplug and replug the device."
   ]
  },
  {
   "cell_type": "markdown",
   "id": "d1ca920b-e307-4791-86b3-b5934e3fb36d",
   "metadata": {},
   "source": [
    "## ESP32\n",
    "\n",
    "[Micropython.org](https://micropython.org/download/) has compiled interpreter binaries for select architectures. For ESP32, choose \"Generic ESP32 module\", unless a more specific version is available. Update the `firmware` and `port` variables in the script below, then execute.\n",
    "\n",
    "You can also [build](compile.ipynb) (customized) MicroPython firmware with *ide49*."
   ]
  },
  {
   "cell_type": "code",
   "execution_count": 1,
   "id": "6c09fc93-7739-4ef2-b33b-b85d3360b788",
   "metadata": {
    "collapsed": true,
    "jupyter": {
     "outputs_hidden": true
    },
    "tags": [
     "hide-output"
    ]
   },
   "outputs": [
    {
     "name": "stdout",
     "output_type": "stream",
     "text": [
      "  % Total    % Received % Xferd  Average Speed   Time    Time     Time  Current\n",
      "                                 Dload  Upload   Total   Spent    Left  Speed\n",
      "100 1518k  100 1518k    0     0   393k      0  0:00:03  0:00:03 --:--:--  393k\n",
      "esptool.py v3.2\n",
      "Serial port /dev/ttyUSB0\n",
      "Connecting......\n",
      "Detecting chip type... Unsupported detection protocol, switching and trying again...\n",
      "Connecting......\n",
      "Detecting chip type... ESP32\n",
      "Chip is ESP32-D0WDQ6 (revision 1)\n",
      "Features: WiFi, BT, Dual Core, Coding Scheme None\n",
      "Crystal is 40MHz\n",
      "MAC: 30:ae:a4:28:39:f0\n",
      "Uploading stub...\n",
      "Running stub...\n",
      "Stub running...\n",
      "Erasing flash (this may take a while)...\n",
      "Chip erase completed successfully in 11.2s\n",
      "Hard resetting via RTS pin...\n",
      "esptool.py v3.2\n",
      "Serial port /dev/ttyUSB0\n",
      "Connecting.......\n",
      "Detecting chip type... Unsupported detection protocol, switching and trying again...\n",
      "Connecting.......\n",
      "Detecting chip type... ESP32\n",
      "Chip is ESP32-D0WDQ6 (revision 1)\n",
      "Features: WiFi, BT, Dual Core, Coding Scheme None\n",
      "Crystal is 40MHz\n",
      "MAC: 30:ae:a4:28:39:f0\n",
      "Uploading stub...\n",
      "Running stub...\n",
      "Stub running...\n",
      "Changing baud rate to 460800\n",
      "Changed.\n",
      "Configuring flash size...\n",
      "Flash will be erased from 0x00001000 to 0x0017cfff...\n",
      "Compressed 1555136 bytes to 1022998...\n",
      "Writing at 0x00001000... (1 %)\n",
      "Writing at 0x00011746... (3 %)\n",
      "Writing at 0x00019ebe... (4 %)\n",
      "Writing at 0x00021f00... (6 %)\n",
      "Writing at 0x000292a7... (7 %)\n",
      "Writing at 0x00032798... (9 %)\n",
      "Writing at 0x0003cbac... (11 %)\n",
      "Writing at 0x00046e05... (12 %)\n",
      "Writing at 0x0004f85b... (14 %)\n",
      "Writing at 0x00054e45... (15 %)\n",
      "Writing at 0x00059ee0... (17 %)\n",
      "Writing at 0x0005f0ff... (19 %)\n",
      "Writing at 0x00064281... (20 %)\n",
      "Writing at 0x00069344... (22 %)\n",
      "Writing at 0x0006e416... (23 %)\n",
      "Writing at 0x00072f94... (25 %)\n",
      "Writing at 0x00077d93... (26 %)\n",
      "Writing at 0x0007e702... (28 %)\n",
      "Writing at 0x00083f6a... (30 %)\n",
      "Writing at 0x00089558... (31 %)\n",
      "Writing at 0x0008eca6... (33 %)\n",
      "Writing at 0x000949a2... (34 %)\n",
      "Writing at 0x00099d06... (36 %)\n",
      "Writing at 0x0009f3d5... (38 %)\n",
      "Writing at 0x000a522e... (39 %)\n",
      "Writing at 0x000ab516... (41 %)\n",
      "Writing at 0x000b125c... (42 %)\n",
      "Writing at 0x000b64be... (44 %)\n",
      "Writing at 0x000bbe59... (46 %)\n",
      "Writing at 0x000c1bcb... (47 %)\n",
      "Writing at 0x000c7347... (49 %)\n",
      "Writing at 0x000cc367... (50 %)\n",
      "Writing at 0x000d1724... (52 %)\n",
      "Writing at 0x000d6606... (53 %)\n",
      "Writing at 0x000db921... (55 %)\n",
      "Writing at 0x000e0e41... (57 %)\n",
      "Writing at 0x000e659a... (58 %)\n",
      "Writing at 0x000ec105... (60 %)\n",
      "Writing at 0x000f17ba... (61 %)\n",
      "Writing at 0x000f651c... (63 %)\n",
      "Writing at 0x000fb981... (65 %)\n",
      "Writing at 0x0010103f... (66 %)\n",
      "Writing at 0x0010619e... (68 %)\n",
      "Writing at 0x0010b3c2... (69 %)\n",
      "Writing at 0x00110b3d... (71 %)\n",
      "Writing at 0x00115d19... (73 %)\n",
      "Writing at 0x0011b22b... (74 %)\n",
      "Writing at 0x0012056f... (76 %)\n",
      "Writing at 0x00125cd6... (77 %)\n",
      "Writing at 0x0012b102... (79 %)\n",
      "Writing at 0x00130775... (80 %)\n",
      "Writing at 0x00136069... (82 %)\n",
      "Writing at 0x0013bc6c... (84 %)\n",
      "Writing at 0x00141a1d... (85 %)\n",
      "Writing at 0x00146bb4... (87 %)\n",
      "Writing at 0x0014c88c... (88 %)\n",
      "Writing at 0x00154179... (90 %)\n",
      "Writing at 0x0015d497... (92 %)\n",
      "Writing at 0x00163417... (93 %)\n",
      "Writing at 0x00168c91... (95 %)\n",
      "Writing at 0x0016e70d... (96 %)\n",
      "Writing at 0x00173e28... (98 %)\n",
      "Writing at 0x001796da... (100 %)\n",
      "Wrote 1555136 bytes (1022998 compressed) at 0x00001000 in 25.1 seconds (effective 495.3 kbit/s)...\n",
      "Hash of data verified.\n",
      "\n",
      "Leaving...\n",
      "Hard resetting via RTS pin...\n"
     ]
    }
   ],
   "source": [
    "%%bash \n",
    "\n",
    "# set the correct port (%discover -all)\n",
    "port=/dev/ttyUSB0\n",
    "\n",
    "# find the latest firmware at https://micropython.org/download/esp32/\n",
    "firmware=https://micropython.org/resources/firmware/esp32-20220117-v1.18.bin\n",
    "\n",
    "# download\n",
    "curl -O $firmware\n",
    "    \n",
    "# install (flash)\n",
    "esptool.py -p $port erase_flash\n",
    "esptool.py -p $port -b 460800 write_flash -z 0x1000 `basename $firmware`\n",
    "\n",
    "# optionally delete the downloaded firmware\n",
    "rm `basename $firmware`"
   ]
  },
  {
   "cell_type": "markdown",
   "id": "9e7da4fd-3499-470a-9132-47b1b55052a0",
   "metadata": {},
   "source": [
    "The device is now available:"
   ]
  },
  {
   "cell_type": "code",
   "execution_count": 1,
   "id": "10f31efa-98a7-4e3b-96d8-f7d8216059b2",
   "metadata": {},
   "outputs": [
    {
     "name": "stdout",
     "output_type": "stream",
     "text": [
      "24:0a:c4:13:ad:14  serial:///dev/ttyUSB0  \n"
     ]
    }
   ],
   "source": [
    "%discover"
   ]
  },
  {
   "cell_type": "code",
   "execution_count": 2,
   "id": "05343693-ad12-4c71-8d19-8dfb1fd1fd57",
   "metadata": {},
   "outputs": [
    {
     "name": "stdout",
     "output_type": "stream",
     "text": [
      "\u001b[0m\u001b[0m\u001b[46m\u001b[30mConnected to 24:0a:c4:12:87:7c @ serial:///dev/ttyUSB0\u001b[0m\n",
      "(\u001b[0mname='micropython', version=(1, 16, 0), mpy=10757)\n",
      "\u001b[0m"
     ]
    }
   ],
   "source": [
    "%connect 24:0a:c4:12:87:7c\n",
    "import sys\n",
    "print(sys.implementation)"
   ]
  },
  {
   "cell_type": "markdown",
   "id": "f84c5c43-66cf-4b0d-9649-8149fca291dc",
   "metadata": {},
   "source": [
    "To flash firmware from a local file, update the `port` and `firmware` variables below, then run the cell."
   ]
  },
  {
   "cell_type": "code",
   "execution_count": 1,
   "id": "067fb6a3-c42b-4290-8683-2330864cc8b3",
   "metadata": {
    "collapsed": true,
    "jupyter": {
     "outputs_hidden": true
    },
    "tags": [
     "hide-output"
    ]
   },
   "outputs": [
    {
     "name": "stdout",
     "output_type": "stream",
     "text": [
      "esptool.py v3.2\n",
      "Serial port /dev/ttyUSB0\n",
      "Connecting.....\n",
      "Detecting chip type... Unsupported detection protocol, switching and trying again...\n",
      "Connecting.....\n",
      "Detecting chip type... ESP32\n",
      "Chip is ESP32-D0WDQ6 (revision 1)\n",
      "Features: WiFi, BT, Dual Core, Coding Scheme None\n",
      "Crystal is 40MHz\n",
      "MAC: 30:ae:a4:30:80:14\n",
      "Uploading stub...\n",
      "Running stub...\n",
      "Stub running...\n",
      "Erasing flash (this may take a while)...\n",
      "Chip erase completed successfully in 4.6s\n",
      "Hard resetting via RTS pin...\n",
      "esptool.py v3.2\n",
      "Serial port /dev/ttyUSB0\n",
      "Connecting.....\n",
      "Detecting chip type... Unsupported detection protocol, switching and trying again...\n",
      "Connecting....\n",
      "Detecting chip type... ESP32\n",
      "Chip is ESP32-D0WDQ6 (revision 1)\n",
      "Features: WiFi, BT, Dual Core, Coding Scheme None\n",
      "Crystal is 40MHz\n",
      "MAC: 30:ae:a4:30:80:14\n",
      "Uploading stub...\n",
      "Running stub...\n",
      "Stub running...\n",
      "Changing baud rate to 460800\n",
      "Changed.\n",
      "Configuring flash size...\n",
      "Flash will be erased from 0x00001000 to 0x00164fff...\n",
      "Compressed 1457072 bytes to 966988...\n",
      "Writing at 0x00001000... (1 %)\n",
      "Writing at 0x000099b2... (3 %)\n",
      "Writing at 0x00012347... (5 %)\n",
      "Writing at 0x0001939e... (6 %)\n",
      "Writing at 0x00022327... (8 %)\n",
      "Writing at 0x0002da89... (10 %)\n",
      "Writing at 0x0003815e... (11 %)\n",
      "Writing at 0x0004271e... (13 %)\n",
      "Writing at 0x00047db8... (15 %)\n",
      "Writing at 0x0004ce55... (16 %)\n",
      "Writing at 0x00051f55... (18 %)\n",
      "Writing at 0x00056f23... (20 %)\n",
      "Writing at 0x0005be0e... (21 %)\n",
      "Writing at 0x00060a45... (23 %)\n",
      "Writing at 0x000673cd... (25 %)\n",
      "Writing at 0x0006c8a7... (26 %)\n",
      "Writing at 0x00071cf6... (28 %)\n",
      "Writing at 0x00076c98... (30 %)\n",
      "Writing at 0x0007c2f9... (31 %)\n",
      "Writing at 0x000822b1... (33 %)\n",
      "Writing at 0x00087444... (35 %)\n",
      "Writing at 0x0008ccb1... (36 %)\n",
      "Writing at 0x00092a2b... (38 %)\n",
      "Writing at 0x00098ddc... (40 %)\n",
      "Writing at 0x0009e679... (41 %)\n",
      "Writing at 0x000a3a37... (43 %)\n",
      "Writing at 0x000a9ba1... (45 %)\n",
      "Writing at 0x000af0cc... (46 %)\n",
      "Writing at 0x000b405a... (48 %)\n",
      "Writing at 0x000b9033... (50 %)\n",
      "Writing at 0x000bdfe8... (51 %)\n",
      "Writing at 0x000c33e3... (53 %)\n",
      "Writing at 0x000c87cc... (55 %)\n",
      "Writing at 0x000ce11f... (56 %)\n",
      "Writing at 0x000d3ca0... (58 %)\n",
      "Writing at 0x000d92b0... (60 %)\n",
      "Writing at 0x000de084... (61 %)\n",
      "Writing at 0x000e3a7d... (63 %)\n",
      "Writing at 0x000e91b7... (65 %)\n",
      "Writing at 0x000ee520... (66 %)\n",
      "Writing at 0x000f3b83... (68 %)\n",
      "Writing at 0x000f8e05... (70 %)\n",
      "Writing at 0x000fe144... (71 %)\n",
      "Writing at 0x00103497... (73 %)\n",
      "Writing at 0x00108b87... (75 %)\n",
      "Writing at 0x0010e1c0... (76 %)\n",
      "Writing at 0x001136a8... (78 %)\n",
      "Writing at 0x00119109... (80 %)\n",
      "Writing at 0x0011f1d6... (81 %)\n",
      "Writing at 0x00124bc7... (83 %)\n",
      "Writing at 0x00129bcb... (85 %)\n",
      "Writing at 0x0012fc99... (86 %)\n",
      "Writing at 0x00137e18... (88 %)\n",
      "Writing at 0x00140500... (90 %)\n",
      "Writing at 0x00147929... (91 %)\n",
      "Writing at 0x0014dcad... (93 %)\n",
      "Writing at 0x0015323a... (95 %)\n",
      "Writing at 0x00158bcc... (96 %)\n",
      "Writing at 0x0015e1e9... (98 %)\n",
      "Writing at 0x001641fc... (100 %)\n",
      "Wrote 1457072 bytes (966988 compressed) at 0x00001000 in 23.5 seconds (effective 495.7 kbit/s)...\n",
      "Hash of data verified.\n",
      "\n",
      "Leaving...\n",
      "Hard resetting via RTS pin...\n"
     ]
    }
   ],
   "source": [
    "%%bash \n",
    "\n",
    "# local firmware\n",
    "port=/dev/ttyUSB0\n",
    "firmware=~/micropython.bin\n",
    "    \n",
    "esptool.py -p $port erase_flash\n",
    "esptool.py -p $port -b 460800 write_flash -z 0x1000 $firmware"
   ]
  },
  {
   "cell_type": "code",
   "execution_count": null,
   "id": "d68229b1-90c2-45b9-9701-edacd5960175",
   "metadata": {},
   "outputs": [],
   "source": []
  }
 ],
 "metadata": {
  "kernelspec": {
   "display_name": "IoT",
   "language": "python",
   "name": "iot_kernel"
  },
  "language_info": {
   "codemirror_mode": {
    "name": "python",
    "version": 3
   },
   "file_extension": ".py",
   "mimetype": "text/x-python",
   "name": "python",
   "pygments_lexer": "python3",
   "version": "3"
  }
 },
 "nbformat": 4,
 "nbformat_minor": 5
}
