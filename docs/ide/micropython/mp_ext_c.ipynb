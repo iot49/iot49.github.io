{
 "cells": [
  {
   "cell_type": "markdown",
   "id": "700c0ad2-fa0a-4e6b-a782-ae542289362a",
   "metadata": {},
   "source": [
    "# External C modules\n",
    "\n",
    "The MicroPython interpreter can be extended with [custom C modules](https://docs.micropython.org/en/latest/develop/cmodules.html#)."
   ]
  },
  {
   "cell_type": "markdown",
   "id": "1ec1858d-4c72-41e6-a381-7b3ab5ab015d",
   "metadata": {},
   "source": [
    "## Unix port\n",
    "\n",
    "Quick demonstration extending the stock MicroPython Unix port with a custom c module (`cexample`). Check the [MicroPython documentation](https://docs.micropython.org/en/latest/develop/cmodules.html#basic-example) for details.\n",
    "\n",
    "First update the local MicroPython clone (assuming you have already cloned the github repo):"
   ]
  },
  {
   "cell_type": "code",
   "execution_count": null,
   "id": "1e634fe3-952b-4c90-b55b-d9e1a2e4e0c1",
   "metadata": {
    "tags": [
     "hide-output"
    ]
   },
   "outputs": [],
   "source": [
    "%%bash\n",
    "\n",
    "cd $IOT/mp\n",
    "if [ ! -d micropython ]\n",
    "then\n",
    "    git clone git@github.com:micropython/micropython.git\n",
    "else\n",
    "    cd micropython\n",
    "    git checkout master\n",
    "    git pull\n",
    "    git merge master\n",
    "fi"
   ]
  },
  {
   "cell_type": "markdown",
   "id": "a2924b89-692b-4c0e-a1ef-0108af3161e9",
   "metadata": {},
   "source": [
    "Now compile the custom MicroPython interpreter:"
   ]
  },
  {
   "cell_type": "code",
   "execution_count": null,
   "id": "36a8ac01-3e90-4cd8-977f-bb9edf471d14",
   "metadata": {
    "tags": [
     "hide-output"
    ]
   },
   "outputs": [],
   "source": [
    "%%service arm32\n",
    "\n",
    "cd $IOT/mp/micropython/ports/unix\n",
    "make clean \n",
    "make submodules\n",
    "make USER_C_MODULES=../../examples/usercmodule"
   ]
  },
  {
   "cell_type": "markdown",
   "id": "71fc56da-e96f-4ec5-8b95-b3d74a7312f0",
   "metadata": {},
   "source": [
    "Check it out:"
   ]
  },
  {
   "cell_type": "code",
   "execution_count": 1,
   "id": "67a9ea65-a599-4591-baa3-47fc35d78ef9",
   "metadata": {},
   "outputs": [
    {
     "name": "stdout",
     "output_type": "stream",
     "text": [
      "-3\n"
     ]
    }
   ],
   "source": [
    "%%bash\n",
    "\n",
    "cd $IOT/mp/micropython/ports/unix\n",
    "./micropython -c \"import cexample; print(cexample.add_ints(4, -7))\""
   ]
  },
  {
   "cell_type": "markdown",
   "id": "4762b048-f7cd-49e5-b3a3-b2331120c140",
   "metadata": {},
   "source": [
    "## esp32 port"
   ]
  },
  {
   "cell_type": "code",
   "execution_count": null,
   "id": "16468a4d-6a71-42e2-a24d-9ae92c468a69",
   "metadata": {
    "tags": [
     "hide-output"
    ]
   },
   "outputs": [],
   "source": [
    "%%service esp-idf\n",
    "\n",
    "cd $IOT/mp/micropython/ports/esp32\n",
    "make submodules\n",
    "make clean \n",
    "make BOARD=GENERIC_OTA \\\n",
    "     USER_C_MODULES=../../../examples/usercmodule/micropython.cmake \\\n",
    "     deploy"
   ]
  }
 ],
 "metadata": {
  "kernelspec": {
   "display_name": "IoT",
   "language": "python",
   "name": "iot_kernel"
  },
  "language_info": {
   "codemirror_mode": {
    "name": "python",
    "version": 3
   },
   "file_extension": ".py",
   "mimetype": "text/x-python",
   "name": "python",
   "pygments_lexer": "python3",
   "version": "3"
  }
 },
 "nbformat": 4,
 "nbformat_minor": 5
}
