{
 "cells": [
  {
   "cell_type": "markdown",
   "id": "ac700ec7-667d-46a3-a552-353ad63295ac",
   "metadata": {},
   "source": [
    "# Mosquitto MQTT Broker\n",
    "\n",
    "*ide49* comes with a built-in [Mosquitto MQTT broker](https://mosquitto.org/). By default, the broker is enabled.\n",
    "\n",
    "The broker listens on the standard 1883 port for unencrypted and 8883 for encrypted messages. For websockets use port 9001 (unencrypted) or 9002 (encrypted).\n",
    "\n",
    "Unencrypted messages are enabled only for topic `public/#`.\n",
    "\n",
    "Encrypted traffic is protected with a password (user and password are both `iot49`) and certificate stored at `/service-config/mosquitto/certs/ca.crt/service-config/mosquitto/certs/ca.crt`.\n",
    "\n",
    "## Example"
   ]
  },
  {
   "cell_type": "code",
   "execution_count": null,
   "id": "f868b4dc-e703-4fd9-a90d-abe7fbcc7cf6",
   "metadata": {},
   "outputs": [
    {
     "name": "stdout",
     "output_type": "stream",
     "text": [
      "START -------- Wed 05 Jan 2022 04:38:37 PM PST\n",
      "1) public Grüezi 1883 no TLS\n",
      "2) public Grüezi 1883 no TLS\n",
      "a) public Grüezi 8883 with TLS & cert\n",
      "b) testtopic Grüezi 8883 with TLS & cert\n",
      "END ---------- Wed 05 Jan 2022 04:38:38 PM PST\n"
     ]
    },
    {
     "name": "stderr",
     "output_type": "stream",
     "text": [
      "Interrupted\u001b[0m\n"
     ]
    }
   ],
   "source": [
    "%%bash\n",
    "\n",
    "mosquitto_sub -h $HOST_IP -t \"testtopic/#\" -t \"public/#\" -u iot49 -P iot49 -p 8883 \\\n",
    "    --cafile /service-config/mosquitto/certs/ca.crt &\n",
    "\n",
    "mosquitto_pub -h $HOST_IP -t \"public/hello\" -m \" \" -p 1883\n",
    "mosquitto_pub -h $HOST_IP -t \"public/hello\" -m \"START -------- `date`\" -p 1883\n",
    "mosquitto_pub -h $HOST_IP -t \"public/hello\" -m \"1) public Grüezi 1883 no TLS\" -p 1883\n",
    "mosquitto_pub -h $HOST_IP -t \"public\" -m \"2) public Grüezi 1883 no TLS\" -p 1883\n",
    "\n",
    "# this one will be silently ignored by the broker: topic does not match public/#\n",
    "mosquitto_pub -h $HOST_IP -t \"testtopic\" -m \"3) testtopic Grüezi 1883\" -p 1883\n",
    "\n",
    "mosquitto_pub -h $HOST_IP -t \"public/hello\" -m \"a) public Grüezi 8883 with TLS & cert\" -p 8883 \\\n",
    "    --cafile /service-config/mosquitto/certs/ca.crt \\\n",
    "    -u iot49 -P iot49\n",
    "\n",
    "mosquitto_pub -h $HOST_IP -t \"testtopic/hello\" -m \"b) testtopic Grüezi 8883 with TLS & cert\" -p 8883 \\\n",
    "    --cafile /service-config/mosquitto/certs/ca.crt \\\n",
    "    -u iot49 -P iot49\n",
    "\n",
    "mosquitto_pub -h $HOST_IP -t \"public/hello\" -m \"END ---------- `date`\" -p 1883"
   ]
  },
  {
   "cell_type": "markdown",
   "id": "ab73704e-275c-47fd-bb57-9c5644595f96",
   "metadata": {},
   "source": [
    "## Customize\n",
    "\n",
    "The setup can be changed by editing the configuration at `/service-config/mosquitto/`.\n",
    "To disable the broker, add `export MOSQUITTO=off` to file `/service-config/iot-home/.env49rc`. "
   ]
  },
  {
   "cell_type": "code",
   "execution_count": null,
   "id": "e41ae805-37ce-4d5e-806b-59bad2c38e58",
   "metadata": {},
   "outputs": [],
   "source": []
  }
 ],
 "metadata": {
  "kernelspec": {
   "display_name": "IoT",
   "language": "python",
   "name": "iot_kernel"
  },
  "language_info": {
   "codemirror_mode": {
    "name": "python",
    "version": 3
   },
   "file_extension": ".py",
   "mimetype": "text/x-python",
   "name": "python",
   "pygments_lexer": "python3",
   "version": "3"
  }
 },
 "nbformat": 4,
 "nbformat_minor": 5
}
