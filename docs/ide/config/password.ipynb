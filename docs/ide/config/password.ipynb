{
 "cells": [
  {
   "cell_type": "markdown",
   "id": "26389be6-4c20-4e57-90b9-a6b14d4846ae",
   "metadata": {},
   "source": [
    "# Change Password\n",
    "\n",
    "A single login protects all *ide49* applications. The default username and password are both *iot49*. To change them, replace the two occurrances of *iot49* (the first is the username, the second the password) in the cell below with the desired username and password and run it from the *IoT* kernel:"
   ]
  },
  {
   "cell_type": "code",
   "execution_count": 1,
   "id": "d00a305d-4322-4dbf-8450-342b95f2e657",
   "metadata": {},
   "outputs": [
    {
     "name": "stdout",
     "output_type": "stream",
     "text": [
      "Current Password File:\n",
      "iot49:$2y$05$9F.ZP8liPKIzgVdNINCKp..K/v0E3hTLRMJH4SApI7bvgFLJ.KQC6\n",
      "\n",
      "Updated Password File:\n",
      "iot49:$2y$05$Yy1BwuwWauET4Ta1sFhbWu2nYrPsX2XSwI5aWd7VB7Orv0OA9aE/K\n"
     ]
    },
    {
     "name": "stderr",
     "output_type": "stream",
     "text": [
      "Adding password for user iot49\n",
      "\u001b[0m"
     ]
    }
   ],
   "source": [
    "%%service nginx -u root\n",
    "\n",
    "cd /etc/nginx\n",
    "echo Current Password File:\n",
    "cat htpasswd\n",
    "\n",
    "# set password\n",
    "# htpasswd -cbB htpasswd \"<username>\" \"<password>\"\n",
    "htpasswd -cbB htpasswd \"iot49\" \"iot49\"\n",
    "\n",
    "# add additional passwords if desired (same account)\n",
    "# htpasswd -bB  htpasswd user2 abc\n",
    "\n",
    "echo\n",
    "echo Updated Password File:\n",
    "cat htpasswd"
   ]
  }
 ],
 "metadata": {
  "kernelspec": {
   "display_name": "IoT",
   "language": "python",
   "name": "iot_kernel"
  },
  "language_info": {
   "codemirror_mode": {
    "name": "python",
    "version": 3
   },
   "file_extension": ".py",
   "mimetype": "text/x-python",
   "name": "python",
   "pygments_lexer": "python3",
   "version": "3"
  }
 },
 "nbformat": 4,
 "nbformat_minor": 5
}
