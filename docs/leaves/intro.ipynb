{
 "cells": [
  {
   "cell_type": "markdown",
   "id": "cd8cec96-165d-4f83-acf3-82e4650bd1e7",
   "metadata": {},
   "source": [
    "# Intro"
   ]
  },
  {
   "cell_type": "markdown",
   "id": "d115027f-3bbd-4e11-bb01-75a02919a5f3",
   "metadata": {},
   "source": [
    "Leaves are ..."
   ]
  }
 ],
 "metadata": {
  "kernelspec": {
   "display_name": "Python 3 (ipykernel)",
   "language": "python",
   "name": "python3"
  },
  "language_info": {
   "codemirror_mode": {
    "name": "ipython",
    "version": 3
   },
   "file_extension": ".py",
   "mimetype": "text/x-python",
   "name": "python",
   "nbconvert_exporter": "python",
   "pygments_lexer": "ipython3",
   "version": "3.11.5"
  }
 },
 "nbformat": 4,
 "nbformat_minor": 5
}
