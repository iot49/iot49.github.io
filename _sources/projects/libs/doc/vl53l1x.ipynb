{
 "cells": [
  {
   "cell_type": "markdown",
   "id": "pacific-issue",
   "metadata": {},
   "source": [
    "# VL53L1X\n",
    "\n",
    "https://github.com/openmv/openmv/tree/master/scripts/libraries\n",
    "\n",
    "![VL53X](figures/vl53x.png)"
   ]
  },
  {
   "cell_type": "code",
   "execution_count": 1,
   "id": "referenced-compromise",
   "metadata": {},
   "outputs": [
    {
     "name": "stdout",
     "output_type": "stream",
     "text": [
      "\u001b[0m\u001b[0mConnected to robot-stm @ serial:///dev/serial0\u001b[0m\n",
      "\u001b[0m\u001b[32mDirectories match\n",
      "\u001b[0m\u001b[0m"
     ]
    }
   ],
   "source": [
    "%register 'serial:///dev/serial0'\n",
    "%connect robot-stm\n",
    "\n",
    "%rsync"
   ]
  },
  {
   "cell_type": "code",
   "execution_count": 1,
   "id": "dimensional-cooperation",
   "metadata": {},
   "outputs": [
    {
     "name": "stdout",
     "output_type": "stream",
     "text": [
      "\u001b[0m\u001b[0m\n",
      "\u001b[46m\u001b[31m!!!!!!!!!!!!!!!!!!!!!!!!!!!!!!!\u001b[0m\n",
      "\u001b[46m\u001b[31m!!!!!   softreset ...     !!!!!\u001b[0m\n",
      "\u001b[46m\u001b[31m!!!!!!!!!!!!!!!!!!!!!!!!!!!!!!!\u001b[0m\n",
      "\u001b[0m\n",
      "dist =   1114 mm\n",
      "\u001b[0mdist =   1114 mm\n",
      "\u001b[0mdist =   1113 mm\n",
      "\u001b[0mdist =   1113 mm\n",
      "\u001b[0mdist =   1116 mm\n",
      "\u001b[0mdist =   1117 mm\n",
      "\u001b[0mdist =   1113 mm\n",
      "\u001b[0mdist =   1116 mm\n",
      "\u001b[0mdist =   1114 mm\n",
      "\u001b[0mdist =   1117 mm\n",
      "\u001b[0m"
     ]
    }
   ],
   "source": [
    "%softreset\n",
    "\n",
    "from vl53l1x import VL53L1X\n",
    "from machine import I2C\n",
    "import time\n",
    "\n",
    "i2c = I2C(1)\n",
    "\n",
    "vlx = VL53L1X(i2c)\n",
    "\n",
    "for i in range(10):\n",
    "    print(\"dist = {:6} mm\".format(vlx.read()))\n",
    "    time.sleep(1)"
   ]
  },
  {
   "cell_type": "code",
   "execution_count": null,
   "id": "alike-quilt",
   "metadata": {},
   "outputs": [],
   "source": []
  }
 ],
 "metadata": {
  "kernelspec": {
   "display_name": "IoT",
   "language": "python",
   "name": "iot_kernel"
  },
  "language_info": {
   "codemirror_mode": {
    "name": "python",
    "version": 3
   },
   "file_extension": ".py",
   "mimetype": "text/x-python",
   "name": "python",
   "pygments_lexer": "python3",
   "version": "3"
  }
 },
 "nbformat": 4,
 "nbformat_minor": 5
}
