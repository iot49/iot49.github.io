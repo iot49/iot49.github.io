{
 "cells": [
  {
   "cell_type": "markdown",
   "id": "59d7b586-62d1-4b94-bb50-4ace839ccbe8",
   "metadata": {},
   "source": [
    "# Try Rust\n",
    "\n",
    "https://github.com/google/evcxr/blob/main/COMMON.md\n",
    "\n",
    "**Note:** The Rust kernel cannot be interrupted!"
   ]
  },
  {
   "cell_type": "code",
   "execution_count": 4,
   "id": "f7fe303e-58ba-4bd1-b654-905f150a9ada",
   "metadata": {},
   "outputs": [
    {
     "data": {
      "text/plain": [
       "12"
      ]
     },
     "execution_count": 4,
     "metadata": {},
     "output_type": "execute_result"
    }
   ],
   "source": [
    "let a=5;\n",
    "a+7"
   ]
  },
  {
   "cell_type": "code",
   "execution_count": 5,
   "id": "55c438ba-2c00-44d6-983f-3f51eea85788",
   "metadata": {},
   "outputs": [],
   "source": [
    "pub struct User {\n",
    "    username: String\n",
    "}\n",
    "let user = User { username: String::from(\"John Doe\") };"
   ]
  },
  {
   "cell_type": "code",
   "execution_count": 6,
   "id": "dffd06d7-61ae-453f-8ef5-87693f6a629b",
   "metadata": {},
   "outputs": [
    {
     "data": {
      "text/html": [
       "<table><tr><th>Variable</th><th>Type</th></tr><tr><td>a</td><td>i32</td><tr><tr><td>user</td><td>User</td><tr></table>"
      ],
      "text/plain": [
       "a: i32\n",
       "user: User\n"
      ]
     },
     "execution_count": 6,
     "metadata": {},
     "output_type": "execute_result"
    }
   ],
   "source": [
    ":vars"
   ]
  },
  {
   "cell_type": "code",
   "execution_count": 7,
   "id": "fdf28258-cd43-4952-8d27-e39995e93ec6",
   "metadata": {},
   "outputs": [
    {
     "name": "stdout",
     "output_type": "stream",
     "text": [
      "Hello World!\n"
     ]
    }
   ],
   "source": [
    "fn my_func() {\n",
    "    // Statements here are executed when the compiled binary is called\n",
    "\n",
    "    // Print text to the console\n",
    "    println!(\"Hello World!\");\n",
    "}\n",
    "\n",
    "my_func();"
   ]
  },
  {
   "cell_type": "code",
   "execution_count": null,
   "id": "617a29f4-b763-446a-85d1-7497abcc84f1",
   "metadata": {},
   "outputs": [],
   "source": []
  }
 ],
 "metadata": {
  "kernelspec": {
   "display_name": "Rust",
   "language": "rust",
   "name": "rust"
  },
  "language_info": {
   "codemirror_mode": "rust",
   "file_extension": ".rs",
   "mimetype": "text/rust",
   "name": "Rust",
   "pygment_lexer": "rust",
   "version": ""
  }
 },
 "nbformat": 4,
 "nbformat_minor": 5
}
