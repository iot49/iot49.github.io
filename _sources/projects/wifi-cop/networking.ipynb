{
 "cells": [
  {
   "cell_type": "markdown",
   "id": "1edffa05-feb7-4b20-90b2-df265276d201",
   "metadata": {},
   "source": [
    "## Networking\n",
    "\n",
    "Now the standard networking resources - `network`, `socket`, `requests`, ... - are available to the client.\n",
    "\n",
    "**Note:** No support for `select`."
   ]
  },
  {
   "cell_type": "code",
   "execution_count": 1,
   "id": "fc38529c-48bb-47dc-a915-3998ab7945da",
   "metadata": {},
   "outputs": [
    {
     "name": "stdout",
     "output_type": "stream",
     "text": [
      "\u001b[46m\u001b[30mConnected to wifi-client @ serial:///dev/ttyACM0\u001b[0m\n"
     ]
    }
   ],
   "source": [
    "%connect wifi-client"
   ]
  },
  {
   "cell_type": "markdown",
   "id": "86818021-21b7-4d27-958b-936bc2010d77",
   "metadata": {},
   "source": [
    "## IP"
   ]
  },
  {
   "cell_type": "code",
   "execution_count": 1,
   "id": "72aeb6e6-a635-46c7-bf9d-1062931e1763",
   "metadata": {},
   "outputs": [
    {
     "name": "stdout",
     "output_type": "stream",
     "text": [
      "IP address: 10.39.40.169\n"
     ]
    }
   ],
   "source": [
    "import network\n",
    "\n",
    "ip = network.WLAN(network.STA_IF).ifconfig()[0]\n",
    "print(\"IP address:\", ip)"
   ]
  },
  {
   "cell_type": "markdown",
   "id": "b75c5465-2341-4689-8291-f162ff843acd",
   "metadata": {},
   "source": [
    "## Webserver\n",
    "\n",
    "Run the cell below, then click on the URL (\"waiting for connection at ...\"). "
   ]
  },
  {
   "cell_type": "code",
   "execution_count": 1,
   "id": "4dd43b58-d884-440c-9894-711310b1b538",
   "metadata": {},
   "outputs": [
    {
     "name": "stdout",
     "output_type": "stream",
     "text": [
      "waiting for connection at http://10.39.40.169\n",
      "connected from ('10.39.40.114', 63858)\n",
      "connected from ('10.39.40.114', 63859)\n",
      "connected from ('10.39.40.114', 63860)\n",
      "connected from ('10.39.40.114', 63861)\n",
      "connected from ('10.39.40.114', 63862)\n",
      "connected from ('10.39.40.114', 63863)\n",
      "DONE\n"
     ]
    }
   ],
   "source": [
    "import socket\n",
    "import network\n",
    "\n",
    "ip = network.WLAN(network.STA_IF).ifconfig()[0]\n",
    "\n",
    "s = socket.socket()\n",
    "ai = socket.getaddrinfo(\"0.0.0.0\", 80)\n",
    "addr = ai[0][-1]\n",
    "\n",
    "s.setsockopt(socket.SOL_SOCKET, socket.SO_REUSEADDR, 1)\n",
    "s.bind(addr)\n",
    "s.listen(2)\n",
    "\n",
    "print(\"waiting for connection at http://{}\".format(ip))\n",
    "for i in range(6):\n",
    "    ss, addr = s.accept()\n",
    "    print(\"connected from\", addr)\n",
    "    req = ss.recv(1024)\n",
    "    if i < 4:\n",
    "        ss.send('Hello from WiFi Coprocessor, serving request # {}!'.format(i+1).encode())\n",
    "    else:\n",
    "        ss.send(b'So long! Server shutting down.')\n",
    "    ss.close()\n",
    "s.close()\n",
    "\n",
    "print(\"DONE\")"
   ]
  },
  {
   "cell_type": "markdown",
   "id": "57189b40-0c03-43b3-8d85-6a738a6fca19",
   "metadata": {},
   "source": [
    "## Requests\n",
    "\n",
    "*Example:* Weather data from https://home.openweathermap.org/\n",
    "\n",
    "**Note:** Create an account and define `openweathermap_apiid` in `secrets.py`."
   ]
  },
  {
   "cell_type": "code",
   "execution_count": 1,
   "id": "52a2cda0-a473-4ce2-b201-d1eb37d1459d",
   "metadata": {},
   "outputs": [
    {
     "name": "stdout",
     "output_type": "stream",
     "text": [
      "coord    {'lat': 38.4646, 'lon': -120.0399}\n",
      "wind     {'speed': 1.2, 'deg': 167}\n",
      "rain     None\n",
      "weather  ({'id': 802, 'description': 'scattered clouds', 'icon': '03d', 'main': 'Clouds'},)\n",
      "dt       1637683849\n",
      "snow     None\n",
      "clouds   {'all': 28}\n",
      "main     {'feels_like': 274.32, 'pressure': 1022, 'temp_min': 268.16, 'humidity': 64, 'temp_max': 277.33, 'temp': 274.32}\n",
      "name     Bear Valley\n",
      "sys      {'country': 'US'}\n",
      "id       5326968\n"
     ]
    }
   ],
   "source": [
    "from requests import get\n",
    "from secrets import openweathermap_apiid\n",
    "\n",
    "cnt = 1\n",
    "url = \"http://api.openweathermap.org/data/2.5/find?lat=38.5&lon=-120&cnt={}&appid={}\".format(cnt, openweathermap_apiid)\n",
    "\n",
    "j = get(url).json()\n",
    "for k,v in j.get('list')[0].items():\n",
    "    print(\"{:8} {}\".format(k,v))"
   ]
  }
 ],
 "metadata": {
  "kernelspec": {
   "display_name": "IoT",
   "language": "python",
   "name": "iot_kernel"
  },
  "language_info": {
   "codemirror_mode": {
    "name": "python",
    "version": 3
   },
   "file_extension": ".py",
   "mimetype": "text/x-python",
   "name": "python",
   "pygments_lexer": "python3",
   "version": "3"
  }
 },
 "nbformat": 4,
 "nbformat_minor": 5
}
