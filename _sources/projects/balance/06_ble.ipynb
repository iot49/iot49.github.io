{
 "cells": [
  {
   "cell_type": "markdown",
   "id": "c994c436-3602-4895-8e77-db334ea88b4f",
   "metadata": {},
   "source": [
    "# Bluetooth\n",
    "\n",
    "The ESP32 has a built-in [Bluetooth LE](https://en.wikipedia.org/wiki/Bluetooth_Low_Energy) radio. LE stands for Low Energy. Unlike standard Bluetooth which is great for streaming audio,  BLE sends only short strings but uses much less energy. It's used e.g. in wireless mice and keyboards. And in our scale!\n",
    "\n",
    "You can get the details on using the [MicroPython Bluetooth Library](https://docs.micropython.org/en/latest/library/ubluetooth.html) online. Alternatively, just copy and adapt one of the examples in the [MicroPython github repository](https://github.com/micropython/micropython/tree/master/examples/bluetooth). \n",
    "\n",
    "We choose the second, easier option. `ble_uart_peripheral.py` sends arbitrary (short) strings to a connected device. Let's download it and `ble_advertising.py` which it imports from the examples folder."
   ]
  },
  {
   "cell_type": "code",
   "execution_count": null,
   "id": "5acec483-25d2-4bdb-afda-3c1686e734ba",
   "metadata": {},
   "outputs": [],
   "source": [
    "%cd $IOT_PROJECTS/balance/code"
   ]
  },
  {
   "cell_type": "code",
   "execution_count": 1,
   "id": "691e63cd-8d69-40c9-a249-2b24b4a4c565",
   "metadata": {
    "tags": [
     "hide-output"
    ]
   },
   "outputs": [
    {
     "name": "stdout",
     "output_type": "stream",
     "text": [
      "\u001b[0m\u001b[0mcwd = /home/iot/iot49.org/docs/projects/balance/code\u001b[0m\n",
      "\u001b[0mFile ‘lib/ble_uart_peripheral.py’ already there; not retrieving.\u001b[0m\n",
      "\u001b[0m\n",
      "File ‘lib/ble_advertising.py’ already there; not retrieving.\u001b[0m\n",
      "\u001b[0m\n"
     ]
    }
   ],
   "source": [
    "%%bash\n",
    "\n",
    "wget -nc -P lib https://raw.githubusercontent.com/micropython/micropython/master/examples/bluetooth/ble_uart_peripheral.py\n",
    "wget -nc -P lib https://raw.githubusercontent.com/micropython/micropython/master/examples/bluetooth/ble_advertising.py"
   ]
  },
  {
   "cell_type": "code",
   "execution_count": 1,
   "id": "46018344-47cb-47e7-b42a-103d7c78217a",
   "metadata": {},
   "outputs": [
    {
     "name": "stdout",
     "output_type": "stream",
     "text": [
      "\u001b[0m\u001b[0m\u001b[32mDirectories match\n",
      "\u001b[0m\u001b[0m"
     ]
    }
   ],
   "source": [
    "%connect balance\n",
    "%rsync"
   ]
  },
  {
   "cell_type": "markdown",
   "id": "eabd1a6b-b354-47e9-acd9-05fe06beea7e",
   "metadata": {},
   "source": [
    "Download & start the [Bluefruit LE Connect](https://learn.adafruit.com/bluefruit-le-connect) app to your smartphone. Then run the code in the next cell."
   ]
  },
  {
   "cell_type": "code",
   "execution_count": 1,
   "id": "17bb5aa9-1e49-4858-a33b-74b77671844a",
   "metadata": {},
   "outputs": [
    {
     "name": "stdout",
     "output_type": "stream",
     "text": [
      "\u001b[0m\u001b[0m\u001b[0m\n",
      "\u001b[46m\u001b[31m!!!!!!!!!!!!!!!!!!!!!!!!!!!!!!!\u001b[0m\n",
      "\u001b[46m\u001b[31m!!!!!   softreset ...     !!!!!\u001b[0m\n",
      "\u001b[46m\u001b[31m!!!!!!!!!!!!!!!!!!!!!!!!!!!!!!!\u001b[0m\n",
      "\u001b[0m\n",
      "rx:  hello\n",
      "\u001b[0mrx:  abc\n",
      "\u001b[0m"
     ]
    },
    {
     "name": "stderr",
     "output_type": "stream",
     "text": [
      "Interrupted\u001b[0m\n"
     ]
    }
   ],
   "source": [
    "%softreset\n",
    "\n",
    "import ble_uart_peripheral\n",
    "ble_uart_peripheral.demo()"
   ]
  },
  {
   "cell_type": "markdown",
   "id": "751bafce-4c53-4dd8-a064-f183b2c0afa8",
   "metadata": {},
   "source": [
    "The Bluefruit app will show your device as `ESP32`. Click connect, and then `UART` on the next screen to get a stream of numbers. Type some text into the box at the bottom of the screen and hit `Send`. The ESP32 prints the text you sent.\n",
    "\n",
    "```{image} figures/bluefruit3.jpeg\n",
    ":width: 200px\n",
    "```\n",
    "```{image} figures/bluefruit2.jpeg\n",
    ":width: 200px\n",
    "```\n",
    "```{image} figures/bluefruit1.jpeg\n",
    ":width: 200px\n",
    "```"
   ]
  },
  {
   "cell_type": "markdown",
   "id": "715bb16d-9de7-459b-8b23-e68efde2f5cc",
   "metadata": {},
   "source": [
    "Stop the running program.\n",
    "\n",
    "We will now modify the `demo` function (reproduced below) to transmit the weights from the scale."
   ]
  },
  {
   "cell_type": "code",
   "execution_count": 6,
   "id": "e162fa61-6354-4fd1-b501-33d21722fb6a",
   "metadata": {},
   "outputs": [
    {
     "name": "stdout",
     "output_type": "stream",
     "text": [
      "\u001b[0mdef demo():\n",
      "    import time\n",
      "\n",
      "    ble = bluetooth.BLE()\n",
      "    uart = BLEUART(ble)\n",
      "\n",
      "    def on_rx():\n",
      "        print(\"rx: \", uart.read().decode().strip())\n",
      "\n",
      "    uart.irq(handler=on_rx)\n",
      "    nums = [4, 8, 15, 16, 23, 42]\n",
      "    i = 0\n",
      "\n",
      "    try:\n",
      "        while True:\n",
      "            uart.write(str(nums[i]) + \"\\n\")\n",
      "            i = (i + 1) % len(nums)\n",
      "            time.sleep_ms(1000)\n",
      "    except KeyboardInterrupt:\n",
      "        pass\n",
      "\n",
      "    uart.close()\n",
      "\n",
      "\n",
      "if __name__ == \"__main__\":\n",
      "    demo()\n"
     ]
    }
   ],
   "source": [
    "!tail -26 lib/ble_uart_peripheral.py"
   ]
  },
  {
   "cell_type": "markdown",
   "id": "98f6a6b0-3ba8-47ee-954f-124750c7caac",
   "metadata": {},
   "source": [
    "Here is the modified code."
   ]
  },
  {
   "cell_type": "code",
   "execution_count": 6,
   "id": "11e856f2-d23b-40bf-ae89-b8f6b3014656",
   "metadata": {},
   "outputs": [
    {
     "name": "stdout",
     "output_type": "stream",
     "text": [
      "\u001b[0m\u001b[0m\u001b[0m\n",
      "\u001b[46m\u001b[31m!!!!!!!!!!!!!!!!!!!!!!!!!!!!!!!\u001b[0m\n",
      "\u001b[46m\u001b[31m!!!!!   softreset ...     !!!!!\u001b[0m\n",
      "\u001b[46m\u001b[31m!!!!!!!!!!!!!!!!!!!!!!!!!!!!!!!\u001b[0m\n",
      "\u001b[0m\n",
      "tare\n",
      "\u001b[0m"
     ]
    },
    {
     "name": "stderr",
     "output_type": "stream",
     "text": [
      "Interrupted\u001b[0m\n"
     ]
    }
   ],
   "source": [
    "%softreset\n",
    "\n",
    "import ble_uart_peripheral\n",
    "import bluetooth\n",
    "\n",
    "from machine import Pin, I2C\n",
    "from ssd1306 import SSD1306_I2C\n",
    "from scale import Scale\n",
    "from button import Button\n",
    "\n",
    "# configure the Bluetooth UART\n",
    "ble = bluetooth.BLE()\n",
    "uart = ble_uart_peripheral.BLEUART(ble)\n",
    "\n",
    "# Scale & Display\n",
    "i2c = I2C(0, scl=Pin(22), sda=Pin(23))\n",
    "\n",
    "oled_width = 128\n",
    "oled_height = 32\n",
    "oled = SSD1306_I2C(oled_width, oled_height, i2c)\n",
    "\n",
    "scale = Scale()\n",
    "tare_button = Button(15, scale.tare)\n",
    "\n",
    "last_weight = 500\n",
    "while True:\n",
    "    weight = scale.measure()\n",
    "    if abs(weight-last_weight) > 3:\n",
    "        # send via Bluetooth\n",
    "        uart.write(\"{:8.0f} gram\\n\".format(weight))\n",
    "        # show on display\n",
    "        oled.fill(0)\n",
    "        oled.text(\"{:8.0f} gram\".format(weight), 0, 12)\n",
    "        oled.show()\n",
    "        last_weight = weight"
   ]
  },
  {
   "cell_type": "markdown",
   "id": "4d280c2e-3a4a-440b-ab77-e4efc4276ba8",
   "metadata": {},
   "source": [
    "Congratulations! You have build a Bluetooth enabled scale.\n",
    "\n",
    "If you feel adventurous, implement the \"tare\" function via Bluetooth. Or, if you are familiar with developing apps, write a custom one for the scale."
   ]
  },
  {
   "cell_type": "code",
   "execution_count": null,
   "id": "602eec9a-79a6-44c4-975a-d2311d7e8ab2",
   "metadata": {},
   "outputs": [],
   "source": []
  }
 ],
 "metadata": {
  "kernelspec": {
   "display_name": "IoT",
   "language": "python",
   "name": "iot_kernel"
  },
  "language_info": {
   "codemirror_mode": {
    "name": "python",
    "version": 3
   },
   "file_extension": ".py",
   "mimetype": "text/x-python",
   "name": "python",
   "pygments_lexer": "python3",
   "version": "3"
  }
 },
 "nbformat": 4,
 "nbformat_minor": 5
}
