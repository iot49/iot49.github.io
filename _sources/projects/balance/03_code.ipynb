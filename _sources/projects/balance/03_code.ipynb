{
 "cells": [
  {
   "cell_type": "markdown",
   "id": "39dfb33d-26b3-4fe3-bc13-5c3ddc857cd6",
   "metadata": {},
   "source": [
    "# MicroPython Code\n",
    "\n",
    "Let's first convert the analog output from the load cell to a digital representation. \n",
    "\n",
    "The figure below shows the relationship between analog and digital values of the ESP32 for several ADC gain settings. Since our signal is centered around $V_\\textrm{ref}\\approx 1.65V$ we use the 11dB attenuation setting. \n",
    "\n",
    "You can also try with less attenuation, possibly lowering $V_\\textrm{ref}$. Check the minimum input voltage in the INA126 datasheet.\n",
    "\n",
    "![](figures/esp32_adc_vin.png)\n",
    "\n",
    "At the beginning of each notebook, we need to set up the path and connect to the microcontroller:"
   ]
  },
  {
   "cell_type": "code",
   "execution_count": 1,
   "id": "ffc03e00-89ec-4374-8e4c-11e10ace205f",
   "metadata": {},
   "outputs": [
    {
     "name": "stdout",
     "output_type": "stream",
     "text": [
      "\u001b[0m\u001b[0m\u001b[46m\u001b[30mConnected to balance @ serial:///dev/ttyUSB0\u001b[0m\n"
     ]
    }
   ],
   "source": [
    "%connect balance"
   ]
  },
  {
   "cell_type": "markdown",
   "id": "16a9898a-8ad0-4beb-b713-a3117dc73467",
   "metadata": {},
   "source": [
    "Now we are ready to setup and read the ADC. The code below is adapted from the example in the [MicroPython documentation](https://docs.micropython.org/en/latest/esp32/quickref.html#adc-analog-to-digital-conversion).\n"
   ]
  },
  {
   "cell_type": "code",
   "execution_count": 1,
   "id": "2131852c-3878-4b0f-9588-0dafcce8fbd5",
   "metadata": {},
   "outputs": [
    {
     "name": "stdout",
     "output_type": "stream",
     "text": [
      "\u001b[0mout = 1810  ref = 1717   delta =   93\n",
      "\u001b[0mout = 1787  ref = 1723   delta =   64\n",
      "\u001b[0mout = 2153  ref = 1712   delta =  441\n",
      "\u001b[0mout = 2084  ref = 1736   delta =  348\n",
      "\u001b[0mout = 2114  ref = 1726   delta =  388\n",
      "\u001b[0mout = 2101  ref = 1703   delta =  398\n",
      "\u001b[0mout = 2113  ref = 1729   delta =  384\n",
      "\u001b[0mout = 1772  ref = 1695   delta =   77\n",
      "\u001b[0mout = 1823  ref = 1714   delta =  109\n",
      "\u001b[0mout = 1773  ref = 1725   delta =   48\n",
      "\u001b[0m"
     ]
    }
   ],
   "source": [
    "from machine import ADC, Pin\n",
    "import time\n",
    "\n",
    "# configure ADC3 (output of the INA126)\n",
    "out = ADC(Pin(39))\n",
    "out.atten(ADC.ATTN_11DB)\n",
    "\n",
    "# configure ADC6 (Vref)\n",
    "ref = ADC(Pin(34))\n",
    "ref.atten(ADC.ATTN_11DB)\n",
    "\n",
    "# read the ADCs in a loop and display the result\n",
    "# _ just means that we don't care for the loop counter\n",
    "for _ in range(10):\n",
    "    vout = out.read()\n",
    "    vref = ref.read()\n",
    "    print(\"out = {:4}  ref = {:4}   delta = {:4}\".format(vout, vref, vout-vref))\n",
    "    time.sleep(1)"
   ]
  },
  {
   "cell_type": "markdown",
   "id": "17ca50e9-9606-4e75-8020-8a02ccdd851d",
   "metadata": {},
   "source": [
    "Playing around with the scale, you can see that the output (`delta`) changes when you put a weight (e.g. your finger) on the scale. But even with no weight applied, the `delta` is not zero. This error is called \"offset\" and comes from inacurracies in the load cell, the INA216, and the ADC.\n",
    "\n",
    "Further, values reported by the ADC change even for constant weight. This \"noise\" is the result of electrical interference and the ADC.\n",
    "\n",
    "Let's try averaging a few samples to see if we can reduce the noise:"
   ]
  },
  {
   "cell_type": "code",
   "execution_count": 1,
   "id": "43f05115-3194-4b41-80e7-9fc0ad1f68ec",
   "metadata": {},
   "outputs": [
    {
     "name": "stdout",
     "output_type": "stream",
     "text": [
      "\u001b[0mN =   1  out = 1780  ref = 1718   delta =    7\n",
      "\u001b[0mN =   1  out = 1726  ref = 1725   delta =  -54\n",
      "\u001b[0mN =   1  out = 1775  ref = 1719   delta =    1\n",
      "\u001b[0mN =   1  out = 1777  ref = 1734   delta =  -12\n",
      "\u001b[0mN =   1  out = 1759  ref = 1726   delta =  -22\n",
      "\u001b[0m\n",
      "\u001b[0mN =  10  out = 1780  ref = 1717   delta =    8\n",
      "\u001b[0mN =  10  out = 1779  ref = 1723   delta =    0\n",
      "\u001b[0mN =  10  out = 1776  ref = 1721   delta =    0\n",
      "\u001b[0mN =  10  out = 1777  ref = 1724   delta =   -2\n",
      "\u001b[0mN =  10  out = 1777  ref = 1723   delta =   -0\n",
      "\u001b[0m\n",
      "\u001b[0mN = 100  out = 1776  ref = 1722   delta =   -1\n",
      "\u001b[0mN = 100  out = 1776  ref = 1722   delta =   -0\n",
      "\u001b[0mN = 100  out = 1774  ref = 1722   delta =   -3\n",
      "\u001b[0mN = 100  out = 1777  ref = 1721   delta =    0\n",
      "\u001b[0mN = 100  out = 1777  ref = 1722   delta =    0\n",
      "\u001b[0m\n",
      "\u001b[0m"
     ]
    }
   ],
   "source": [
    "for N in [1, 10, 100]:\n",
    "    for _ in range(5):\n",
    "        vout = 0\n",
    "        vref = 0\n",
    "        for _ in range(N):\n",
    "            vout += out.read()\n",
    "            vref += ref.read()\n",
    "        vout /= N\n",
    "        vref /= N\n",
    "        print(\"N = {:3}  out = {:4.0f}  ref = {:4.0f}   delta = {:4.0f}\".format(\n",
    "            N, vout, vref, vout-vref-55))\n",
    "        time.sleep(1)\n",
    "    print()"
   ]
  },
  {
   "cell_type": "markdown",
   "id": "69315139-a3e8-4bb9-befd-14887f1f93ac",
   "metadata": {},
   "source": [
    "In these tests I did not apply any force to the scale. \n",
    "\n",
    "Averaging definitely helps. In my trials it reduced the noise (variations of `delta`) from more than 50 without averaging (N=1) to less than 5 (N=100), a ten-fold improvement!\n",
    "\n",
    "Let's update the code again, this time first measuring the offset and then subtracting it from subsequent measurements. We also create a function for reading the ADC and averaging its outputs. In `read_adc` we average the difference, a small optimization to keep the sum smaller, even for large N. "
   ]
  },
  {
   "cell_type": "code",
   "execution_count": 1,
   "id": "0d81d705-77de-421c-8e70-fe511d36435f",
   "metadata": {},
   "outputs": [
    {
     "name": "stdout",
     "output_type": "stream",
     "text": [
      "\u001b[0mweight =   -4\n",
      "\u001b[0mweight =   -0\n",
      "\u001b[0mweight =    0\n",
      "\u001b[0mweight =  332\n",
      "\u001b[0mweight =  334\n",
      "\u001b[0mweight =  332\n",
      "\u001b[0mweight =    0\n",
      "\u001b[0mweight =   -2\n",
      "\u001b[0mweight =   -1\n",
      "\u001b[0mweight =   -3\n",
      "\u001b[0m"
     ]
    }
   ],
   "source": [
    "def read_adc(out, ref, N=100):\n",
    "    sum = 0\n",
    "    for _ in range(N):\n",
    "        sum += out.read() - ref.read()\n",
    "    return sum/N\n",
    "\n",
    "# measure the offset\n",
    "offset = read_adc(out, ref)\n",
    "\n",
    "# weigh ...\n",
    "for _ in range(10):\n",
    "    weight = read_adc(out, ref) - offset\n",
    "    print(\"weight = {:4.0f}\".format(weight))\n",
    "    time.sleep(1)"
   ]
  },
  {
   "cell_type": "markdown",
   "id": "6bd8ea03-3f6a-4040-a6a7-8331184d5458",
   "metadata": {},
   "source": [
    "Not perfect but somewhat usable.\n",
    "\n",
    "Let's now calibrate the scale so it's output is in grams. For this we need a reference with known weight. If you do not have calibrated weights just get something with a weight close to the full scale of your load cell, get another scale to determine its weight, and then put it on your scale."
   ]
  },
  {
   "cell_type": "code",
   "execution_count": 1,
   "id": "5a332f51-7264-40c4-8d34-93a271f2abdd",
   "metadata": {},
   "outputs": [
    {
     "name": "stdout",
     "output_type": "stream",
     "text": [
      "\u001b[0mweight =    3\n",
      "\u001b[0mweight =  839\n",
      "\u001b[0mweight =  831\n",
      "\u001b[0mweight =  839\n",
      "\u001b[0mweight =  839\n",
      "\u001b[0m"
     ]
    }
   ],
   "source": [
    "offset = read_adc(out, ref)\n",
    "\n",
    "for _ in range(5):\n",
    "    print(\"weight = {:4.0f}\".format(read_adc(out, ref) - offset))\n",
    "    time.sleep(2)"
   ]
  },
  {
   "cell_type": "markdown",
   "id": "f4867094-3b96-4f84-aa5c-8b644bfa8fb8",
   "metadata": {},
   "source": [
    "My reference weighs 500grams. The output of the scale is about 840 (averaged), so let's redo the test with the output scaled by 500/840."
   ]
  },
  {
   "cell_type": "code",
   "execution_count": 1,
   "id": "bc755d46-da69-43ca-975c-d84ad292c625",
   "metadata": {},
   "outputs": [
    {
     "name": "stdout",
     "output_type": "stream",
     "text": [
      "\u001b[0mweight =   -0 grams\n",
      "\u001b[0mweight =    0 grams\n",
      "\u001b[0mweight = -501 grams\n",
      "\u001b[0mweight = -500 grams\n",
      "\u001b[0mweight = -501 grams\n",
      "\u001b[0m"
     ]
    }
   ],
   "source": [
    "offset = read_adc(out, ref)\n",
    "\n",
    "for _ in range(5):\n",
    "    weight = read_adc(out, ref) - offset\n",
    "    weight_scaled = weight * 500 / 840\n",
    "    print(\"weight = {:4.0f} grams\".format(weight_scaled))\n",
    "    time.sleep(2)"
   ]
  },
  {
   "cell_type": "markdown",
   "id": "d28c58f4-e476-458b-b81a-049be451679d",
   "metadata": {},
   "source": [
    "Ups, I forgot to remove the weight before I started the test. Now it comes out negative: I removed 500grams.\n",
    "\n",
    "As a final step, let's wrap up the code in a class."
   ]
  },
  {
   "cell_type": "code",
   "execution_count": 1,
   "id": "d262d8f9-f279-48bd-ad73-616ee041bd10",
   "metadata": {},
   "outputs": [
    {
     "name": "stdout",
     "output_type": "stream",
     "text": [
      "\u001b[0m    3 gram\n",
      "\u001b[0m   43 gram\n",
      "\u001b[0m  312 gram\n",
      "\u001b[0m  335 gram\n",
      "\u001b[0m  456 gram\n",
      "\u001b[0m  262 gram\n",
      "\u001b[0m  281 gram\n",
      "\u001b[0m  305 gram\n",
      "\u001b[0m  294 gram\n",
      "\u001b[0m  338 gram\n",
      "\u001b[0m  475 gram\n",
      "\u001b[0m  534 gram\n",
      "\u001b[0m  498 gram\n",
      "\u001b[0m  478 gram\n",
      "\u001b[0m  529 gram\n",
      "\u001b[0m  493 gram\n",
      "\u001b[0m  520 gram\n",
      "\u001b[0m  501 gram\n",
      "\u001b[0m  490 gram\n",
      "\u001b[0m  509 gram\n",
      "\u001b[0m  491 gram\n",
      "\u001b[0m  503 gram\n",
      "\u001b[0m  515 gram\n",
      "\u001b[0m  501 gram\n",
      "\u001b[0m  487 gram\n",
      "\u001b[0m  442 gram\n",
      "\u001b[0m  393 gram\n",
      "\u001b[0m  250 gram\n",
      "\u001b[0m  145 gram\n",
      "\u001b[0m  106 gram\n",
      "\u001b[0m   64 gram\n",
      "\u001b[0m   -9 gram\n",
      "\u001b[0m    2 gram\n",
      "\u001b[0m"
     ]
    }
   ],
   "source": [
    "from machine import Pin, ADC\n",
    "import time\n",
    "        \n",
    "class Scale:\n",
    "    \n",
    "    def __init__(self, out_pin=39, ref_pin=34, scale=500/840):\n",
    "        self._out = ADC(Pin(out_pin))\n",
    "        self._out.atten(ADC.ATTN_11DB)\n",
    "        self._ref = ADC(Pin(ref_pin))\n",
    "        self._ref.atten(ADC.ATTN_11DB)\n",
    "        self._scale = scale\n",
    "        self._offset = self._read_adc()\n",
    "    \n",
    "    def _read_adc(self, N=100):\n",
    "        sum = 0\n",
    "        out = self._out\n",
    "        ref = self._ref\n",
    "        for _ in range(N):\n",
    "            sum += out.read() - ref.read()\n",
    "        return sum/N\n",
    "            \n",
    "    def measure(self):\n",
    "        return (self._read_adc()-self._offset) * self._scale\n",
    "    \n",
    "    def tare(self, button):\n",
    "        print(\"tare\")\n",
    "        self._offset = self._read_adc()\n",
    "        \n",
    "scale = Scale()\n",
    "\n",
    "last_weight = 1000\n",
    "start = time.ticks_ms()\n",
    "while time.ticks_diff(time.ticks_ms(), start) < 5000:\n",
    "    weight = scale.measure()\n",
    "    # print only big changes\n",
    "    if abs(weight - last_weight) > 10:\n",
    "        print(\"{:5.0f} gram\".format(weight))\n",
    "        last_weight = weight"
   ]
  },
  {
   "cell_type": "markdown",
   "id": "1eb5658b-c182-4191-bf5c-1898853d3b3f",
   "metadata": {},
   "source": [
    "We need a display; just printing the output isn't user friendly. \n",
    "\n",
    "But the `Scale` class looks ok, let's save it."
   ]
  },
  {
   "cell_type": "code",
   "execution_count": 2,
   "id": "059815ae-417c-4d57-a208-b72d135059e0",
   "metadata": {},
   "outputs": [
    {
     "name": "stdout",
     "output_type": "stream",
     "text": [
      "\u001b[0mOverwriting code/lib/scale.py\n"
     ]
    }
   ],
   "source": [
    "%%writefile code/lib/scale.py\n",
    "\n",
    "from machine import Pin, ADC\n",
    "import time\n",
    "        \n",
    "class Scale:\n",
    "    \n",
    "    def __init__(self, out_pin=39, ref_pin=34, scale=500/840):\n",
    "        self._out = ADC(Pin(out_pin))\n",
    "        self._out.atten(ADC.ATTN_11DB)\n",
    "        self._ref = ADC(Pin(ref_pin))\n",
    "        self._ref.atten(ADC.ATTN_11DB)\n",
    "        self._scale = scale\n",
    "        self._offset = self._read_adc()\n",
    "    \n",
    "    def _read_adc(self, N=100):\n",
    "        sum = 0\n",
    "        out = self._out\n",
    "        ref = self._ref\n",
    "        for _ in range(N):\n",
    "            sum += out.read() - ref.read()\n",
    "        return sum/N\n",
    "            \n",
    "    def measure(self):\n",
    "        return (self._read_adc()-self._offset) * self._scale\n",
    "    \n",
    "    def tare(self, button):\n",
    "        print(\"tare\")\n",
    "        self._offset = self._read_adc()"
   ]
  },
  {
   "cell_type": "code",
   "execution_count": null,
   "id": "1ca63f6d-6eb2-4a93-8208-f58b31a794af",
   "metadata": {},
   "outputs": [],
   "source": []
  }
 ],
 "metadata": {
  "kernelspec": {
   "display_name": "Python 3 (ipykernel)",
   "language": "python",
   "name": "python3"
  },
  "language_info": {
   "codemirror_mode": {
    "name": "ipython",
    "version": 3
   },
   "file_extension": ".py",
   "mimetype": "text/x-python",
   "name": "python",
   "nbconvert_exporter": "python",
   "pygments_lexer": "ipython3",
   "version": "3.8.10"
  }
 },
 "nbformat": 4,
 "nbformat_minor": 5
}
