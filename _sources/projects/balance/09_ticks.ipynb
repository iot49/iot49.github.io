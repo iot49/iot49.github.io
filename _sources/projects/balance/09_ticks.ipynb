{
 "cells": [
  {
   "cell_type": "markdown",
   "id": "069f086c-06e6-4839-b292-ce91ecdd80d3",
   "metadata": {},
   "source": [
    "# Time Intervals\n",
    "\n",
    "The need to measure time intervals occurs frequently in microcontroller programming. Examples include detecting the duration of pulses in a Morse Code like signal as those emitted from infrared controllers, or measuring the frequency of button presses for debouncing.\n",
    "\n",
    "In principal microcontrollers are very well equipped for the task. Thanks to their high clock speed, they can programmatically resolve microsecond or even nanosecond intervals even without resorting to special hardware features. Conversely, using counters, they can easily track years or even millenia, provided that the power stays on and someone is there to care.\n",
    "\n",
    "This large dynamic range, nanoseconds to millenia, poses some challenges that, if not properly dealt with, can result in erratic behavior.\n",
    "\n",
    "## Problem\n",
    "\n",
    "In principle, representing such intervals is quite easy. A 64-bit integer can represent 584,942 years with microsecond resolution. The problem is that most microcontrollers use 32-bit integers. MicroPython \"looses\" a bit or two to represent the datatype. An additional bit is used for the sign, hence we are left with 29 bits. That's sufficient to represent just 9 minutes with microsecond resolution. With millisecond resolution we get a little over 6 days.\n",
    "\n",
    "Measuring time is typically accomplished with a counter initialized to zero on powerup and then incremented every millisecond or so. MicroPython has a function `time.ticks_ms()` that returns the time in microseconds since the device was turned on.\n",
    "\n",
    "For example, to measure the duration of button presses (or some sensor input, let's say the duration of a flash of light), we take the time when the button was pressed and when it was released and compute the difference.\n",
    "\n",
    "```python\n",
    "from time import ticks_ms\n",
    "\n",
    "# wait for button press\n",
    "# ...\n",
    "start = ticks_ms()\n",
    "\n",
    "# wait for button released\n",
    "# ...\n",
    "stop = ticks_ms()\n",
    "\n",
    "# calculate the duration of the button press\n",
    "duration = stop - start    # BUG - see below\n",
    "```\n",
    "\n",
    "This *mostly* works. Except that every six days the measured duration *may* be incorrect results if the timer \"overflows\". Needless to say that such bugs are extremely difficult to diagnose since they occur so infrequently. Because of this they often escape testing, showing up only after the product has been relased to customers with possibly disastrous results.\n",
    "\n",
    "## `time.monotonic`\n",
    "\n",
    "C-Python has a function `time.monotonic()` that returns time (with arbitrary offset) in seconds as a 64-bit floating point number. With floating point the resolution decreases for long durations to less than microseconds after half a million years, but most of us won't be around to notice.\n",
    "\n",
    "[CircuitPython](https://circuitpython.org/), a fork of MicroPython, also offers `time.monotonic()` but returns a 32-bit float rather than 64-bits. Now the resolution drops quite quickly, in just days or minutes. Many applications keep microcontrollers busy for much longer than that."
   ]
  },
  {
   "cell_type": "code",
   "execution_count": 1,
   "id": "76ff1d35-f14e-440f-b6c5-694510eef5c9",
   "metadata": {},
   "outputs": [
    {
     "name": "stdout",
     "output_type": "stream",
     "text": [
      "\u001b[0m\u001b[0m\u001b[46m\u001b[30mConnected to huzzah32 @ serial:///dev/ttyUSB0\u001b[0m\n",
      "duration = 0.001\n",
      "\u001b[0m"
     ]
    }
   ],
   "source": [
    "%connect huzzah32\n",
    "\n",
    "# simulate `time.monotonic()` just after powerup:\n",
    "start = 0\n",
    "\n",
    "# simulate 1ms interval:\n",
    "stop = start+0.001\n",
    "\n",
    "print(\"duration =\", stop-start)"
   ]
  },
  {
   "cell_type": "markdown",
   "id": "d9e674b1-dee8-4a1f-b107-64dda980c18a",
   "metadata": {},
   "source": [
    "The measured duration is 1ms, as it should be.\n",
    "\n",
    "Now let's repeat the same experiment but after the micrcontroller has been running for a day:"
   ]
  },
  {
   "cell_type": "code",
   "execution_count": 1,
   "id": "97dd5aa0-675b-4f12-92db-925db6e54e52",
   "metadata": {},
   "outputs": [
    {
     "name": "stdout",
     "output_type": "stream",
     "text": [
      "\u001b[0mduration = 0.0\n",
      "\u001b[0m"
     ]
    }
   ],
   "source": [
    "# simulate `time.monotonic()` just after a day:\n",
    "start = 3600*24.0\n",
    "\n",
    "# simulate 1ms interval:\n",
    "stop = start+0.001\n",
    "\n",
    "print(\"duration =\", stop-start)"
   ]
  },
  {
   "cell_type": "markdown",
   "id": "61561cf1-c013-4d0c-a744-f98baee9caaf",
   "metadata": {},
   "source": [
    "Zero? That's clearly wrong and the consequence of the limited resolution of 32-bit floats. If you play around with the above code you find that after one day, the smallest interval that can be resolved is 4ms, albeit the duration is reported as 7ms.\n",
    "\n",
    "Perhaps you do not need millisecond resolution. But even 10ms cannot be resolved after 4 days."
   ]
  },
  {
   "cell_type": "markdown",
   "id": "cbc3f915-6352-4433-8786-912dacb72759",
   "metadata": {},
   "source": [
    "## Solutions\n",
    "\n",
    "There are several solutions for this. We could allocate more bits for representing time, for example using Python *bigints*. In fact, (Circuit)Python's `time.monotonic_ns()` does just this.\n",
    "\n",
    "This works correctly and has the great benefit of being standard Python (i.e. code works also in C-Python) but has potential drawbacks. First, *bigints* are less efficient than (small) ints or floats. Secondly, and more importantly, they are allocated on the heap. Because of this they cannot be used in [interrupt service routines](https://docs.micropython.org/en/latest/reference/isr_rules.html#isr-rules). Since interrupts are precisely a situation where measuring time is often needed, that's a quite significant gotcha. \n",
    "\n",
    "Note that CircuitPython does not implement interrupts in user code. That's also a solution, if you don't need them.\n",
    "\n",
    "## `time.ticks_XXX`\n",
    "\n",
    "MicroPython chooses a different route. `time.ticks_ms()` and `time.ticks_us()` both return time as small ints. Because of this they \"roll-over\" after a few minutes or days. The special function `time.ticks_diff()` takes into account the roll over.\n",
    "\n",
    "**Example:**\n",
    "\n",
    "```python\n",
    "start = time.ticks_us()  # or ticks_ms\n",
    "\n",
    "# do whatever you want to measure the duration of\n",
    "# ...\n",
    "\n",
    "stop = time.ticks_us()\n",
    "```\n",
    "\n",
    "To get the duration\n",
    "\n",
    "```python\n",
    "duration = time.ticks_diff(stop, start)  # CORRECT\n",
    "```\n",
    "\n",
    "Rather than the (incorrect)\n",
    "\n",
    "```python\n",
    "duration = stop - start  # WRONG in case of roll-over\n",
    "```\n",
    "\n",
    "The \"correct\" option works properly as long as no more than one roll-over occurs during the measurement interval. This limits the maximum duriation that can be measured with `time.ticks_ms()` to about six days. With `time.ticks_us()` the maximum is about nine minutes.\n",
    "\n",
    "Admittedly using `time.ticks_diff()` to compute time differences is a bit clumsy. But it works correctly, is efficient, and can be used even in interrupt service routines. After pondering the alternatives (and even implementing custom helpers in C), I always come back to using `ticks_XXX`.\n"
   ]
  },
  {
   "cell_type": "code",
   "execution_count": null,
   "id": "3f87c78b-fc74-4b6e-8f0d-bde75292b094",
   "metadata": {},
   "outputs": [],
   "source": []
  }
 ],
 "metadata": {
  "kernelspec": {
   "display_name": "IoT",
   "language": "python",
   "name": "iot_kernel"
  },
  "language_info": {
   "codemirror_mode": {
    "name": "python",
    "version": 3
   },
   "file_extension": ".py",
   "mimetype": "text/x-python",
   "name": "python",
   "pygments_lexer": "python3",
   "version": "3"
  }
 },
 "nbformat": 4,
 "nbformat_minor": 5
}
