{
 "cells": [
  {
   "cell_type": "markdown",
   "id": "5ee7f837-2496-461b-ba13-9eb761fd5c62",
   "metadata": {},
   "source": [
    "# \"Precision\" Scale\n",
    "\n",
    "How could we improve the accuracy of the scale? Besides the obvious - a better ADC - there are a few other steps we should take.\n",
    "\n",
    "The most important is to change the ADC to use the bridge voltage as reference, rather than the built-in precision reference or supply voltage. \n",
    "\n",
    "The voltage at the output of the bridge is \n",
    "\n",
    "$$\n",
    "    v_{\\textrm{bridge}} = S \\times V_{\\textrm{s}}\n",
    "$$\n",
    "\n",
    "where $S$ is a scale factor that is proportional to the weight and $V_{\\textrm{s}}V_{\\textrm{s}}$ is the voltage across the bridge.\n",
    "\n",
    "The output code from an ADC is\n",
    "\n",
    "$$\n",
    "    D_\\textrm{out} = \\frac{v_\\textrm{bridge}}{V_\\textrm{ref}} = S \\times \\frac{V_\\textrm{s}}{V_\\textrm{ref}}\n",
    "$$\n",
    "\n",
    "Let's assume that $V_\\textrm{s}$ is the voltage of the battery powering the scale and $V_\\textrm{ref}V_\\textrm{ref}$ is a constant precision reference voltage. As the battery voltage decreases over time, the ratio $V_\\textrm{s}/V_\\textrm{ref}$ decreases, resulting in a gain error and consequent incorrect measured weight.\n",
    "\n",
    "This and a host of other errors are avoided if $V_\\textrm{s}=V_\\textrm{ref}$.\n",
    "\n",
    "Integrated circuits for reading bridge outputs such as the [HX711](https://cdn.sparkfun.com/datasheets/Sensors/ForceFlex/hx711_english.pdf) include all the necessary circuits, including the amplifier and ADC.\n",
    "\n",
    "Let's modify our scale to use an [HX711 breakout board](https://www.sparkfun.com/products/13879). Connect the $V_\\mathrm{DD}$ and $V_\\mathrm{CC}$ pins to `VUSB` of the ESP32 and `GND` to ground. Note that although the breakout board states a minimum supply of just 2.7V and hence operation from a single cell rechargable Lithium battery, doing so requires changing the feedback resistors, $R_1$ and/or $R_2$. Tie `DAT` and `CLK` to two used pins of the ESP32. The code below assumes 12 and 27, respectively.\n",
    "\n",
    "Also wire the load cell to the pins provided on the breakout board. My load cell does not have a shield, hence I left that pin unconnected. However I \"twisted\" the green and white wires from the load cell in an attempt to minimize electromagnic interference. Making these wires as short as possible also helps with noise."
   ]
  },
  {
   "cell_type": "markdown",
   "id": "1c19fec9-40bd-4958-899e-733ccbf4b2f7",
   "metadata": {},
   "source": [
    "## HX711 MicroPython Driver\n",
    "\n",
    "The HX711 requires a driver. Several versions for MicroPython are available, I chose [this one](https://github.com/robert-hh/hx711)."
   ]
  },
  {
   "cell_type": "code",
   "execution_count": 1,
   "id": "047b4173-53ae-4321-9b01-781675ede2ed",
   "metadata": {},
   "outputs": [
    {
     "name": "stdout",
     "output_type": "stream",
     "text": [
      "\u001b[0m\u001b[0m  % Total    % Received % Xferd  Average Speed   Time    Time     Time  Current\u001b[0m\n",
      "                                 Dload  Upload   Total   Spent    Left  Speed\u001b[0m\n",
      "100  2345  100  2345    0     0  12342      0 --:--:-- --:--:-- --:--:-- 12342\u001b[0m\n"
     ]
    }
   ],
   "source": [
    "%%bash\n",
    "\n",
    "url=https://raw.githubusercontent.com/robert-hh/hx711/master/hx711_gpio.py\n",
    "dst=$IOT_PROJECTS/balance/code/lib/hx711.py\n",
    "\n",
    "curl -o $dst $url"
   ]
  },
  {
   "cell_type": "markdown",
   "id": "9b7cd0d3-a86c-4dfb-a2ce-4ace0d8067da",
   "metadata": {},
   "source": [
    "## Updated Scale class\n",
    "\n",
    "Now update the `Scale` class to use the HX711 rather than the ADC in the ESP32. I call the new class `ScaleHX711` to easily switch between the two versions. \n",
    "\n",
    "Simply change\n",
    "\n",
    "```python\n",
    "from scale import Scale\n",
    "```\n",
    "\n",
    "in `main.py` to\n",
    "\n",
    "```python\n",
    "from scale_hx711 import ScaleHX711 as Scale\n",
    "```\n",
    "\n",
    "to use the new class, the code for which is below."
   ]
  },
  {
   "cell_type": "code",
   "execution_count": 1,
   "id": "32872ebb-81f1-4353-a52e-f725a8a9206b",
   "metadata": {},
   "outputs": [
    {
     "name": "stdout",
     "output_type": "stream",
     "text": [
      "\u001b[0m\u001b[0mWriting /home/iot/iot49.org/docs/projects/balance/code/lib/scale_hx711.py\u001b[0m\n"
     ]
    }
   ],
   "source": [
    "%%writefile $IOT_PROJECTS/balance/code/lib/scale_hx711.py\n",
    "from hx711 import HX711\n",
    "from machine import Pin\n",
    "        \n",
    "class ScaleHX711:\n",
    "    \n",
    "    def __init__(self, data_pin=12, clock_pin=27, scale=500/1059800):\n",
    "        self._scale = scale\n",
    "        pin_OUT = Pin(data_pin, Pin.IN, pull=Pin.PULL_DOWN)\n",
    "        pin_SCK = Pin(clock_pin, Pin.OUT)\n",
    "        self._hx711 = hx = HX711(pin_SCK, pin_OUT)\n",
    "        hx.tare(20)\n",
    "        hx.set_time_constant(0.25)\n",
    "        \n",
    "    @property\n",
    "    def hx711(self):\n",
    "        return self._hx711\n",
    "    \n",
    "    def measure(self, N=10):\n",
    "        hx = self._hx711\n",
    "        v = 0\n",
    "        for _ in range(N):\n",
    "            v += hx.get_value()\n",
    "        v /= N\n",
    "        return v * self._scale\n",
    "    \n",
    "    def tare(self, button):\n",
    "        self.hx711.tare(20)\n",
    "\n",
    "scale = ScaleHX711()\n",
    "\n",
    "while True:\n",
    "    print(\"read {:15.1f} grams\".format(scale.measure()))"
   ]
  },
  {
   "cell_type": "code",
   "execution_count": 1,
   "id": "a66f18eb-0fca-49fa-8ad8-cf3dcbe8d815",
   "metadata": {},
   "outputs": [
    {
     "name": "stdout",
     "output_type": "stream",
     "text": [
      "\u001b[0m\u001b[0m\u001b[0m\u001b[32mDirectories match\n",
      "\u001b[0m\u001b[0m"
     ]
    }
   ],
   "source": [
    "%connect balance -q\n",
    "%rsync"
   ]
  },
  {
   "cell_type": "markdown",
   "id": "19d5c3b6-da06-4849-ab3a-8c02eab4050b",
   "metadata": {},
   "source": [
    "Reset the microcontroller. Use either the display or the code below to test the new setup. The resolution of my scale is now better than 0.1 gram (the first digit after the comma does not flicker). Not bad!"
   ]
  },
  {
   "cell_type": "code",
   "execution_count": 1,
   "id": "9faccf20-ad23-4a71-a9c6-5aafc55bd216",
   "metadata": {
    "tags": [
     "hide-output"
    ]
   },
   "outputs": [
    {
     "name": "stdout",
     "output_type": "stream",
     "text": [
      "\u001b[0mread             0.0 grams\n",
      "\u001b[0mread             0.0 grams\n",
      "\u001b[0mread             0.0 grams\n",
      "\u001b[0mread             0.0 grams\n",
      "\u001b[0mread             0.0 grams\n",
      "\u001b[0mread             0.0 grams\n",
      "\u001b[0mread           113.1 grams\n",
      "\u001b[0mread           194.8 grams\n",
      "\u001b[0mread           199.9 grams\n",
      "\u001b[0mread           200.1 grams\n",
      "\u001b[0mread           200.2 grams\n",
      "\u001b[0mread           200.2 grams\n",
      "\u001b[0mread           200.1 grams\n",
      "\u001b[0mread           200.1 grams\n",
      "\u001b[0mread           200.1 grams\n",
      "\u001b[0mread           200.1 grams\n",
      "\u001b[0mread           200.1 grams\n",
      "\u001b[0mread           272.4 grams\n",
      "\u001b[0mread           666.0 grams\n",
      "\u001b[0mread           705.4 grams\n",
      "\u001b[0mread           701.0 grams\n",
      "\u001b[0mread           700.8 grams\n",
      "\u001b[0mread           700.8 grams\n",
      "\u001b[0mread           700.8 grams\n",
      "\u001b[0mread           700.8 grams\n",
      "\u001b[0mread           700.7 grams\n",
      "\u001b[0mread           701.7 grams\n",
      "\u001b[0mread           560.6 grams\n",
      "\u001b[0mread           503.7 grams\n",
      "\u001b[0mread           500.5 grams\n",
      "\u001b[0mread           500.3 grams\n",
      "\u001b[0mread           500.3 grams\n",
      "\u001b[0mread           500.3 grams\n",
      "\u001b[0m"
     ]
    },
    {
     "name": "stderr",
     "output_type": "stream",
     "text": [
      "Interrupted\u001b[0m\n"
     ]
    }
   ],
   "source": [
    "from scale_hx711 import ScaleHX711 as Scale\n",
    "\n",
    "scale = Scale()\n",
    "\n",
    "while True:\n",
    "    print(\"read {:15.1f} grams\".format(scale.measure()))"
   ]
  }
 ],
 "metadata": {
  "kernelspec": {
   "display_name": "IoT",
   "language": "python",
   "name": "iot_kernel"
  },
  "language_info": {
   "codemirror_mode": {
    "name": "python",
    "version": 3
   },
   "file_extension": ".py",
   "mimetype": "text/x-python",
   "name": "python",
   "pygments_lexer": "python3",
   "version": "3"
  }
 },
 "nbformat": 4,
 "nbformat_minor": 5
}
