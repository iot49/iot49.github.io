{
 "cells": [
  {
   "cell_type": "markdown",
   "id": "58581b91-dc2a-4a50-aa87-f11052cdde82",
   "metadata": {},
   "source": [
    "# Standalone App\n",
    "\n",
    "Our scale works great, except that it is still tethered to our development platform. Let's convert it into a standalone application.\n",
    "\n",
    "On power on, MicroPython looks for a file called `main.py` and executes it if found. Hence all we have to do is save our code to `main.py` and upload this file."
   ]
  },
  {
   "cell_type": "code",
   "execution_count": 1,
   "id": "6e51013d-971c-47c9-8d74-0aadb9d23247",
   "metadata": {},
   "outputs": [
    {
     "name": "stdout",
     "output_type": "stream",
     "text": [
      "\u001b[0m\u001b[0mcwd = /home/iot/iot49.org/docs/projects/balance\u001b[0m\n",
      "\u001b[0m\u001b[46m\u001b[30mConnected to balance @ serial:///dev/ttyUSB0\u001b[0m\n"
     ]
    }
   ],
   "source": [
    "%cd $IOT/iot49.org/docs/projects/balance\n",
    "%connect balance"
   ]
  },
  {
   "cell_type": "code",
   "execution_count": 3,
   "id": "ed501405-481c-48a0-92a3-ee9465f01cba",
   "metadata": {},
   "outputs": [
    {
     "name": "stdout",
     "output_type": "stream",
     "text": [
      "\u001b[0mWriting lib/main.py\n"
     ]
    }
   ],
   "source": [
    "%%writefile lib/main.py\n",
    "\n",
    "import ble_uart_peripheral\n",
    "import bluetooth\n",
    "\n",
    "from machine import Pin, I2C\n",
    "from ssd1306 import SSD1306_I2C\n",
    "from scale import Scale\n",
    "from button import Button\n",
    "\n",
    "# configure the Bluetooth UART\n",
    "ble = bluetooth.BLE()\n",
    "uart = ble_uart_peripheral.BLEUART(ble)\n",
    "\n",
    "# Scale & Display\n",
    "i2c = I2C(0, scl=Pin(22), sda=Pin(23))\n",
    "\n",
    "oled_width = 128\n",
    "oled_height = 32\n",
    "oled = SSD1306_I2C(oled_width, oled_height, i2c)\n",
    "\n",
    "scale = Scale()\n",
    "tare_button = Button(15, scale.tare)\n",
    "\n",
    "last_weight = 500\n",
    "while True:\n",
    "    weight = scale.measure()\n",
    "    if abs(weight-last_weight) > 3:\n",
    "        # send via Bluetooth\n",
    "        uart.write(\"{:8.0f} gram\\n\".format(weight))\n",
    "        # show on display\n",
    "        oled.fill(0)\n",
    "        oled.text(\"{:8.0f} gram\".format(weight), 0, 12)\n",
    "        oled.show()\n",
    "        last_weight = weight"
   ]
  },
  {
   "cell_type": "markdown",
   "id": "155a6874-302d-48ac-a441-2b847e634315",
   "metadata": {},
   "source": [
    "Modify the device configuration to include `main.py`."
   ]
  },
  {
   "cell_type": "code",
   "execution_count": 2,
   "id": "64ae4400-e445-4253-b85b-d157f870f8d2",
   "metadata": {},
   "outputs": [
    {
     "name": "stdout",
     "output_type": "stream",
     "text": [
      "\u001b[0mbalance:\n",
      "    uid: 24:0a:c4:12:87:7c\n",
      "    resources:\n",
      "        - lib\n",
      "        - main.py: /\n"
     ]
    }
   ],
   "source": [
    "!cat devices/balance.yaml"
   ]
  },
  {
   "cell_type": "code",
   "execution_count": 1,
   "id": "f15375d0-3ef4-4265-8737-61904dd3c902",
   "metadata": {},
   "outputs": [
    {
     "name": "stdout",
     "output_type": "stream",
     "text": [
      "\u001b[0m\u001b[0m\u001b[32mDirectories match\n",
      "\u001b[0m\u001b[0m"
     ]
    }
   ],
   "source": [
    "%rsync"
   ]
  },
  {
   "cell_type": "markdown",
   "id": "61f585b3-853a-47b9-9bec-8cd9e5664129",
   "metadata": {},
   "source": [
    "That's it! Plug the device into a USB power source or just power cycle and continue using the Raspberry Pi as power source. The app will start running-check the display and Bluetooth."
   ]
  },
  {
   "cell_type": "code",
   "execution_count": null,
   "id": "b6825957-ab8e-4a4d-84f2-7a8aec173cc0",
   "metadata": {},
   "outputs": [],
   "source": []
  }
 ],
 "metadata": {
  "kernelspec": {
   "display_name": "IoT",
   "language": "python",
   "name": "iot_kernel"
  },
  "language_info": {
   "codemirror_mode": {
    "name": "python",
    "version": 3
   },
   "file_extension": ".py",
   "mimetype": "text/x-python",
   "name": "python",
   "pygments_lexer": "python3",
   "version": "3"
  }
 },
 "nbformat": 4,
 "nbformat_minor": 5
}
