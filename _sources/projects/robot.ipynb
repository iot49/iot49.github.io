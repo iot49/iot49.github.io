{
 "cells": [
  {
   "cell_type": "markdown",
   "id": "adb954d7-112b-4e85-819c-c91afa9721b1",
   "metadata": {},
   "source": [
    "# Robot\n",
    "\n",
    "Download the code and instructions:"
   ]
  },
  {
   "cell_type": "code",
   "execution_count": null,
   "id": "1e7d9511-c5ec-42bd-a96b-44753c20ebc8",
   "metadata": {},
   "outputs": [],
   "source": [
    "%%bash\n",
    "\n",
    "cd $IOT_PROJECTS\n",
    "svn checkout https://github.com/iot49/iot49.org/trunk/docs/projects/robot"
   ]
  }
 ],
 "metadata": {
  "kernelspec": {
   "display_name": "IoT",
   "language": "python",
   "name": "iot_kernel"
  },
  "language_info": {
   "codemirror_mode": {
    "name": "python",
    "version": 3
   },
   "file_extension": ".py",
   "mimetype": "text/x-python",
   "name": "python",
   "pygments_lexer": "python3",
   "version": "3"
  }
 },
 "nbformat": 4,
 "nbformat_minor": 5
}
