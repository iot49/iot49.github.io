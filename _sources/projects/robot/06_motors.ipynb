{
 "cells": [
  {
   "cell_type": "markdown",
   "id": "f09cbbae-07b4-4d73-8189-f314534aefdb",
   "metadata": {},
   "source": [
    "# Motor Characteristics\n",
    "\n",
    "## RPM vs Duty Cycle\n",
    "\n",
    "### Openloop Response"
   ]
  },
  {
   "cell_type": "code",
   "execution_count": 4,
   "id": "0955d7d1-c8be-4ff2-8813-eff6daaf2e0c",
   "metadata": {},
   "outputs": [
    {
     "name": "stdout",
     "output_type": "stream",
     "text": [
      "Comm aenter start _repl\n",
      "comm._repl exec_no_follow ... from robot import Robot\n",
      "Robot(1000000)\n",
      "\n",
      "connect /dev/ttyAMA1\n",
      "Comm aenter connect to AMA2\n",
      "Comm aenter start cmd_response\n",
      "*** PI: unknown type: 255\n",
      "MCU: start Comm @ 1000000 baud\n",
      "     \n",
      "Comm aenter DONE\n"
     ]
    }
   ],
   "source": [
    "%%host\n",
    "\n",
    "import nest_asyncio, sys, os\n",
    "nest_asyncio.apply()\n",
    "sys.path.append(os.path.join(os.getenv('IOT_PROJECTS'), 'robot/code/rpi'))\n",
    "\n",
    "from example_robot import ExampleRobot\n",
    "import numpy as np\n",
    "import asyncio\n",
    "import stm32\n",
    "\n",
    "# stm32.rsync()\n",
    "\n",
    "\n",
    "class Motor(ExampleRobot):\n",
    "    \n",
    "    async def new_plot(self):\n",
    "        spec = await super().new_plot()\n",
    "        spec[\"columns\"] = [ 'duty', 'duty cm', 'tacho cm', 'tacho diff' ]\n",
    "        return spec\n",
    "    \n",
    "    async def update_plot(self):\n",
    "        return [ await self.get('DUTY_CM'),\n",
    "                 await self.get('DUTY_CM'),\n",
    "                 await self.get('TACHO_CM'),\n",
    "                 await self.get('TACHO_DIFF') ]\n",
    "\n",
    "        \n",
    "async def rpm_vs_duty():\n",
    "    async with Motor() as robot:\n",
    "        await robot.set('FS', 20)\n",
    "        await robot.set('PWM_FREQ', 10_000)\n",
    "        await robot.start()\n",
    "        span = 50\n",
    "        for duty in np.linspace(-span, span, 20):\n",
    "            await robot.set('DUTY_CM', duty)\n",
    "            await asyncio.sleep(0.5)\n",
    "\n",
    "asyncio.run(rpm_vs_duty())"
   ]
  },
  {
   "cell_type": "markdown",
   "id": "20287c3c-191a-4307-9429-11fcad1c355c",
   "metadata": {},
   "source": [
    "### Feedforward Control"
   ]
  },
  {
   "cell_type": "code",
   "execution_count": 23,
   "id": "1e33f0a6-e2e6-4db9-875b-694bddd5af83",
   "metadata": {},
   "outputs": [
    {
     "name": "stdout",
     "output_type": "stream",
     "text": [
      "Comm aenter start _repl\n",
      "comm._repl exec_no_follow ... from robot import Robot\n",
      "Robot(1000000)\n",
      "\n",
      "connect /dev/ttyAMA1\n",
      "Comm aenter connect to AMA2\n",
      "Comm aenter start cmd_response\n",
      "*** PI: unknown type: 255\n",
      "MCU: start Comm @ 1000000 baud\n",
      "     \n",
      "Comm aenter DONE\n"
     ]
    }
   ],
   "source": [
    "%%host\n",
    "\n",
    "DEAD_ZONE = 8\n",
    "\n",
    "def fix_duty(duty):\n",
    "    if abs(duty) > 1:\n",
    "        return duty+DEAD_ZONE if duty>0 else duty-DEAD_ZONE\n",
    "    else:\n",
    "        return 0\n",
    "\n",
    "def unfix_duty(duty):\n",
    "    if abs(duty) < DEAD_ZONE: return duty\n",
    "    return duty-DEAD_ZONE if duty > 0 else duty+DEAD_ZONE\n",
    "\n",
    "\n",
    "class Motor(ExampleRobot):\n",
    "    \n",
    "    async def new_plot(self):\n",
    "        spec = await super().new_plot()\n",
    "        spec[\"columns\"] = [ 'duty', 'tacho cm', 'tacho diff' ]\n",
    "        return spec\n",
    "    \n",
    "    async def update_plot(self):\n",
    "        duty = await self.get('DUTY_CM')\n",
    "        return [ unfix_duty(duty),\n",
    "                 await self.get('TACHO_CM'),\n",
    "                 await self.get('TACHO_DIFF') ]\n",
    "\n",
    "async def rpm_vs_duty():\n",
    "    async with Motor() as robot:\n",
    "        await robot.set('FS', 20)\n",
    "        await robot.set('PWM_FREQ', 10_000)\n",
    "        await robot.start()\n",
    "        span = 10\n",
    "        for duty in np.linspace(-span, span, 20):\n",
    "            duty = fix_duty(duty)\n",
    "            await robot.set('DUTY_CM', duty)\n",
    "            await asyncio.sleep(0.5)\n",
    "\n",
    "asyncio.run(rpm_vs_duty())"
   ]
  },
  {
   "cell_type": "markdown",
   "id": "9d05bdeb-15e4-4cb9-b158-0ed27251b7a3",
   "metadata": {},
   "source": [
    "### Speed Controller V1"
   ]
  },
  {
   "cell_type": "code",
   "execution_count": 19,
   "id": "d24d4cff-4b94-40b0-b38c-e5b94423a8d9",
   "metadata": {},
   "outputs": [
    {
     "name": "stdout",
     "output_type": "stream",
     "text": [
      "Writing /home/iot/iot49.org/docs/projects/robot/code/stm32/lib/speed_control.py\n"
     ]
    }
   ],
   "source": [
    "%%writefile $IOT_PROJECTS/robot/code/stm32/lib/speed_control.py\n",
    "from robot import STATE, DUTY_CM, DUTY_DEAD, SET_DUTY_CM\n",
    "from robot import Controller\n",
    "\n",
    "class Control(Controller):\n",
    "    \n",
    "    def __init__(self, uart):\n",
    "        super().__init__(uart)\n",
    "        self.dz = STATE[DUTY_DEAD]\n",
    "        \n",
    "    def update(self):\n",
    "        STATE[DUTY_CM] = self.fix_duty(STATE[SET_DUTY_CM])\n",
    "    \n",
    "    def fix_duty(self, duty):\n",
    "        if abs(duty) > 0.5:\n",
    "            DZ = self.dz\n",
    "            return duty+DZ if duty>0 else duty-DZ\n",
    "        return 0"
   ]
  },
  {
   "cell_type": "code",
   "execution_count": 21,
   "id": "fae0a02f-493b-41df-9b9e-922593078e5f",
   "metadata": {},
   "outputs": [
    {
     "name": "stdout",
     "output_type": "stream",
     "text": [
      "\u001b[32mDirectories match\n",
      "\u001b[0m*** PI: unknown type: 255\n",
      "MCU: start Comm @ 1000000 baud\n",
      "     \n"
     ]
    }
   ],
   "source": [
    "%%host\n",
    "import nest_asyncio, sys, os\n",
    "nest_asyncio.apply()\n",
    "sys.path.append(os.path.join(os.getenv('IOT_PROJECTS'), 'robot/code/rpi'))\n",
    "\n",
    "from example_robot import ExampleRobot\n",
    "import numpy as np\n",
    "import asyncio\n",
    "import stm32\n",
    "\n",
    "stm32.rsync()\n",
    "\n",
    "class Motor(ExampleRobot):\n",
    "    \n",
    "    async def new_plot(self):\n",
    "        spec = await super().new_plot()\n",
    "        spec[\"columns\"] = [ 'set duty', 'duty', 'tacho cm', 'tacho diff' ]\n",
    "        return spec\n",
    "    \n",
    "    async def update_plot(self):\n",
    "        return [ await self.get('SET_DUTY_CM'),\n",
    "                 await self.get('DUTY_CM'),\n",
    "                 await self.get('TACHO_CM'),\n",
    "                 await self.get('TACHO_DIFF') ]\n",
    "\n",
    "async def rpm_vs_duty():\n",
    "    async with Motor() as robot:\n",
    "        await robot.set('FS', 20)\n",
    "        await robot.set('PWM_FREQ', 10_000)\n",
    "        await robot.set('DUTY_DEAD', 9)\n",
    "        await robot.start('speed_control')\n",
    "        span = 5\n",
    "        for duty in np.linspace(-span, span, 50):\n",
    "            await robot.set('SET_DUTY_CM', duty)\n",
    "            await asyncio.sleep(0.5)\n",
    "\n",
    "asyncio.run(rpm_vs_duty())"
   ]
  },
  {
   "cell_type": "markdown",
   "id": "349406b4-c737-4a3c-9dd4-400394104173",
   "metadata": {},
   "source": [
    "## Step Response\n",
    "\n",
    "Openloop time constant ~ 20ms"
   ]
  },
  {
   "cell_type": "code",
   "execution_count": 22,
   "id": "4ce05ccf-6903-489b-9ff9-d7baaa87c37d",
   "metadata": {},
   "outputs": [
    {
     "name": "stdout",
     "output_type": "stream",
     "text": [
      "*** PI: unknown type: 255\n",
      "MCU: start Comm @ 1000000 baud\n",
      "     \n"
     ]
    }
   ],
   "source": [
    "%%host\n",
    "\n",
    "import nest_asyncio, sys, os\n",
    "nest_asyncio.apply()\n",
    "sys.path.append(os.path.join(os.getenv('IOT_PROJECTS'), 'robot/code/rpi'))\n",
    "\n",
    "from example_robot import ExampleRobot\n",
    "import numpy as np\n",
    "import asyncio\n",
    "import stm32\n",
    "\n",
    "\n",
    "class Motor(ExampleRobot):\n",
    "    \n",
    "    async def new_plot(self):\n",
    "        spec = await super().new_plot()\n",
    "        spec[\"columns\"] = [ 'time [s]', 'tacho cm', 'tacho diff' ]\n",
    "        spec[\"layout\"] = \"scatter_plot\"\n",
    "        spec[\"args\"] = { \n",
    "                \"title\": f\"Motor Step Response\",\n",
    "                \"plot_width\": 1200,\n",
    "                \"plot_height\": 700,\n",
    "            }\n",
    "        return spec\n",
    "    \n",
    "    async def update_plot(self):\n",
    "        t = await self.get('K') / await self.get('FS')\n",
    "        return [ t,\n",
    "                 await self.get('TACHO_CM'),\n",
    "                 await self.get('TACHO_DIFF') ]\n",
    "\n",
    "        \n",
    "async def step():\n",
    "    async with Motor() as robot:\n",
    "        await robot.set('FS', 250)\n",
    "        await robot.set('PWM_FREQ', 10_000)\n",
    "        await robot.start()\n",
    "        # await asyncio.sleep(0.1)\n",
    "        duty = 80\n",
    "        await robot.set('DUTY_CM', duty)\n",
    "        await asyncio.sleep(0.15)\n",
    "\n",
    "asyncio.run(step())"
   ]
  },
  {
   "cell_type": "markdown",
   "id": "5fa5d38e-a898-4a37-8065-e80adff09ee7",
   "metadata": {},
   "source": [
    "## PID Controller\n",
    "\n",
    "In the PID controller shown below, the \"plant/process\" is the controlled system (e.g. a motor). `r(t)` is the setpoint (desired value, e.g. motor rpm), `y(t)` is the actual value (e.g. motor rpm measured by an encoder), and `u(t)` is the control input (e.g. motor duty cycle). The controller attempts to minimize the error `e(t)`, i.e. make `y(t)` follow `r(t)`.\n",
    "\n",
    "![](figures/PID_en.svg)\n",
    "\n",
    "PID controller code:"
   ]
  },
  {
   "cell_type": "code",
   "execution_count": 6,
   "id": "f47e6694-0f89-4897-a390-e5d02a10ce11",
   "metadata": {},
   "outputs": [
    {
     "name": "stdout",
     "output_type": "stream",
     "text": [
      "Writing /home/iot/iot49.org/docs/projects/robot/code/stm32/lib/robot/PID.py\n"
     ]
    }
   ],
   "source": [
    "%%writefile $IOT_PROJECTS/robot/code/stm32/lib/robot/PID.py\n",
    "# Based on https://github.com/br3ttb/Arduino-PID-Library\n",
    "\n",
    "from array import array\n",
    "\n",
    "# config vector (may be dynamically updated)\n",
    "SETPOINT = const(0)  # setpoint            \n",
    "KP       = const(1)  # proportional term\n",
    "KI       = const(2)  # scaled by /fs\n",
    "KD       = const(3)  # scaled by *fs\n",
    "U_MIN    = const(4)  # minimum PID output (anti-windup)\n",
    "U_MAX    = const(5)  # maximum PID output (anti-windup)\n",
    "\n",
    "# state (used internally)\n",
    "_SUM     = const(6)\n",
    "_Y       = const(7)\n",
    "\n",
    "class PID:\n",
    "    \n",
    "    def __init__(self, config):\n",
    "        self.config = config\n",
    "    \n",
    "    def update(self, y):\n",
    "        \"\"\"compute & return new PID output u from plant output y\"\"\"\n",
    "        c = self.config\n",
    "        err = c[SETPOINT] - y\n",
    "        c[_SUM] += self._clip(c[KI] * err)   # integrator state\n",
    "        u = self._clip(c[KP] * err + c[_SUM] - c[KD] * (y - c[_Y]))\n",
    "        c[_Y] = y   # save last y (for KD term)\n",
    "        return u\n",
    "    \n",
    "    def _clip(self, value):\n",
    "        c = self.config\n",
    "        if value > c[U_MAX]: return c[U_MAX]\n",
    "        if value < c[U_MIN]: return c[U_MIN]\n",
    "        return value"
   ]
  },
  {
   "cell_type": "markdown",
   "id": "8ae2da32-8cc9-4840-b9c9-f32f9ae1bb41",
   "metadata": {},
   "source": [
    "## Feedback Speed Controller\n",
    "\n",
    "Now we use a PID controller to determine the duty cycle to achieve a set speed determined by the cpt count.\n",
    "\n",
    "We use the average cpt count for the two motors. A second PID controller will be added later to set the difference for turning."
   ]
  },
  {
   "cell_type": "code",
   "execution_count": 15,
   "id": "c08c9fd4-4681-4d39-a525-083f5d6a9ef1",
   "metadata": {},
   "outputs": [
    {
     "name": "stdout",
     "output_type": "stream",
     "text": [
      "Writing /home/iot/iot49.org/docs/projects/robot/code/stm32/lib/speed_control.py\n"
     ]
    }
   ],
   "source": [
    "%%writefile $IOT_PROJECTS/robot/code/stm32/lib/speed_control.py\n",
    "from robot import STATE, DUTY_CM, DUTY_DEAD, TACHO_CM, PID_TACH_CM\n",
    "from robot import Controller, PID\n",
    "from robot import SETPOINT, KP\n",
    "\n",
    "class Control(Controller):\n",
    "    \n",
    "    def __init__(self, uart):\n",
    "        super().__init__(uart)\n",
    "        self.dz  = STATE[DUTY_DEAD]\n",
    "        self.pid = PID(memoryview(STATE)[PID_TACH_CM:])\n",
    "        \n",
    "    def update(self):\n",
    "        duty = self.pid.update(STATE[TACHO_CM])\n",
    "        STATE[DUTY_CM] = self.fix_duty(duty)\n",
    "    \n",
    "    def fix_duty(self, duty):\n",
    "        if abs(duty) > 0.5:\n",
    "            DZ = self.dz\n",
    "            return duty+DZ if duty>0 else duty-DZ\n",
    "        return 0"
   ]
  },
  {
   "cell_type": "code",
   "execution_count": 8,
   "id": "191015ae-f994-494b-9edb-73c27a809546",
   "metadata": {},
   "outputs": [
    {
     "name": "stdout",
     "output_type": "stream",
     "text": [
      "stm32.rsync\n",
      "repl = <iot_device.repl_protocol.ReplProtocol object at 0x7f54f18ca0>\n",
      "\u001b[32mDirectories match\n",
      "\u001b[0mrsynced\n",
      "Comm aenter start _repl\n",
      "comm._repl exec_no_follow ... from robot import Robot\n",
      "Robot(1000000)\n",
      "\n",
      "connect /dev/ttyAMA1\n",
      "Comm aenter connect to AMA2\n",
      "Comm aenter start cmd_response\n",
      "*** PI: unknown type: 255\n",
      "MCU: start Comm @ 1000000 baud\n",
      "     \n",
      "Comm aenter DONE\n",
      "set_kp 0.5 =?= 0.5\n",
      "start!\n",
      "set_kp 0.6 =?= 0.6000000238418579\n",
      "so long\n"
     ]
    }
   ],
   "source": [
    "%%host\n",
    "\n",
    "import nest_asyncio, sys, os\n",
    "nest_asyncio.apply()\n",
    "sys.path.append(os.path.join(os.getenv('IOT_PROJECTS'), 'robot/code/rpi'))\n",
    "\n",
    "from example_robot import ExampleRobot\n",
    "import numpy as np\n",
    "import asyncio\n",
    "import stm32\n",
    "\n",
    "# stm32.hard_reset(quiet=False)\n",
    "# stm32.rsync()\n",
    "\n",
    "PID = 'TACH_CM'\n",
    "\n",
    "class Motor(ExampleRobot):\n",
    "    \n",
    "    BLE_PID = 'TACH_CM'\n",
    "    BLE_X   = 'DUTY_CM'\n",
    "    BLE_Y   = 'DUTY_DIFF'\n",
    "    \n",
    "    async def ble_event(self, code: str, value: float):\n",
    "        # print(f\"ble_event: {code} {value:8.2f}\")\n",
    "        if code == 'x':\n",
    "            cm = await self.get(BLE_Y)\n",
    "            df = abs(100-abs(cm))\n",
    "            await self.set(BLE_X, df*value)\n",
    "            return\n",
    "        if code == 'y':\n",
    "            await self.set(BLE_Y, 80*value)\n",
    "            return\n",
    "        if value < 0:\n",
    "            value = 0\n",
    "        if code == '1':\n",
    "            await self.set_pid(self.BLE_PID, 'KP', 0.1*value)\n",
    "        if code == '2':\n",
    "            await self.set_pid(self.BLE_PID, 'KI', 0.1*value)\n",
    "        if code == '3':\n",
    "            await self.set_pid(self.BLE_PID, 'KD', 0.1*value)\n",
    "        if code in [ '1', '2', '3' ]:\n",
    "            kp = await self.get_pid(PID, 'KP', verify=True)\n",
    "            ki = await self.get_pid(PID, 'KI', verify=True)\n",
    "            kd = await self.get_pid(PID, 'KD', verify=True)\n",
    "            print(f\"PID: {kp:8.2f} {ki:8.2f} {kd:8.2f}\")                  \n",
    "        await super().ble_event(code, value)\n",
    "\n",
    "    async def new_plot(self):\n",
    "        spec = await super().new_plot()\n",
    "        spec[\"columns\"] = [ 'set tacho', 'set tacho cm', 'tacho cm', 'duty cm' ]\n",
    "        spec[\"rollover\"] = 1400\n",
    "        spec[\"args\"] = { \n",
    "                \"title\": f\"Motor Step Response\",\n",
    "                \"plot_width\": 1200,\n",
    "                \"plot_height\": 700,\n",
    "            }\n",
    "        return spec\n",
    "    \n",
    "    async def update_plot(self):\n",
    "        return [\n",
    "            await self.get_pid(PID, 'SETPOINT'),\n",
    "            await self.get_pid(PID, 'SETPOINT'),\n",
    "            await self.get('TACHO_CM'),\n",
    "            await self.get('DUTY_CM'),\n",
    "        ]\n",
    "        \n",
    "async def set_kp(robot, v):\n",
    "    await robot.set_pid(PID, 'KP', v)\n",
    "    print(f\"set_kp {v} =?= {await robot.get_pid(PID, 'KP', verify=True)}\")\n",
    "\n",
    "async def run():\n",
    "    async with Motor(enable_remote=False) as robot:\n",
    "        robot.BLE_PID = PID\n",
    "        await robot.set('FS', 10)\n",
    "        await robot.set('PWM_FREQ', 10_000)\n",
    "        await robot.set('DUTY_DEAD', 0)\n",
    "        await robot.set_pid(PID, 'U_MIN', -100)\n",
    "        await robot.set_pid(PID, 'U_MAX',  100)\n",
    "        await set_kp(robot, 0.5)\n",
    "        await robot.start('speed_control')\n",
    "        while True: #not robot.stop:\n",
    "            N = 40\n",
    "            span = 30\n",
    "            for cps in np.linspace(-span, span, N):\n",
    "                await robot.set_pid(PID, 'SETPOINT', cps)\n",
    "                await asyncio.sleep(0.2)\n",
    "            for cps in np.linspace(span, -span, N):\n",
    "                await robot.set_pid(PID, 'SETPOINT', cps)\n",
    "                await asyncio.sleep(0.2)\n",
    "            await set_kp(robot, (await robot.get_pid(PID, 'KP', verify=True)) + 0.1)\n",
    "\n",
    "try:\n",
    "    asyncio.run(run())\n",
    "except KeyboardInterrupt:\n",
    "    print(\"so long\")"
   ]
  },
  {
   "cell_type": "code",
   "execution_count": 2,
   "id": "8cdefc77-c5f2-4b40-a691-e8e690e4700f",
   "metadata": {},
   "outputs": [],
   "source": [
    "%%service host\n",
    "systemctl restart hciuart.service"
   ]
  }
 ],
 "metadata": {
  "kernelspec": {
   "display_name": "IoT",
   "language": "python",
   "name": "iot_kernel"
  },
  "language_info": {
   "codemirror_mode": {
    "name": "python",
    "version": 3
   },
   "file_extension": ".py",
   "mimetype": "text/x-python",
   "name": "python",
   "pygments_lexer": "python3",
   "version": "3"
  }
 },
 "nbformat": 4,
 "nbformat_minor": 5
}
