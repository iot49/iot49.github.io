{
 "cells": [
  {
   "cell_type": "markdown",
   "id": "c782a085-1336-4a29-baf2-42cae5b24d0d",
   "metadata": {},
   "source": [
    "# Scratch"
   ]
  },
  {
   "cell_type": "code",
   "execution_count": 1,
   "id": "c40fd2d2-f05e-4717-a574-b328b5e40263",
   "metadata": {},
   "outputs": [
    {
     "name": "stdout",
     "output_type": "stream",
     "text": [
      "\u001b[46m\u001b[30mConnected to robot-stm32 @ serial:///dev/ttyAMA1\u001b[0m\n",
      "\u001b[34mUPDATE  /flash/lib/robot/controller.py\n",
      "\u001b[0m"
     ]
    }
   ],
   "source": [
    "%connect serial:///dev/ttyAMA1\n",
    "%rsync"
   ]
  },
  {
   "cell_type": "code",
   "execution_count": 1,
   "id": "3100be23-0464-4b83-9c7c-a14ab52570f9",
   "metadata": {},
   "outputs": [
    {
     "name": "stdout",
     "output_type": "stream",
     "text": [
      "\n",
      "\u001b[46m\u001b[31m!!!!!!!!!!!!!!!!!!!!!!!!!!!!!!!\u001b[0m\n",
      "\u001b[46m\u001b[31m!!!!!   softreset ...     !!!!!\u001b[0m\n",
      "\u001b[46m\u001b[31m!!!!!!!!!!!!!!!!!!!!!!!!!!!!!!!\u001b[0m\n"
     ]
    }
   ],
   "source": [
    "%softreset"
   ]
  },
  {
   "cell_type": "code",
   "execution_count": 1,
   "id": "5d21d4ad-eeb0-4338-b670-ff779e585642",
   "metadata": {},
   "outputs": [
    {
     "name": "stdout",
     "output_type": "stream",
     "text": [
      "0\n",
      "1\n",
      "128\n",
      "2187\n",
      "16384\n"
     ]
    }
   ],
   "source": [
    "for i in range(5): print(i**7)"
   ]
  },
  {
   "cell_type": "code",
   "execution_count": 1,
   "id": "d55e67be-d301-45b6-b7f3-14cb7f79737b",
   "metadata": {},
   "outputs": [],
   "source": [
    "from pyb import Pin\n",
    "\n",
    "nstby = Pin('NSTBY', mode=Pin.OUT_PP)"
   ]
  },
  {
   "cell_type": "code",
   "execution_count": 1,
   "id": "d33333bc-2a91-4534-ac15-74b7925c628f",
   "metadata": {},
   "outputs": [],
   "source": [
    "nstby.value(0)"
   ]
  },
  {
   "cell_type": "code",
   "execution_count": 1,
   "id": "5171efbd-8164-4924-832f-9b01809af42f",
   "metadata": {},
   "outputs": [],
   "source": [
    "nstby.value(1)"
   ]
  },
  {
   "cell_type": "code",
   "execution_count": 1,
   "id": "19c767e5-a111-42ff-93ff-678ff4a8c58c",
   "metadata": {},
   "outputs": [
    {
     "name": "stdout",
     "output_type": "stream",
     "text": [
      "['__class__', '__init__', '__module__', '__name__', '__qualname__', '__bases__', '__dict__', '_cmds']\n"
     ]
    }
   ],
   "source": [
    "import speed_control\n",
    "from robot import Robot\n",
    "print(dir(Robot))\n"
   ]
  },
  {
   "cell_type": "code",
   "execution_count": 1,
   "id": "6c36023c-38ea-40cc-9a5d-a707e03635f1",
   "metadata": {},
   "outputs": [
    {
     "name": "stdout",
     "output_type": "stream",
     "text": [
      "c 100.0\n",
      "100.0\n"
     ]
    }
   ],
   "source": [
    "from robot import *\n",
    "\n",
    "config = memoryview(STATE)[PID_TACH_CM:]\n",
    "pid = PID(config)\n",
    "\n",
    "config[U_MIN] = -100\n",
    "\n",
    "config[U_MAX] = 100\n",
    "\n",
    "\n",
    "\n",
    "config[SETPOINT] = 100\n",
    "config[KP] = 1\n",
    "\n",
    "        \n",
    "duty = pid.update(STATE[TACHO_CM])\n",
    "c = pid.config\n",
    "print(\"c\", c[0])\n",
    "STATE[DUTY_CM] = duty\n",
    "\n",
    "print(duty)\n"
   ]
  },
  {
   "cell_type": "code",
   "execution_count": 1,
   "id": "3719b7b4-ed8a-44ad-a172-c0fe92024878",
   "metadata": {},
   "outputs": [
    {
     "name": "stdout",
     "output_type": "stream",
     "text": [
      "<module 'speed_control' from '/flash/lib/speed_control.py'>\n",
      "['__class__', '__name__', '__file__', 'STATE', 'DUTY_DEAD', 'SET_DUTY_CM', 'Controller', 'Control']\n"
     ]
    }
   ],
   "source": [
    "print(__import__(\"speed_control\"))\n",
    "m = __import__(\"speed_control\")\n",
    "print(dir(m))"
   ]
  },
  {
   "cell_type": "code",
   "execution_count": 13,
   "id": "c9c8d7dc-da0d-46bb-9527-6275b7155aca",
   "metadata": {},
   "outputs": [
    {
     "name": "stdout",
     "output_type": "stream",
     "text": [
      "<class 'numpy.ndarray'> [0 1 2 3 4] 5\n",
      "b'\\x00\\x00\\x00\\x00\\x00\\x00\\x80?\\x00\\x00\\x00@\\x00\\x00@@\\x00\\x00\\x80@'\n",
      "(0.0, 1.0, 2.0, 3.0, 4.0)\n"
     ]
    }
   ],
   "source": [
    "%%host\n",
    "\n",
    "import numpy as np\n",
    "from struct import pack, unpack\n",
    "\n",
    "a = np.array(list(range(5)))\n",
    "print(type(a), a, len(a))\n",
    "\n",
    "p = pack(f\"{len(a)}f\", *a)\n",
    "print(p)\n",
    "print(unpack(f\"{len(a)}f\", p))"
   ]
  },
  {
   "cell_type": "code",
   "execution_count": 2,
   "id": "eb8f50f9-eb59-4dfc-9793-ccdc6ca1229d",
   "metadata": {},
   "outputs": [
    {
     "name": "stdout",
     "output_type": "stream",
     "text": [
      "F5:78:D2:09:01:DE: BMV\n",
      "5A:E3:8F:5B:91:9E: 5A-E3-8F-5B-91-9E\n",
      "A4:C1:38:A7:84:1C: xiaoxiang BMS\n",
      "40:B7:FA:80:4E:BD: 40-B7-FA-80-4E-BD\n",
      "1F:CC:99:2C:FE:BF: 1F-CC-99-2C-FE-BF\n",
      "61:AA:BF:03:9B:18: 61-AA-BF-03-9B-18\n",
      "68:2B:B6:A3:52:67: 68-2B-B6-A3-52-67\n",
      "CF:0C:19:82:5E:00: BLEsmart_000001100F0C19825E00\n",
      "5E:56:AF:A1:AA:E9: 5E-56-AF-A1-AA-E9\n",
      "DD:34:02:06:76:D4: BlueCharm_173539\n"
     ]
    }
   ],
   "source": [
    "%%host\n",
    "\n",
    "import asyncio\n",
    "from bleak import BleakScanner\n",
    "\n",
    "async def main():\n",
    "    devices = await BleakScanner.discover()\n",
    "    for d in devices:\n",
    "        print(d)\n",
    "\n",
    "await main()"
   ]
  },
  {
   "cell_type": "code",
   "execution_count": null,
   "id": "2990a7b8-cfab-42df-818b-ef3102a93ad3",
   "metadata": {},
   "outputs": [],
   "source": []
  },
  {
   "cell_type": "code",
   "execution_count": null,
   "id": "d9d2582d-5226-410a-8aa3-34f1e15fc578",
   "metadata": {},
   "outputs": [],
   "source": []
  },
  {
   "cell_type": "markdown",
   "id": "14af35b0-dc38-450b-94d1-4a765371b323",
   "metadata": {},
   "source": [
    "$$\n",
    "H(z) = \\frac{a}{1 - (1-a)z^{-1}}\n",
    "$$\n",
    "\n",
    "$$\n",
    "a = \\frac{1}{1+\\tau f_s}\n",
    "$$"
   ]
  },
  {
   "cell_type": "code",
   "execution_count": null,
   "id": "a49dc233-5e2e-49ef-a53c-9c652ba95f3d",
   "metadata": {},
   "outputs": [],
   "source": [
    "%%host\n",
    "\n",
    "fs = 100\n",
    "tau = 0.1\n",
    "a = 1/(1+tau*fs)\n",
    "\n",
    "def lpf(x, y_last):\n",
    "    return y_last + a*(x-y_last)"
   ]
  },
  {
   "cell_type": "code",
   "execution_count": null,
   "id": "cd89b6e8-d4b3-43f3-aa56-2626f819c0b8",
   "metadata": {},
   "outputs": [],
   "source": [
    "%%host\n",
    "\n",
    "y = 0\n",
    "for x in range(20):\n",
    "    y = lpf(2, y)\n",
    "    print(y)"
   ]
  },
  {
   "cell_type": "code",
   "execution_count": null,
   "id": "b40e826d-1964-457a-9c96-2c063cb90a3b",
   "metadata": {},
   "outputs": [],
   "source": []
  }
 ],
 "metadata": {
  "kernelspec": {
   "display_name": "IoT",
   "language": "python",
   "name": "iot_kernel"
  },
  "language_info": {
   "codemirror_mode": {
    "name": "python",
    "version": 3
   },
   "file_extension": ".py",
   "mimetype": "text/x-python",
   "name": "python",
   "pygments_lexer": "python3",
   "version": "3"
  }
 },
 "nbformat": 4,
 "nbformat_minor": 5
}
