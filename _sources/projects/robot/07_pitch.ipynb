{
 "cells": [
  {
   "cell_type": "markdown",
   "id": "766d0fc7-2949-4380-b303-acc70bdaf5b4",
   "metadata": {},
   "source": [
    "# Pitch Control"
   ]
  },
  {
   "cell_type": "markdown",
   "id": "0f184555-674b-4db8-b6a0-3f4743eb32b1",
   "metadata": {},
   "source": [
    "![](figures/PID_en.svg)"
   ]
  },
  {
   "cell_type": "markdown",
   "id": "36ef0748-c569-4c19-8525-62d81ec07a73",
   "metadata": {},
   "source": [
    "* r --> desired\n",
    "* y --> actual pitch\n",
    "* u --> duty"
   ]
  },
  {
   "cell_type": "code",
   "execution_count": 1,
   "id": "36a8cff6-7dbd-48dc-b853-93cf7adaa02d",
   "metadata": {},
   "outputs": [
    {
     "name": "stdout",
     "output_type": "stream",
     "text": [
      "\u001b[46m\u001b[30mConnected to robot-stm32 @ serial:///dev/ttyAMA1\u001b[0m\n"
     ]
    }
   ],
   "source": [
    "%connect serial:///dev/ttyAMA1"
   ]
  },
  {
   "cell_type": "markdown",
   "id": "056a8eaa-5176-4a3a-b489-da22fc436aac",
   "metadata": {},
   "source": [
    "PID controller:"
   ]
  },
  {
   "cell_type": "code",
   "execution_count": 1,
   "id": "ecc54c52-5db9-409e-85da-2ea3cdcb34f4",
   "metadata": {},
   "outputs": [
    {
     "name": "stdout",
     "output_type": "stream",
     "text": [
      "Writing /home/iot/iot49.org/docs/projects/robot/code/stm32/lib/PID.py\n"
     ]
    }
   ],
   "source": [
    "%%writefile $IOT_PROJECTS/robot/code/stm32/lib/PID.py\n",
    "# Based on https://github.com/br3ttb/Arduino-PID-Library\n",
    "\n",
    "from array import array\n",
    "\n",
    "# config vector (may be dynamically updated)\n",
    "SETPOINT = const(0)  # setpoint            \n",
    "KP       = const(1)  # proportional term\n",
    "KI       = const(2)  # scaled by /fs\n",
    "KD       = const(3)  # scaled by *fs\n",
    "U_MIN    = const(4)  # minimum PID output (anti-windup)\n",
    "U_MAX    = const(5)  # maximum PID output (anti-windup)\n",
    "\n",
    "# state (used internally)\n",
    "_SUM     = const(0)\n",
    "_Y       = const(1)\n",
    "\n",
    "class PID:\n",
    "    \n",
    "    def __init__(self, config):\n",
    "        self.config = config\n",
    "        self.state = array('f', [0, 0])\n",
    "    \n",
    "    def update(self, y):\n",
    "        \"\"\"compute & return new PID output u from plant output y\"\"\"\n",
    "        c = self.config\n",
    "        s = self.state\n",
    "        err = c[SETPOINT] - y\n",
    "        s[_SUM] += self._clip(c[KI] * err)   # integrator state\n",
    "        u = self._clip(c[KP] * err + s[_SUM] - c[KD] * (y - s[_Y]))\n",
    "        s[_Y] = y   # save last y (for KD term)\n",
    "        return u\n",
    "    \n",
    "    def _clip(self, value):\n",
    "        c = self.config\n",
    "        if value > c[U_MAX]: return c[U_MAX]\n",
    "        if value < c[U_MIN]: return c[U_MIN]\n",
    "        return value"
   ]
  },
  {
   "cell_type": "markdown",
   "id": "9a11d40a-41f5-4eea-a54c-2b116e574d58",
   "metadata": {},
   "source": [
    "Pitch controller:"
   ]
  },
  {
   "cell_type": "code",
   "execution_count": 13,
   "id": "14c4daca-9a9f-42ce-bc46-86b43ecc1a3a",
   "metadata": {},
   "outputs": [
    {
     "name": "stdout",
     "output_type": "stream",
     "text": [
      "Writing /home/iot/iot49.org/docs/projects/robot/code/stm32/lib/pitch_control.py\n"
     ]
    }
   ],
   "source": [
    "%%writefile $IOT_PROJECTS/robot/code/stm32/lib/pitch_control.py\n",
    "from controller import *\n",
    "from param import PARAM, PARAM_RESERVED\n",
    "from pid import PID\n",
    "\n",
    "\n",
    "P0 = const(2)\n",
    "assert P0 == PARAM_RESERVED\n",
    "\n",
    "SET_PITCH = const(P0+0)\n",
    "KP        = const(P0+1)\n",
    "KI        = const(P0+2)\n",
    "KD        = const(P0+3)\n",
    "U_MIN     = const(P0+4)\n",
    "U_MAX     = const(P0+5)\n",
    "\n",
    "PARAM[U_MIN] = -100\n",
    "PARAM[U_MAX] =  100\n",
    "\n",
    "\n",
    "class Control(Controller):\n",
    "    \n",
    "    def __init__(self, uart):\n",
    "        super().__init__(uart)\n",
    "        self.pid = PID(memoryview(PARAM)[SET_PITCH:U_MAX+1])\n",
    "    \n",
    "    def update(self):\n",
    "        state = self.state\n",
    "        pitch = state[STATE_PITCH]\n",
    "        if abs(pitch) < 30:\n",
    "            duty = self.pid.update(pitch)\n",
    "            duty = self.fix_duty(duty)\n",
    "        else:\n",
    "            duty = 0\n",
    "        state[STATE_DUTY1] = state[STATE_DUTY2] = duty\n",
    "        \n",
    "    @staticmethod\n",
    "    def fix_duty(duty):\n",
    "        if abs(duty) > 1:\n",
    "            duty = duty+8.5 if duty>0 else duty-8.5\n",
    "        return duty"
   ]
  },
  {
   "cell_type": "markdown",
   "id": "f833c954-90cc-40ab-b559-ce7aeab1d3dd",
   "metadata": {},
   "source": [
    "Run the show ..."
   ]
  },
  {
   "cell_type": "code",
   "execution_count": 15,
   "id": "15e31043-4484-4239-9614-d25f1b82063f",
   "metadata": {},
   "outputs": [
    {
     "name": "stdout",
     "output_type": "stream",
     "text": [
      "plot @ http://pi4robot.local:5006\n",
      "\u001b[32mDirectories match\n",
      "\u001b[0mMCU: start Comm @ 1000000 baud\n",
      "     \n",
      "scanning for iot49-robot\n",
      "connecting to iot49-robot ... connected\n",
      "orient robot upright, pitch    85.00 --> 0\n",
      "orient robot upright, pitch   -93.78 --> 0\n",
      "orient robot upright, pitch   -93.75 --> 0\n",
      "orient robot upright, pitch   -93.74 --> 0\n",
      "orient robot upright, pitch   -93.74 --> 0\n",
      "orient robot upright, pitch   -93.74 --> 0\n",
      "orient robot upright, pitch   -93.75 --> 0\n",
      "orient robot upright, pitch   -93.75 --> 0\n",
      "orient robot upright, pitch   -93.75 --> 0\n",
      "orient robot upright, pitch   -93.75 --> 0\n",
      "orient robot upright, pitch   -93.75 --> 0\n",
      "orient robot upright, pitch   -93.75 --> 0\n",
      "orient robot upright, pitch   -93.75 --> 0\n",
      "orient robot upright, pitch   -93.75 --> 0\n",
      "orient robot upright, pitch   -93.75 --> 0\n",
      "orient robot upright, pitch   -93.75 --> 0\n",
      "orient robot upright, pitch   -93.75 --> 0\n",
      "orient robot upright, pitch   -93.75 --> 0\n",
      "orient robot upright, pitch   -93.75 --> 0\n",
      "orient robot upright, pitch   -93.75 --> 0\n",
      "orient robot upright, pitch   -93.75 --> 0\n",
      "orient robot upright, pitch   -93.75 --> 0\n",
      "orient robot upright, pitch   -93.75 --> 0\n",
      "orient robot upright, pitch   -93.75 --> 0\n",
      "orient robot upright, pitch   -93.75 --> 0\n",
      "orient robot upright, pitch   -93.75 --> 0\n",
      "orient robot upright, pitch   -93.59 --> 0\n",
      "orient robot upright, pitch   -92.07 --> 0\n",
      "orient robot upright, pitch   -57.22 --> 0\n",
      "orient robot upright, pitch   -82.29 --> 0\n",
      "orient robot upright, pitch   -33.39 --> 0\n",
      "orient robot upright, pitch    -8.73 --> 0\n",
      "orient robot upright, pitch    -6.09 --> 0\n",
      "main DONE -63.68894958496094\n",
      "kp = 1.0\n",
      "ki = 0.0\n",
      "kd = 0.0\n"
     ]
    }
   ],
   "source": [
    "%%host\n",
    "\n",
    "import nest_asyncio, sys, os\n",
    "nest_asyncio.apply()\n",
    "sys.path.append(os.path.join(os.getenv('IOT_PROJECTS'), 'robot/code/rpi'))\n",
    "\n",
    "# fix wiring issue\n",
    "from gpiozero import Button as Pin\n",
    "try:\n",
    "    Pin(14, pull_up=False)\n",
    "except:\n",
    "    pass\n",
    "\n",
    "from asyncio_mqtt import Client\n",
    "from struct import pack\n",
    "import numpy as np\n",
    "import asyncio, json, os\n",
    "\n",
    "import stm32\n",
    "from robot import *\n",
    "\n",
    "print(f\"plot @ http://{os.getenv('DNS_NAME')}.local:5006\")\n",
    "\n",
    "MQTT_BROKER = os.getenv(\"HOST_IP\")\n",
    "TOPIC_ROOT  = \"public/vis\"\n",
    "\n",
    "P0          = PARAM_RESERVED\n",
    "\n",
    "SET_PITCH   = const(P0+0)\n",
    "KP          = const(P0+1)\n",
    "KI          = const(P0+2)\n",
    "KD          = const(P0+3)\n",
    "U_MIN       = const(P0+4)\n",
    "U_MAX       = const(P0+5)\n",
    "\n",
    "FS          = 20        # controller update rate\n",
    "\n",
    "PITCH0      = 5  # deg\n",
    "\n",
    "\n",
    "class TestRemote(Remote):\n",
    "    \n",
    "    async def handle(self, dt: float, code: str, value: float):\n",
    "        if value < 0:\n",
    "            print(f\"PID {code} = {value} < 0 (ignored)\")\n",
    "            return\n",
    "        value *= 0.001\n",
    "        if code == '1':\n",
    "            await self.robot.set(KP, value*FS)\n",
    "        elif code == '2':\n",
    "            await self.robot.set(KI, value)\n",
    "        elif code == '3':\n",
    "            await self.robot.set(KD, value*FS*FS)\n",
    "            \n",
    "class Control:\n",
    "\n",
    "    def __init__(self):\n",
    "        self.pitch = 90\n",
    "\n",
    "    async def main(self):\n",
    "        self.publish = [ \"time [s]\", \"pitch\", \"duty\", \"dt1 [0.1ms]\", \"dt2 [0.1ms]\" ]\n",
    "        async with Client(MQTT_BROKER) as client, \\\n",
    "            Comm(self.state_listener) as robot, \\\n",
    "            TestRemote() as remote:\n",
    "            remote.robot = robot\n",
    "            self.client = client\n",
    "            await client.publish(f\"{TOPIC_ROOT}/new\", json.dumps({\n",
    "                \"columns\": self.publish,\n",
    "                \"rollover\": 1000,\n",
    "                \"args\": { \"title\": f\"Robot pitch\" },\n",
    "            }))\n",
    "            await robot.set(PARAM_FS, FS)\n",
    "            await robot.set(SET_PITCH, PITCH0)\n",
    "            await robot.start(\"pitch_control\")\n",
    "            # wait for upright position\n",
    "            while abs(self.pitch-PITCH0) > 3:\n",
    "                print(f\"orient robot upright, pitch {self.pitch-PITCH0:8.2f} --> 0\")\n",
    "                await asyncio.sleep(1)\n",
    "            # balancing ...\n",
    "            await robot.set(KP, 1)\n",
    "            while abs(self.pitch-PITCH0) < 60:\n",
    "                # print(f\"balancing, pitch = {self.pitch-PITCH0:8.2f}\")\n",
    "                await asyncio.sleep(1)\n",
    "            print(\"main DONE\", self.pitch-PITCH0)\n",
    "\n",
    "    async def state_listener(self, state):\n",
    "        try:\n",
    "            t = state[STATE_K]/FS\n",
    "            duty = state[STATE_DUTY1]\n",
    "            self.pitch = state[STATE_PITCH]\n",
    "            dt1 = state[STATE_DT1]\n",
    "            dt2 = state[STATE_DT2]\n",
    "            await self.client.publish(\n",
    "                f\"{TOPIC_ROOT}/bin\", \n",
    "                pack(f'!{len(self.publish)}f', t, self.pitch, duty, dt1/100, dt2/100))\n",
    "        except Exception as e:\n",
    "            print(\"***** state_listener:\", e)\n",
    "            \n",
    "    async def handle(self, dt: float, code: str, value: float):\n",
    "        if value < 0:\n",
    "            print(f\"PID {code} = {value} < 0 (ignored)\")\n",
    "            return\n",
    "        value *= 0.001\n",
    "        if code == '1':\n",
    "            await self.robot.set(KP, value*FS)\n",
    "        elif code == '2':\n",
    "            await self.robot.set(KI, value)\n",
    "        elif code == '3':\n",
    "            await self.robot.set(KD, value*FS*FS)\n",
    "\n",
    "stm32.rsync()\n",
    "\n",
    "try:\n",
    "    c = Control()\n",
    "    asyncio.run(c.main())\n",
    "except KeyboardInterrupt:\n",
    "    pass\n",
    "    \n",
    "print(f\"kp = {PARAM[KP]}\")\n",
    "print(f\"ki = {PARAM[KI]}\")\n",
    "print(f\"kd = {PARAM[KD]}\")"
   ]
  },
  {
   "cell_type": "code",
   "execution_count": null,
   "id": "30bbc65e-a8a8-4700-bf69-2d71e16e20e1",
   "metadata": {},
   "outputs": [],
   "source": []
  }
 ],
 "metadata": {
  "kernelspec": {
   "display_name": "IoT",
   "language": "python",
   "name": "iot_kernel"
  },
  "language_info": {
   "codemirror_mode": {
    "name": "python",
    "version": 3
   },
   "file_extension": ".py",
   "mimetype": "text/x-python",
   "name": "python",
   "pygments_lexer": "python3",
   "version": "3"
  }
 },
 "nbformat": 4,
 "nbformat_minor": 5
}
