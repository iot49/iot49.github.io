{
 "cells": [
  {
   "cell_type": "markdown",
   "id": "86277f01-8848-44dc-84ee-e79442e39b17",
   "metadata": {},
   "source": [
    "# Peripherals"
   ]
  },
  {
   "cell_type": "code",
   "execution_count": 1,
   "id": "ecd2c359-60c6-4eab-a473-fb138035bcbe",
   "metadata": {},
   "outputs": [
    {
     "name": "stdout",
     "output_type": "stream",
     "text": [
      "\u001b[46m\u001b[30mConnected to robot-stm32 @ serial:///dev/ttyAMA1\u001b[0m\n"
     ]
    }
   ],
   "source": [
    "%connect serial:///dev/ttyAMA1"
   ]
  },
  {
   "cell_type": "markdown",
   "id": "87c311b2-ba25-40d2-81ab-d4054d4f6be7",
   "metadata": {},
   "source": [
    "## Configuration\n",
    "\n",
    "`/boot/config.txt`: add\n",
    "\n",
    "```\n",
    "[pi4]\n",
    "dtoverlay=uart3\n",
    "dtoverlay=uart4\n",
    "enable_uart=0\n",
    "```\n",
    "\n",
    "Balena: configure dtoverlay from the dashboard.\n",
    "\n",
    "Overlay `enable_uart=0` disables the console UART on pins 8, 10. No need to disable if pins are not connected (but then there is no way this can work with a Pi 3, probably ok).\n",
    "\n",
    "UART Assignments (Pi 4):\n",
    "\n",
    "```\n",
    "Pi 4                      STM32\n",
    "/dev/ttyAMA1   uart3      uart6 (REPL)\n",
    "/dev/ttyAMA2   uart4      uart3 (dfu, robot comm)\n",
    "```\n",
    "\n",
    "GPIO Pins:\n",
    "\n",
    "```\n",
    "BOOT0   = 13 (GPIO27)\n",
    "SHUT_DN = 33 (GPIO13)     shutdown button input (active low)\n",
    "nRST    = 40 (GPIO21)\n",
    "AUX     = 36 (GPIO16)     stm32: AUX\n",
    "                          stm32: PWR_EN: pull low to cut main (5V) power supply\n",
    "                          stm32: V12_DIV: 12V input / 7.8 \n",
    "```"
   ]
  },
  {
   "cell_type": "markdown",
   "id": "02253eae-e9fb-4931-9514-2a96424c6ef4",
   "metadata": {},
   "source": [
    "## GPIO\n",
    "\n",
    "List of available GPIOs and their capabilities:"
   ]
  },
  {
   "cell_type": "code",
   "execution_count": 1,
   "id": "3d9d575e-5cdd-4657-ad46-385aae8075a4",
   "metadata": {
    "collapsed": true,
    "jupyter": {
     "outputs_hidden": true
    },
    "tags": [
     "hide-output"
    ]
   },
   "outputs": [
    {
     "name": "stdout",
     "output_type": "stream",
     "text": [
      "board name      name alternate functions\n",
      "AIN1            C5   []\n",
      "AIN2            C1   []\n",
      "AUX             B13  [Pin.AF1_TIM1, Pin.AF5_SPI2, Pin.AF7_USART3]\n",
      "BATTERY_MONITOR A3   [Pin.AF1_TIM2, Pin.AF2_TIM5, Pin.AF3_TIM9, Pin.AF7_USART2]\n",
      "BIN1            C3   [Pin.AF5_SPI2]\n",
      "BIN2            A4   [Pin.AF5_SPI1, Pin.AF7_USART2]\n",
      "BOOT1           B2   []\n",
      "D8              C0   []\n",
      "ENC_A1          A6   [Pin.AF1_TIM1, Pin.AF2_TIM3, Pin.AF3_TIM8, Pin.AF5_SPI1, Pin.AF9_TIM13]\n",
      "ENC_A2          A7   [Pin.AF1_TIM1, Pin.AF2_TIM3, Pin.AF3_TIM8, Pin.AF5_SPI1, Pin.AF9_TIM14]\n",
      "ENC_B1          B6   [Pin.AF2_TIM4, Pin.AF4_I2C1]\n",
      "ENC_B2          B7   [Pin.AF2_TIM4, Pin.AF4_I2C1]\n",
      "FLASH_CS        A15  [Pin.AF1_TIM2, Pin.AF1_TIM2, Pin.AF5_SPI1]\n",
      "FLASH_MISO      B4   [Pin.AF2_TIM3, Pin.AF5_SPI1]\n",
      "FLASH_MOSI      B5   [Pin.AF2_TIM3, Pin.AF5_SPI1]\n",
      "FLASH_SCK       B3   [Pin.AF1_TIM2, Pin.AF5_SPI1]\n",
      "NC_A0           A0   [Pin.AF1_TIM2, Pin.AF1_TIM2, Pin.AF2_TIM5, Pin.AF3_TIM8, Pin.AF7_USART2]\n",
      "NC_A1           A1   [Pin.AF1_TIM2, Pin.AF2_TIM5, Pin.AF7_USART2]\n",
      "NC_A2           A2   [Pin.AF1_TIM2, Pin.AF2_TIM5, Pin.AF3_TIM9, Pin.AF7_USART2]\n",
      "D8              C0   []\n",
      "NSTBY           C2   [Pin.AF5_SPI2]\n",
      "PWM_A           B15  [Pin.AF1_TIM1, Pin.AF3_TIM8, Pin.AF5_SPI2, Pin.AF9_TIM12]\n",
      "PWM_B           A5   [Pin.AF1_TIM2, Pin.AF1_TIM2, Pin.AF3_TIM8, Pin.AF5_SPI1]\n",
      "PWR_EN          B14  [Pin.AF1_TIM1, Pin.AF3_TIM8, Pin.AF5_SPI2, Pin.AF7_USART3, Pin.AF9_TIM12]\n",
      "RX              B11  [Pin.AF1_TIM2, Pin.AF4_I2C2, Pin.AF7_USART3]\n",
      "RX_AUX          C7   [Pin.AF2_TIM3, Pin.AF3_TIM8, Pin.AF8_USART6]\n",
      "SCL             B8   [Pin.AF2_TIM4, Pin.AF3_TIM10, Pin.AF4_I2C1, Pin.AF9_CAN1]\n",
      "SDA             B9   [Pin.AF2_TIM4, Pin.AF3_TIM11, Pin.AF4_I2C1, Pin.AF5_SPI2, Pin.AF9_CAN1]\n",
      "SD_CK           C12  [Pin.AF7_USART3]\n",
      "SD_CMD          D2   [Pin.AF2_TIM3]\n",
      "SD_D0           C8   [Pin.AF2_TIM3, Pin.AF3_TIM8, Pin.AF8_USART6]\n",
      "SD_D1           C9   [Pin.AF2_TIM3, Pin.AF3_TIM8]\n",
      "SD_D2           C10  [Pin.AF7_USART3]\n",
      "SD_D3           C11  [Pin.AF7_USART3]\n",
      "SD_DETECT       B12  [Pin.AF1_TIM1, Pin.AF5_SPI2, Pin.AF7_USART3]\n",
      "SWCLK           A14  []\n",
      "SWDIO           A13  []\n",
      "TX              B10  [Pin.AF1_TIM2, Pin.AF4_I2C2, Pin.AF5_SPI2, Pin.AF7_USART3]\n",
      "TX_AUX          C6   [Pin.AF2_TIM3, Pin.AF3_TIM8, Pin.AF8_USART6]\n",
      "USB_DM          A11  [Pin.AF1_TIM1, Pin.AF9_CAN1]\n",
      "USB_DP          A12  [Pin.AF1_TIM1, Pin.AF9_CAN1]\n",
      "USB_ID          A10  [Pin.AF1_TIM1]\n",
      "USB_VBUS        A9   [Pin.AF1_TIM1]\n",
      "V12_DIV         C4   []\n"
     ]
    }
   ],
   "source": [
    "# pin alternate functions\n",
    "\n",
    "from pyb import Pin\n",
    "\n",
    "print(\"{:15} {:4} {}\".format('board name', 'name', 'alternate functions'))\n",
    "for p in sorted(dir(Pin.board)):\n",
    "    if '__' in p: continue\n",
    "    pin = Pin(p)\n",
    "    names = pin.names()\n",
    "    print(\"{:15} {:4} {}\".format(names[1], names[0], pin.af_list()))"
   ]
  },
  {
   "cell_type": "markdown",
   "id": "95ee57b0-d000-4a64-8c55-9bc13aac3662",
   "metadata": {},
   "source": [
    "## Motor Controller\n",
    "\n",
    "I use HPCB micro gear motors with extended shaft (to mount the encoder magnet) and 210:1 gear ratio.\n",
    "\n",
    "The motor controller comprises two H-bridges to control the speed and direction of the motors and magnetic encoders to capture the rotational speed.\n",
    "\n",
    "### H-bridges\n",
    "\n",
    "The figure below shows the TB6612 motor controller. It is wired to the STM32 as follows:\n",
    "\n",
    "* Channel A control: PWMA, AIN1, AIN2\n",
    "* Channel B control: PWMB, BIN1, BIN2\n",
    "\n",
    "```{figure} figures/TB6612-breakout.jpg\n",
    ":width: 300px\n",
    ":name: h-bridge\n",
    "\n",
    "[TB6612](https://www.pololu.com/product/713) dual H-bridge motor controller breakout.\n",
    "```\n",
    "\n",
    "The `xIN1` and `xIN2` determine its state as follows:\n",
    "\n",
    "| Function | IN1 | IN2 | Notes |\n",
    "|----------|-----|-----|-------|\n",
    "| Forward  |  L  |  H  |  \n",
    "| Reverse  |  H  |  L  |\n",
    "| Brake    |  H  |  H  | speed=0 has same effect\n",
    "| Coast (Z)|  L  |  L  |\n",
    "\n",
    "The TB6612 class maps the desired speed input to the appropriate control signals:"
   ]
  },
  {
   "cell_type": "code",
   "execution_count": 1,
   "id": "b8fd4265-18ec-4b06-af3b-10bc7142525a",
   "metadata": {
    "collapsed": true,
    "jupyter": {
     "outputs_hidden": true
    },
    "tags": [
     "hide-output"
    ]
   },
   "outputs": [
    {
     "name": "stdout",
     "output_type": "stream",
     "text": [
      "\"\"\"\n",
      "TB6612 motor driver.\n",
      "\n",
      "Example:\n",
      "\n",
      "from pyb import Pin, Timer\n",
      "from tb6612 import TB6612\n",
      "import time\n",
      "\n",
      "freq = 10_000\n",
      "tim = Timer(8, freq=freq)\n",
      "\n",
      "motor1 = TB6612(\n",
      "    tim.channel(3, Timer.PWM_INVERTED, pin=Pin('PWM_A')),\n",
      "    Pin('AIN1', mode=Pin.OUT_PP),\n",
      "    Pin('AIN2', mode=Pin.OUT_PP)\n",
      ")\n",
      "\n",
      "motor2 = TB6612(\n",
      "    tim.channel(1, Timer.PWM_INVERTED, pin=Pin('PWM_B')),\n",
      "    Pin('BIN1', mode=Pin.OUT_PP),\n",
      "    Pin('BIN2', mode=Pin.OUT_PP)\n",
      ")\n",
      "\n",
      "nstby = Pin('NSTBY', mode=Pin.OUT_PP)\n",
      "nstby.value(1)\n",
      "\n",
      "motor1.speed(30)\n",
      "motor2.speed(-83)\n",
      "\n",
      "time.sleep(5)\n",
      "nstby.value(0)\n",
      "\"\"\"\n",
      "\n",
      "class TB6612:\n",
      "    \n",
      "    def __init__(self, pwm, scale, in1, in2):\n",
      "        self.pwm = pwm\n",
      "        self.scale = scale\n",
      "        self.in1 = in1\n",
      "        self.in2 = in2\n",
      "        \n",
      "    def speed(self, speed:float):\n",
      "        \"\"\"Set motor speed (duty cycle), range +/- 100.\"\"\"\n",
      "        if speed < 0:\n",
      "            self.in1.value(0)\n",
      "            self.in2.value(1)\n",
      "        else:\n",
      "            self.in1.value(1)\n",
      "            self.in2.value(0)\n",
      "        speed *= self.scale\n",
      "        self.pwm.pulse_width(int(abs(speed)))\n",
      "\n"
     ]
    }
   ],
   "source": [
    "%cat /flash/lib/tb6612.py"
   ]
  },
  {
   "cell_type": "markdown",
   "id": "f224c8c8-0ee3-41d7-b907-0d8fa442bcb9",
   "metadata": {},
   "source": [
    "Example:"
   ]
  },
  {
   "cell_type": "code",
   "execution_count": 1,
   "id": "ad674a62-a103-43a2-863e-6194e9a48c3a",
   "metadata": {},
   "outputs": [
    {
     "name": "stdout",
     "output_type": "stream",
     "text": [
      "\u001b[46m\u001b[30mConnected to robot-stm32 @ serial:///dev/ttyAMA1\u001b[0m\n"
     ]
    }
   ],
   "source": [
    "from tb6612 import TB6612\n",
    "from pyb import Pin, Timer\n",
    "\n",
    "# motor power control\n",
    "nstby = Pin('NSTBY', mode=Pin.OUT_PP)\n",
    "nstby.value(0)\n",
    "\n",
    "# motors\n",
    "pwm_timer = Timer(8, freq=10_000)\n",
    "scale = (pwm_timer.period()+1)/100\n",
    "\n",
    "motor1 = TB6612(\n",
    "    pwm_timer.channel(3, Timer.PWM_INVERTED, pin=Pin('PWM_A')),\n",
    "    scale,\n",
    "    Pin('AIN1', mode=Pin.OUT_PP),\n",
    "    Pin('AIN2', mode=Pin.OUT_PP)\n",
    ")\n",
    "\n",
    "motor2 = TB6612(\n",
    "    pwm_timer.channel(1, Timer.PWM_INVERTED, pin=Pin('PWM_B')),\n",
    "    scale,\n",
    "    Pin('BIN1', mode=Pin.OUT_PP),\n",
    "    Pin('BIN2', mode=Pin.OUT_PP)\n",
    ")"
   ]
  },
  {
   "cell_type": "markdown",
   "id": "5185e65d-0f91-44fa-8cdd-db7808ba7edd",
   "metadata": {},
   "source": [
    "Start motors: if everything is wired correctly, the motors will spin when running the code in next cell."
   ]
  },
  {
   "cell_type": "code",
   "execution_count": 1,
   "id": "ba25b677-1c1e-472c-9590-a96d7b44a3ad",
   "metadata": {},
   "outputs": [],
   "source": [
    "from time import sleep\n",
    "\n",
    "# enable TB6612\n",
    "nstby.value(1)\n",
    "\n",
    "for speed in range(0, 101, 20):\n",
    "    # set desired speed (PWM duty cycle)\n",
    "    motor1.speed(speed)\n",
    "    motor2.speed(speed)\n",
    "    sleep(1)\n",
    "    \n",
    "motor1.speed(0)\n",
    "motor2.speed(0)\n",
    "nstby.value(0)"
   ]
  },
  {
   "cell_type": "markdown",
   "id": "91e34fcc-3f1a-484b-8227-f67696bafb82",
   "metadata": {},
   "source": [
    "### Encoder\n",
    "\n",
    "Just like a car, motor speed depends on load. Encoders can be used to measure the position (and, by taking the derivative, speed).\n",
    "\n",
    "\n",
    "I've chosen magnetic encoders:\n",
    "\n",
    "```{figure} figures/encoder.jpg\n",
    ":width: 300px\n",
    ":name: h-bridge\n",
    "\n",
    "[Magnetic Encoder](https://www.pololu.com/product/3081) breakout boards.\n",
    "```\n",
    "\n",
    "A wheel with several magnetic zones with with alternating magnetization mounted to the shaft to the motor passes two magnetic sensors (the black components on the board) to produce electrical pulses. The STM32 has built-in counters to tally up these pulses."
   ]
  },
  {
   "cell_type": "code",
   "execution_count": 1,
   "id": "4b16410d-0f86-45ce-9ae2-3b9d7e5b0760",
   "metadata": {
    "tags": [
     "hide-output"
    ]
   },
   "outputs": [
    {
     "name": "stdout",
     "output_type": "stream",
     "text": [
      "from pyb import Pin, Timer\n",
      "\n",
      "\"\"\"\n",
      "Encoder readout for STM32 16-bit timers. Corrects for counter over/under-flow.\n",
      "\"\"\"\n",
      "\n",
      "class Encoder16:\n",
      "\n",
      "    def __init__(self, timer_no, ch1_pin, ch2_pin, af):\n",
      "        pin_a = Pin(ch1_pin, Pin.AF_PP, pull=Pin.PULL_NONE, af=af)\n",
      "        pin_b = Pin(ch2_pin, Pin.AF_PP, pull=Pin.PULL_NONE, af=af)\n",
      "        timer = Timer(timer_no, prescaler=0, period=0xffff)\n",
      "        channel = timer.channel(1, Timer.ENC_AB)\n",
      "        self._timer = timer\n",
      "        self._sum = 0\n",
      "        self._cnt = timer.counter()\n",
      "\n",
      "    def count(self):\n",
      "        c = self._timer.counter()\n",
      "        if c-self._cnt > 0x8fff:\n",
      "            print(\"under\")\n",
      "            self._sum -= 0x10000\n",
      "        if self._cnt-c > 0x8fff:\n",
      "            print(\"over\")\n",
      "            self._sum += 0x10000\n",
      "        self._cnt = c\n",
      "        return self._sum + c\n",
      "\n",
      "\n",
      "\"\"\"\n",
      "Example:\n",
      "\n",
      "enc = Encoder16(3, 'ENC_B1', 'ENC_B2', Pin.AF2_TIM3)\n",
      "\n",
      "last = enc.count()\n",
      "while True:\n",
      "    c = enc.count()\n",
      "    if abs(last-c) > 5:\n",
      "        last = c\n",
      "        print(f\"{c:6d}\")\n",
      "\"\"\"\n"
     ]
    }
   ],
   "source": [
    "!cat code/stm32/lib/encoder16.py"
   ]
  },
  {
   "cell_type": "code",
   "execution_count": 1,
   "id": "313d5fc3-ef1a-4f33-9185-e861ba15b857",
   "metadata": {},
   "outputs": [],
   "source": [
    "from encoder16 import Encoder16\n",
    "from pyb import Pin\n",
    "\n",
    "enc1 = Encoder16(4, 'ENC_A1', 'ENC_A2', Pin.AF2_TIM4)\n",
    "enc2 = Encoder16(3, 'ENC_B1', 'ENC_B2', Pin.AF2_TIM3)"
   ]
  },
  {
   "cell_type": "markdown",
   "id": "880b0c07-0f50-4202-881e-7fb779864764",
   "metadata": {},
   "source": [
    "A complete example:"
   ]
  },
  {
   "cell_type": "code",
   "execution_count": 1,
   "id": "d2c2b394-b153-44c9-925b-0244daf9838b",
   "metadata": {},
   "outputs": [
    {
     "name": "stdout",
     "output_type": "stream",
     "text": [
      "  0  cnt1=     0  cnt2=     0  speed1=     0  speed2=     0\n",
      " 20  cnt1=   846  cnt2=   912  speed1=   846  speed2=   912\n",
      " 40  cnt1=  2959  cnt2=  3081  speed1=  2113  speed2=  2169\n",
      " 60  cnt1=  6282  cnt2=  6500  speed1=  3323  speed2=  3419\n",
      " 80  cnt1= 10688  cnt2= 11071  speed1=  4406  speed2=  4571\n",
      "100  cnt1= 15835  cnt2= 16711  speed1=  5147  speed2=  5640\n"
     ]
    }
   ],
   "source": [
    "import time \n",
    "\n",
    "# enable TB6612\n",
    "nstby.value(1)\n",
    "\n",
    "last1 = enc1.count()\n",
    "last2 = enc2.count()    \n",
    "\n",
    "for duty in range(0, 101, 20):\n",
    "    motor1.speed(duty)\n",
    "    motor2.speed(duty)\n",
    "    time.sleep(0.5)\n",
    "    cnt1 = enc1.count()\n",
    "    cnt2 = enc2.count()    \n",
    "    print(f\"{duty:3d}  cnt1={cnt1:6d}  cnt2={cnt2:6d}  speed1={cnt1-last1:6d}  speed2={cnt2-last2:6d}\")\n",
    "    last1 = cnt1\n",
    "    last2 = cnt2\n",
    "    \n",
    "nstby.value(0)"
   ]
  },
  {
   "cell_type": "markdown",
   "id": "24c6f14f-0736-4236-9b40-86d2dfa13b9e",
   "metadata": {
    "tags": [
     "hide-cell"
    ]
   },
   "source": [
    "```{figure} figures/enc_duty40.png\n",
    ":width: 500px\n",
    "\n",
    "Quadrature encoder signals for motor duty = 40%.\n",
    "```\n",
    "\n",
    "The the output period as a function of duty cycles is\n",
    "\n",
    "| Duty [%] | Period [ms] |\n",
    "|:--------:|:-----------:|\n",
    "|    10    |     14.4    |\n",
    "|    40    |      1.74   |\n",
    "|   100    |      0.68   |"
   ]
  },
  {
   "cell_type": "markdown",
   "id": "1b2b6f6b-6a6a-4916-8985-f80b4bf7b3a9",
   "metadata": {
    "tags": [
     "hide-cell",
     "hide-output",
     "hide-input"
    ]
   },
   "source": [
    "```{figure} figures/enc_duty10.png\n",
    ":width: 500px\n",
    "\n",
    "Encoder output for duty = 10%.\n",
    "```\n",
    "\n",
    "```{figure} figures/enc_duty100.png\n",
    ":width: 500px\n",
    "\n",
    "Encoder output for duty = 100%.\n",
    "```\n",
    "\n",
    "At low rotation speeds, the resolution of quadrature encoders is poor. It can possible be improved by [measuring the pulse width or period](03a_period.ipynb).\n",
    "\n",
    "Use the code below to estimate the number of counts for a full turn of the wheel. Start the measurement, then carefully turn the wheel by hand. The value depends on the encoder and motor gear ratio. For my motors it is about 1800 counts per revolution. With the 8cm wheel diameter, this amounts to 25cm displacement or 0.14mm/count."
   ]
  },
  {
   "cell_type": "markdown",
   "id": "895c5465-34e0-485b-8032-dc2235cfd6b5",
   "metadata": {},
   "source": [
    "## IMU\n",
    "\n",
    "To balance on two wheels, the robot needs to know about the direction of gravity. Specifically, we want to know the pitch angle in the figure below.\n",
    "\n",
    "```{figure} figures/yaw_pitch_roll.png\n",
    ":width: 300px\n",
    "\n",
    "Pitch, roll, and heading.\n",
    "```\n",
    "\n",
    "Accelerometers and gyroscopes are perfect for this task. We will look at two solutions - one using a BNO055 IMU with on-board motion processor that directly outputs quaternions from which gravity can be calculated. \n",
    "\n",
    "The other option uses a complementary filter to extract gravity from raw accelerometer and gyroscope output.\n",
    "\n",
    "Below is the code using quaternions and the output from flipping the robot over."
   ]
  },
  {
   "cell_type": "code",
   "execution_count": 1,
   "id": "73cf384f-0636-4ab4-a032-4fad22ab323d",
   "metadata": {},
   "outputs": [
    {
     "name": "stdout",
     "output_type": "stream",
     "text": [
      "  -88.01\n",
      "  -88.01\n",
      "  -87.82\n",
      "  -54.62\n",
      "  -46.12\n",
      "  -29.56\n",
      "    3.47\n",
      "   42.27\n",
      "   61.86\n",
      "   83.53\n"
     ]
    }
   ],
   "source": [
    "from bno055 import BNO055, NDOF_FMC_OFF_MODE, QUAT_DATA\n",
    "from machine import I2C\n",
    "from time import sleep_ms\n",
    "import math\n",
    "\n",
    "RAD2DEG = 180/math.pi\n",
    "\n",
    "# init\n",
    "i2c = I2C(1, freq=400_000)\n",
    "imu = BNO055(i2c, crystal=True, transpose=(2, 0, 1), sign=(0, 0, 1))\n",
    "imu.mode(NDOF_FMC_OFF_MODE)\n",
    "sleep_ms(800)\n",
    "\n",
    "# read sensor and compute pitch angle\n",
    "for i in range(10):\n",
    "    imu.iget(QUAT_DATA)\n",
    "    w = imu.w/(1<<14)\n",
    "    x = imu.x/(1<<14)\n",
    "    y = imu.y/(1<<14)\n",
    "    z = imu.z/(1<<14)\n",
    "    sinp = 2 * (w * y - z * x)\n",
    "    if abs(sinp) >= 1:\n",
    "        # use 90 degrees if out of range\n",
    "        pitch = math.copysign(math.pi / 2, sinp)\n",
    "    else:\n",
    "        pitch = math.asin(sinp)\n",
    "    pitch *= RAD2DEG\n",
    "    print(f\"{pitch:8.2f}\")\n",
    "    sleep_ms(500)"
   ]
  },
  {
   "cell_type": "markdown",
   "id": "89466bc0-8ba7-4218-aa28-7565c1ffd444",
   "metadata": {},
   "source": [
    "A little bit optimized:"
   ]
  },
  {
   "cell_type": "code",
   "execution_count": 1,
   "id": "9941b5ed-e60b-4e29-bfce-52877c03730d",
   "metadata": {},
   "outputs": [
    {
     "name": "stdout",
     "output_type": "stream",
     "text": [
      "  -88.19\n",
      "  -88.15\n",
      "  -42.03\n",
      "    5.38\n",
      "   52.51\n",
      "   75.75\n",
      "   42.02\n",
      "   23.82\n",
      "   46.48\n",
      "   76.74\n"
     ]
    }
   ],
   "source": [
    "from bno055 import BNO055, NDOF_FMC_OFF_MODE, QUAT_DATA\n",
    "from machine import I2C\n",
    "from time import sleep_ms\n",
    "import math\n",
    "\n",
    "_RAD2DEG = 180/math.pi\n",
    "_90DEG = 0.5 * math.pi\n",
    "_QUAT_SCALE = 1/(2<<26)\n",
    "\n",
    "# init\n",
    "i2c = I2C(1, freq=400_000)\n",
    "imu = BNO055(i2c, crystal=True, transpose=(2, 0, 1), sign=(0, 0, 1))\n",
    "imu.mode(NDOF_FMC_OFF_MODE)\n",
    "sleep_ms(800)\n",
    "\n",
    "# read sensor and compute pitch angle\n",
    "for i in range(10):\n",
    "    imu.iget(QUAT_DATA)\n",
    "    sinp = _QUAT_SCALE * (imu.w * imu.y - imu.z * imu.x)\n",
    "    if abs(sinp) >= 1:\n",
    "        # use 90 degrees if out of range\n",
    "        pitch = math.copysign(_90DEG, sinp)\n",
    "    else:\n",
    "        pitch = math.asin(sinp)\n",
    "    pitch *= _RAD2DEG\n",
    "    \n",
    "    print(f\"{pitch:8.2f}\")\n",
    "    sleep_ms(500)"
   ]
  },
  {
   "cell_type": "markdown",
   "id": "bacaffc9-a48b-4764-a397-ac85013dbeaf",
   "metadata": {},
   "source": [
    "## Complementary Filter\n",
    "\n",
    "The code below reports the computation time (including reading the sensor) and orientation from:\n",
    "\n",
    "1) accelerometers only\n",
    "2) gyroscope only\n",
    "3) complementary filter combining accelerometer and gyroscope data\n",
    "4) Euler angle computed by BNO055\n",
    "\n",
    "The third option is robust and ideal for low-cost inertial sensors without on-board processing."
   ]
  },
  {
   "cell_type": "code",
   "execution_count": 1,
   "id": "90b952e4-9653-45ca-8ce0-9543ac91c5f3",
   "metadata": {},
   "outputs": [
    {
     "name": "stdout",
     "output_type": "stream",
     "text": [
      " dt [us]  xcell   gyro   comp bno055\n",
      "       0     -0    -90     -0    -91\n",
      "   17999    -90    -90    -89    -91\n",
      "   10447    -90    -90    -90    -91\n",
      "    5354   -113   -111   -117   -114\n",
      "    7995   -132   -131   -137   -134\n",
      "    5399   -157   -153   -161   -158\n",
      "    2593   -173   -168   -177   -176\n",
      "   11001   -197   -187   -199   -196\n",
      "    9994   -217   -206   -220   -216\n",
      "   10603   -234   -221   -236   -233\n",
      "   15108   -243   -231   -245   -244\n",
      "   11001   -256   -242   -258   -256\n",
      "    8185     84   -256   -123     88\n",
      "    3003     90   -256     84     88\n",
      "    8608     90   -256     90     88\n",
      "    7747     90   -256     90     88\n",
      "    5926     90   -256     90     88\n",
      "    4437     90   -256     90     88\n",
      "    8183     90   -256     90     88\n",
      "   10926     90   -256     90     88\n"
     ]
    }
   ],
   "source": [
    "# rotate about short side of chip\n",
    "\n",
    "import time, math, gc\n",
    "from machine import I2C as I2C\n",
    "from pyb import Pin\n",
    "from bno055 import BNO055\n",
    "\n",
    "tau = 0.2\n",
    "Ts = 0.02\n",
    "ALPHA = tau / (tau+Ts)\n",
    "RAD_TO_DEG = 180/math.pi\n",
    "\n",
    "i2c = I2C(1, freq=400_000)\n",
    "\n",
    "imu = BNO055(i2c)\n",
    "time.sleep(1)\n",
    "\n",
    "a_off = 0\n",
    "g_phi = -90\n",
    "c_phi = 0\n",
    "\n",
    "t_last = time.ticks_us()\n",
    "\n",
    "dt = 0\n",
    "\n",
    "print(\"{:>8s} {:>6s} {:>6} {:>6} {:>6}\".format(\"dt [us]\", \"xcell\", \"gyro\", \"comp\", \"bno055\"))\n",
    "for i in range(1000):\n",
    "    # xcell\n",
    "    ax, ay, az = imu.accel()\n",
    "    a_phi = math.atan2(ay, az)*RAD_TO_DEG - a_off\n",
    "    if i == 0: a_off = a_phi+90\n",
    "    \n",
    "    # gyro\n",
    "    rx, ry, rz = imu.gyro()\n",
    "    g_phi += rx * Ts * 0.5  # why 0.5?\n",
    "    \n",
    "    # complementary\n",
    "    c_phi = ALPHA * (c_phi + rx * Ts) + (1-ALPHA) * a_phi\n",
    "    \n",
    "    # euler\n",
    "    _, _, e_phi = imu.euler()\n",
    "    \n",
    "    if i % 50 == 0:\n",
    "        print(\"{:8d} {:6.0f} {:6.0f} {:6.0f} {:6.0f}\".format(int(dt), a_phi, g_phi, c_phi, -e_phi-90))\n",
    "    \n",
    "    # clean slate\n",
    "    gc.collect()\n",
    "\n",
    "    # sleep off extra time\n",
    "    t_new = time.ticks_us()\n",
    "    dt = time.ticks_diff(t_new, t_last)\n",
    "    t_last = t_new\n",
    "    time.sleep(Ts-dt*1e-6)\n"
   ]
  },
  {
   "cell_type": "code",
   "execution_count": null,
   "id": "a0fe7ddf-ba9c-4430-bc96-427861dc26b8",
   "metadata": {},
   "outputs": [],
   "source": []
  }
 ],
 "metadata": {
  "kernelspec": {
   "display_name": "IoT",
   "language": "python",
   "name": "iot_kernel"
  },
  "language_info": {
   "codemirror_mode": {
    "name": "python",
    "version": 3
   },
   "file_extension": ".py",
   "mimetype": "text/x-python",
   "name": "python",
   "pygments_lexer": "python3",
   "version": "3"
  }
 },
 "nbformat": 4,
 "nbformat_minor": 5
}
