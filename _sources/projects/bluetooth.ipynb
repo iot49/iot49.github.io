{
 "cells": [
  {
   "cell_type": "markdown",
   "id": "04c856dd-6154-4ae4-9a1c-687cc78a663b",
   "metadata": {},
   "source": [
    "# Bluetooth\n",
    "\n",
    "Bluetooth is available on the host (provided it's supported by the hardware, e.g. the Raspberry PI) and select microcontrollers (e.g. the ESP32).\n",
    "\n",
    "This section contains a collection of sample code.\n",
    "\n",
    "To follow along, download the code and configure a microcontroller."
   ]
  },
  {
   "cell_type": "code",
   "execution_count": 1,
   "id": "81b665f8-f3e0-4a4f-8bf1-7de02fae5db9",
   "metadata": {},
   "outputs": [
    {
     "name": "stdout",
     "output_type": "stream",
     "text": [
      "Checked out revision 152.\n"
     ]
    }
   ],
   "source": [
    "%%bash\n",
    "\n",
    "cd $IOT_PROJECTS\n",
    "svn checkout https://github.com/iot49/iot49.org/trunk/docs/projects/bluetooth"
   ]
  },
  {
   "cell_type": "code",
   "execution_count": 1,
   "id": "45a2c76f-cf36-4c6c-96de-1ef13ca68680",
   "metadata": {},
   "outputs": [
    {
     "name": "stdout",
     "output_type": "stream",
     "text": [
      "Writing bluetooth.yaml\n"
     ]
    }
   ],
   "source": [
    "%%writefile bluetooth.yaml\n",
    "ble:  \n",
    "    uid: 24:0a:c4:13:ad:14\n",
    "    path: bluetooth\n",
    "    resources:\n",
    "        - secrets.py:\n",
    "            path: libs\n",
    "        - code"
   ]
  },
  {
   "cell_type": "code",
   "execution_count": 1,
   "id": "efd10b1e-fa6b-42c4-b202-5aa9dbd0f6a7",
   "metadata": {},
   "outputs": [
    {
     "name": "stdout",
     "output_type": "stream",
     "text": [
      "ble  serial:///dev/ttyUSB0  \n"
     ]
    }
   ],
   "source": [
    "%discover"
   ]
  }
 ],
 "metadata": {
  "kernelspec": {
   "display_name": "IoT",
   "language": "python",
   "name": "iot_kernel"
  },
  "language_info": {
   "codemirror_mode": {
    "name": "python",
    "version": 3
   },
   "file_extension": ".py",
   "mimetype": "text/x-python",
   "name": "python",
   "pygments_lexer": "python3",
   "version": "3"
  }
 },
 "nbformat": 4,
 "nbformat_minor": 5
}
