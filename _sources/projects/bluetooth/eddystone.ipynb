{
 "cells": [
  {
   "cell_type": "markdown",
   "id": "25c964e6-f573-4d23-861e-9d3b59ef45ef",
   "metadata": {},
   "source": [
    "# BLE Beacon Scanner\n",
    "\n",
    "BLE beacons send small packets of information such as a URL. The sample code listens for [Eddystone TLM](https://en.wikipedia.org/wiki/Eddystone_(Google)) messages and reports the temperature send by the device.\n",
    "\n",
    "For testing I am using a [BC011 from Bluecharm Beacons](https://bluecharmbeacons.com/product/bluetooth-ble-multi-beacon-bc011/)."
   ]
  },
  {
   "cell_type": "code",
   "execution_count": 1,
   "id": "d6c747a9-849c-4494-93d8-cd42bcd99221",
   "metadata": {},
   "outputs": [
    {
     "name": "stdout",
     "output_type": "stream",
     "text": [
      "\u001b[46m\u001b[30mConnected to ble @ serial:///dev/ttyUSB0\u001b[0m\n",
      "\u001b[32mDirectories match\n",
      "\u001b[0m"
     ]
    }
   ],
   "source": [
    "%connect ble\n",
    "%rsync"
   ]
  },
  {
   "cell_type": "code",
   "execution_count": 1,
   "id": "289d44d3-4446-420b-82ae-bc3c047c8258",
   "metadata": {},
   "outputs": [
    {
     "name": "stdout",
     "output_type": "stream",
     "text": [
      "[   0] {'temp': 21, 'adv': 158327, 'sec': 10222614, 'rssi': -71, 'bat': 2968, 'packet': 'tlm'}\n",
      "[   1] {'temp': 21, 'adv': 158329, 'sec': 10222814, 'rssi': -67, 'bat': 2968, 'packet': 'tlm'}\n",
      "[   2] {'temp': 20, 'adv': 158330, 'sec': 10222914, 'rssi': -77, 'bat': 2968, 'packet': 'tlm'}\n",
      "[   3] {'temp': 20, 'adv': 158331, 'sec': 10223014, 'rssi': -67, 'bat': 2969, 'packet': 'tlm'}\n",
      "[   4] {'temp': 21, 'adv': 158332, 'sec': 10223114, 'rssi': -69, 'bat': 2969, 'packet': 'tlm'}\n",
      "[   5] {'temp': 20, 'adv': 158333, 'sec': 10223214, 'rssi': -66, 'bat': 2970, 'packet': 'tlm'}\n",
      "[   6] {'temp': 20, 'adv': 158334, 'sec': 10223314, 'rssi': -66, 'bat': 2970, 'packet': 'tlm'}\n",
      "[   7] {'temp': 20, 'adv': 158335, 'sec': 10223414, 'rssi': -76, 'bat': 2977, 'packet': 'tlm'}\n",
      "[   8] {'temp': 21, 'adv': 158336, 'sec': 10223514, 'rssi': -71, 'bat': 2974, 'packet': 'tlm'}\n",
      "[   9] {'temp': 20, 'adv': 158337, 'sec': 10223614, 'rssi': -75, 'bat': 2974, 'packet': 'tlm'}\n",
      "[  10] {'temp': 21, 'adv': 158338, 'sec': 10223714, 'rssi': -76, 'bat': 2970, 'packet': 'tlm'}\n",
      "[  11] {'temp': 20, 'adv': 158339, 'sec': 10223814, 'rssi': -75, 'bat': 2970, 'packet': 'tlm'}\n",
      "[  12] {'temp': 20, 'adv': 158340, 'sec': 10223914, 'rssi': -78, 'bat': 2971, 'packet': 'tlm'}\n",
      "[  13] {'temp': 20, 'adv': 158341, 'sec': 10224015, 'rssi': -70, 'bat': 2971, 'packet': 'tlm'}\n",
      "[  14] {'temp': 20, 'adv': 158343, 'sec': 10224215, 'rssi': -71, 'bat': 2971, 'packet': 'tlm'}\n",
      "[  15] {'temp': 21, 'adv': 158345, 'sec': 10224415, 'rssi': -69, 'bat': 2968, 'packet': 'tlm'}\n",
      "[  16] {'temp': 20, 'adv': 158346, 'sec': 10224515, 'rssi': -72, 'bat': 2968, 'packet': 'tlm'}\n",
      "[  17] {'temp': 21, 'adv': 158347, 'sec': 10224615, 'rssi': -78, 'bat': 2968, 'packet': 'tlm'}\n",
      "[  18] {'temp': 20, 'adv': 158348, 'sec': 10224715, 'rssi': -78, 'bat': 2968, 'packet': 'tlm'}\n",
      "[  19] {'temp': 20, 'adv': 158349, 'sec': 10224815, 'rssi': -79, 'bat': 2969, 'packet': 'tlm'}\n",
      "[  20] {'temp': 20, 'adv': 158350, 'sec': 10224915, 'rssi': -67, 'bat': 2969, 'packet': 'tlm'}\n",
      "[  21] {'temp': 20, 'adv': 158352, 'sec': 10225115, 'rssi': -69, 'bat': 2969, 'packet': 'tlm'}\n",
      "[  22] {'temp': 21, 'adv': 158353, 'sec': 10225215, 'rssi': -69, 'bat': 2972, 'packet': 'tlm'}\n",
      "[  23] {'temp': 21, 'adv': 158354, 'sec': 10225315, 'rssi': -82, 'bat': 2976, 'packet': 'tlm'}\n",
      "[  24] {'temp': 21, 'adv': 158356, 'sec': 10225515, 'rssi': -67, 'bat': 2972, 'packet': 'tlm'}\n",
      "[  25] {'temp': 20, 'adv': 158358, 'sec': 10225715, 'rssi': -70, 'bat': 2971, 'packet': 'tlm'}\n"
     ]
    },
    {
     "name": "stderr",
     "output_type": "stream",
     "text": [
      "Interrupted\u001b[0m\n"
     ]
    }
   ],
   "source": [
    "from struct import unpack\n",
    "\n",
    "import bluetooth\n",
    "import binascii\n",
    "import time\n",
    "\n",
    "\n",
    "class EddystoneTLM:\n",
    "    \n",
    "    def __init__(self, ble, addresses=[]):\n",
    "        self._scanning = False\n",
    "        self._addresses = [ binascii.unhexlify(x) for x in addresses ]\n",
    "        self._ble = ble\n",
    "        self._ble.active(True)\n",
    "        self._ble.irq(self._irq)\n",
    "\n",
    "    def _irq(self, event, data):\n",
    "        if event == 5:\n",
    "            # scan result\n",
    "            addr_type, addr, adv_type, rssi, adv_data = data\n",
    "            if addr in self._addresses:\n",
    "                self._scan_callback(self._decode(adv_data, rssi))\n",
    "                # stop scanning\n",
    "                self._ble.gap_scan(None)\n",
    "                self._scanning = False\n",
    "        elif event == 6:\n",
    "            # scan done\n",
    "            self._scanning = False\n",
    "\n",
    "    def _decode(self, adv_data, rssi):\n",
    "        adv_data = bytes(adv_data)   # memoryview -> bytes\n",
    "        eddytlm = b'\\x02\\x01\\x06\\x03\\x03\\xaa\\xfe\\x11\\x16\\xaa\\xfe \\x00'\n",
    "        ibeacon = b'\\x02\\x01\\x06\\x1a\\xffL\\x00\\x02\\x15'\n",
    "        if eddytlm in adv_data:\n",
    "            return {\n",
    "                'packet' : 'tlm',\n",
    "                'bat'    : unpack('>H', adv_data[13:15])[0],         # battery voltage [mV]\n",
    "                'temp'   : unpack('>h', adv_data[15:17])[0] // 256,  # temperature [C]\n",
    "                'adv'    : unpack('>I', adv_data[17:21])[0],         # number of packets\n",
    "                'sec'    : unpack('>I', adv_data[21:25])[0],         # time since turn on, [0.1s]\n",
    "                'rssi'   : rssi\n",
    "            }\n",
    "        if ibeacon in adv_data:\n",
    "            return {\n",
    "                'packet' : 'iBeacon',\n",
    "                'name'   : adv_data[9:25].decode(),\n",
    "                'major'  : unpack('>H', adv_data[25:27])[0],\n",
    "                'minor'  : unpack('>H', adv_data[27:29])[0],\n",
    "                'rssi'   : adv_data[29]\n",
    "            }\n",
    "        print(\"unrecognized packet\", binascii.hexlify(adv_data))\n",
    "        return None\n",
    "\n",
    "    def scan(self, callback=None):\n",
    "        self._scanning = True\n",
    "        self._scan_callback = callback\n",
    "        self._ble.gap_scan(20000, 30000, 30000)\n",
    "        \n",
    "    @property\n",
    "    def scanning(self):\n",
    "        return self._scanning\n",
    "\n",
    "\n",
    "def demo():\n",
    "    ble = bluetooth.BLE()\n",
    "    central = EddystoneTLM(ble, ['dd34020676d4'])\n",
    "    \n",
    "    n = 0\n",
    "    \n",
    "    def on_scan(data):\n",
    "        nonlocal n\n",
    "        print(\"[{:4d}] {}\".format(n, data))\n",
    "        n += 1\n",
    "\n",
    "    # Wait for connection...\n",
    "    while True:\n",
    "        if not central.scanning:\n",
    "            central.scan(callback=on_scan)\n",
    "        time.sleep_ms(100)\n",
    "\n",
    "\n",
    "if __name__ == \"__main__\":\n",
    "    demo()"
   ]
  }
 ],
 "metadata": {
  "kernelspec": {
   "display_name": "IoT",
   "language": "python",
   "name": "iot_kernel"
  },
  "language_info": {
   "codemirror_mode": {
    "name": "python",
    "version": 3
   },
   "file_extension": ".py",
   "mimetype": "text/x-python",
   "name": "python",
   "pygments_lexer": "python3",
   "version": "3"
  }
 },
 "nbformat": 4,
 "nbformat_minor": 5
}
