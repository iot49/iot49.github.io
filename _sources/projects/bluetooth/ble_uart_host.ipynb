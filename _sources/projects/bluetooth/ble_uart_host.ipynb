{
 "cells": [
  {
   "cell_type": "markdown",
   "id": "d85b427b-6c64-4b0d-afe2-4f8a03b1d834",
   "metadata": {},
   "source": [
    "# BLE UART Service - Host\n",
    "\n",
    "Verify Bluetooth is available and working. This has been tested on a Raspberry Pi 4. If you get an error, your host may not have Bluetooth or it is not configured."
   ]
  },
  {
   "cell_type": "code",
   "execution_count": 1,
   "id": "869eb1cd-c7c9-45dd-818a-9d04ed29dd00",
   "metadata": {
    "tags": []
   },
   "outputs": [
    {
     "name": "stdout",
     "output_type": "stream",
     "text": [
      "[\u0001\u001b[0;93m\u0002CHG\u0001\u001b[0m\u0002] Controller 00:1A:7D:DA:71:03 UUIDs: 00001801-0000-1000-8000-00805f9b34fb\n",
      "[\u0001\u001b[0;93m\u0002CHG\u0001\u001b[0m\u0002] Controller 00:1A:7D:DA:71:03 UUIDs: 00001800-0000-1000-8000-00805f9b34fb\n",
      "[\u0001\u001b[0;93m\u0002CHG\u0001\u001b[0m\u0002] Controller 00:1A:7D:DA:71:03 UUIDs: 0000110c-0000-1000-8000-00805f9b34fb\n",
      "[\u0001\u001b[0;93m\u0002CHG\u0001\u001b[0m\u0002] Controller 00:1A:7D:DA:71:03 UUIDs: 0000110e-0000-1000-8000-00805f9b34fb\n",
      "AdvertisementMonitor path registered\n"
     ]
    }
   ],
   "source": [
    "!bluetoothctl scan on"
   ]
  },
  {
   "cell_type": "markdown",
   "id": "5cb469bf-4d9c-4fd2-b4a0-76f6bfe6c610",
   "metadata": {},
   "source": [
    "Python bluetooth scanner:"
   ]
  },
  {
   "cell_type": "code",
   "execution_count": 5,
   "id": "a9adc597-c750-4687-a250-5beffd97e4fe",
   "metadata": {
    "tags": [
     "hide-output"
    ]
   },
   "outputs": [
    {
     "name": "stdout",
     "output_type": "stream",
     "text": [
      "58:CB:B8:62:D0:A8: 58-CB-B8-62-D0-A8\n",
      "55:0B:A1:83:26:06: 55-0B-A1-83-26-06\n",
      "A4:C1:38:A7:84:1C: xiaoxiang BMS\n",
      "5F:32:62:FB:7C:A8: 5F-32-62-FB-7C-A8\n",
      "7B:7F:9D:27:52:F9: 7B-7F-9D-27-52-F9\n",
      "CF:0C:19:82:5E:00: BLEsmart_000001100F0C19825E00\n",
      "06:C3:85:00:0F:03: 06-C3-85-00-0F-03\n",
      "61:7E:F9:93:21:A5: 61-7E-F9-93-21-A5\n",
      "4E:9B:4E:06:86:18: 4E-9B-4E-06-86-18\n",
      "44:52:69:94:29:88: 44-52-69-94-29-88\n",
      "E7:B5:0C:39:8B:F2: E7-B5-0C-39-8B-F2\n",
      "4A:C7:BA:B4:8B:AC: 4A-C7-BA-B4-8B-AC\n",
      "D3:68:59:DF:03:82: D3-68-59-DF-03-82\n",
      "F5:78:D2:09:01:DE: BMV\n",
      "E6:44:73:09:EE:AF: E6-44-73-09-EE-AF\n",
      "75:72:B8:35:12:17: 75-72-B8-35-12-17\n"
     ]
    }
   ],
   "source": [
    "import asyncio\n",
    "from bleak import BleakScanner\n",
    "\n",
    "async def main():\n",
    "    devices = await BleakScanner.discover()\n",
    "    for d in devices:\n",
    "        print(d)\n",
    "\n",
    "await main()"
   ]
  },
  {
   "cell_type": "markdown",
   "id": "050438b1-dd8a-4f7e-a327-23901c0f4136",
   "metadata": {},
   "source": [
    "## UART Service - CPython"
   ]
  },
  {
   "cell_type": "code",
   "execution_count": 9,
   "id": "b5e48fa6-2a40-48aa-b8e6-aaf7c7eefe46",
   "metadata": {},
   "outputs": [],
   "source": [
    "import asyncio\n",
    "import sys\n",
    "\n",
    "from bleak import BleakScanner, BleakClient\n",
    "from bleak.backends.scanner import AdvertisementData\n",
    "from bleak.backends.device import BLEDevice\n",
    "\n",
    "# https://github.com/hbldh/bleak/blob/develop/examples/uart_service.py\n",
    "\n",
    "class BLE_UART:\n",
    "    \n",
    "    UART_SERVICE_UUID = \"6E400001-B5A3-F393-E0A9-E50E24DCCA9E\"\n",
    "    UART_RX_CHAR_UUID = \"6E400002-B5A3-F393-E0A9-E50E24DCCA9E\"\n",
    "    UART_TX_CHAR_UUID = \"6E400003-B5A3-F393-E0A9-E50E24DCCA9E\"\n",
    "\n",
    "    # All BLE devices have MTU of at least 23. Subtracting 3 bytes overhead, we can\n",
    "    # safely send 20 bytes at a time to any device supporting this service.\n",
    "    UART_SAFE_SIZE = 20\n",
    "    \n",
    "    def __init__(self, peripheral_name='mpy-uart'):\n",
    "        self._peripheral_name = peripheral_name\n",
    "        self._rx_queue = asyncio.Queue()\n",
    "        \n",
    "    async def read(self):\n",
    "        msg = await self._rx_queue.get()\n",
    "        return msg\n",
    "    \n",
    "    async def write(self, msg):\n",
    "        if isinstance(msg, str):\n",
    "            msg = msg.encode()\n",
    "        await self._client.write_gatt_char(self.UART_RX_CHAR_UUID, msg)\n",
    "        \n",
    "    async def connect(self):\n",
    "        self._discovery_queue = asyncio.Queue()\n",
    "        device = None\n",
    "        print(f\"scanning for {self._peripheral_name}\")\n",
    "        async with BleakScanner(detection_callback=self._find_uart_device):\n",
    "            device: BLEDevice = await self._discovery_queue.get()\n",
    "        print(f\"connecting to {self._peripheral_name} ...\", end=\"\")\n",
    "        client = self._client = BleakClient(device, disconnected_callback=self._handle_disconnect)\n",
    "        await client.connect()\n",
    "        await client.start_notify(self.UART_TX_CHAR_UUID, self._rx_handler)    \n",
    "        print(f\" connected\")\n",
    "        \n",
    "    async def disconnect(self):\n",
    "        await self._client.disconnect()\n",
    "    \n",
    "    async def __aenter__(self):\n",
    "        return self\n",
    "    \n",
    "    async def __aexit__(self, *args):\n",
    "        await self.disconnect()\n",
    "        \n",
    "    def _rx_handler(self, _: int, data: bytearray):\n",
    "        self._rx_queue.put_nowait(data)\n",
    "    \n",
    "    def _find_uart_device(self, device: BLEDevice, adv: AdvertisementData):\n",
    "        # called whenever a device is detected during discovery\n",
    "        # ignore all but target device\n",
    "        if device.name == self._peripheral_name:\n",
    "            self._discovery_queue.put_nowait(device)\n",
    "        \n",
    "    def _handle_disconnect(self, _: BleakClient):\n",
    "        self._rx_queue.put_nowait(None)\n"
   ]
  },
  {
   "cell_type": "markdown",
   "id": "db8c3bc6-df5c-4a8d-847c-7f8b446560ba",
   "metadata": {},
   "source": [
    "Receive messages from `mpy-uart`:"
   ]
  },
  {
   "cell_type": "code",
   "execution_count": 10,
   "id": "bc8c3d6d-536e-470b-8c01-c7aeca145e25",
   "metadata": {},
   "outputs": [
    {
     "name": "stdout",
     "output_type": "stream",
     "text": [
      "scanning for mpy-uart\n",
      "connecting to mpy-uart ... connected\n",
      "received hello # 1 from esp32\n",
      "received hello # 2 from esp32\n",
      "received hello # 3 from esp32\n"
     ]
    }
   ],
   "source": [
    "async with BLE_UART() as uart:\n",
    "    await uart.connect()\n",
    "\n",
    "    for i in range(3):\n",
    "        msg = await uart.read()\n",
    "        msg = msg.decode()\n",
    "        print(\"received\", msg)\n",
    "        await uart.write(f\"echo {msg}\")"
   ]
  },
  {
   "cell_type": "code",
   "execution_count": null,
   "id": "0f784fe4-d76c-44ad-a049-93b5e6a47c9b",
   "metadata": {},
   "outputs": [],
   "source": []
  }
 ],
 "metadata": {
  "kernelspec": {
   "display_name": "Python 3 (ipykernel)",
   "language": "python",
   "name": "python3"
  },
  "language_info": {
   "codemirror_mode": {
    "name": "ipython",
    "version": 3
   },
   "file_extension": ".py",
   "mimetype": "text/x-python",
   "name": "python",
   "nbconvert_exporter": "python",
   "pygments_lexer": "ipython3",
   "version": "3.9.7"
  }
 },
 "nbformat": 4,
 "nbformat_minor": 5
}
