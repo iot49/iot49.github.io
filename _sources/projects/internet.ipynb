{
 "cells": [
  {
   "cell_type": "markdown",
   "id": "f6d957fc-f64a-4a6a-967c-35c84e4f9ee4",
   "metadata": {},
   "source": [
    "# Internet\n",
    "\n",
    "Wifi, sockets, requests, mqtt, wireshark, ... in short, the \"complete\" arsenal to access the internet from MicroPython!\n",
    "\n",
    "To download the notebooks and code to your projects directory run:"
   ]
  },
  {
   "cell_type": "code",
   "execution_count": null,
   "id": "c8e859e9-135e-47f2-9f42-8bd54763162b",
   "metadata": {},
   "outputs": [],
   "source": [
    "%%bash\n",
    "\n",
    "cd ~\n",
    "svn checkout https://github.com/iot49/iot49.org/trunk/docs/projects/internet"
   ]
  }
 ],
 "metadata": {
  "kernelspec": {
   "display_name": "IoT",
   "language": "python",
   "name": "iot_kernel"
  },
  "language_info": {
   "codemirror_mode": {
    "name": "python",
    "version": 3
   },
   "file_extension": ".py",
   "mimetype": "text/x-python",
   "name": "python",
   "pygments_lexer": "python3",
   "version": "3"
  }
 },
 "nbformat": 4,
 "nbformat_minor": 5
}
