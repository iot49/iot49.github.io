{
 "cells": [
  {
   "cell_type": "markdown",
   "id": "2da8d939-32f4-4d7e-87b1-6ecb4008daee",
   "metadata": {},
   "source": [
    "# Documentation\n",
    "\n",
    "`MQTT Plot` creates dynamic plots using the [Bokeh Visualization Library](https://bokeh.org/). It listens to broker mqtt://iot49.local:1883 for data. Plots are rendered at http://iot49.local:5006. \n",
    "\n",
    "## Create a Plot\n",
    "\n",
    "To start a new plot, send a message to topic `public/vis/new` with the following json content:\n",
    "\n",
    "```json\n",
    "{\n",
    "    \"columns\": [ \"time [s]\", \"y1\", \"y2\", ... ], \n",
    "    \"rollover\": 200, \n",
    "    \"args\": { \"title\": \"MQTT Plot Demo\" }, \n",
    "    \"layout\": \"scatter_plot\" \n",
    "}\n",
    "```\n",
    "\n",
    "* `columns` is an array of column names\n",
    "* `rollover` is the maximum number of data points plotted. If more data is sent, older points are discarded. The plot scrolls as necessary.\n",
    "* `args` are passed to the layout, e.g. [Bokeh figure](https://docs.bokeh.org/en/latest/docs/reference/plotting/figure.html?highlight=figure#bokeh.plotting.Figure).\n",
    "* `layout` is the type of plot. Layouts are defined in folder `code/mqtt_plot/layouts`. Consult the [Bokeh gallery](https://docs.bokeh.org/en/latest/docs/gallery.html) for ideas and instructions for creating custom layouts.\n",
    "\n",
    "MQTT Plot can render only one plot at a time and in a single browser window. New plots \"replace\" existing plots \n",
    "\n",
    "## Data\n",
    "\n",
    "Numeric data for plotting can be sent either as json dict or binary data.\n",
    "\n",
    "### Json\n",
    "\n",
    "Send json formatted data to topic `public/vis/add`. Example:\n",
    "\n",
    "```json\n",
    "{ \n",
    "    \"time [s]\": 5.39, \n",
    "    \"y1\": float('nan'), \n",
    "    \"y2\": -0.3 \n",
    "}\n",
    "```\n",
    "\n",
    "The dict keys must match the column names submitted when the plot was created. Omitted values default to `float('nan')` and result in \"gaps\" in the plot. Values not declared when the plot was created are ignored.\n",
    "\n",
    "### Binary\n",
    "\n",
    "Format binary as follows:\n",
    "\n",
    "```python\n",
    "from struct import pack\n",
    "data = pack(\"!3f\", 3.5, float('nan'), -77)\n",
    "```\n",
    "\n",
    "and send to topic `public/vis/bin`."
   ]
  },
  {
   "cell_type": "code",
   "execution_count": null,
   "id": "bbe40adc-958f-4f21-88b0-896a79b660d1",
   "metadata": {},
   "outputs": [],
   "source": []
  }
 ],
 "metadata": {
  "kernelspec": {
   "display_name": "Python 3 (ipykernel)",
   "language": "python",
   "name": "python3"
  },
  "language_info": {
   "codemirror_mode": {
    "name": "ipython",
    "version": 3
   },
   "file_extension": ".py",
   "mimetype": "text/x-python",
   "name": "python",
   "nbconvert_exporter": "python",
   "pygments_lexer": "ipython3",
   "version": "3.9.7"
  }
 },
 "nbformat": 4,
 "nbformat_minor": 5
}
