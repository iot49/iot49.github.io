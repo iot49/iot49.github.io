{
 "cells": [
  {
   "cell_type": "markdown",
   "id": "ee8a72f8-d337-4b08-a1fb-b069321209ac",
   "metadata": {},
   "source": [
    "# ESP32 OTA\n",
    "\n",
    "Deployed applications occasionally need updating. Processors with wireless connectivity can do this over the air (OTA). In the case of MicroPython, both the Python sources and the interpreter may need updating. Here we focus on the latter - installing a new MicroPython virtual machine.\n",
    "\n",
    "The MicroPython port for the ESP32 exposes an [API](http://docs.micropython.org/en/latest/library/esp32.html?highlight=ota#flash-partitions) for this purpose.\n",
    "\n",
    "The first step is to [compile](../../ide/micropython/compile.ipynb) and flash a version of MicroPython with OTA enabled. Doing so chooses a flash layout with space for copies of the Python VM, `ota_0` and `ota_1`, defined in `~/micropython/ports/esp32/partitions-ota.csv`.\n",
    "\n",
    "Display available and the currently active partition:"
   ]
  },
  {
   "cell_type": "code",
   "execution_count": 10,
   "id": "f0c2d37e-a8fc-4f53-9930-76680ada12b1",
   "metadata": {},
   "outputs": [
    {
     "name": "stdout",
     "output_type": "stream",
     "text": [
      "\u001b[46m\u001b[30mConnected to esp32 @ serial:///dev/ttyUSB0\u001b[0m\n",
      "<Partition type=0, subtype=16, address=65536, size=1572864, label=ota_0, encrypted=0>\n",
      "<Partition type=0, subtype=17, address=1638400, size=1572864, label=ota_1, encrypted=0>\n",
      "active partition: ota_1\n"
     ]
    }
   ],
   "source": [
    "%connect esp32\n",
    "from esp32 import Partition\n",
    "\n",
    "for p in Partition.find(Partition.TYPE_APP):\n",
    "    print(p)\n",
    "    \n",
    "print(\"active partition:\", Partition(Partition.RUNNING).info()[4])"
   ]
  },
  {
   "cell_type": "markdown",
   "id": "f2f1d2ee-4608-4399-8061-987679d5512c",
   "metadata": {},
   "source": [
    "During updating, the VM runs from the currently active partition, while a new VM is written to the other partition. Upon restart, the new VM is invoked, and, if successful, is marked as the new \"active\" partition. In case of error, subsequent reboots revert to the previous, working partition.\n",
    "\n",
    "Download and install the [`ota32` package](https://github.com/iot49/iot49.org/tree/master/docs/projects/internet/code/lib)."
   ]
  },
  {
   "cell_type": "code",
   "execution_count": 10,
   "id": "8910fe61-38f0-4cc4-8f6b-364ddae4dc28",
   "metadata": {},
   "outputs": [
    {
     "name": "stdout",
     "output_type": "stream",
     "text": [
      "\u001b[34mUPDATE  /lib/ota32/ota.py\n",
      "\u001b[0m"
     ]
    }
   ],
   "source": [
    "%rsync"
   ]
  },
  {
   "cell_type": "markdown",
   "id": "82af15f6-b54c-4f44-afee-12873a88850d",
   "metadata": {},
   "source": [
    "The update process takes two arguments: a url pointing to the code to be uploaded, and the [\"sha\"](https://en.wikipedia.org/wiki/Secure_Hash_Algorithms), a  secure hash of the code.\n",
    "\n",
    "The compiled binaries (`~/micropython/ports/esp32/build-GENERIC_OTA`) include two versions: `firmware.bin` and `micropython.bin`. The former contains all the flash partitions and is used for the (initial) installation with the esptool. The latter contains just the MicroPython VM and is used for the OTA update. "
   ]
  },
  {
   "cell_type": "code",
   "execution_count": 10,
   "id": "411bcedc-3da4-4b23-983b-906449146bd6",
   "metadata": {},
   "outputs": [
    {
     "name": "stdout",
     "output_type": "stream",
     "text": [
      "-rw-r--r-- 1 iot gpio 1509504 Jul 24 14:29 firmware.bin\n",
      "-rw-r--r-- 1 iot gpio 1448064 Jul 22 17:48 micropython.bin\n",
      "-rw-r--r-- 1 iot gpio    8192 Jul 22 17:42 ota_data_initial.bin\n",
      "76617fb397c516c30d3959c5778a1fc61a7e5ec83f6128bc58feb84933f4d0c2  micropython.bin\n"
     ]
    }
   ],
   "source": [
    "%%bash\n",
    "\n",
    "cd ~/micropython/ports/esp32/build-GENERIC_OTA/\n",
    "ls -l *bin\n",
    "\n",
    "# compute the sha\n",
    "sha256sum micropython.bin >micropython.sha\n",
    "cat micropython.sha"
   ]
  },
  {
   "cell_type": "markdown",
   "id": "d95feae3-e7f0-4cc0-ba24-ff3bf20c721f",
   "metadata": {},
   "source": [
    "Copy both files to a secure server. For demonstration we'll use the built-in webserver of *ide49*."
   ]
  },
  {
   "cell_type": "code",
   "execution_count": 10,
   "id": "fde5feed-1d7f-455e-a440-d17e58bceb39",
   "metadata": {},
   "outputs": [],
   "source": [
    "%%bash\n",
    "\n",
    "cd ~/micropython/ports/esp32/build-GENERIC_OTA/\n",
    "mkdir -p /service-config/nginx/html/ota\n",
    "cd /service-config/nginx/html/ota\n",
    "cp micropython.bin .\n",
    "cp micropython.sha ."
   ]
  },
  {
   "cell_type": "code",
   "execution_count": 1,
   "id": "9b5647be-359d-4916-a60d-dfc5d0b9c5af",
   "metadata": {},
   "outputs": [
    {
     "name": "stdout",
     "output_type": "stream",
     "text": [
      "\u001b[34mUPDATE  /lib/ota32/open_url.py\n",
      "\u001b[0m\n",
      "\u001b[46m\u001b[31m!!!!!!!!!!!!!!!!!!!!!!!!!!!!!!!\u001b[0m\n",
      "\u001b[46m\u001b[31m!!!!!   softreset ...     !!!!!\u001b[0m\n",
      "\u001b[46m\u001b[31m!!!!!!!!!!!!!!!!!!!!!!!!!!!!!!!\u001b[0m\n",
      "\n"
     ]
    }
   ],
   "source": [
    "%rsync\n",
    "%softreset"
   ]
  },
  {
   "cell_type": "markdown",
   "id": "d00d51b9-3607-42c0-b666-4a13e4c059ca",
   "metadata": {},
   "source": [
    "Download the \"new\" firmware (edit the server url):"
   ]
  },
  {
   "cell_type": "code",
   "execution_count": 1,
   "id": "5da89652-a079-475f-bee6-316f930be16d",
   "metadata": {},
   "outputs": [
    {
     "name": "stdout",
     "output_type": "stream",
     "text": [
      "103600\n",
      "flashing https://server.local/ota/micropython.bin with\n",
      "sha 76617fb397c516c30d3959c5778a1fc61a7e5ec83f6128bc58feb84933f4d0c2\n",
      "OTA .................................................................................................................................................................................................................................................................................................................................................................. Done.\n"
     ]
    }
   ],
   "source": [
    "from ota32 import OTA, open_url\n",
    "import gc\n",
    "\n",
    "gc.collect()\n",
    "print(gc.mem_free())\n",
    "\n",
    "# url of webserver (e.g. iot49.local)\n",
    "server = 'https://server.local'\n",
    "\n",
    "# read the sha\n",
    "s = open_url('{}/ota/micropython.sha'.format(server))\n",
    "sha = s.read(1024).split()[0].decode()\n",
    "s.close()\n",
    "             \n",
    "gc.collect()\n",
    "\n",
    "# explicitly state sha in case of memory error\n",
    "# sha = '76617fb397c516c30d3959c5778a1fc61a7e5ec83f6128bc58feb84933f4d0c2'\n",
    "url = '{}/ota/micropython.bin'.format(server)\n",
    "\n",
    "print(\"flashing {} with\\nsha {}\".format(url, sha))\n",
    "ota = OTA(verbose=True)\n",
    "ota.ota(url, sha)"
   ]
  },
  {
   "cell_type": "markdown",
   "id": "334938e3-9c36-4e0c-8b63-76750a823136",
   "metadata": {},
   "source": [
    "Reboot the processor:"
   ]
  },
  {
   "cell_type": "code",
   "execution_count": 1,
   "id": "bdefcdc6-aefb-4612-95a9-c46f05a6683d",
   "metadata": {},
   "outputs": [
    {
     "name": "stdout",
     "output_type": "stream",
     "text": [
      "ets Jun  8 2016 00:22:57\n",
      "\n",
      "rst:0xc (SW_CPU_RESET),boot:0x13 (SPI_FAST_FLASH_BOOT)\n",
      "configsip: 0, SPIWP:0xee\n",
      "clk_drv:0x00,q_drv:0x00,d_drv:0x00,cs0_drv:0x00,hd_drv:0x00,wp_drv:0x00\n",
      "mode:DIO, clock div:2\n",
      "load:0x3fff0030,len:4\n",
      "load:0x3fff0034,len:5524\n",
      "load:0x40078000,len:12800\n",
      "load:0x40080400,len:4292\n",
      "entry 0x400806b0\n",
      "Connecting to WLAN ... time (2021, 8, 1, 19, 32, 50, 6, 213)\n",
      "WebREPL daemon started on ws://10.39.40.135:8266\n",
      "Started webrepl in normal mode\n",
      "MicroPython v1.16-78-ge3291e180 on 2021-07-22; 4MB/OTA module with ESP32\n",
      "Type \"help()\" for more information.\n",
      ">>> "
     ]
    },
    {
     "name": "stderr",
     "output_type": "stream",
     "text": [
      "Interrupted\u001b[0m\n"
     ]
    }
   ],
   "source": [
    "import machine\n",
    "machine.reset()"
   ]
  },
  {
   "cell_type": "markdown",
   "id": "06827ec9-398f-46af-99f1-f5c225590077",
   "metadata": {},
   "source": [
    "Now the \"other\" partition is active:"
   ]
  },
  {
   "cell_type": "code",
   "execution_count": 1,
   "id": "463199b2-a249-4f2a-8c3b-3f1cd3dd1096",
   "metadata": {},
   "outputs": [
    {
     "name": "stdout",
     "output_type": "stream",
     "text": [
      "active partition: ota_0\n"
     ]
    }
   ],
   "source": [
    "from esp32 import Partition\n",
    "\n",
    "print(\"active partition:\", Partition(Partition.RUNNING).info()[4])"
   ]
  },
  {
   "cell_type": "markdown",
   "id": "e0e1c62f-49b2-49b4-ba46-7505098eb889",
   "metadata": {},
   "source": [
    "Run tests as appropriate to verify that the new app works as expected. Then run the code below to mark it as the new default, started after every boot:"
   ]
  },
  {
   "cell_type": "code",
   "execution_count": 1,
   "id": "acd91004-9a9c-4336-87ea-56a41b4d0ad8",
   "metadata": {},
   "outputs": [],
   "source": [
    "from esp32 import Partition\n",
    "\n",
    "# OTA ... accept uploaded image (if we uploaded a new one)\n",
    "from esp32 import Partition\n",
    "Partition.mark_app_valid_cancel_rollback()"
   ]
  },
  {
   "cell_type": "markdown",
   "id": "81b1f5d0-e45f-42a0-b19c-2721ab5f3e34",
   "metadata": {},
   "source": [
    "You could add these statements to `boot.py`, possibly conditioned on passing appropriate tests. Note that `Partition.mark_app_valid_cancel_rollback()` has an effect only if new firmware has been uploaded."
   ]
  },
  {
   "cell_type": "code",
   "execution_count": null,
   "id": "73e2d415-36c1-4e54-bfd8-02fd526a19bc",
   "metadata": {},
   "outputs": [],
   "source": []
  }
 ],
 "metadata": {
  "kernelspec": {
   "display_name": "IoT",
   "language": "python",
   "name": "iot_kernel"
  },
  "language_info": {
   "codemirror_mode": {
    "name": "python",
    "version": 3
   },
   "file_extension": ".py",
   "mimetype": "text/x-python",
   "name": "python",
   "pygments_lexer": "python3",
   "version": "3"
  }
 },
 "nbformat": 4,
 "nbformat_minor": 5
}
