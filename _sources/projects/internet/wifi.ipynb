{
 "cells": [
  {
   "cell_type": "markdown",
   "id": "0c3e2daa-dde0-43ec-bcbb-5927edf5746f",
   "metadata": {
    "tags": []
   },
   "source": [
    "# WiFi\n",
    "\n",
    "Some microcontrollers come with built-in WiFi radios. Others use coprocessors for this purpose.\n",
    "\n",
    "## SSID and Passwords\n",
    "\n",
    "Create a file `$IOT_PROJECTS/libs/secrets.py` to store your `SSID` and `password`.\n",
    "\n",
    "Sample `secrets.py` with wifi credentials and other \"secrets\":\n",
    "\n",
    "```python\n",
    "# secrets.py\n",
    "\n",
    "# wifi\n",
    "wifi_ssid = 'MY_SSID'\n",
    "wifi_pwd  = 'MY_PASSWORD'\n",
    "\n",
    "# timezone\n",
    "tz_offset = -8*3600    # PST\n",
    "\n",
    "# webrepl password, 4 .. 9 characters\n",
    "webrepl_pwd = 'er93xa'\n",
    "\n",
    "# https://openweathermap.org/\n",
    "openweathermap_apiid = \"1c336ac61add531d32b73af8f2b\"\n",
    "```\n",
    "\n",
    "Now create or update a device description (don't forget to update the uid to match your microcontroller). In addition to `secrets.py` it also includes code used elsewhere in this guide."
   ]
  },
  {
   "cell_type": "code",
   "execution_count": 1,
   "id": "3734f29a-8ef7-4621-9bcd-bd51a0f5061b",
   "metadata": {},
   "outputs": [
    {
     "name": "stdout",
     "output_type": "stream",
     "text": [
      "Writing /home/iot/iot49.org/docs/projects/devices/esp32.yaml\n"
     ]
    }
   ],
   "source": [
    "%%writefile $IOT_PROJECTS/devices/esp32.yaml\n",
    "esp32:\n",
    "    uid: 30:ae:a4:23:ab:d4\n",
    "    path: internet\n",
    "    include-patterns:\n",
    "        - \"./**/*.py\"     \n",
    "        - \"./**/*.mpy\"\n",
    "        - \"./**/\"\n",
    "        - \"./**/*.key\"     \n",
    "        - \"./**/*.crt\"\n",
    "    resources:\n",
    "        - secrets.py:\n",
    "            path: libs\n",
    "        - code"
   ]
  },
  {
   "cell_type": "code",
   "execution_count": 1,
   "id": "007942ce-4465-4edb-bded-a4baefbf0ea6",
   "metadata": {},
   "outputs": [
    {
     "name": "stdout",
     "output_type": "stream",
     "text": [
      "\u001b[46m\u001b[30mConnected to esp32 @ serial:///dev/ttyUSB0\u001b[0m\n",
      "\u001b[32mDirectories match\n",
      "\u001b[0m"
     ]
    }
   ],
   "source": [
    "%connect esp32\n",
    "%rsync"
   ]
  },
  {
   "cell_type": "markdown",
   "id": "9375de4b-0dec-4361-8ea7-13db33d42415",
   "metadata": {},
   "source": [
    "## Connecting\n",
    "\n",
    "The `help` command on the esp32 shows sample code for configuring the WiFi:"
   ]
  },
  {
   "cell_type": "code",
   "execution_count": 1,
   "id": "49168c80-6be3-418d-bde5-a354584a6c52",
   "metadata": {
    "collapsed": true,
    "jupyter": {
     "outputs_hidden": true
    },
    "tags": [
     "hide-output"
    ]
   },
   "outputs": [
    {
     "name": "stdout",
     "output_type": "stream",
     "text": [
      "Welcome to MicroPython on the ESP32!\n",
      "\n",
      "For generic online docs please visit http://docs.micropython.org/\n",
      "\n",
      "For access to the hardware use the 'machine' module:\n",
      "\n",
      "import machine\n",
      "pin12 = machine.Pin(12, machine.Pin.OUT)\n",
      "pin12.value(1)\n",
      "pin13 = machine.Pin(13, machine.Pin.IN, machine.Pin.PULL_UP)\n",
      "print(pin13.value())\n",
      "i2c = machine.I2C(scl=machine.Pin(21), sda=machine.Pin(22))\n",
      "i2c.scan()\n",
      "i2c.writeto(addr, b'1234')\n",
      "i2c.readfrom(addr, 4)\n",
      "\n",
      "Basic WiFi configuration:\n",
      "\n",
      "import network\n",
      "sta_if = network.WLAN(network.STA_IF); sta_if.active(True)\n",
      "sta_if.scan()                             # Scan for available access points\n",
      "sta_if.connect(\"<AP_name>\", \"<password>\") # Connect to an AP\n",
      "sta_if.isconnected()                      # Check for successful connection\n",
      "\n",
      "Control commands:\n",
      "  CTRL-A        -- on a blank line, enter raw REPL mode\n",
      "  CTRL-B        -- on a blank line, enter normal REPL mode\n",
      "  CTRL-C        -- interrupt a running program\n",
      "  CTRL-D        -- on a blank line, do a soft reset of the board\n",
      "  CTRL-E        -- on a blank line, enter paste mode\n",
      "\n",
      "For further help on a specific object, type help(obj)\n",
      "For a list of available modules, type help('modules')\n"
     ]
    }
   ],
   "source": [
    "help()"
   ]
  },
  {
   "cell_type": "markdown",
   "id": "512d2cab-854a-43ed-824f-3fc794e7992d",
   "metadata": {},
   "source": [
    "Search available networks (optional):"
   ]
  },
  {
   "cell_type": "code",
   "execution_count": 1,
   "id": "c6e6835e-9bc4-4a45-8721-2fcb0e733bf1",
   "metadata": {},
   "outputs": [
    {
     "name": "stdout",
     "output_type": "stream",
     "text": [
      "TPA-Secure   d6:fb:e4:77:a3:f4 ch:11  -58dB WPA2-PSK     visible\n",
      "TPA-IoT      c6:fb:e4:77:a3:f4 ch:11  -58dB WPA2-PSK     visible\n",
      "TPA-Server   b4:fb:e4:77:a3:f4 ch:11  -58dB WPA2-PSK     visible\n",
      "TPA          b6:fb:e4:77:a3:f4 ch:11  -58dB WPA2-PSK     visible\n",
      "?            e6:fb:e4:77:a3:f4 ch:11  -58dB WPA2-PSK     visible\n",
      "?            f6:fb:e4:77:a3:f4 ch:11  -58dB WPA2-PSK     visible\n",
      "ATT-Router   dc:7f:a4:c2:f2:d9 ch:11  -83dB WPA2-PSK     visible\n"
     ]
    }
   ],
   "source": [
    "import network, secrets\n",
    "\n",
    "wlan = network.WLAN(network.STA_IF); \n",
    "wlan.active(True)\n",
    "for net in wlan.scan():\n",
    "    ssid, bssid, channel, RSSI, authmode, hidden = net\n",
    "    ssid = ssid.decode()\n",
    "    if len(ssid) == 0: ssid = \"?\"\n",
    "    authmode = [ \"open\", \"WEP\", \"WPA-PSK\", \"WPA2-PSK\", \"WPA/WPA2-PSK\" ][authmode]\n",
    "    bssid = \":\".join(\"{:02x}\".format(x) for x in bssid)\n",
    "    hidden = [ \"visible\", \"hidden\" ][hidden]\n",
    "    print(f\"{ssid:12} {bssid} ch:{channel:2} {RSSI:4}dB {authmode:12} {hidden}\")"
   ]
  },
  {
   "cell_type": "markdown",
   "id": "662043c9-4792-4b36-a269-c23fed4e19d7",
   "metadata": {},
   "source": [
    "Connect to wlan `secrets.wifi_ssidsecrets.wifi_ssid`:"
   ]
  },
  {
   "cell_type": "code",
   "execution_count": 1,
   "id": "4045d35a-50f7-42b6-8b6a-2c06eddb8bee",
   "metadata": {},
   "outputs": [
    {
     "name": "stdout",
     "output_type": "stream",
     "text": [
      "connected: True\n"
     ]
    }
   ],
   "source": [
    "import network, secrets\n",
    "\n",
    "wlan = network.WLAN(network.STA_IF); \n",
    "wlan.active(True)\n",
    "wlan.connect(secrets.wifi_ssid, secrets.wifi_pwd)\n",
    "print(\"connected:\", wlan.isconnected())"
   ]
  },
  {
   "cell_type": "markdown",
   "id": "a500bbe5-e636-45a3-80c9-1c18e373a61c",
   "metadata": {},
   "source": [
    "Let's check the IP address:"
   ]
  },
  {
   "cell_type": "code",
   "execution_count": 1,
   "id": "ed94d80b-0bf5-4cc6-a4ea-332daa6885b4",
   "metadata": {},
   "outputs": [
    {
     "name": "stdout",
     "output_type": "stream",
     "text": [
      "10.39.40.168\n"
     ]
    }
   ],
   "source": [
    "wlan = network.WLAN(network.STA_IF)\n",
    "print(wlan.ifconfig()[0])"
   ]
  },
  {
   "cell_type": "markdown",
   "id": "3e9818f0-6cd3-4e1b-b632-9089b1509189",
   "metadata": {},
   "source": [
    "We can now ping the device:"
   ]
  },
  {
   "cell_type": "code",
   "execution_count": 1,
   "id": "23ea806d-f24d-4f2c-af53-c4cc905701e8",
   "metadata": {},
   "outputs": [
    {
     "name": "stdout",
     "output_type": "stream",
     "text": [
      "PING 10.39.40.168 (10.39.40.168): 56 data bytes\n",
      "64 bytes from 10.39.40.168: icmp_seq=0 ttl=255 time=217.643 ms\n",
      "64 bytes from 10.39.40.168: icmp_seq=1 ttl=255 time=129.098 ms\n",
      "64 bytes from 10.39.40.168: icmp_seq=2 ttl=255 time=49.519 ms\n",
      "--- 10.39.40.168 ping statistics ---\n",
      "3 packets transmitted, 3 packets received, 0% packet loss\n",
      "round-trip min/avg/max/stddev = 49.519/132.087/217.643/68.669 ms\n"
     ]
    }
   ],
   "source": [
    "!ping -c 3 10.39.40.168"
   ]
  },
  {
   "cell_type": "markdown",
   "id": "d0242907-a178-4d91-bad4-0f9cc35b8820",
   "metadata": {},
   "source": [
    "## Internet time\n",
    "\n",
    "Now that we are connected, we can fetch the current time from the internet. Let's check first what it is without initialization:"
   ]
  },
  {
   "cell_type": "code",
   "execution_count": null,
   "id": "d146e3c4-53cb-4ce0-8805-ad37ddb55ad8",
   "metadata": {},
   "outputs": [],
   "source": [
    "import time\n",
    "\n",
    "print(time.gmtime())"
   ]
  },
  {
   "cell_type": "markdown",
   "id": "ab0e1f0d-f286-48fc-885a-0c5721ab6d34",
   "metadata": {},
   "source": [
    "Let's fetch the current time from the internet."
   ]
  },
  {
   "cell_type": "code",
   "execution_count": 1,
   "id": "a72377d0-e698-40df-a2d6-df2480fcf8b5",
   "metadata": {},
   "outputs": [
    {
     "name": "stdout",
     "output_type": "stream",
     "text": [
      "time (2021, 8, 1, 20, 27, 19, 6, 213)\n"
     ]
    }
   ],
   "source": [
    "import ntptime, time, machine, secrets\n",
    "\n",
    "# fetch time from internet\n",
    "tm = time.localtime(ntptime.time() + getattr(secrets, 'tz_offset', 0))\n",
    "print(\"time\", tm)\n",
    "\n",
    "# set the time\n",
    "machine.RTC().datetime((tm[0], tm[1], tm[2], tm[6] + 1, tm[3], tm[4], tm[5], 0))"
   ]
  },
  {
   "cell_type": "markdown",
   "id": "41289c52-2d4f-480d-9385-1d43dad74e75",
   "metadata": {},
   "source": [
    "Formatted:"
   ]
  },
  {
   "cell_type": "code",
   "execution_count": 1,
   "id": "b74e462b-a6af-435c-b544-72e83a4c9bce",
   "metadata": {},
   "outputs": [
    {
     "name": "stdout",
     "output_type": "stream",
     "text": [
      "2021-08-01 20:27\n"
     ]
    }
   ],
   "source": [
    "rtc = machine.RTC()\n",
    "t = rtc.datetime()\n",
    "print('{:04d}-{:02d}-{:02d} {:02d}:{:02d}'.format(t[0], t[1], t[2], t[4], t[5]))"
   ]
  },
  {
   "cell_type": "markdown",
   "id": "37ebcb26-bed0-4b36-a070-1308408f283b",
   "metadata": {},
   "source": [
    "## Webrepl\n",
    "\n",
    "Once the microcontroller is connected to the internet, we can program it wirelessly. Great for robot projects! Make sure that `webrepl_pwd` is defined in `secrets.py`, then create and upload `webrepl_cfg.py`."
   ]
  },
  {
   "cell_type": "code",
   "execution_count": null,
   "id": "3421e858-9eea-4679-9eac-8e0f3e56ccd4",
   "metadata": {},
   "outputs": [],
   "source": [
    "!mkdir -p $IOT_PROJECTS/internet/code"
   ]
  },
  {
   "cell_type": "code",
   "execution_count": 2,
   "id": "5587563d-afde-4af9-892f-27518fe4cf47",
   "metadata": {},
   "outputs": [
    {
     "name": "stdout",
     "output_type": "stream",
     "text": [
      "\u001b[0m\u001b[0mWriting /home/iot/iot49.org/docs/projects/internet/code/webrepl_cfg.py\u001b[0m\n"
     ]
    }
   ],
   "source": [
    "%%writefile $IOT_PROJECTS/internet/code/webrepl_cfg.py\n",
    "from secrets import webrepl_pwd\n",
    "\n",
    "PASS = webrepl_pwd"
   ]
  },
  {
   "cell_type": "code",
   "execution_count": 1,
   "id": "7bc48b89-602b-4dd9-82cb-e12283f1d6c8",
   "metadata": {},
   "outputs": [
    {
     "name": "stdout",
     "output_type": "stream",
     "text": [
      "Writing /home/iot/iot49.org/docs/projects/devices/example.yaml\n"
     ]
    }
   ],
   "source": [
    "%%writefile $IOT_PROJECTS/devices/esp32.yaml\n",
    "esp32:\n",
    "    uid: 30:ae:a4:30:84:34\n",
    "    path: internet\n",
    "    resources:\n",
    "        - secrets.py:\n",
    "            path: libs\n",
    "        - code"
   ]
  },
  {
   "cell_type": "code",
   "execution_count": 1,
   "id": "599e79e9-24d5-4973-a090-6ea9335a8055",
   "metadata": {},
   "outputs": [
    {
     "name": "stdout",
     "output_type": "stream",
     "text": [
      "\u001b[32mDirectories match\n",
      "\u001b[0m"
     ]
    }
   ],
   "source": [
    "%rsync"
   ]
  },
  {
   "cell_type": "markdown",
   "id": "590f5d51-f984-40ec-a187-3ce1e9ebcb57",
   "metadata": {},
   "source": [
    "Start the webrepl daemon on the microcontroller:"
   ]
  },
  {
   "cell_type": "code",
   "execution_count": 1,
   "id": "9a5752f6-7dc1-493b-800e-05d785a52712",
   "metadata": {},
   "outputs": [
    {
     "name": "stdout",
     "output_type": "stream",
     "text": [
      "WebREPL daemon started on ws://10.39.40.135:8266\n",
      "Started webrepl in normal mode\n"
     ]
    }
   ],
   "source": [
    "import webrepl\n",
    "webrepl.start()"
   ]
  },
  {
   "cell_type": "markdown",
   "id": "38a78b65-95a8-4c2e-8119-6695415e0775",
   "metadata": {},
   "source": [
    "Advertise the webrepl with regular broadcast messages so *ide49* discovers it."
   ]
  },
  {
   "cell_type": "code",
   "execution_count": 1,
   "id": "b28ccee2-5a14-4cea-891a-c123ccc0c8ca",
   "metadata": {},
   "outputs": [],
   "source": [
    "from socket import socket, AF_INET, SOCK_DGRAM\n",
    "import _thread\n",
    "\n",
    "def broadcaster(msg, port):\n",
    "    so = socket(AF_INET, SOCK_DGRAM)\n",
    "    try:\n",
    "        # pre-allocate address (on heap)\n",
    "        addr = ('255.255.255.255', port)\n",
    "        while True:\n",
    "            so.sendto(msg, addr)\n",
    "            time.sleep(1)\n",
    "    finally:\n",
    "        so.close()\n",
    "\n",
    "msg = \"ws://{}:8266\\n{}\".format(\n",
    "    network.WLAN(network.STA_IF).ifconfig()[0],\n",
    "    \":\".join(\"{:02x}\".format(x) for x in machine.unique_id())\n",
    ")\n",
    "th = _thread.start_new_thread(broadcaster, (msg, getattr(secrets, 'broadcast_port', 50000)))"
   ]
  },
  {
   "cell_type": "markdown",
   "id": "acd5430d-0a7e-43a2-91d0-70ad897227cd",
   "metadata": {},
   "source": [
    "Connect wirelessly:"
   ]
  },
  {
   "cell_type": "code",
   "execution_count": 1,
   "id": "aa6b0ab2-cf5e-4601-b51c-c0801b56892c",
   "metadata": {},
   "outputs": [
    {
     "name": "stdout",
     "output_type": "stream",
     "text": [
      "esp32  serial:///dev/ttyUSB0   \n",
      "esp32  ws://10.39.40.135:8266  \n"
     ]
    }
   ],
   "source": [
    "%discover"
   ]
  },
  {
   "cell_type": "code",
   "execution_count": 1,
   "id": "973ea670-334b-45d7-9608-93c7bb84a2c0",
   "metadata": {},
   "outputs": [
    {
     "name": "stdout",
     "output_type": "stream",
     "text": [
      "\u001b[46m\u001b[30mConnected to esp32 @ ws://10.39.40.135:8266\u001b[0m\n",
      "connected to webrepl\n"
     ]
    }
   ],
   "source": [
    "%connect esp32 ws\n",
    "\n",
    "print(\"connected to webrepl\")"
   ]
  },
  {
   "cell_type": "markdown",
   "id": "ed97bcf4-08c7-4af0-b74a-183fe209c310",
   "metadata": {},
   "source": [
    "Unfortunately wireless connection via webrepl is slow. The primary reason is that webrepl lacks a feature to tell when it's ready to receive code and when not. *ide49* takes a conservative approach and sends code only in small chunks with pauses inbetween.\n",
    "\n",
    "*Note:* if you rather not use the broadcaster code to advertise the webrepl, you can instead connect with the url:"
   ]
  },
  {
   "cell_type": "code",
   "execution_count": 1,
   "id": "3386d120-8a1d-4307-b636-8efc8eda86e6",
   "metadata": {},
   "outputs": [
    {
     "name": "stdout",
     "output_type": "stream",
     "text": [
      "\u001b[46m\u001b[30mConnected to esp32 @ ws://10.39.40.135:8266\u001b[0m\n"
     ]
    }
   ],
   "source": [
    "%connect \"ws://10.39.40.135:8266\""
   ]
  },
  {
   "cell_type": "markdown",
   "id": "63a5f1a7-a71b-4bd2-9529-d1ee05fde96e",
   "metadata": {},
   "source": [
    "## boot.py\n",
    "\n",
    "To automatically connect the ESP32 whenever it boots, place the instructions in a file `boot.py` stored in the root directory of the microcontroller. MicroPython executes this file whenever it starts."
   ]
  },
  {
   "cell_type": "code",
   "execution_count": 1,
   "id": "a4648c52-f67e-4e70-9cb5-8afd90fbabf0",
   "metadata": {},
   "outputs": [
    {
     "name": "stdout",
     "output_type": "stream",
     "text": [
      "Writing /home/iot/iot49.org/docs/projects/internet/code/boot.py\n"
     ]
    }
   ],
   "source": [
    "%%writefile $IOT_PROJECTS/internet/code/boot.py\n",
    "import micropython, machine, network, ntptime, time\n",
    "import secrets\n",
    "\n",
    "# handle errors in interrupts\n",
    "micropython.alloc_emergency_exception_buf(100)\n",
    "\n",
    "def connect():\n",
    "    \"\"\"connect to wifi, get ntp time, advertise hostname (if not None)\"\"\"\n",
    "    wlan = network.WLAN(network.STA_IF)\n",
    "    if wlan.isconnected(): return True\n",
    "    wlan.active(True)\n",
    "    # wlan.scan()\n",
    "    print(\"Connecting to WLAN ... \", end=\"\")\n",
    "    wlan.connect(getattr(secrets, 'wifi_ssid', 'SSID'),\n",
    "                 getattr(secrets, 'wifi_pwd', ''))\n",
    "    # wait for connection to be established ...\n",
    "    for _ in range(30):\n",
    "        if wlan.isconnected(): break\n",
    "        time.sleep_ms(100)\n",
    "    if not wlan.isconnected():\n",
    "        print(\"Unable to connect to WiFi!\")\n",
    "        wlan.disconnect()\n",
    "        return False\n",
    "    # set clock to local time\n",
    "    tm = time.localtime(ntptime.time() + getattr(secrets, 'tz_offset', 0))\n",
    "    print(\"time\", tm)\n",
    "    machine.RTC().datetime((tm[0], tm[1], tm[2], tm[6] + 1, tm[3], tm[4], tm[5], 0))\n",
    "    return True\n",
    "\n",
    "# connect to WiFi\n",
    "conneced = connect()\n",
    "\n",
    "if connected and hasattr(secrets, 'webrepl_pwd'):\n",
    "    # start webrepl\n",
    "    import webrepl\n",
    "    webrepl.start()\n",
    "\n",
    "    # advertise\n",
    "    from socket import socket, AF_INET, SOCK_DGRAM\n",
    "    import _thread\n",
    "\n",
    "    def broadcaster(msg, port):\n",
    "        so = socket(AF_INET, SOCK_DGRAM)\n",
    "        try:\n",
    "            # pre-allocate address (on heap)\n",
    "            addr = ('255.255.255.255', port)\n",
    "            while True:\n",
    "                so.sendto(msg, addr)\n",
    "                time.sleep(1)\n",
    "        finally:\n",
    "            so.close()\n",
    "\n",
    "    msg = \"ws://{}:8266\\n{}\".format(\n",
    "        network.WLAN(network.STA_IF).ifconfig()[0],\n",
    "        \":\".join(\"{:02x}\".format(x) for x in machine.unique_id())\n",
    "    )\n",
    "    th = _thread.start_new_thread(broadcaster, (msg, getattr(secrets, 'broadcast_port', 50000)))"
   ]
  },
  {
   "cell_type": "code",
   "execution_count": 1,
   "id": "5e83a521-32df-43a7-9ff4-a9f3a770e36d",
   "metadata": {},
   "outputs": [
    {
     "name": "stdout",
     "output_type": "stream",
     "text": [
      "\u001b[34mUPDATE  /boot.py\n",
      "\u001b[0m\n",
      "\u001b[46m\u001b[31m!!!!!!!!!!!!!!!!!!!!!!!!!!!!!!!\u001b[0m\n",
      "\u001b[46m\u001b[31m!!!!!   softreset ...     !!!!!\u001b[0m\n",
      "\u001b[46m\u001b[31m!!!!!!!!!!!!!!!!!!!!!!!!!!!!!!!\u001b[0m\n",
      "\n"
     ]
    }
   ],
   "source": [
    "%rsync\n",
    "%softreset"
   ]
  },
  {
   "cell_type": "code",
   "execution_count": 1,
   "id": "177fff42-d2b0-4347-b0b9-479aec338cdd",
   "metadata": {},
   "outputs": [
    {
     "name": "stdout",
     "output_type": "stream",
     "text": [
      "\u001b[46m\u001b[30mConnected to esp32 @ serial:///dev/ttyUSB0\u001b[0m\n"
     ]
    }
   ],
   "source": [
    "# switch back to serial connection\n",
    "%connect esp32 serial"
   ]
  },
  {
   "cell_type": "code",
   "execution_count": 1,
   "id": "10d6d0dd-df80-40a0-b400-1ee3ce33265c",
   "metadata": {},
   "outputs": [
    {
     "name": "stdout",
     "output_type": "stream",
     "text": [
      "\u001b[46m\u001b[30mConnected to esp32 @ ws://10.39.40.135:8266\u001b[0m\n"
     ]
    }
   ],
   "source": [
    "# and again to wireless\n",
    "%connect esp32 ws"
   ]
  },
  {
   "cell_type": "markdown",
   "id": "42725c49-f3ab-41c1-b27a-ca4c97bc5a30",
   "metadata": {},
   "source": [
    "Try operating the microcontroller from a battery or power-only USB cable to verify that connection is indeed wireless. "
   ]
  }
 ],
 "metadata": {
  "kernelspec": {
   "display_name": "IoT",
   "language": "python",
   "name": "iot_kernel"
  },
  "language_info": {
   "codemirror_mode": {
    "name": "python",
    "version": 3
   },
   "file_extension": ".py",
   "mimetype": "text/x-python",
   "name": "python",
   "pygments_lexer": "python3",
   "version": "3"
  }
 },
 "nbformat": 4,
 "nbformat_minor": 5
}
