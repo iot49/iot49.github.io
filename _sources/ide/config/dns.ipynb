{
 "cells": [
  {
   "cell_type": "markdown",
   "id": "cd0b7ffd-0ff8-4f94-bb79-6674fbc6e812",
   "metadata": {},
   "source": [
    "# Domain Name\n",
    "\n",
    "By default, *ide49* advertises the Raspberry PI on the local network as `iot49.local`. This can be changed by changing the value of `DNS_NAME` in the dashboard:\n",
    "\n",
    "In `/service-config/iot-home/.env49rc`, uncomment the line starting with `# export DNS_NAME= ...` and set the correct value. For example, if you set `DNS_NAME` to `my_awesome_pi`, after restart the Raspberry Pi is available at https://my_awesome_pi.local.\n",
    "\n",
    "*ide49* automatically issues a new certificate for the new domain name. If you have [exported the certificate](https) to the host from which you connect to the Raspberry Pi you need to export the new certificate.\n",
    "\n",
    "**Note:** The Jupyter editor refuses to open `/service-config/iot-home/.env49rc`. Use [Visual Studio Code](/code-server) instead.\n",
    "\n",
    "If you did a custom install, you can alternatively change the value of `DNS_NAME` in the *Balena dashboard*.\n",
    "\n",
    "```{figure} figures/device_variables.png\n",
    ":width: 500px\n",
    "\n",
    "Editing device variables in the *Balena dashboard*\n",
    "```\n"
   ]
  },
  {
   "cell_type": "code",
   "execution_count": null,
   "id": "675a318b-1e80-4c00-ab82-f220fd068b44",
   "metadata": {},
   "outputs": [],
   "source": []
  }
 ],
 "metadata": {
  "kernelspec": {
   "display_name": "IoT",
   "language": "python",
   "name": "iot_kernel"
  },
  "language_info": {
   "codemirror_mode": {
    "name": "python",
    "version": 3
   },
   "file_extension": ".py",
   "mimetype": "text/x-python",
   "name": "python",
   "pygments_lexer": "python3",
   "version": "3"
  }
 },
 "nbformat": 4,
 "nbformat_minor": 5
}
