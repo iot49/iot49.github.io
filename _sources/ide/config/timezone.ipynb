{
 "cells": [
  {
   "cell_type": "markdown",
   "id": "78a1bae2-406a-4bf4-ac2c-7d28d9e462aa",
   "metadata": {},
   "source": [
    "# Timezone\n",
    "\n",
    "Use the following Linux command to display the current time:"
   ]
  },
  {
   "cell_type": "code",
   "execution_count": 1,
   "id": "7fe97678-884c-4d27-bafb-960d432b74d4",
   "metadata": {},
   "outputs": [
    {
     "name": "stdout",
     "output_type": "stream",
     "text": [
      "Wed 08 Dec 2021 03:22:22 PM PST\n"
     ]
    }
   ],
   "source": [
    "!date"
   ]
  },
  {
   "cell_type": "markdown",
   "id": "b91a8150-a29f-48c3-bfd3-240efd9ecefc",
   "metadata": {},
   "source": [
    "If it's not correct, it's easy to change. First, find the correct timezone from this [list](https://en.wikipedia.org/wiki/List_of_tz_database_time_zones). \n",
    "\n",
    "In `/service-config/iot-home/.env49rc`, uncomment the line starting with `# export TZ= ...` and set the correct value."
   ]
  },
  {
   "cell_type": "code",
   "execution_count": 1,
   "id": "eae7172b-6052-4b6e-8778-55d29cfd335a",
   "metadata": {},
   "outputs": [
    {
     "name": "stdout",
     "output_type": "stream",
     "text": [
      "#! /bin/bash\n",
      "\n",
      "# /service-config/iot-home/.env49rc\n",
      "\n",
      "# Modify entries below to customize the ide49 environment\n",
      "\n",
      "# Local dns name; access device as $DNS_NAME.local\n",
      "# export DNS_NAME=iot49\n",
      "\n",
      "# ide49 file locations\n",
      "# export IOT=/home/iot\n",
      "# export IOT_PROJECTS=/home/iot/projects\n",
      "\n",
      "# time zone\n",
      "# export TZ=America/Los_Angeles\n",
      "\n",
      "# samba configuration\n",
      "# valid entries for $SAMBA are server / client / off (default)\n",
      "# export SAMBA=off\n",
      "# export SAMBA_SERVER_IP=10.39.40.200\"\n",
      "# export SAMBA_PASSWORD=\"my_super_secret_password_px&(734%3#ksf\"\n"
     ]
    }
   ],
   "source": [
    "!cat /service-config/iot-home/.env49rc"
   ]
  },
  {
   "cell_type": "markdown",
   "id": "c1dd80ad-8348-4e30-a93c-524e5627fc49",
   "metadata": {},
   "source": [
    "**Note:** The Jupyter editor refuses to open that file. Use [Visual Studio Code](/code-server) or `nano` (from the terminal) instead.\n",
    "\n",
    "If you did a custom install, you can alternatively change the value of fleet variable `TZ` in the *Balena dashboard*."
   ]
  },
  {
   "cell_type": "code",
   "execution_count": null,
   "id": "c97f56a4-9724-42d2-bb18-8fae878a5f57",
   "metadata": {},
   "outputs": [],
   "source": []
  }
 ],
 "metadata": {
  "kernelspec": {
   "display_name": "IoT",
   "language": "python",
   "name": "iot_kernel"
  },
  "language_info": {
   "codemirror_mode": {
    "name": "python",
    "version": 3
   },
   "file_extension": ".py",
   "mimetype": "text/x-python",
   "name": "python",
   "pygments_lexer": "python3",
   "version": "3"
  }
 },
 "nbformat": 4,
 "nbformat_minor": 5
}
