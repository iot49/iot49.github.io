{
 "cells": [
  {
   "cell_type": "markdown",
   "id": "ac700ec7-667d-46a3-a552-353ad63295ac",
   "metadata": {},
   "source": [
    "# Samba File Server/Client\n",
    "\n",
    "*ide49* can optionally act as a [Samba/CIFS](https://en.wikipedia.org/wiki/Samba_(software)) file server or client. When configured as a server, it exports the `/home/iot` folder (user `iot`). Conversely, when set as client it mounts `/home/iot`.\n",
    "\n",
    "Applications include exporting to another machine (e.g. a laptop) to easily exchange files. If you have several computers running *ide49* you can dedicate one as server and the other as clients.\n",
    "\n",
    "To enable the Samba server, edit the appropriate variables in `/service-config/iot-home/.env49rc`. Set `SAMBA=server` or `client`, specify the correct IP address of the server (`SAMBA_SERVER_IP`), and choose a strong password (`SAMBA_PASSWORD`). \n",
    "\n",
    "**Note:** The Jupyter editor refuses to open that file. Use [Visual Studio Code](/code-server) instead.\n",
    "\n",
    "If you did a custom install, you can alternatively change the values in the *Balena dashboard*.\n",
    "\n",
    "```{figure} figures/device_variables.png\n",
    ":width: 500px\n",
    "\n",
    "Editing device variables in the *Balena dashboard*\n",
    "```\n",
    "\n",
    "The changes take effect after a reboot (or restart of the containers).\n",
    "\n",
    "To connect to the server use credentials `iot` for user and the password as set in `SAMBA_PASSWORD`."
   ]
  },
  {
   "cell_type": "code",
   "execution_count": null,
   "id": "668bed50-6418-4cf0-b04b-77fda7f2b600",
   "metadata": {},
   "outputs": [],
   "source": []
  }
 ],
 "metadata": {
  "kernelspec": {
   "display_name": "IoT",
   "language": "python",
   "name": "iot_kernel"
  },
  "language_info": {
   "codemirror_mode": {
    "name": "python",
    "version": 3
   },
   "file_extension": ".py",
   "mimetype": "text/x-python",
   "name": "python",
   "pygments_lexer": "python3",
   "version": "3"
  }
 },
 "nbformat": 4,
 "nbformat_minor": 5
}
