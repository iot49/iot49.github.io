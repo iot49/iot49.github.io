{
 "cells": [
  {
   "cell_type": "markdown",
   "id": "9c5a3c49-dc53-4ab0-8451-ba77e2d9a872",
   "metadata": {},
   "source": [
    "# Help\n",
    "\n",
    "Post *ide49* specific questions at https://github.com/iot49/iot49.org/discussions. The [MicroPython forum](https://forum.micropython.org/) and [documentation](http://docs.micropython.org/en/latest/) is an excellent resource for all things related to [MicroPython](https://micropython.org/) in general.\n",
    "\n",
    "If you have issues with *ide49* try the following resources:\n",
    "\n",
    "1) Problems concerning online **documentation of *ide49*** or examples: In the documentation, click the cat icon near to top right and choose `open issue` or `suggest edit`, as appropriate. \n",
    "\n",
    "2) Bugs in *ide49*: Raise an issue at https://github.com/iot49/ide49. Please check first if the issue has already been noted.\n",
    "\n",
    "Clearly describe what your problem is including your setup (e.g. what microcontroller you are using), steps to reproduce the issue, error messages, and what behavior you would expect. The clearer and more concise your report, the more likely someone can help you. \n",
    "\n",
    "If you have fixes or improvements consider submitting a pull request."
   ]
  },
  {
   "cell_type": "code",
   "execution_count": null,
   "id": "1a5729ff-16ea-4c81-9c3e-69a6254c7ec6",
   "metadata": {},
   "outputs": [],
   "source": []
  }
 ],
 "metadata": {
  "kernelspec": {
   "display_name": "IoT",
   "language": "python",
   "name": "iot_kernel"
  },
  "language_info": {
   "codemirror_mode": {
    "name": "python",
    "version": 3
   },
   "file_extension": ".py",
   "mimetype": "text/x-python",
   "name": "python",
   "pygments_lexer": "python3",
   "version": "3"
  }
 },
 "nbformat": 4,
 "nbformat_minor": 5
}
