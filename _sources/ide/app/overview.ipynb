{
 "cells": [
  {
   "cell_type": "code",
   "execution_count": null,
   "id": "a12f3c61-59d6-4c93-9cf1-ca339624a12b",
   "metadata": {},
   "outputs": [],
   "source": [
    "# Overview\n",
    "\n",
    "*ide49* is based on [Balena](https://www.balena.io/what-is-balena), a version of [Docker](https://www.docker.com/) optimized for IoT devices, rather than datacenters.\n",
    "\n",
    "```{figure} figures/app.png\n",
    ":alt: balena_app\n",
    ":width: 400px\n",
    ":align: center\n",
    "\n",
    "Structure of a Docker application. A single Linux kernel is shared between the host and one or more user containers.\n",
    "```\n",
    "\n",
    "The balenaOS takes the function of the host operating system. Unlike other operating systems (Windows, MacOS, ...), it is highly specialized to run individual services in so-called containers. In *ide49* available containers include micropython, code-server, duplicati, etc and more can be added over time to provide additional functionality.\n",
    "\n",
    "A set of [configuration files](https://github.com/iot49/ide49) describes the application. The [docker-compose.yml](https://github.com/iot49/ide49/blob/main/docker-compose.yml) file lists all user containers along with configuration parameters and information about how they interact. E.g. containers may be permitted to share files (`volumes`) or communicate over dedicated networks that are inaccessible from outside.\n",
    "\n",
    "Each container presents a separate instance of Linux, and usually implement just one function. This arrangement minimizes undesired interaction e.g. between incompatible libraries used in various application programs. It's like having a separate computer for each task (code editor, backup, etc).\n",
    "\n",
    "The software installed in each container is described with a Dockerfile. For example, the first line in the Dockerfile for the [micropython](https://github.com/iot49/ide49/blob/main/core/micropython/Dockerfile) specifies that this service is derived from a slightly customized version of an \"official\" [Jupyter docker image](https://jupyter-docker-stacks.readthedocs.io/en/latest/using/selecting.html#jupyter-scipy-notebook). This image is based on Ubuntu Linux and includes, notably, the Jupyter Notebook server as well as a host of libraries for scientific computation and plotting. Following the FROM statement are instructions for installing additional software and configuration files including the IoT Kernel used for interacting with the MicroPython REPL. \n",
    "\n",
    "## BalenaEngine\n",
    "\n",
    "In Balena, the balenaEngine takes the function of the docker deamon in standard docker apps. It is accessed from the host with the `balena-engine` command. "
   ]
  },
  {
   "cell_type": "markdown",
   "id": "dd9278fd-c43e-4cd7-8fea-9baa5b02e304",
   "metadata": {
    "collapsed": true,
    "jupyter": {
     "outputs_hidden": true
    },
    "tags": [
     "hide-output"
    ]
   },
   "source": [
    "%%service host\n",
    "balena-engine --help"
   ]
  },
  {
   "cell_type": "markdown",
   "id": "641eecc1-e07f-4d96-955f-4cc04363d0d9",
   "metadata": {},
   "source": [
    "To get a list of all running containers, type:"
   ]
  },
  {
   "cell_type": "code",
   "execution_count": 1,
   "id": "690c3ea2-15ee-40ee-8ab6-b9d70b0b4eb9",
   "metadata": {},
   "outputs": [
    {
     "name": "stdout",
     "output_type": "stream",
     "text": [
      "NAMES                                                          SIZE                      IMAGE\n",
      "micropython_4326350_2006136_52d3260cfa7974104feb37cd5f7b10e2   108MB (virtual 3.31GB)    92e31d0562f3\n",
      "esp-idf_4326361_2006136_52d3260cfa7974104feb37cd5f7b10e2       211MB (virtual 4.08GB)    3a3cec03f2f0\n",
      "bluetooth_4326363_2006136_52d3260cfa7974104feb37cd5f7b10e2     140MB (virtual 917MB)     b8f19d396651\n",
      "rust_4326364_2006136_52d3260cfa7974104feb37cd5f7b10e2          106MB (virtual 1.09GB)    d731539ad951\n",
      "arm32_4326358_2006136_52d3260cfa7974104feb37cd5f7b10e2         211MB (virtual 2.14GB)    8d13346713a1\n",
      "nginx_4326349_2006136_52d3260cfa7974104feb37cd5f7b10e2         3B (virtual 29.7MB)       9aaac23e700e\n",
      "balena-cli_4326362_2006136_52d3260cfa7974104feb37cd5f7b10e2    0B (virtual 1.64GB)       bb952f8265bd\n",
      "wireshark_4326355_2006136_52d3260cfa7974104feb37cd5f7b10e2     1.03MB (virtual 1.21GB)   be89f6dc2961\n",
      "mosquitto_4326354_2006136_52d3260cfa7974104feb37cd5f7b10e2     0B (virtual 11.8MB)       36a40df3c01e\n",
      "plotserver_4326356_2006136_52d3260cfa7974104feb37cd5f7b10e2    0B (virtual 617MB)        5e7daca5ada6\n",
      "smb_4326353_2006136_52d3260cfa7974104feb37cd5f7b10e2           353kB (virtual 265MB)     0d9849478188\n",
      "duplicati_4326352_2006136_52d3260cfa7974104feb37cd5f7b10e2     331kB (virtual 659MB)     0910e1cc6298\n",
      "code-server_4326351_2006136_52d3260cfa7974104feb37cd5f7b10e2   336kB (virtual 640MB)     abaf7dc162b3\n",
      "balena_supervisor                                              45B (virtual 67.1MB)      registry2.balena-cloud.com/v2/83f98d1c7daeec48d6f34806ab7a6fc0:latest\n"
     ]
    }
   ],
   "source": [
    "%%service host\n",
    "balena-engine ps --format \"table {{.Names}}\\t{{.Size}}\\t{{.Image}}\""
   ]
  },
  {
   "cell_type": "markdown",
   "id": "91a9044e-f004-482c-a76b-5d092c3b1544",
   "metadata": {},
   "source": [
    "The balenaEngine has many more features. For example, to get the build history for the arm32 image run"
   ]
  },
  {
   "cell_type": "code",
   "execution_count": 1,
   "id": "e3ce8c1f-a981-4329-b76e-85be76347b0b",
   "metadata": {
    "collapsed": true,
    "jupyter": {
     "outputs_hidden": true
    },
    "tags": [
     "hide-output"
    ]
   },
   "outputs": [
    {
     "name": "stdout",
     "output_type": "stream",
     "text": [
      "SIZE                CREATED BY\n",
      "22.7MB              /bin/bash -o pipefail -c echo \"force rebuild…\n",
      "9.49MB              /bin/bash -o pipefail -c pip install --defau…\n",
      "355MB               /bin/bash -o pipefail -c mamba install --qui…\n",
      "0B                  /bin/bash -o pipefail -c #(nop)  USER 1000\n",
      "3.52kB              /bin/bash -o pipefail -c groupadd gpio  && u…\n",
      "527B                /bin/bash -o pipefail -c #(nop) COPY file:bb…\n",
      "501B                /bin/bash -o pipefail -c #(nop) COPY file:f3…\n",
      "119B                /bin/bash -o pipefail -c #(nop) COPY file:54…\n",
      "182MB               /bin/bash -o pipefail -c apt-get update --ye…\n",
      "0B                  /bin/bash -o pipefail -c #(nop)  ENV DEBIAN_…\n",
      "0B                  /bin/bash -o pipefail -c #(nop)  USER root\n",
      "0B                  CMD [\"/bin/bash\" \"/usr/local/bin/start.sh\"]\n",
      "0B                  WORKDIR /home/iot\n",
      "0B                  USER 1000\n",
      "11.5kB              RUN |1 IOT_USER=iot /bin/bash -o pipefail -c…\n",
      "9.85kB              COPY conf /usr/local/bin/ # buildkit\n",
      "0B                  ENV HOME=/home/iot\n",
      "0B                  ENV NB_USER=iot\n",
      "0B                  ARG IOT_USER=iot\n",
      "0B                  ENV UDEV=on\n",
      "35.2MB              RUN /bin/bash -o pipefail -c chmod u+xs /usr…\n",
      "18.3kB              COPY /tmp/add_hostname /usr/local/bin # buil…\n",
      "0B                  USER root\n",
      "0B                  LABEL description=Run container - jupyter st…\n",
      "0B                  WORKDIR /home/jovyan\n",
      "0B                  USER 1000\n",
      "86.2kB              RUN /bin/bash -o pipefail -c MPLBACKEND=Agg …\n",
      "0B                  ENV XDG_CACHE_HOME=/home/jovyan/.cache/\n",
      "2.31MB              RUN /bin/bash -o pipefail -c git clone https…\n",
      "0B                  WORKDIR /tmp\n",
      "861MB               RUN /bin/bash -o pipefail -c mamba install -…\n",
      "0B                  USER 1000\n",
      "359MB               RUN /bin/bash -o pipefail -c apt-get update …\n",
      "0B                  USER root\n",
      "0B                  LABEL maintainer=Jupyter Project <jupyter@go…\n",
      "0B                  USER 1000\n",
      "9.99kB              RUN /bin/bash -o pipefail -c update-alternat…\n",
      "697MB               RUN /bin/bash -o pipefail -c apt-get update …\n",
      "0B                  USER root\n",
      "0B                  LABEL maintainer=Jupyter Project <jupyter@go…\n",
      "0B                  WORKDIR /home/jovyan\n",
      "0B                  USER 1000\n",
      "3.66kB              RUN |5 NB_USER=jovyan NB_UID=1000 NB_GID=100…\n",
      "0B                  USER root\n",
      "1.84kB              COPY jupyter_notebook_config.py /etc/jupyter…\n",
      "11kB                COPY start.sh start-notebook.sh start-single…\n",
      "0B                  CMD [\"start-notebook.sh\"]\n",
      "0B                  ENTRYPOINT [\"tini\" \"-g\" \"--\"]\n",
      "0B                  EXPOSE map[8888/tcp:{}]\n",
      "326MB               RUN |5 NB_USER=jovyan NB_UID=1000 NB_GID=100…\n",
      "251MB               RUN |5 NB_USER=jovyan NB_UID=1000 NB_GID=100…\n",
      "0B                  ARG CONDA_MIRROR=https://github.com/conda-fo…\n",
      "0B                  WORKDIR /tmp\n",
      "0B                  RUN |4 NB_USER=jovyan NB_UID=1000 NB_GID=100…\n",
      "0B                  ARG PYTHON_VERSION=default\n",
      "0B                  USER 1000\n",
      "11.6kB              RUN |3 NB_USER=jovyan NB_UID=1000 NB_GID=100…\n",
      "3.82kB              RUN |3 NB_USER=jovyan NB_UID=1000 NB_GID=100…\n",
      "0B                  RUN |3 NB_USER=jovyan NB_UID=1000 NB_GID=100…\n",
      "1.03kB              COPY fix-permissions /usr/local/bin/fix-perm…\n",
      "0B                  ENV PATH=/opt/conda/bin:/usr/local/sbin:/usr…\n",
      "0B                  ENV CONDA_DIR=/opt/conda SHELL=/bin/bash NB_…\n",
      "30.8MB              RUN |3 NB_USER=jovyan NB_UID=1000 NB_GID=100…\n",
      "0B                  ENV DEBIAN_FRONTEND=noninteractive\n",
      "0B                  USER root\n",
      "0B                  SHELL [/bin/bash -o pipefail -c]\n",
      "0B                  ARG NB_GID=100\n",
      "0B                  ARG NB_UID=1000\n",
      "0B                  ARG NB_USER=jovyan\n",
      "0B                  LABEL maintainer=Jupyter Project <jupyter@go…\n",
      "0B                  /bin/sh -c #(nop)  CMD [\"bash\"]\n",
      "72.8MB              /bin/sh -c #(nop) ADD file:5d68d27cc15a80653…\n"
     ]
    }
   ],
   "source": [
    "%%service host\n",
    "balena-engine history 92e31d0562f3 --format \"table {{.Size}}\\t{{.CreatedBy}}\" # --no-trunc"
   ]
  },
  {
   "cell_type": "markdown",
   "id": "7838aeab-36c9-4809-9b32-27a7794033bf",
   "metadata": {},
   "source": [
    "## Networking\n",
    "\n",
    "Containers use networks for communication. *ide49* makes use of two separate networks:\n",
    "\n",
    "* an internal network used only for communication within the app, and\n",
    "* the host network, used to access the Internet.\n",
    "\n",
    "Most containers have access only to the internal network. The `nginx` webserver acts as a reverse proxy to pass requests received from browsers on port 443 (and port 80, which is forwarded to 443) to the appropriate container on the internal network. The single ingress allows centralized handling of encryption and password verification in one place. The nginx configration is at"
   ]
  },
  {
   "cell_type": "code",
   "execution_count": 1,
   "id": "8e9aba50-732f-4b2e-86c5-892987a24765",
   "metadata": {
    "collapsed": true,
    "jupyter": {
     "outputs_hidden": true
    },
    "tags": [
     "hide-output"
    ]
   },
   "outputs": [
    {
     "name": "stdout",
     "output_type": "stream",
     "text": [
      "# /etc/nginx/nginx.conf\n",
      "\n",
      "user                                nginx;\n",
      "worker_processes                    1;\n",
      "\n",
      "error_log                           /var/log/nginx/error.log warn;\n",
      "pid                                 /var/run/nginx.pid;\n",
      "\n",
      "\n",
      "events {\n",
      "    worker_connections              256;\n",
      "}\n",
      "\n",
      "http {\n",
      "    include                         /etc/nginx/mime.types;\n",
      "    default_type                    application/octet-stream;\n",
      "\n",
      "    log_format main                 '$remote_addr - $remote_user \"$request\" '\n",
      "                                    '$status $body_bytes_sent \"$http_referer\" '\n",
      "                                    '\"$http_x_forwarded_for\"';\n",
      "\n",
      "    access_log                      /var/log/nginx/access.log main;\n",
      "\n",
      "    sendfile                        on;\n",
      "    keepalive_timeout               65;\n",
      "    # gzip                          on;\n",
      "\n",
      "    # http -> https redirect\n",
      "    server {\n",
      "        listen                      80;\n",
      "        return                      301 https://$host$request_uri;\n",
      "    }\n",
      "\n",
      "    server {\n",
      "\n",
      "        # disable port 80 after enabling https redirect (above)\n",
      "        # listen                      80;\n",
      "\n",
      "        # Enable ssl/tls (https): copy certificate to /etc/nginx/ssl and uncomment lines below\n",
      "        listen                      443 ssl;\n",
      "        ssl_certificate             /etc/nginx/ssl/cert.crt;\n",
      "        ssl_certificate_key         /etc/nginx/ssl/cert.key;\n",
      "\n",
      "        # password authentication (default: iot49/iot49)\n",
      "        auth_basic                  \"iot49: Electronics for IoT\";\n",
      "        auth_basic_user_file        htpasswd;\n",
      "\n",
      "        # Docker DNS\n",
      "        resolver                    127.0.0.11;\n",
      "\n",
      "        # MicroPython Development (Jupyter)\n",
      "        location /micropython/ {\n",
      "            # proxy for network_mode: host\n",
      "            # proxy_pass              http://172.17.0.1:8888;\n",
      "            proxy_pass              http://micropython:8888;\n",
      "            proxy_redirect          off;\n",
      "            proxy_set_header        Host $host;\n",
      "\n",
      "            # websocket support\n",
      "            proxy_http_version      1.1;\n",
      "            proxy_set_header        Upgrade \"websocket\";\n",
      "            proxy_set_header        Connection \"Upgrade\";\n",
      "            proxy_read_timeout      86400;\n",
      "        }\n",
      "\n",
      "        # Code-server\n",
      "        location /code-server/ {\n",
      "            proxy_pass              http://code-server:8443/;\n",
      "            proxy_redirect          off;\n",
      "            proxy_set_header        Host $http_host;\n",
      "            proxy_http_version      1.1;\n",
      "            proxy_set_header        Upgrade $http_upgrade;\n",
      "            proxy_set_header        Connection \"upgrade\";\n",
      "        }\n",
      "\n",
      "        # Duplicati\n",
      "        location /duplicati {\n",
      "            return                  301 $scheme://$host/duplicati/;\n",
      "        }\n",
      "        location ^~ /duplicati/ {\n",
      "            rewrite                 /duplicati(.*) $1 break;\n",
      "            proxy_pass              http://duplicati:8200;\n",
      "        }\n",
      "\n",
      "        # Wireshark\n",
      "        # Don't know how to proxy, so using redirect to http instead ...\n",
      "        # https://serverfault.com/questions/932628/how-to-handle-relative-urls-correctly-with-a-nginx-reverse-proxy\n",
      "        location /wireshark {\n",
      "            return                  301 http://$http_host:3000/;\n",
      "        }\n",
      "\n",
      "        # Plotserver\n",
      "        location /plotserver/ {\n",
      "            proxy_redirect          off;\n",
      "            proxy_set_header        Host $http_host;\n",
      "            proxy_pass              http://plotserver:8080/;\n",
      "        }\n",
      "\n",
      "        include plotserver.conf;\n",
      "\n",
      "        # ARM32 Cross Compiler (Jupyter)\n",
      "        location /arm32/ {\n",
      "            proxy_pass              http://arm32:8889;\n",
      "            proxy_redirect          off;\n",
      "            proxy_set_header        Host $host;\n",
      "\n",
      "            # websocket support\n",
      "            proxy_http_version      1.1;\n",
      "            proxy_set_header        Upgrade \"websocket\";\n",
      "            proxy_set_header        Connection \"Upgrade\";\n",
      "            proxy_read_timeout      86400;\n",
      "        }\n",
      "\n",
      "        # ESP32 Cross Compiler (Jupyter)\n",
      "        location /esp-idf/ {\n",
      "            proxy_pass              http://esp-idf:8890;\n",
      "            proxy_redirect          off;\n",
      "            proxy_set_header        Host $host;\n",
      "\n",
      "            # websocket support\n",
      "            proxy_http_version      1.1;\n",
      "            proxy_set_header        Upgrade \"websocket\";\n",
      "            proxy_set_header        Connection \"Upgrade\";\n",
      "            proxy_read_timeout      86400;\n",
      "        }\n",
      "\n",
      "        # Rust (Jupyter)\n",
      "        location /rust/ {\n",
      "            proxy_pass              http://rust:8893;\n",
      "            proxy_redirect          off;\n",
      "            proxy_set_header        Host $host;\n",
      "\n",
      "            # websocket support\n",
      "            proxy_http_version      1.1;\n",
      "            proxy_set_header        Upgrade \"websocket\";\n",
      "            proxy_set_header        Connection \"Upgrade\";\n",
      "            proxy_read_timeout      86400;\n",
      "        }\n",
      "\n",
      "        # Balena-CLI\n",
      "        location /balena-cli/ {\n",
      "            proxy_pass              http://balena-cli:8891;\n",
      "            proxy_redirect          off;\n",
      "            proxy_set_header        Host $host;\n",
      "\n",
      "            # websocket support\n",
      "            proxy_http_version      1.1;\n",
      "            proxy_set_header        Upgrade \"websocket\";\n",
      "            proxy_set_header        Connection \"Upgrade\";\n",
      "            proxy_read_timeout      86400;\n",
      "        }\n",
      "\n",
      "        # Bluetooth\n",
      "        location /bluetooth/ {\n",
      "            # proxy for network_mode: host\n",
      "            proxy_pass              http://172.17.0.1:8892;\n",
      "            proxy_redirect          off;\n",
      "            proxy_set_header        Host $host;\n",
      "\n",
      "            # websocket support\n",
      "            proxy_http_version      1.1;\n",
      "            proxy_set_header        Upgrade \"websocket\";\n",
      "            proxy_set_header        Connection \"Upgrade\";\n",
      "            proxy_read_timeout      86400;\n",
      "        }\n",
      "\n",
      "        # static content\n",
      "        location / {\n",
      "            auth_basic              off;\n",
      "            root                    /etc/nginx/html;\n",
      "            index                   index.html index.htm;\n",
      "        }\n",
      "\n",
      "    }\n",
      "\n",
      "}\n"
     ]
    }
   ],
   "source": [
    "!cat /service-config/nginx/nginx.conf"
   ]
  },
  {
   "cell_type": "markdown",
   "id": "2922015a-0a29-4135-b4fe-32d6168fc629",
   "metadata": {},
   "source": [
    "The network confiuration is available from the balena-engine:"
   ]
  },
  {
   "cell_type": "code",
   "execution_count": 1,
   "id": "ca49c4b6-9b5b-46d8-a5bd-ac63cae23e33",
   "metadata": {
    "collapsed": true,
    "jupyter": {
     "outputs_hidden": true
    },
    "tags": [
     "hide-output"
    ]
   },
   "outputs": [
    {
     "name": "stdout",
     "output_type": "stream",
     "text": [
      "NAMES                                                          PORTS\n",
      "micropython_4326350_2006136_52d3260cfa7974104feb37cd5f7b10e2   8888/tcp\n",
      "esp-idf_4326361_2006136_52d3260cfa7974104feb37cd5f7b10e2       8888/tcp, 8890/tcp\n",
      "bluetooth_4326363_2006136_52d3260cfa7974104feb37cd5f7b10e2     \n",
      "rust_4326364_2006136_52d3260cfa7974104feb37cd5f7b10e2          8888/tcp, 8893/tcp\n",
      "arm32_4326358_2006136_52d3260cfa7974104feb37cd5f7b10e2         8888-8889/tcp\n",
      "nginx_4326349_2006136_52d3260cfa7974104feb37cd5f7b10e2         0.0.0.0:80->80/tcp, 0.0.0.0:443->443/tcp\n",
      "balena-cli_4326362_2006136_52d3260cfa7974104feb37cd5f7b10e2    8891/tcp\n",
      "wireshark_4326355_2006136_52d3260cfa7974104feb37cd5f7b10e2     \n",
      "mosquitto_4326354_2006136_52d3260cfa7974104feb37cd5f7b10e2     0.0.0.0:1883->1883/tcp, 0.0.0.0:8883->8883/tcp, 0.0.0.0:9001-9002->9001-9002/tcp\n",
      "plotserver_4326356_2006136_52d3260cfa7974104feb37cd5f7b10e2    8080/tcp\n",
      "smb_4326353_2006136_52d3260cfa7974104feb37cd5f7b10e2           0.0.0.0:139->139/tcp, 0.0.0.0:445->445/tcp\n",
      "duplicati_4326352_2006136_52d3260cfa7974104feb37cd5f7b10e2     8200/tcp\n",
      "code-server_4326351_2006136_52d3260cfa7974104feb37cd5f7b10e2   8443/tcp\n",
      "balena_supervisor                                              \n"
     ]
    }
   ],
   "source": [
    "%%service host\n",
    "balena-engine ps --format \"table {{.Names}}\\t{{.Ports}}\""
   ]
  },
  {
   "cell_type": "markdown",
   "id": "63df34fa-f1fc-48ad-b1f8-51087ed9f813",
   "metadata": {},
   "source": [
    "Unlike other containers, the `micropython` service is member of the host network to enable access to bluetooth (if available). It also means servers (e.g. webservers) running in the `micropython` container can be accessed from from the internet without password protection and encryption from `nginx`. This is convenient for development but also poses a security risk especially if the device is not behind a firewall (as e.g. provided by a home router)."
   ]
  },
  {
   "cell_type": "markdown",
   "id": "4f8b49db-5d63-42db-8504-7e60f00cfd3c",
   "metadata": {},
   "source": [
    "## Storage\n",
    "\n",
    "Broadly, [Docker](https://docs.docker.com/storage/) containers distinguish two kinds of data storage.\n",
    "\n",
    "### Owned by the container\n",
    "\n",
    "That's the default and includes all operating system related files, installed software (compilers, etc). \n",
    "\n",
    "Although it's possible to make changes (e.g. with `apt-get` run inside the container), those changes do not persist between updates and hence should be limited to testing new features. A better solution is to instead modify the *ide49* app, per instruction in the next section.\n",
    "\n",
    "This part of storage is \"private\" to the container and invisible from other containers in the same app (e.g. *ide49*).\n",
    "\n",
    "### Mounted into the container (volumes)\n",
    "\n",
    "Storage can also be \"mounted\" from the \"host\", the underlying operating system that runs the Docker app, *ide49*. For example, `/home/iot` and the subfolders of `/service-config` are mounted. The `volumes` section of the `docker-compose.yml` file lists all mounts.\n",
    "\n",
    "The same volumes can be mounted into several containers (at the same or different locations). This enables data sharing. For example, all volumes are mounted in the `duplicati` container for backup and `micropython` and `code-server` containers for editing. \n",
    "\n",
    "For example the configuration for `nginx` (webserver), is mounted in `/service-config` in the `code-server` and `micropython` containers for editing, and at `/etc/nginx` in the `nginx` service.\n",
    "\n",
    "Changes to volumes persist between container updates. \n",
    "\n",
    "### Samba fileshare\n",
    "\n",
    "In addition to the types of storage discussed above, *ide49* can also be configured to mount `/home/iot` from a Samba file server.\n",
    "\n",
    "Uses include sharing the same data between several *ide49* instances or in situations where a shared file server, perhaps with centralized backup, is preferred.\n",
    "\n",
    "For convenience, the entire home directory (`/home/iot`) is mounted. This can cause some undesired behavior. For example, databases frequently use status files (e.g. locks) used by the running instance. Sharing those with another device (running perhaps a different instance of the same database) can result in conflicts.\n",
    "\n",
    "To prevent this, the local iot volume is always available at `/service-config/iot-home`. Unlike `/home/iot`, this copy is never \"hidden\" by a Samba mount. *ide49* is configured to store status information (e.g. for `jupyter`) in `/service-config/iot-home` rather than `/home/iot`."
   ]
  },
  {
   "cell_type": "markdown",
   "id": "5b650b4a-0d49-4f3f-81cb-239ab43df6ee",
   "metadata": {},
   "source": [
    "### Mounts\n",
    "\n",
    "The `duplicati` service automtically mounts USB storage devices at `/mnt`. These devices can also be manually mounted in other containers (e.g. `micropython`). Avoid simultaneous access of the same storage device from multiple containers to avoid data corruption.\n",
    "\n",
    "Below is an example of mounting an attached device (e.g. USB thumb drive)."
   ]
  },
  {
   "cell_type": "code",
   "execution_count": null,
   "id": "fd779a4a-62c5-4ae0-b16c-fbd1d672e184",
   "metadata": {
    "tags": [
     "hide-output"
    ]
   },
   "outputs": [],
   "source": [
    "%%bash\n",
    "\n",
    "# 1) find device, e.g. /dev/sdc1\n",
    "sudo fdisk -l\n",
    "\n",
    "# 2) create mount point\n",
    "sudo mkdir -p /mnt/media\n",
    "\n",
    "# 3) mount volume\n",
    "sudo mount /dev/sdc1 /mnt/media\n",
    "\n",
    "# 4) use data ...\n",
    "ls /mnt/media\n",
    "\n",
    "# 5) unmount\n",
    "sudo umount /mnt/media"
   ]
  }
 ],
 "metadata": {
  "kernelspec": {
   "display_name": "IoT",
   "language": "python",
   "name": "iot_kernel"
  },
  "language_info": {
   "codemirror_mode": {
    "name": "python",
    "version": 3
   },
   "file_extension": ".py",
   "mimetype": "text/x-python",
   "name": "python",
   "pygments_lexer": "python3",
   "version": "3"
  }
 },
 "nbformat": 4,
 "nbformat_minor": 5
}
