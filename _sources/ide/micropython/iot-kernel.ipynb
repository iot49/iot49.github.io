{
 "cells": [
  {
   "cell_type": "markdown",
   "id": "3bb7dec4-d3cf-4904-8294-bd8dcffd63dd",
   "metadata": {},
   "source": [
    "# IoT Kernel\n",
    "\n",
    "The *IoT Kernel* is a specialized Jupyter kernel that evaluates MicroPython code on connected microcontrollers. Features include:\n",
    "\n",
    "* discover and connect to wired and wireless microcontrollers (`%discover` and `%connect`)\n",
    "* synchronize files with the host (`%rsync`)\n",
    "* softreset (`%softreset`)\n",
    "* evaluate code on the host (`%%host`)\n",
    "* exchange variables between microcontrollers and the host (`%store`)\n",
    "* access the shell (`%%bash`)\n",
    "* access other services of *ide49*, e.g. cross-compilers (`%%service`)\n",
    "\n",
    "## Magics\n",
    "\n",
    "Many of these features are accessed via magics. `%lsmagic` lists available magics."
   ]
  },
  {
   "cell_type": "code",
   "execution_count": 1,
   "id": "2776d0cb-c40f-49cb-84fd-460aac8179ee",
   "metadata": {
    "tags": [
     "hide-output"
    ]
   },
   "outputs": [
    {
     "name": "stdout",
     "output_type": "stream",
     "text": [
      "Line Magic:    -h shows help (e.g. %discover -h)\n",
      "  %cat         Output contents of file stored on microcontroller\n",
      "  %cd          Change current working directory on host\n",
      "  %connect     Connect to device by name, uid, or url\n",
      "  %cp          Copy files between host and microcontroller\n",
      "  %discover    Discover available devices\n",
      "  %gettime     Query microcontroller time\n",
      "  %hardreset   Reset microcontroller by calling 'machine.reset()'. \n",
      "  %info        Summary about connected device\n",
      "  %loglevel    Set logging level.\n",
      "  %lsmagic     List all magic functions\n",
      "  %mkdirs      Create all directories on the microcontroller, as needed (similar to Linux mkdir -p)\n",
      "  %name        Print the name of the currently connected device\n",
      "  %pip         Install packages from PyPi\n",
      "  %rdiff       Show differences between microcontroller and host directories\n",
      "  %register    Register device\n",
      "  %rlist       List files on microcontroller\n",
      "  %rm          Remove files on microcontroller\n",
      "  %rsync       Synchronize microcontroller to host directories\n",
      "  %softreset   Reset microcontroller.\n",
      "  %store       Copy variables between microcontroller and storage\n",
      "  %synctime    Synchronize microcontroller time to host\n",
      "  %uid         Print the uid of the currently connected device\n",
      "  %unregister  Unregister device\n",
      "  %upip        Install MicroPython packages\n",
      "  !            Pass line to bash shell for evaluation\n",
      "\n",
      "Cell Magic:    -h shows help (e.g. %%connect -h)\n",
      "  %%bash       Pass cell to bash shell for evaluation\n",
      "  %%connect    Generalization of %connect to run code on several devices sequentially\n",
      "  %%service    Send code to bash in named container for execution\n",
      "  %%ssh        Pass cell body to ssh.\n",
      "  %%writefile  Write cell contents to file\n"
     ]
    }
   ],
   "source": [
    "%lsmagic"
   ]
  },
  {
   "cell_type": "markdown",
   "id": "61795158-e698-4f40-862f-0eee221d6659",
   "metadata": {},
   "source": [
    "The `-h` option on any magic returns additional information. E.g."
   ]
  },
  {
   "cell_type": "code",
   "execution_count": 5,
   "id": "0a0cf3d4-84af-4e3f-b866-3bdaf01c2525",
   "metadata": {},
   "outputs": [
    {
     "name": "stdout",
     "output_type": "stream",
     "text": [
      "\u001b[0musage: %discover [-h] [-a] [-v]\n",
      "\n",
      "Discover available devices\n",
      "\n",
      "optional arguments:\n",
      "  -h, --help     show this help message and exit\n",
      "  -a, --all      list all devices connected to USB ports\n",
      "  -v, --verbose  show uid\n",
      "\u001b[0m"
     ]
    }
   ],
   "source": [
    "%discover -h"
   ]
  },
  {
   "cell_type": "code",
   "execution_count": 1,
   "id": "f77c105d-55b0-4014-b0f7-8329cd7bacff",
   "metadata": {},
   "outputs": [
    {
     "name": "stdout",
     "output_type": "stream",
     "text": [
      "\u001b[0musage: %%host [-h]\n",
      "\n",
      "Pass cell to host (cPython) for evaluation.\n",
      "\n",
      "optional arguments:\n",
      "  -h, --help  show this help message and exit\n",
      "\u001b[0m"
     ]
    }
   ],
   "source": [
    "%%host -h"
   ]
  },
  {
   "cell_type": "markdown",
   "id": "a937f673-30de-4494-b660-5c11b4b359f7",
   "metadata": {},
   "source": [
    "## MicroPython\n",
    "\n",
    "At any one time, the kernel is connected to one (or no) microcontroller. Code typed into Jupyter cells is sent to the \"connected\" microcontroller for evaluation. The `%discover` magic scans USB ports and listens for advertisements sent over the internet. For each device to which connection is successful (verified by connecting to the device and running a short piece of code), discover shows the device name, URL, and, optionally, UID (`-v` flag). Device names are specified in [configuration files](#device-configuration))."
   ]
  },
  {
   "cell_type": "markdown",
   "id": "baedcf96-f8c4-4777-ab86-f2540486f9f7",
   "metadata": {},
   "source": [
    "**Note:** Use a powered USB hub to reliably connect more than one microcontroller (especially power hungry ESP32's) to a Raspberry Pi!"
   ]
  },
  {
   "cell_type": "code",
   "execution_count": 7,
   "id": "4724e403-f9b3-498e-85c2-358dcd65ba99",
   "metadata": {},
   "outputs": [
    {
     "name": "stdout",
     "output_type": "stream",
     "text": [
      "\u001b[0m\u001b[0mtest-esp32  ws://10.39.40.135:8266  \u001b[0m\n",
      "samd51      serial:///dev/ttyACM0   \u001b[0m\n",
      "stm32       serial:///dev/ttyACM1   \u001b[0m\n",
      "test-esp32  serial:///dev/ttyUSB2   \u001b[0m\n",
      "pico        serial:///dev/ttyUSB0   \u001b[0m\n",
      "nrf52840    serial:///dev/ttyACM2   \u001b[0m\n",
      "huzzah32    serial:///dev/ttyUSB1   \u001b[0m\n"
     ]
    }
   ],
   "source": [
    "%discover"
   ]
  },
  {
   "cell_type": "markdown",
   "id": "1cfbeb4f-f156-4612-9c28-8e0aed2ddfa7",
   "metadata": {},
   "source": [
    "The test-esp32 is available both over USB (serial:///dev/ttyUSB2) and wirelessly via webrepl (ws://10.39.40.135:8266)."
   ]
  },
  {
   "cell_type": "code",
   "execution_count": 8,
   "id": "20bbe507-76e5-48f0-af10-558920b72708",
   "metadata": {},
   "outputs": [
    {
     "name": "stdout",
     "output_type": "stream",
     "text": [
      "\u001b[0m\u001b[0m\u001b[46m\u001b[30mConnected to test-esp32 @ ws://10.39.40.135:8266\u001b[0m\n",
      "0 0\n",
      "1 1\n",
      "2 1048576\n",
      "3 3486784401\n",
      "4 1099511627776\n",
      "\u001b[0m"
     ]
    }
   ],
   "source": [
    "%connect test-esp32 ws\n",
    "\n",
    "for i in range(5): print(i, i**20)"
   ]
  },
  {
   "cell_type": "markdown",
   "id": "e129bc8f-d96a-4dcb-855f-e8bdc2b8b780",
   "metadata": {},
   "source": [
    "Connection to a device is maintained until changed. *Hint:* open several notebooks to connect to more than one device simultaneously. \n",
    "\n",
    "The `%%connect` cell magic runs code sequentially on one or more processors:"
   ]
  },
  {
   "cell_type": "code",
   "execution_count": 8,
   "id": "a6c7ecab-3a75-4478-b4e0-e643e39a2247",
   "metadata": {
    "tags": [
     "hide-output"
    ]
   },
   "outputs": [
    {
     "name": "stdout",
     "output_type": "stream",
     "text": [
      "\u001b[0m\u001b[0m\u001b[46m\u001b[30m\n",
      "----- HOST\n",
      "\u001b[0m\n",
      "linux                (cpython)\n",
      "\u001b[46m\u001b[30m\n",
      "----- test-esp32\n",
      "\u001b[0m\n",
      "esp32                (micropython)\n",
      "\u001b[0m\u001b[46m\u001b[30m\n",
      "----- samd51\n",
      "\u001b[0m\n",
      "MicroChip SAMD51     (circuitpython)\n",
      "\u001b[0m\u001b[46m\u001b[30m\n",
      "----- stm32\n",
      "\u001b[0m\n",
      "pyboard              (micropython)\n",
      "\u001b[0m\u001b[46m\u001b[30m\n",
      "----- test-esp32\n",
      "\u001b[0m\n",
      "esp32                (micropython)\n",
      "\u001b[0m\u001b[46m\u001b[30m\n",
      "----- pico\n",
      "\u001b[0m\n",
      "esp32                (micropython)\n",
      "\u001b[0m\u001b[46m\u001b[30m\n",
      "----- nrf52840\n",
      "\u001b[0m\n",
      "nRF52840             (circuitpython)\n",
      "\u001b[0m\u001b[46m\u001b[30m\n",
      "----- huzzah32\n",
      "\u001b[0m\n",
      "esp32                (micropython)\n",
      "\u001b[0m"
     ]
    }
   ],
   "source": [
    "%%connect --all --host\n",
    "\n",
    "import sys\n",
    "print(\"{:18}   ({})\".format(sys.platform, sys.implementation.name))"
   ]
  },
  {
   "cell_type": "markdown",
   "id": "da589164-c1b8-4e58-aa3e-46f09b4754c1",
   "metadata": {},
   "source": [
    "The `%softreset` magic resets the MicroPython interpreter, freeing assigned variables and deallocating most peripherals:"
   ]
  },
  {
   "cell_type": "code",
   "execution_count": 8,
   "id": "fb03535f-4231-46b4-85e8-d70e1aac08dd",
   "metadata": {},
   "outputs": [
    {
     "name": "stdout",
     "output_type": "stream",
     "text": [
      "\u001b[0m\u001b[0mtest-esp32\u001b[0m\n",
      "5\n",
      "\u001b[0m\u001b[0m\u001b[0m\n",
      "\u001b[46m\u001b[31m!!!!!!!!!!!!!!!!!!!!!!!!!!!!!!!\u001b[0m\n",
      "\u001b[46m\u001b[31m!!!!!   softreset ...     !!!!!\u001b[0m\n",
      "\u001b[46m\u001b[31m!!!!!!!!!!!!!!!!!!!!!!!!!!!!!!!\u001b[0m\n",
      "\u001b[0m\n",
      "this will fail ...\n"
     ]
    },
    {
     "name": "stderr",
     "output_type": "stream",
     "text": [
      "Traceback (most recent call last):\n",
      "  File \"<stdin>\", line 2, in <module>\n",
      "NameError: name 'a' isn't defined\n"
     ]
    }
   ],
   "source": [
    "%name\n",
    "\n",
    "a = 5\n",
    "print(a)\n",
    "%softreset\n",
    "print(\"this will fail ...\")\n",
    "print(a)"
   ]
  },
  {
   "cell_type": "markdown",
   "id": "0bf441e1-1b0e-4f3a-91f7-4504ebc293bf",
   "metadata": {},
   "source": [
    "Consult the documentation for [device configuration](dev_config.ipynb) for automated file upload. "
   ]
  },
  {
   "cell_type": "code",
   "execution_count": null,
   "id": "91bafc8a-4a69-4588-96cb-4cb10d35a4b4",
   "metadata": {},
   "outputs": [],
   "source": []
  }
 ],
 "metadata": {
  "kernelspec": {
   "display_name": "IoT",
   "language": "python",
   "name": "iot_kernel"
  },
  "language_info": {
   "codemirror_mode": {
    "name": "python",
    "version": 3
   },
   "file_extension": ".py",
   "mimetype": "text/x-python",
   "name": "python",
   "pygments_lexer": "python3",
   "version": "3"
  }
 },
 "nbformat": 4,
 "nbformat_minor": 5
}
