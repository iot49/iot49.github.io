{
 "cells": [
  {
   "cell_type": "markdown",
   "id": "10a97563-ec7a-402f-a93b-4055d014b87d",
   "metadata": {},
   "source": [
    "# Device Configuration\n",
    "\n",
    "Device configuration files define the names and files on microcontrollers.\n",
    "\n",
    "They are in `yaml` format and located in `$IOT_PROJECTS/devices`. One or more configurations may by saved in the same or different files. The file name does not matter but must end with `.yaml`."
   ]
  },
  {
   "cell_type": "markdown",
   "id": "af5e5453-a406-4477-a7f9-00fd7d837ed2",
   "metadata": {},
   "source": [
    "## Device Name\n",
    "\n",
    "*ide49* refers to devices by their UID, obtained from the micrcocontroller by executing\n",
    "\n",
    "```python\n",
    "uid = bytes(6)\n",
    "try:\n",
    "    import machine\n",
    "    uid = machine.unique_id()\n",
    "except:\n",
    "    import microcontroller\n",
    "    uid = microcontroller.cpu.uid\n",
    "print(\":\".join(\"{:02x}\".format(x) for x in uid), end=\"\")\n",
    "```\n",
    "\n",
    "The `%discover` magic shows un-named devices by their UID."
   ]
  },
  {
   "cell_type": "code",
   "execution_count": 10,
   "id": "b548e7a3-6900-4271-a373-16b5b8da1345",
   "metadata": {},
   "outputs": [
    {
     "name": "stdout",
     "output_type": "stream",
     "text": [
      "\u001b[0m\u001b[0m30:ae:a4:30:84:34  serial:///dev/ttyUSB1  \u001b[0m\n"
     ]
    }
   ],
   "source": [
    "%discover"
   ]
  },
  {
   "cell_type": "markdown",
   "id": "e83d1f27-6120-4598-9605-666579aa041f",
   "metadata": {},
   "source": [
    "Names are assigned in yaml configuration files stored in folder `$IOT_DEVICES/devices`. Create this directory (in case it does not exist already)."
   ]
  },
  {
   "cell_type": "code",
   "execution_count": 11,
   "id": "d6ea282e-e9b2-4211-ae70-60267c7c162c",
   "metadata": {
    "tags": [
     "remove-cell"
    ]
   },
   "outputs": [
    {
     "name": "stdout",
     "output_type": "stream",
     "text": [
      "\u001b[0m\u001b[0m"
     ]
    }
   ],
   "source": [
    "!rm $IOT_PROJECTS/devices/example.yaml\n",
    "%rm -rf /"
   ]
  },
  {
   "cell_type": "code",
   "execution_count": null,
   "id": "439f3bc7-d7cf-412a-a40f-6fa34748a82b",
   "metadata": {},
   "outputs": [],
   "source": [
    "!mkdir -p $IOT_PROJECTS/devices"
   ]
  },
  {
   "cell_type": "markdown",
   "id": "7fe6bb57-edba-4794-9b8c-53bcda87751a",
   "metadata": {},
   "source": [
    "Now create the configuration file. Don't forget to update the UID in the cell below to match your microcontroller. You can also change the name (`esp32`) to something more descriptive or change it later. The name of the file is irrelevant, but it must have the extension `yaml`. You can create as many configurations files as you wish if you have several devices."
   ]
  },
  {
   "cell_type": "code",
   "execution_count": 11,
   "id": "76f57ef8-860e-4e38-9bed-e754afc982cd",
   "metadata": {},
   "outputs": [
    {
     "name": "stdout",
     "output_type": "stream",
     "text": [
      "\u001b[0m\u001b[0mWriting /home/iot/iot49.org/docs/projects/devices/example.yaml\u001b[0m\n"
     ]
    }
   ],
   "source": [
    "%%writefile $IOT_PROJECTS/devices/example.yaml\n",
    "esp32:\n",
    "    uid: 30:ae:a4:30:84:34"
   ]
  },
  {
   "cell_type": "markdown",
   "id": "bc385062-15d5-4c92-b659-52233e01d265",
   "metadata": {},
   "source": [
    "Now the device is known by its name. "
   ]
  },
  {
   "cell_type": "code",
   "execution_count": 11,
   "id": "fcd23d4d-2483-4916-8ccd-d5256d1e2912",
   "metadata": {},
   "outputs": [
    {
     "name": "stdout",
     "output_type": "stream",
     "text": [
      "\u001b[0m\u001b[0mesp32  serial:///dev/ttyUSB1  \u001b[0m\n",
      "\u001b[0m\u001b[46m\u001b[30mConnected to esp32 @ serial:///dev/ttyUSB1\u001b[0m\n"
     ]
    }
   ],
   "source": [
    "%discover\n",
    "%connect esp32"
   ]
  },
  {
   "cell_type": "markdown",
   "id": "41f864e1-4746-4b12-ab10-ab906e6455d7",
   "metadata": {},
   "source": [
    "## File Management\n",
    "\n",
    "Copying all necessary libraries and other files to microcontrollers can be tedious. *ide49* helps with this. In addition to low level magics (`%cp`, `%rm`, ...), the following magics help with the process:\n",
    "\n",
    "* **`%rlist`**: list all files on the presently connected microcontroller\n",
    "* **`%rdiff`**: show the difference between files on the host and microcontroller\n",
    "* **`%rsync`**: copy & delete files to synchronize the microcontroller and the host\n",
    "\n",
    "Which files to copy to a particular microcontroller is defined in its device configuration. \n",
    "\n",
    "The following configuration entry copies all files in `$IOT_PROJECTS/balance/code` to the microcontroller."
   ]
  },
  {
   "cell_type": "code",
   "execution_count": 12,
   "id": "f3819ec7-5a59-4e70-a6bc-4ec993b3c53f",
   "metadata": {},
   "outputs": [
    {
     "name": "stdout",
     "output_type": "stream",
     "text": [
      "\u001b[0m\u001b[0mWriting /home/iot/iot49.org/docs/projects/devices/example.yaml\u001b[0m\n"
     ]
    }
   ],
   "source": [
    "%%writefile $IOT_PROJECTS/devices/example.yaml\n",
    "esp32:\n",
    "    uid: 30:ae:a4:30:84:34\n",
    "    path: balance\n",
    "    resources:\n",
    "        - code"
   ]
  },
  {
   "cell_type": "code",
   "execution_count": 12,
   "id": "d85ed260-0704-4085-82af-4f688c3e618e",
   "metadata": {},
   "outputs": [
    {
     "name": "stdout",
     "output_type": "stream",
     "text": [
      "\u001b[0m\u001b[0m.:\u001b[0m\n",
      "lib\u001b[0m\n",
      "main.py\u001b[0m\n",
      "\u001b[0m\n",
      "./lib:\u001b[0m\n",
      "ble_advertising.py\u001b[0m\n",
      "ble_uart_peripheral.py\u001b[0m\n",
      "button.py\u001b[0m\n",
      "scale.py\u001b[0m\n",
      "ssd1306.py\u001b[0m\n"
     ]
    }
   ],
   "source": [
    "%%bash\n",
    "\n",
    "cd $IOT_PROJECTS/balance/code\n",
    "ls -R"
   ]
  },
  {
   "cell_type": "code",
   "execution_count": 11,
   "id": "477cab2c-80f8-4102-b782-648be3503421",
   "metadata": {},
   "outputs": [
    {
     "name": "stdout",
     "output_type": "stream",
     "text": [
      "\u001b[0m\u001b[0m\u001b[32mADD     /lib/ble_advertising.py\n",
      "\u001b[0m\u001b[0m\u001b[32mADD     /lib/ble_uart_peripheral.py\n",
      "\u001b[0m\u001b[0m\u001b[32mADD     /lib/button.py\n",
      "\u001b[0m\u001b[0m\u001b[32mADD     /lib/scale.py\n",
      "\u001b[0m\u001b[0m\u001b[32mADD     /lib/ssd1306.py\n",
      "\u001b[0m\u001b[0m\u001b[32mADD     /main.py\n",
      "\u001b[0m\u001b[0m"
     ]
    }
   ],
   "source": [
    "# show differences without making changes\n",
    "%rdiff"
   ]
  },
  {
   "cell_type": "markdown",
   "id": "85d6b939-b3b9-4d15-ad3e-477e6b7abcbd",
   "metadata": {},
   "source": [
    "Commit the differences. By default, `%rsync` copies all specified files from the host to the micrcontroller and deletes files on the microcontroller that are not also on the host. Use the `-u` flag to only upload files but not delete any. It is also possible to specify [filters](adv_config), e.g. to copy only files of certain types or to ignore entire folders on the microcontroller or host from synchronization."
   ]
  },
  {
   "cell_type": "code",
   "execution_count": 11,
   "id": "2d86d8a1-bfb8-4f09-9074-4db93432c44b",
   "metadata": {},
   "outputs": [
    {
     "name": "stdout",
     "output_type": "stream",
     "text": [
      "\u001b[0m\u001b[0m\u001b[32mADD     /lib/ble_advertising.py\n",
      "\u001b[0m\u001b[0m\u001b[32mADD     /lib/ble_uart_peripheral.py\n",
      "\u001b[0m\u001b[0m\u001b[32mADD     /lib/button.py\n",
      "\u001b[0m\u001b[0m\u001b[32mADD     /lib/scale.py\n",
      "\u001b[0m\u001b[0m\u001b[32mADD     /lib/ssd1306.py\n",
      "\u001b[0m\u001b[0m\u001b[32mADD     /main.py\n",
      "\u001b[0m\u001b[0m"
     ]
    }
   ],
   "source": [
    "%rsync"
   ]
  },
  {
   "cell_type": "markdown",
   "id": "8a61cbd5-a2c1-4d23-b738-11d730d8a233",
   "metadata": {},
   "source": [
    "`%rsync` uses the file size and modification time to determine if a file needs updating."
   ]
  },
  {
   "cell_type": "code",
   "execution_count": 12,
   "id": "f553313f-d371-4e53-8b22-182b204d7cc9",
   "metadata": {},
   "outputs": [
    {
     "name": "stdout",
     "output_type": "stream",
     "text": [
      "\u001b[0m\u001b[0m\u001b[34mUPDATE  /lib/scale.py\n",
      "\u001b[0m\u001b[0m"
     ]
    }
   ],
   "source": [
    "!touch $IOT_PROJECTS/balance/code/lib/scale.py\n",
    "%rsync"
   ]
  },
  {
   "cell_type": "markdown",
   "id": "f7a37b77-e64a-4ab0-a43a-f130ea37d0df",
   "metadata": {},
   "source": [
    "Configuration files are quite flexible. The code searches for files on the host in `$IOT_PROJECTS/libs` and copies them the the microcontroller."
   ]
  },
  {
   "cell_type": "code",
   "execution_count": 12,
   "id": "f4b458a7-7f35-4471-b8ff-e3dbf0286ec1",
   "metadata": {},
   "outputs": [
    {
     "name": "stdout",
     "output_type": "stream",
     "text": [
      "\u001b[0m\u001b[0mWriting /home/iot/iot49.org/docs/projects/devices/example.yaml\u001b[0m\n"
     ]
    }
   ],
   "source": [
    "%%writefile $IOT_PROJECTS/devices/example.yaml\n",
    "esp32:\n",
    "    uid: 30:ae:a4:30:84:34\n",
    "    path: libs\n",
    "    resources:\n",
    "        - code:\n",
    "            path: balance\n",
    "        - neopixel.py\n",
    "        - vl53l0x.py:\n",
    "            install-dir: /lib\n",
    "        - bno055: /lib"
   ]
  },
  {
   "cell_type": "code",
   "execution_count": 12,
   "id": "de6c9b22-2226-4dbb-b4da-0969351371dd",
   "metadata": {},
   "outputs": [
    {
     "name": "stdout",
     "output_type": "stream",
     "text": [
      "\u001b[0m\u001b[0m\u001b[32mADD     /lib/bno055.py\n",
      "\u001b[0m\u001b[0m\u001b[32mADD     /lib/bno055_base.py\n",
      "\u001b[0m\u001b[0m\u001b[32mADD     /lib/bno055_test.py\n",
      "\u001b[0m\u001b[0m\u001b[32mADD     /lib/vl53l0x.py\n",
      "\u001b[0m\u001b[0m\u001b[32mADD     /neopixel.py\n",
      "\u001b[0m\u001b[0m\u001b[34mUPDATE  /lib/scale.py\n",
      "\u001b[0m\u001b[0m"
     ]
    }
   ],
   "source": [
    "%rdiff"
   ]
  },
  {
   "cell_type": "markdown",
   "id": "aadbf3cc-a9f4-4bef-bb6d-e5bb2a5de29e",
   "metadata": {},
   "source": [
    "`path` specifies where files can be found on the host, `install-dir` (default: `/`) determines where files copied to on the microcontroller. If a resource (e.g. `bno055` in the above example) refers to a directory on the host, the contents are copied. This behavior is different for packages: if a `__init__.py` file is present in the directory, it will be copied verbatim. "
   ]
  },
  {
   "cell_type": "markdown",
   "id": "8e78a824-0379-4099-bcfe-50bf7de9a585",
   "metadata": {},
   "source": [
    "## Reference\n",
    "\n",
    "### Sample Folder Layout on the Host\n",
    "\n",
    "*Example:*\n",
    "\n",
    "```\n",
    "~/projects/\n",
    "    libs/\n",
    "        neopixel.py\n",
    "        bno055/\n",
    "            bno055.py\n",
    "            bno055_base.py\n",
    "            bno055_test.py\n",
    "    my_project/\n",
    "        code/\n",
    "            main.py\n",
    "            lib/\n",
    "                adc.py\n",
    "                robot/\n",
    "                    motor.py\n",
    "                    encoder.py    \n",
    "```\n",
    "\n",
    "(adv_config)=\n",
    "### Annotated Configuration\n",
    "\n",
    "```yaml\n",
    "name:\n",
    "    uid: 24:0a:02:12:87:7c\n",
    "    path: my_project      # relative to $IOT_PROJECTS, \n",
    "                          # Default: .\n",
    "    install-dir: /flash   # location of files on microcontroller\n",
    "                          # Default: /\n",
    "    include-patterns:     # Files/folders to include\n",
    "        - \"./**/*.py\"     \n",
    "        - \"./**/*.mpy\"\n",
    "        - \"./**/\"\n",
    "    exclude-patterns:     # Files/folders to ignore (on host and MCU)\n",
    "        - \"boot_out.txt\"\n",
    "        - \"/data\"    \n",
    "    resources:\n",
    "        - file1.py        # single file in $IOT_PROJECTS/my_project\n",
    "                          # copied to /flash\n",
    "        - file2.py: /lib  # copied to /lib\n",
    "        - file3.py:       # override values specified above:\n",
    "            path: libs    # $IOT_PROJECTS/my_project/libs/file3.py copied to /\n",
    "            install_dir: /\n",
    "        - dir1            # contents of folder copied /flash\n",
    "        - dir2:           # folder dir2 copied /flash\n",
    "            unpack: false\n",
    "        - dir3: /ssd      # contents of /ssd copied to /flash\n",
    "        - package1        # if package1 contains __init__.py,\n",
    "                          # entire folder (not just contents) is copied\n",
    "        - package2:       # force unpacking:\n",
    "            unpack: true  # only contents are copied\n",
    "```\n",
    "\n",
    "Include patterns are processed by [glob](https://docs.python.org/3/library/glob.html) and exclude uses the [fnmatch](https://docs.python.org/3/library/fnmatch.html). The defaults are:\n",
    "\n",
    "* include-patterns: `./**/*.py`, `./**/*.mpy`, `./**/`\n",
    "* exclude-patterns: `boot_out.txt`\n",
    "\n",
    "Use the `%rdiff` and `%info -v` magics to diagnose complex configurations."
   ]
  },
  {
   "cell_type": "code",
   "execution_count": 1,
   "id": "063fa965-e781-48b4-81df-77ca03e93067",
   "metadata": {
    "tags": [
     "hide-output"
    ]
   },
   "outputs": [
    {
     "name": "stdout",
     "output_type": "stream",
     "text": [
      "name            esp32\n",
      "platform        esp32\n",
      "implementation  micropython\n",
      "uid             30:ae:a4:30:84:34\n",
      "url             serial:///dev/ttyUSB0\n",
      "configuration   example.yaml\n",
      "resources:\n",
      "   317 /secrets.py                    libs/secrets.py\n",
      "    51 /webrepl_cfg.py                internet/code/webrepl_cfg.py\n",
      "  1737 /boot.py                       internet/code/boot.py\n",
      "  6479 /lib/mqtt_client.py            internet/code/lib/mqtt_client.py\n",
      "  3181 /lib/urequests.py              internet/code/lib/urequests.py\n",
      "  1883 /lib/http_server.py            internet/code/lib/http_server.py\n"
     ]
    }
   ],
   "source": [
    "%info -v"
   ]
  },
  {
   "cell_type": "markdown",
   "id": "a40c49bc-1272-45ca-967d-d7df450c27fd",
   "metadata": {},
   "source": [
    "(secrets)=\n",
    "## secrets.py\n",
    "\n",
    "A Python file at `$IOT_PROJECTS/libs/secrets.py` is used to define confidential information such as passwords. \n",
    "\n",
    "Example:\n",
    "\n",
    "```python\n",
    "# secrets.py\n",
    "\n",
    "# wifi\n",
    "wifi_ssid = 'WIFI_SSID'\n",
    "wifi_pwd  = 'WIFI_PASSWORD'\n",
    "\n",
    "# timezone\n",
    "tz_offset = -8*3600    # PST\n",
    "\n",
    "# mp wireless \"repl\" password\n",
    "mp_pwd  = '&(*HFODjp429sdf30i%^&'\n",
    "\n",
    "# webrepl password, 4 .. 9 characters\n",
    "webrepl_pwd = 'fjlk4lsad'\n",
    "\n",
    "# https://openweathermap.org/\n",
    "openweathermap_apiid = \"354f336ac61adsf2b73af8f\"\n",
    "```\n",
    "\n",
    "Some of these variables (e.g `webrepl_pwd`) are accessed by MicroPython and *ide49*."
   ]
  },
  {
   "cell_type": "code",
   "execution_count": null,
   "id": "b75ee7b4-99fd-4033-a0c0-7bc20a2f657c",
   "metadata": {},
   "outputs": [],
   "source": []
  }
 ],
 "metadata": {
  "kernelspec": {
   "display_name": "IoT",
   "language": "python",
   "name": "iot_kernel"
  },
  "language_info": {
   "codemirror_mode": {
    "name": "python",
    "version": 3
   },
   "file_extension": ".py",
   "mimetype": "text/x-python",
   "name": "python",
   "pygments_lexer": "python3",
   "version": "3"
  }
 },
 "nbformat": 4,
 "nbformat_minor": 5
}
